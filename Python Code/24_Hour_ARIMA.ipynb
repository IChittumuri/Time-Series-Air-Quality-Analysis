{
  "nbformat": 4,
  "nbformat_minor": 5,
  "metadata": {
    "kernelspec": {
      "display_name": "Python 3",
      "language": "python",
      "name": "python3"
    },
    "language_info": {
      "codemirror_mode": {
        "name": "ipython",
        "version": 3
      },
      "file_extension": ".py",
      "mimetype": "text/x-python",
      "name": "python",
      "nbconvert_exporter": "python",
      "pygments_lexer": "ipython3",
      "version": "3.8.5"
    },
    "colab": {
      "name": "24-Hour ARIMA.ipynb",
      "provenance": [],
      "collapsed_sections": [
        "unusual-catering",
        "tEaBwuwHEiV0"
      ],
      "toc_visible": true
    },
    "widgets": {
      "application/vnd.jupyter.widget-state+json": {
        "6b326ce99b96427e8f5018221e9002b8": {
          "model_module": "@jupyter-widgets/controls",
          "model_name": "HBoxModel",
          "state": {
            "_view_name": "HBoxView",
            "_dom_classes": [],
            "_model_name": "HBoxModel",
            "_view_module": "@jupyter-widgets/controls",
            "_model_module_version": "1.5.0",
            "_view_count": null,
            "_view_module_version": "1.5.0",
            "box_style": "",
            "layout": "IPY_MODEL_0256131bd2dc473d910c907be06dcba4",
            "_model_module": "@jupyter-widgets/controls",
            "children": [
              "IPY_MODEL_4cba5d08b45e4aa897d6876e9c084ea6",
              "IPY_MODEL_976b38e82ca146f1aafeac4562d89376"
            ]
          }
        },
        "0256131bd2dc473d910c907be06dcba4": {
          "model_module": "@jupyter-widgets/base",
          "model_name": "LayoutModel",
          "state": {
            "_view_name": "LayoutView",
            "grid_template_rows": null,
            "right": null,
            "justify_content": null,
            "_view_module": "@jupyter-widgets/base",
            "overflow": null,
            "_model_module_version": "1.2.0",
            "_view_count": null,
            "flex_flow": null,
            "width": null,
            "min_width": null,
            "border": null,
            "align_items": null,
            "bottom": null,
            "_model_module": "@jupyter-widgets/base",
            "top": null,
            "grid_column": null,
            "overflow_y": null,
            "overflow_x": null,
            "grid_auto_flow": null,
            "grid_area": null,
            "grid_template_columns": null,
            "flex": null,
            "_model_name": "LayoutModel",
            "justify_items": null,
            "grid_row": null,
            "max_height": null,
            "align_content": null,
            "visibility": null,
            "align_self": null,
            "height": null,
            "min_height": null,
            "padding": null,
            "grid_auto_rows": null,
            "grid_gap": null,
            "max_width": null,
            "order": null,
            "_view_module_version": "1.2.0",
            "grid_template_areas": null,
            "object_position": null,
            "object_fit": null,
            "grid_auto_columns": null,
            "margin": null,
            "display": null,
            "left": null
          }
        },
        "4cba5d08b45e4aa897d6876e9c084ea6": {
          "model_module": "@jupyter-widgets/controls",
          "model_name": "FloatProgressModel",
          "state": {
            "_view_name": "ProgressView",
            "style": "IPY_MODEL_763fe96aea2f4558a53f8136eb27f60f",
            "_dom_classes": [],
            "description": "100%",
            "_model_name": "FloatProgressModel",
            "bar_style": "success",
            "max": 50,
            "_view_module": "@jupyter-widgets/controls",
            "_model_module_version": "1.5.0",
            "value": 50,
            "_view_count": null,
            "_view_module_version": "1.5.0",
            "orientation": "horizontal",
            "min": 0,
            "description_tooltip": null,
            "_model_module": "@jupyter-widgets/controls",
            "layout": "IPY_MODEL_e64385c04e584a78b92fd2eb0e36d2a3"
          }
        },
        "976b38e82ca146f1aafeac4562d89376": {
          "model_module": "@jupyter-widgets/controls",
          "model_name": "HTMLModel",
          "state": {
            "_view_name": "HTMLView",
            "style": "IPY_MODEL_abaa619d49134d089dbe77a68e83eeff",
            "_dom_classes": [],
            "description": "",
            "_model_name": "HTMLModel",
            "placeholder": "​",
            "_view_module": "@jupyter-widgets/controls",
            "_model_module_version": "1.5.0",
            "value": " 50/50 [01:00&lt;00:00,  1.21s/it]",
            "_view_count": null,
            "_view_module_version": "1.5.0",
            "description_tooltip": null,
            "_model_module": "@jupyter-widgets/controls",
            "layout": "IPY_MODEL_76eb7935c3c64bd69153d2afd3fbd75c"
          }
        },
        "763fe96aea2f4558a53f8136eb27f60f": {
          "model_module": "@jupyter-widgets/controls",
          "model_name": "ProgressStyleModel",
          "state": {
            "_view_name": "StyleView",
            "_model_name": "ProgressStyleModel",
            "description_width": "initial",
            "_view_module": "@jupyter-widgets/base",
            "_model_module_version": "1.5.0",
            "_view_count": null,
            "_view_module_version": "1.2.0",
            "bar_color": null,
            "_model_module": "@jupyter-widgets/controls"
          }
        },
        "e64385c04e584a78b92fd2eb0e36d2a3": {
          "model_module": "@jupyter-widgets/base",
          "model_name": "LayoutModel",
          "state": {
            "_view_name": "LayoutView",
            "grid_template_rows": null,
            "right": null,
            "justify_content": null,
            "_view_module": "@jupyter-widgets/base",
            "overflow": null,
            "_model_module_version": "1.2.0",
            "_view_count": null,
            "flex_flow": null,
            "width": null,
            "min_width": null,
            "border": null,
            "align_items": null,
            "bottom": null,
            "_model_module": "@jupyter-widgets/base",
            "top": null,
            "grid_column": null,
            "overflow_y": null,
            "overflow_x": null,
            "grid_auto_flow": null,
            "grid_area": null,
            "grid_template_columns": null,
            "flex": null,
            "_model_name": "LayoutModel",
            "justify_items": null,
            "grid_row": null,
            "max_height": null,
            "align_content": null,
            "visibility": null,
            "align_self": null,
            "height": null,
            "min_height": null,
            "padding": null,
            "grid_auto_rows": null,
            "grid_gap": null,
            "max_width": null,
            "order": null,
            "_view_module_version": "1.2.0",
            "grid_template_areas": null,
            "object_position": null,
            "object_fit": null,
            "grid_auto_columns": null,
            "margin": null,
            "display": null,
            "left": null
          }
        },
        "abaa619d49134d089dbe77a68e83eeff": {
          "model_module": "@jupyter-widgets/controls",
          "model_name": "DescriptionStyleModel",
          "state": {
            "_view_name": "StyleView",
            "_model_name": "DescriptionStyleModel",
            "description_width": "",
            "_view_module": "@jupyter-widgets/base",
            "_model_module_version": "1.5.0",
            "_view_count": null,
            "_view_module_version": "1.2.0",
            "_model_module": "@jupyter-widgets/controls"
          }
        },
        "76eb7935c3c64bd69153d2afd3fbd75c": {
          "model_module": "@jupyter-widgets/base",
          "model_name": "LayoutModel",
          "state": {
            "_view_name": "LayoutView",
            "grid_template_rows": null,
            "right": null,
            "justify_content": null,
            "_view_module": "@jupyter-widgets/base",
            "overflow": null,
            "_model_module_version": "1.2.0",
            "_view_count": null,
            "flex_flow": null,
            "width": null,
            "min_width": null,
            "border": null,
            "align_items": null,
            "bottom": null,
            "_model_module": "@jupyter-widgets/base",
            "top": null,
            "grid_column": null,
            "overflow_y": null,
            "overflow_x": null,
            "grid_auto_flow": null,
            "grid_area": null,
            "grid_template_columns": null,
            "flex": null,
            "_model_name": "LayoutModel",
            "justify_items": null,
            "grid_row": null,
            "max_height": null,
            "align_content": null,
            "visibility": null,
            "align_self": null,
            "height": null,
            "min_height": null,
            "padding": null,
            "grid_auto_rows": null,
            "grid_gap": null,
            "max_width": null,
            "order": null,
            "_view_module_version": "1.2.0",
            "grid_template_areas": null,
            "object_position": null,
            "object_fit": null,
            "grid_auto_columns": null,
            "margin": null,
            "display": null,
            "left": null
          }
        },
        "df57d50633a7480d90961302a77100d6": {
          "model_module": "@jupyter-widgets/controls",
          "model_name": "HBoxModel",
          "state": {
            "_view_name": "HBoxView",
            "_dom_classes": [],
            "_model_name": "HBoxModel",
            "_view_module": "@jupyter-widgets/controls",
            "_model_module_version": "1.5.0",
            "_view_count": null,
            "_view_module_version": "1.5.0",
            "box_style": "",
            "layout": "IPY_MODEL_c25c6b3798b346389e3f8242600bf617",
            "_model_module": "@jupyter-widgets/controls",
            "children": [
              "IPY_MODEL_0e04560f1ff74b1ebe68e8971cc68537",
              "IPY_MODEL_0256ddc1069645d9846a54c89df1d964"
            ]
          }
        },
        "c25c6b3798b346389e3f8242600bf617": {
          "model_module": "@jupyter-widgets/base",
          "model_name": "LayoutModel",
          "state": {
            "_view_name": "LayoutView",
            "grid_template_rows": null,
            "right": null,
            "justify_content": null,
            "_view_module": "@jupyter-widgets/base",
            "overflow": null,
            "_model_module_version": "1.2.0",
            "_view_count": null,
            "flex_flow": null,
            "width": null,
            "min_width": null,
            "border": null,
            "align_items": null,
            "bottom": null,
            "_model_module": "@jupyter-widgets/base",
            "top": null,
            "grid_column": null,
            "overflow_y": null,
            "overflow_x": null,
            "grid_auto_flow": null,
            "grid_area": null,
            "grid_template_columns": null,
            "flex": null,
            "_model_name": "LayoutModel",
            "justify_items": null,
            "grid_row": null,
            "max_height": null,
            "align_content": null,
            "visibility": null,
            "align_self": null,
            "height": null,
            "min_height": null,
            "padding": null,
            "grid_auto_rows": null,
            "grid_gap": null,
            "max_width": null,
            "order": null,
            "_view_module_version": "1.2.0",
            "grid_template_areas": null,
            "object_position": null,
            "object_fit": null,
            "grid_auto_columns": null,
            "margin": null,
            "display": null,
            "left": null
          }
        },
        "0e04560f1ff74b1ebe68e8971cc68537": {
          "model_module": "@jupyter-widgets/controls",
          "model_name": "FloatProgressModel",
          "state": {
            "_view_name": "ProgressView",
            "style": "IPY_MODEL_5356ad201c294f6fbb7b8c5d19e8a4d3",
            "_dom_classes": [],
            "description": "100%",
            "_model_name": "FloatProgressModel",
            "bar_style": "success",
            "max": 216,
            "_view_module": "@jupyter-widgets/controls",
            "_model_module_version": "1.5.0",
            "value": 216,
            "_view_count": null,
            "_view_module_version": "1.5.0",
            "orientation": "horizontal",
            "min": 0,
            "description_tooltip": null,
            "_model_module": "@jupyter-widgets/controls",
            "layout": "IPY_MODEL_e45625078b5d46b39caa1b44d98cea15"
          }
        },
        "0256ddc1069645d9846a54c89df1d964": {
          "model_module": "@jupyter-widgets/controls",
          "model_name": "HTMLModel",
          "state": {
            "_view_name": "HTMLView",
            "style": "IPY_MODEL_9b8f24fffc024e5ca6faa6c07ef18c5d",
            "_dom_classes": [],
            "description": "",
            "_model_name": "HTMLModel",
            "placeholder": "​",
            "_view_module": "@jupyter-widgets/controls",
            "_model_module_version": "1.5.0",
            "value": " 216/216 [11:16&lt;00:00,  3.13s/it]",
            "_view_count": null,
            "_view_module_version": "1.5.0",
            "description_tooltip": null,
            "_model_module": "@jupyter-widgets/controls",
            "layout": "IPY_MODEL_acbff7d541e747d4a4acc90d077e25e2"
          }
        },
        "5356ad201c294f6fbb7b8c5d19e8a4d3": {
          "model_module": "@jupyter-widgets/controls",
          "model_name": "ProgressStyleModel",
          "state": {
            "_view_name": "StyleView",
            "_model_name": "ProgressStyleModel",
            "description_width": "initial",
            "_view_module": "@jupyter-widgets/base",
            "_model_module_version": "1.5.0",
            "_view_count": null,
            "_view_module_version": "1.2.0",
            "bar_color": null,
            "_model_module": "@jupyter-widgets/controls"
          }
        },
        "e45625078b5d46b39caa1b44d98cea15": {
          "model_module": "@jupyter-widgets/base",
          "model_name": "LayoutModel",
          "state": {
            "_view_name": "LayoutView",
            "grid_template_rows": null,
            "right": null,
            "justify_content": null,
            "_view_module": "@jupyter-widgets/base",
            "overflow": null,
            "_model_module_version": "1.2.0",
            "_view_count": null,
            "flex_flow": null,
            "width": null,
            "min_width": null,
            "border": null,
            "align_items": null,
            "bottom": null,
            "_model_module": "@jupyter-widgets/base",
            "top": null,
            "grid_column": null,
            "overflow_y": null,
            "overflow_x": null,
            "grid_auto_flow": null,
            "grid_area": null,
            "grid_template_columns": null,
            "flex": null,
            "_model_name": "LayoutModel",
            "justify_items": null,
            "grid_row": null,
            "max_height": null,
            "align_content": null,
            "visibility": null,
            "align_self": null,
            "height": null,
            "min_height": null,
            "padding": null,
            "grid_auto_rows": null,
            "grid_gap": null,
            "max_width": null,
            "order": null,
            "_view_module_version": "1.2.0",
            "grid_template_areas": null,
            "object_position": null,
            "object_fit": null,
            "grid_auto_columns": null,
            "margin": null,
            "display": null,
            "left": null
          }
        },
        "9b8f24fffc024e5ca6faa6c07ef18c5d": {
          "model_module": "@jupyter-widgets/controls",
          "model_name": "DescriptionStyleModel",
          "state": {
            "_view_name": "StyleView",
            "_model_name": "DescriptionStyleModel",
            "description_width": "",
            "_view_module": "@jupyter-widgets/base",
            "_model_module_version": "1.5.0",
            "_view_count": null,
            "_view_module_version": "1.2.0",
            "_model_module": "@jupyter-widgets/controls"
          }
        },
        "acbff7d541e747d4a4acc90d077e25e2": {
          "model_module": "@jupyter-widgets/base",
          "model_name": "LayoutModel",
          "state": {
            "_view_name": "LayoutView",
            "grid_template_rows": null,
            "right": null,
            "justify_content": null,
            "_view_module": "@jupyter-widgets/base",
            "overflow": null,
            "_model_module_version": "1.2.0",
            "_view_count": null,
            "flex_flow": null,
            "width": null,
            "min_width": null,
            "border": null,
            "align_items": null,
            "bottom": null,
            "_model_module": "@jupyter-widgets/base",
            "top": null,
            "grid_column": null,
            "overflow_y": null,
            "overflow_x": null,
            "grid_auto_flow": null,
            "grid_area": null,
            "grid_template_columns": null,
            "flex": null,
            "_model_name": "LayoutModel",
            "justify_items": null,
            "grid_row": null,
            "max_height": null,
            "align_content": null,
            "visibility": null,
            "align_self": null,
            "height": null,
            "min_height": null,
            "padding": null,
            "grid_auto_rows": null,
            "grid_gap": null,
            "max_width": null,
            "order": null,
            "_view_module_version": "1.2.0",
            "grid_template_areas": null,
            "object_position": null,
            "object_fit": null,
            "grid_auto_columns": null,
            "margin": null,
            "display": null,
            "left": null
          }
        }
      }
    }
  },
  "cells": [
    {
      "cell_type": "markdown",
      "metadata": {
        "id": "expressed-medication"
      },
      "source": [
        "Reference: https://github.com/advaitsave/Introduction-to-Time-Series-forecasting-Python/blob/master/Time%20Series%20in%20Python.ipynb"
      ],
      "id": "expressed-medication"
    },
    {
      "cell_type": "markdown",
      "metadata": {
        "id": "comprehensive-collaboration"
      },
      "source": [
        "# Setup"
      ],
      "id": "comprehensive-collaboration"
    },
    {
      "cell_type": "code",
      "metadata": {
        "id": "absent-nylon",
        "colab": {
          "base_uri": "https://localhost:8080/"
        },
        "outputId": "808f5bba-fd69-4c7f-b350-12cefb9d20e9"
      },
      "source": [
        "import warnings\n",
        "import itertools\n",
        "import os\n",
        "import numpy as np\n",
        "from matplotlib import pyplot\n",
        "import matplotlib.pyplot as plt\n",
        "import plotly.express as px\n",
        "import plotly.graph_objects as go\n",
        "warnings.filterwarnings(\"ignore\")\n",
        "plt.style.use('fivethirtyeight')\n",
        "\n",
        "import pandas as pd\n",
        "pd.set_option('display.expand_frame_repr', False)\n",
        "pd.set_option('display.max_columns', 500)\n",
        "pd.set_option('display.width', 1000)\n",
        "\n",
        "!pip install statsmodels --upgrade\n",
        "\n",
        "import statsmodels.api as sm\n",
        "from statsmodels.graphics.tsaplots import plot_acf\n",
        "from statsmodels.graphics.tsaplots import plot_pacf\n",
        "from statsmodels.tsa.stattools import adfuller\n",
        "from statsmodels.tsa.seasonal import seasonal_decompose\n",
        "from statsmodels.tsa.stattools import kpss\n",
        "from statsmodels.tsa.ar_model import AR\n",
        "from statsmodels.tsa.arima_model import ARMA, ARIMA\n",
        "!pip install pmdarima\n",
        "from pmdarima.arima import auto_arima\n",
        "\n",
        "from statsmodels.tsa.statespace.sarimax import SARIMAX\n",
        "from fbprophet import Prophet\n",
        "\n",
        "from math import sqrt\n",
        "\n",
        "import matplotlib\n",
        "matplotlib.rcParams['axes.labelsize'] = 14\n",
        "matplotlib.rcParams['xtick.labelsize'] = 12\n",
        "matplotlib.rcParams['ytick.labelsize'] = 12\n",
        "matplotlib.rcParams['text.color'] = 'k'\n",
        "import seaborn as sns\n",
        "\n",
        "from random import random\n",
        "\n",
        "from sklearn.metrics import mean_squared_error, r2_score, mean_absolute_error, median_absolute_error, mean_squared_log_error"
      ],
      "id": "absent-nylon",
      "execution_count": null,
      "outputs": [
        {
          "output_type": "stream",
          "text": [
            "Requirement already up-to-date: statsmodels in /usr/local/lib/python3.7/dist-packages (0.12.2)\n",
            "Requirement already satisfied, skipping upgrade: patsy>=0.5 in /usr/local/lib/python3.7/dist-packages (from statsmodels) (0.5.1)\n",
            "Requirement already satisfied, skipping upgrade: numpy>=1.15 in /usr/local/lib/python3.7/dist-packages (from statsmodels) (1.19.5)\n",
            "Requirement already satisfied, skipping upgrade: scipy>=1.1 in /usr/local/lib/python3.7/dist-packages (from statsmodels) (1.4.1)\n",
            "Requirement already satisfied, skipping upgrade: pandas>=0.21 in /usr/local/lib/python3.7/dist-packages (from statsmodels) (1.1.5)\n",
            "Requirement already satisfied, skipping upgrade: six in /usr/local/lib/python3.7/dist-packages (from patsy>=0.5->statsmodels) (1.15.0)\n",
            "Requirement already satisfied, skipping upgrade: python-dateutil>=2.7.3 in /usr/local/lib/python3.7/dist-packages (from pandas>=0.21->statsmodels) (2.8.1)\n",
            "Requirement already satisfied, skipping upgrade: pytz>=2017.2 in /usr/local/lib/python3.7/dist-packages (from pandas>=0.21->statsmodels) (2018.9)\n",
            "Requirement already satisfied: pmdarima in /usr/local/lib/python3.7/dist-packages (1.8.2)\n",
            "Requirement already satisfied: scipy>=1.3.2 in /usr/local/lib/python3.7/dist-packages (from pmdarima) (1.4.1)\n",
            "Requirement already satisfied: statsmodels!=0.12.0,>=0.11 in /usr/local/lib/python3.7/dist-packages (from pmdarima) (0.12.2)\n",
            "Requirement already satisfied: urllib3 in /usr/local/lib/python3.7/dist-packages (from pmdarima) (1.24.3)\n",
            "Requirement already satisfied: Cython!=0.29.18,>=0.29 in /usr/local/lib/python3.7/dist-packages (from pmdarima) (0.29.23)\n",
            "Requirement already satisfied: numpy~=1.19.0 in /usr/local/lib/python3.7/dist-packages (from pmdarima) (1.19.5)\n",
            "Requirement already satisfied: pandas>=0.19 in /usr/local/lib/python3.7/dist-packages (from pmdarima) (1.1.5)\n",
            "Requirement already satisfied: scikit-learn>=0.22 in /usr/local/lib/python3.7/dist-packages (from pmdarima) (0.22.2.post1)\n",
            "Requirement already satisfied: setuptools!=50.0.0,>=38.6.0 in /usr/local/lib/python3.7/dist-packages (from pmdarima) (56.1.0)\n",
            "Requirement already satisfied: joblib>=0.11 in /usr/local/lib/python3.7/dist-packages (from pmdarima) (1.0.1)\n",
            "Requirement already satisfied: patsy>=0.5 in /usr/local/lib/python3.7/dist-packages (from statsmodels!=0.12.0,>=0.11->pmdarima) (0.5.1)\n",
            "Requirement already satisfied: python-dateutil>=2.7.3 in /usr/local/lib/python3.7/dist-packages (from pandas>=0.19->pmdarima) (2.8.1)\n",
            "Requirement already satisfied: pytz>=2017.2 in /usr/local/lib/python3.7/dist-packages (from pandas>=0.19->pmdarima) (2018.9)\n",
            "Requirement already satisfied: six in /usr/local/lib/python3.7/dist-packages (from patsy>=0.5->statsmodels!=0.12.0,>=0.11->pmdarima) (1.15.0)\n"
          ],
          "name": "stdout"
        }
      ]
    },
    {
      "cell_type": "markdown",
      "metadata": {
        "id": "m4BOD_0m_va3"
      },
      "source": [
        "# Import Dataset"
      ],
      "id": "m4BOD_0m_va3"
    },
    {
      "cell_type": "markdown",
      "metadata": {
        "id": "wx_NS8znFNLV"
      },
      "source": [
        "## For Desktop"
      ],
      "id": "wx_NS8znFNLV"
    },
    {
      "cell_type": "code",
      "metadata": {
        "id": "dated-parameter"
      },
      "source": [
        "# wanliu = pd.read_csv('/Users/isabellachittumuri/Desktop/Projects/STAT 715/PRSA_Data_Wanliu_20130301-20170228.csv')\n",
        "\n",
        "## select columns\n",
        "# wanliu = wanliu[[\"year\", \"month\", \"day\", \"hour\", \"PM2.5\"]]\n",
        "\n",
        "## into datetime\n",
        "# wanliu['Datetime']=pd.to_datetime(wanliu[['year','month','day', 'hour']])\n",
        "\n",
        "## keep only 2 columns\n",
        "# wanliu = wanliu[[\"Datetime\", \"PM2.5\"]]\n",
        "\n",
        "## sort by date & time\n",
        "# wanliu['Datetime'] = pd.to_datetime(wanliu['Datetime'])\n",
        "# wanliu.sort_values(by=['Datetime'], axis=0, ascending=True, inplace=True)\n",
        "# wanliu.reset_index(inplace=True, drop=True)\n",
        "\n",
        "## display the first couple of rows\n",
        "# wanliu.head()\n"
      ],
      "id": "dated-parameter",
      "execution_count": null,
      "outputs": []
    },
    {
      "cell_type": "markdown",
      "metadata": {
        "id": "GT10KuqbE94P"
      },
      "source": [
        "## For Google Drive"
      ],
      "id": "GT10KuqbE94P"
    },
    {
      "cell_type": "code",
      "metadata": {
        "colab": {
          "base_uri": "https://localhost:8080/"
        },
        "id": "60R8yaX2E7uF",
        "outputId": "d11c72b6-8a20-4bd9-b882-7358ed8610d0"
      },
      "source": [
        "# Mount drive\n",
        "from google.colab import drive\n",
        "drive.mount('/content/drive', force_remount=True)"
      ],
      "id": "60R8yaX2E7uF",
      "execution_count": null,
      "outputs": [
        {
          "output_type": "stream",
          "text": [
            "Mounted at /content/drive\n"
          ],
          "name": "stdout"
        }
      ]
    },
    {
      "cell_type": "markdown",
      "metadata": {
        "id": "unusual-catering"
      },
      "source": [
        "# Data Preprocessing"
      ],
      "id": "unusual-catering"
    },
    {
      "cell_type": "code",
      "metadata": {
        "colab": {
          "base_uri": "https://localhost:8080/"
        },
        "id": "gw0weQF4FLFk",
        "outputId": "e6694795-dcf5-4a88-86a9-1bfcc990827c"
      },
      "source": [
        "# let's only read one of the region's power consumptions, to keep this notebook concise\n",
        "wanliu = pd.read_csv('/content/drive/MyDrive/715_project/PRSA_Data_Wanliu_20130301-20170228.csv', header=0, index_col=0, squeeze=True)\n",
        "\n",
        "# select columns\n",
        "wanliu = wanliu[[\"year\", \"month\", \"day\", \"hour\", \"PM2.5\"]]\n",
        "\n",
        "# into datetime\n",
        "wanliu['Datetime']=pd.to_datetime(wanliu[['year','month','day', 'hour']])\n",
        "\n",
        "# keep only 2 columns\n",
        "wanliu = wanliu[[\"Datetime\", \"PM2.5\"]]\n",
        "\n",
        "# sort by date & time\n",
        "wanliu['Datetime'] = pd.to_datetime(wanliu['Datetime'])\n",
        "wanliu.sort_values(by=['Datetime'], axis=0, ascending=True, inplace=True)\n",
        "wanliu.reset_index(inplace=True, drop=True)\n",
        "\n",
        "# display the first couple of rows\n",
        "wanliu.head()"
      ],
      "id": "gw0weQF4FLFk",
      "execution_count": null,
      "outputs": [
        {
          "output_type": "execute_result",
          "data": {
            "text/html": [
              "<div>\n",
              "<style scoped>\n",
              "    .dataframe tbody tr th:only-of-type {\n",
              "        vertical-align: middle;\n",
              "    }\n",
              "\n",
              "    .dataframe tbody tr th {\n",
              "        vertical-align: top;\n",
              "    }\n",
              "\n",
              "    .dataframe thead th {\n",
              "        text-align: right;\n",
              "    }\n",
              "</style>\n",
              "<table border=\"1\" class=\"dataframe\">\n",
              "  <thead>\n",
              "    <tr style=\"text-align: right;\">\n",
              "      <th></th>\n",
              "      <th>Datetime</th>\n",
              "      <th>PM2.5</th>\n",
              "    </tr>\n",
              "  </thead>\n",
              "  <tbody>\n",
              "    <tr>\n",
              "      <th>0</th>\n",
              "      <td>2013-03-01 00:00:00</td>\n",
              "      <td>8.0</td>\n",
              "    </tr>\n",
              "    <tr>\n",
              "      <th>1</th>\n",
              "      <td>2013-03-01 01:00:00</td>\n",
              "      <td>9.0</td>\n",
              "    </tr>\n",
              "    <tr>\n",
              "      <th>2</th>\n",
              "      <td>2013-03-01 02:00:00</td>\n",
              "      <td>3.0</td>\n",
              "    </tr>\n",
              "    <tr>\n",
              "      <th>3</th>\n",
              "      <td>2013-03-01 03:00:00</td>\n",
              "      <td>11.0</td>\n",
              "    </tr>\n",
              "    <tr>\n",
              "      <th>4</th>\n",
              "      <td>2013-03-01 04:00:00</td>\n",
              "      <td>3.0</td>\n",
              "    </tr>\n",
              "  </tbody>\n",
              "</table>\n",
              "</div>"
            ],
            "text/plain": [
              "             Datetime  PM2.5\n",
              "0 2013-03-01 00:00:00    8.0\n",
              "1 2013-03-01 01:00:00    9.0\n",
              "2 2013-03-01 02:00:00    3.0\n",
              "3 2013-03-01 03:00:00   11.0\n",
              "4 2013-03-01 04:00:00    3.0"
            ]
          },
          "metadata": {
            "tags": []
          },
          "execution_count": 4
        }
      ]
    },
    {
      "cell_type": "code",
      "metadata": {
        "colab": {
          "base_uri": "https://localhost:8080/"
        },
        "id": "falling-parker",
        "outputId": "627bdf3e-0af5-4ca5-eb1c-fb072d224577"
      },
      "source": [
        "wanliu.describe()"
      ],
      "id": "falling-parker",
      "execution_count": null,
      "outputs": [
        {
          "output_type": "execute_result",
          "data": {
            "text/html": [
              "<div>\n",
              "<style scoped>\n",
              "    .dataframe tbody tr th:only-of-type {\n",
              "        vertical-align: middle;\n",
              "    }\n",
              "\n",
              "    .dataframe tbody tr th {\n",
              "        vertical-align: top;\n",
              "    }\n",
              "\n",
              "    .dataframe thead th {\n",
              "        text-align: right;\n",
              "    }\n",
              "</style>\n",
              "<table border=\"1\" class=\"dataframe\">\n",
              "  <thead>\n",
              "    <tr style=\"text-align: right;\">\n",
              "      <th></th>\n",
              "      <th>PM2.5</th>\n",
              "    </tr>\n",
              "  </thead>\n",
              "  <tbody>\n",
              "    <tr>\n",
              "      <th>count</th>\n",
              "      <td>34682.000000</td>\n",
              "    </tr>\n",
              "    <tr>\n",
              "      <th>mean</th>\n",
              "      <td>83.374716</td>\n",
              "    </tr>\n",
              "    <tr>\n",
              "      <th>std</th>\n",
              "      <td>81.905568</td>\n",
              "    </tr>\n",
              "    <tr>\n",
              "      <th>min</th>\n",
              "      <td>2.000000</td>\n",
              "    </tr>\n",
              "    <tr>\n",
              "      <th>25%</th>\n",
              "      <td>23.000000</td>\n",
              "    </tr>\n",
              "    <tr>\n",
              "      <th>50%</th>\n",
              "      <td>59.000000</td>\n",
              "    </tr>\n",
              "    <tr>\n",
              "      <th>75%</th>\n",
              "      <td>116.000000</td>\n",
              "    </tr>\n",
              "    <tr>\n",
              "      <th>max</th>\n",
              "      <td>957.000000</td>\n",
              "    </tr>\n",
              "  </tbody>\n",
              "</table>\n",
              "</div>"
            ],
            "text/plain": [
              "              PM2.5\n",
              "count  34682.000000\n",
              "mean      83.374716\n",
              "std       81.905568\n",
              "min        2.000000\n",
              "25%       23.000000\n",
              "50%       59.000000\n",
              "75%      116.000000\n",
              "max      957.000000"
            ]
          },
          "metadata": {
            "tags": []
          },
          "execution_count": 5
        }
      ]
    },
    {
      "cell_type": "code",
      "metadata": {
        "colab": {
          "base_uri": "https://localhost:8080/"
        },
        "id": "floral-glory",
        "outputId": "66b9c83e-54fc-4f42-a529-7bf5c4c898a9"
      },
      "source": [
        "print('Time period start: {}\\nTime period end: {}'.format(wanliu[\"Datetime\"].min(),wanliu[\"Datetime\"].max()))"
      ],
      "id": "floral-glory",
      "execution_count": null,
      "outputs": [
        {
          "output_type": "stream",
          "text": [
            "Time period start: 2013-03-01 00:00:00\n",
            "Time period end: 2017-02-28 23:00:00\n"
          ],
          "name": "stdout"
        }
      ]
    },
    {
      "cell_type": "code",
      "metadata": {
        "colab": {
          "base_uri": "https://localhost:8080/"
        },
        "id": "suited-local",
        "outputId": "27d1add2-4b68-4f38-fb1f-894f5477a903"
      },
      "source": [
        "wanliu.columns"
      ],
      "id": "suited-local",
      "execution_count": null,
      "outputs": [
        {
          "output_type": "execute_result",
          "data": {
            "text/plain": [
              "Index(['Datetime', 'PM2.5'], dtype='object')"
            ]
          },
          "metadata": {
            "tags": []
          },
          "execution_count": 7
        }
      ]
    },
    {
      "cell_type": "code",
      "metadata": {
        "colab": {
          "base_uri": "https://localhost:8080/"
        },
        "id": "interpreted-lancaster",
        "outputId": "eff0b844-ac7c-4890-9f34-4720de42e9c0"
      },
      "source": [
        "wanliu.shape"
      ],
      "id": "interpreted-lancaster",
      "execution_count": null,
      "outputs": [
        {
          "output_type": "execute_result",
          "data": {
            "text/plain": [
              "(35064, 2)"
            ]
          },
          "metadata": {
            "tags": []
          },
          "execution_count": 8
        }
      ]
    },
    {
      "cell_type": "code",
      "metadata": {
        "colab": {
          "base_uri": "https://localhost:8080/"
        },
        "id": "drawn-california",
        "outputId": "4da04c9d-61cb-4c01-9a1f-d9e0fd909730"
      },
      "source": [
        "# check if there are duplicates\n",
        "boolean = wanliu.duplicated().any() # False\n",
        "boolean = wanliu.duplicated(subset=['Datetime','PM2.5']).any()\n",
        "print(boolean)"
      ],
      "id": "drawn-california",
      "execution_count": null,
      "outputs": [
        {
          "output_type": "stream",
          "text": [
            "False\n"
          ],
          "name": "stdout"
        }
      ]
    },
    {
      "cell_type": "markdown",
      "metadata": {
        "id": "intense-salem"
      },
      "source": [
        "False here - no duplicates row-wise "
      ],
      "id": "intense-salem"
    },
    {
      "cell_type": "code",
      "metadata": {
        "colab": {
          "base_uri": "https://localhost:8080/"
        },
        "id": "naval-tyler",
        "outputId": "7466d587-34a4-49a8-d392-46278c2cb3d9"
      },
      "source": [
        "# convert the column (it's a string) to datetime type\n",
        "datetime_series = pd.to_datetime(wanliu['Datetime'])\n",
        "\n",
        "# create datetime index passing the datetime series\n",
        "datetime_index = pd.DatetimeIndex(datetime_series.values)\n",
        "\n",
        "df=wanliu.set_index(datetime_index)\n",
        "\n",
        "# we don't need the column anymore\n",
        "df.drop('Datetime',axis=1,inplace=True)\n",
        "\n",
        "print(df.index)"
      ],
      "id": "naval-tyler",
      "execution_count": null,
      "outputs": [
        {
          "output_type": "stream",
          "text": [
            "DatetimeIndex(['2013-03-01 00:00:00', '2013-03-01 01:00:00', '2013-03-01 02:00:00', '2013-03-01 03:00:00', '2013-03-01 04:00:00', '2013-03-01 05:00:00', '2013-03-01 06:00:00', '2013-03-01 07:00:00', '2013-03-01 08:00:00', '2013-03-01 09:00:00',\n",
            "               ...\n",
            "               '2017-02-28 14:00:00', '2017-02-28 15:00:00', '2017-02-28 16:00:00', '2017-02-28 17:00:00', '2017-02-28 18:00:00', '2017-02-28 19:00:00', '2017-02-28 20:00:00', '2017-02-28 21:00:00', '2017-02-28 22:00:00', '2017-02-28 23:00:00'], dtype='datetime64[ns]', length=35064, freq=None)\n"
          ],
          "name": "stdout"
        }
      ]
    },
    {
      "cell_type": "markdown",
      "metadata": {
        "id": "considered-dispatch"
      },
      "source": [
        "## Fill Missing Values"
      ],
      "id": "considered-dispatch"
    },
    {
      "cell_type": "code",
      "metadata": {
        "id": "perceived-manner",
        "colab": {
          "base_uri": "https://localhost:8080/"
        },
        "outputId": "e412922b-b460-4006-ee36-36fe1a8e5f43"
      },
      "source": [
        "# Count total NaN in a DataFrame\n",
        "print(\" \\nCount total NaN in a DataFrame : \\n\\n\",\n",
        "       df.isnull().sum().sum())"
      ],
      "id": "perceived-manner",
      "execution_count": null,
      "outputs": [
        {
          "output_type": "stream",
          "text": [
            " \n",
            "Count total NaN in a DataFrame : \n",
            "\n",
            " 382\n"
          ],
          "name": "stdout"
        }
      ]
    },
    {
      "cell_type": "code",
      "metadata": {
        "id": "sacred-functionality",
        "colab": {
          "base_uri": "https://localhost:8080/"
        },
        "outputId": "7b535a68-dd2a-40e9-8f39-06716537945c"
      },
      "source": [
        "# uninterruped custom date range\n",
        "date_range = pd.date_range(start=min(df.index), \n",
        "                           end=max(df.index), \n",
        "                           freq='H')\n",
        "\n",
        "# this will append the previously missing datetimes, and create null values in our target variable\n",
        "df = df.reindex(date_range)\n",
        "\n",
        "# we fill in the blanks with values that lie on a linear curve between existing data points\n",
        "df['PM2.5'].interpolate(method='linear', inplace=True)\n",
        "\n",
        "# now we have a neatly continuous datetime index\n",
        "print(f'The df.index.freq is now: {df.index.freq}, indicating that we no longer have missing instances')"
      ],
      "id": "sacred-functionality",
      "execution_count": null,
      "outputs": [
        {
          "output_type": "stream",
          "text": [
            "The df.index.freq is now: <Hour>, indicating that we no longer have missing instances\n"
          ],
          "name": "stdout"
        }
      ]
    },
    {
      "cell_type": "code",
      "metadata": {
        "id": "prime-chinese",
        "colab": {
          "base_uri": "https://localhost:8080/"
        },
        "outputId": "bdf0d37e-daf7-4dc1-983f-aa5c678fdacf"
      },
      "source": [
        "# check is any missing values left\n",
        "print(\" \\nCount total NaN in a DataFrame : \\n\\n\",\n",
        "       df.isnull().sum().sum())"
      ],
      "id": "prime-chinese",
      "execution_count": null,
      "outputs": [
        {
          "output_type": "stream",
          "text": [
            " \n",
            "Count total NaN in a DataFrame : \n",
            "\n",
            " 0\n"
          ],
          "name": "stdout"
        }
      ]
    },
    {
      "cell_type": "markdown",
      "metadata": {
        "id": "w1-ClnzUaH2i"
      },
      "source": [
        "# 24-Hour Average"
      ],
      "id": "w1-ClnzUaH2i"
    },
    {
      "cell_type": "code",
      "metadata": {
        "colab": {
          "base_uri": "https://localhost:8080/",
          "height": 204
        },
        "id": "03_xzPgGaHdj",
        "outputId": "58459bb2-f1c3-48e9-981b-60902d2826cd"
      },
      "source": [
        "# daily\n",
        "daily_avg = df.groupby(pd.Grouper(freq='D')).mean()\n",
        "\n",
        "daily_avg.head()"
      ],
      "id": "03_xzPgGaHdj",
      "execution_count": null,
      "outputs": [
        {
          "output_type": "execute_result",
          "data": {
            "text/html": [
              "<div>\n",
              "<style scoped>\n",
              "    .dataframe tbody tr th:only-of-type {\n",
              "        vertical-align: middle;\n",
              "    }\n",
              "\n",
              "    .dataframe tbody tr th {\n",
              "        vertical-align: top;\n",
              "    }\n",
              "\n",
              "    .dataframe thead th {\n",
              "        text-align: right;\n",
              "    }\n",
              "</style>\n",
              "<table border=\"1\" class=\"dataframe\">\n",
              "  <thead>\n",
              "    <tr style=\"text-align: right;\">\n",
              "      <th></th>\n",
              "      <th>PM2.5</th>\n",
              "    </tr>\n",
              "  </thead>\n",
              "  <tbody>\n",
              "    <tr>\n",
              "      <th>2013-03-01</th>\n",
              "      <td>8.000000</td>\n",
              "    </tr>\n",
              "    <tr>\n",
              "      <th>2013-03-02</th>\n",
              "      <td>29.083333</td>\n",
              "    </tr>\n",
              "    <tr>\n",
              "      <th>2013-03-03</th>\n",
              "      <td>80.125000</td>\n",
              "    </tr>\n",
              "    <tr>\n",
              "      <th>2013-03-04</th>\n",
              "      <td>22.875000</td>\n",
              "    </tr>\n",
              "    <tr>\n",
              "      <th>2013-03-05</th>\n",
              "      <td>134.041667</td>\n",
              "    </tr>\n",
              "  </tbody>\n",
              "</table>\n",
              "</div>"
            ],
            "text/plain": [
              "                 PM2.5\n",
              "2013-03-01    8.000000\n",
              "2013-03-02   29.083333\n",
              "2013-03-03   80.125000\n",
              "2013-03-04   22.875000\n",
              "2013-03-05  134.041667"
            ]
          },
          "metadata": {
            "tags": []
          },
          "execution_count": 14
        }
      ]
    },
    {
      "cell_type": "markdown",
      "metadata": {
        "id": "o4fWd6R2M9Ao"
      },
      "source": [
        "## Create Df Copy"
      ],
      "id": "o4fWd6R2M9Ao"
    },
    {
      "cell_type": "code",
      "metadata": {
        "colab": {
          "base_uri": "https://localhost:8080/",
          "height": 204
        },
        "id": "t6gd2DlONCOf",
        "outputId": "10c210f0-5522-45f5-b957-44a4a587bf80"
      },
      "source": [
        "daily_avg_copy =  daily_avg\n",
        "daily_avg_copy.head()"
      ],
      "id": "t6gd2DlONCOf",
      "execution_count": null,
      "outputs": [
        {
          "output_type": "execute_result",
          "data": {
            "text/html": [
              "<div>\n",
              "<style scoped>\n",
              "    .dataframe tbody tr th:only-of-type {\n",
              "        vertical-align: middle;\n",
              "    }\n",
              "\n",
              "    .dataframe tbody tr th {\n",
              "        vertical-align: top;\n",
              "    }\n",
              "\n",
              "    .dataframe thead th {\n",
              "        text-align: right;\n",
              "    }\n",
              "</style>\n",
              "<table border=\"1\" class=\"dataframe\">\n",
              "  <thead>\n",
              "    <tr style=\"text-align: right;\">\n",
              "      <th></th>\n",
              "      <th>PM2.5</th>\n",
              "    </tr>\n",
              "  </thead>\n",
              "  <tbody>\n",
              "    <tr>\n",
              "      <th>2013-03-01</th>\n",
              "      <td>8.000000</td>\n",
              "    </tr>\n",
              "    <tr>\n",
              "      <th>2013-03-02</th>\n",
              "      <td>29.083333</td>\n",
              "    </tr>\n",
              "    <tr>\n",
              "      <th>2013-03-03</th>\n",
              "      <td>80.125000</td>\n",
              "    </tr>\n",
              "    <tr>\n",
              "      <th>2013-03-04</th>\n",
              "      <td>22.875000</td>\n",
              "    </tr>\n",
              "    <tr>\n",
              "      <th>2013-03-05</th>\n",
              "      <td>134.041667</td>\n",
              "    </tr>\n",
              "  </tbody>\n",
              "</table>\n",
              "</div>"
            ],
            "text/plain": [
              "                 PM2.5\n",
              "2013-03-01    8.000000\n",
              "2013-03-02   29.083333\n",
              "2013-03-03   80.125000\n",
              "2013-03-04   22.875000\n",
              "2013-03-05  134.041667"
            ]
          },
          "metadata": {
            "tags": []
          },
          "execution_count": 15
        }
      ]
    },
    {
      "cell_type": "markdown",
      "metadata": {
        "id": "killing-internship"
      },
      "source": [
        "# Exploratory data analysis"
      ],
      "id": "killing-internship"
    },
    {
      "cell_type": "markdown",
      "metadata": {
        "id": "earlier-france"
      },
      "source": [
        "## Density Plot and Histogram "
      ],
      "id": "earlier-france"
    },
    {
      "cell_type": "code",
      "metadata": {
        "id": "confused-sense",
        "colab": {
          "base_uri": "https://localhost:8080/",
          "height": 319
        },
        "outputId": "1c9f5ec9-0045-4002-eed8-8159cd25ffa8"
      },
      "source": [
        "# Density Plot and Histogram of all PM2.5 emissions\n",
        "sns.set_style(\"whitegrid\")  # Setting style(Optional)\n",
        "plt.figure(figsize = (10,5)) #Specify the size of figure we want(Optional)\n",
        "sns.distplot(x = daily_avg[\"PM2.5\"]  ,  bins = int(180/5) , kde = True , color = 'teal'\\\n",
        "             , kde_kws=dict(linewidth = 4 , color = 'black'))\n",
        "plt.show()"
      ],
      "id": "confused-sense",
      "execution_count": null,
      "outputs": [
        {
          "output_type": "display_data",
          "data": {
            "image/png": "[encoded data removed]",
            "text/plain": [
              "<Figure size 720x360 with 1 Axes>"
            ]
          },
          "metadata": {
            "tags": []
          }
        }
      ]
    },
    {
      "cell_type": "markdown",
      "metadata": {
        "id": "atomic-shirt"
      },
      "source": [
        "- The distribution is not Gaussian (normal distribution).\n",
        "- The distribution is left shifted.\n",
        "- Transformations might be useful prior to modelling."
      ],
      "id": "atomic-shirt"
    },
    {
      "cell_type": "markdown",
      "metadata": {
        "id": "popular-charge"
      },
      "source": [
        "## Box and Whisker Plots"
      ],
      "id": "popular-charge"
    },
    {
      "cell_type": "code",
      "metadata": {
        "id": "seasonal-bubble",
        "colab": {
          "base_uri": "https://localhost:8080/",
          "height": 296
        },
        "outputId": "da74a2d2-b2bf-44a4-9d62-1bf42897f14a"
      },
      "source": [
        "# PM2.5 per month\n",
        "fig, ax = plt.subplots(figsize=(15,6))\n",
        "ax.set(ylim=(0,650))\n",
        "sns.boxplot(data = daily_avg, x=daily_avg.index.month, y='PM2.5', ax=ax)"
      ],
      "id": "seasonal-bubble",
      "execution_count": null,
      "outputs": [
        {
          "output_type": "execute_result",
          "data": {
            "text/plain": [
              "<matplotlib.axes._subplots.AxesSubplot at 0x7f944bbb8b90>"
            ]
          },
          "metadata": {
            "tags": []
          },
          "execution_count": 17
        },
        {
          "output_type": "display_data",
          "data": {
            "image/png": "[encoded data removed]",
            "text/plain": [
              "<Figure size 1080x432 with 1 Axes>"
            ]
          },
          "metadata": {
            "tags": []
          }
        }
      ]
    },
    {
      "cell_type": "markdown",
      "metadata": {
        "id": "rational-housing"
      },
      "source": [
        "## Extracting Time Features\n",
        "\n",
        "\n",
        "We can split up the date-timestamp column into its different components. This will allow us to find patterns for different groups."
      ],
      "id": "rational-housing"
    },
    {
      "cell_type": "code",
      "metadata": {
        "id": "boxed-guard"
      },
      "source": [
        "# see: https://www.kaggle.com/robikscube/starter-hourly-energy-consumption\n",
        "daily_avg['dow'] = daily_avg.index.dayofweek\n",
        "daily_avg['doy'] = daily_avg.index.dayofyear\n",
        "daily_avg['year'] = daily_avg.index.year\n",
        "daily_avg['month'] = daily_avg.index.month\n",
        "daily_avg['quarter'] = daily_avg.index.quarter\n",
        "daily_avg['weekday'] = daily_avg.index.day_name()\n",
        "daily_avg['woy'] = daily_avg.index.weekofyear\n",
        "daily_avg['dom'] = daily_avg.index.day # Day of Month\n",
        "daily_avg['date'] = daily_avg.index.date \n",
        "\n",
        "# let's add the season number\n",
        "daily_avg['season'] = daily_avg['month'].apply(lambda month_number: (month_number%12 + 3)//3)"
      ],
      "id": "boxed-guard",
      "execution_count": null,
      "outputs": []
    },
    {
      "cell_type": "markdown",
      "metadata": {
        "id": "confirmed-seeker"
      },
      "source": [
        "## Plotting PM2.5 over time"
      ],
      "id": "confirmed-seeker"
    },
    {
      "cell_type": "code",
      "metadata": {
        "id": "complimentary-bahamas",
        "colab": {
          "base_uri": "https://localhost:8080/",
          "height": 542
        },
        "outputId": "1ca15ee2-3215-4bd0-b6bc-b054d24040ce"
      },
      "source": [
        "# plotly doesn't allow us to access the index, so let's copy it into a column \n",
        "daily_avg['date_and_time'] = daily_avg.index\n",
        "\n",
        "# plotting\n",
        "fig = px.line(daily_avg,\n",
        "              x='date_and_time',\n",
        "              y='PM2.5',\n",
        "              title=f'Levels of 24-Hour PM2.5 Average [{min(daily_avg.year)} - {max(daily_avg.year)}]')\n",
        "fig.update_traces(line=dict(width=1))\n",
        "fig.update_layout(xaxis_title='Date & Time (yyyy/mm/dd)',\n",
        "                  yaxis_title='PM2.5 (ug/m3)')\n",
        "fig.show()"
      ],
      "id": "complimentary-bahamas",
      "execution_count": null,
      "outputs": [
        {
          "output_type": "display_data",
          "data": {
            "text/html": [
              "<html>\n",
              "<head><meta charset=\"utf-8\" /></head>\n",
              "<body>\n",
              "    <div>\n",
              "            <script src=\"https://cdnjs.cloudflare.com/ajax/libs/mathjax/2.7.5/MathJax.js?config=TeX-AMS-MML_SVG\"></script><script type=\"text/javascript\">if (window.MathJax) {MathJax.Hub.Config({SVG: {font: \"STIX-Web\"}});}</script>\n",
              "                <script type=\"text/javascript\">window.PlotlyConfig = {MathJaxConfig: 'local'};</script>\n",
              "        <script src=\"https://cdn.plot.ly/plotly-latest.min.js\"></script>    \n",
              "            <div id=\"9053b6b6-591e-458a-95de-e6c361a62d17\" class=\"plotly-graph-div\" style=\"height:525px; width:100%;\"></div>\n",
              "            <script type=\"text/javascript\">\n",
              "                \n",
              "                    window.PLOTLYENV=window.PLOTLYENV || {};\n",
              "                    \n",
              "                if (document.getElementById(\"9053b6b6-591e-458a-95de-e6c361a62d17\")) {\n",
              "                    Plotly.newPlot(\n",
              "                        '9053b6b6-591e-458a-95de-e6c361a62d17',\n",
              "                        [{\"hoverlabel\": {\"namelength\": 0}, \"hovertemplate\": \"date_and_time=%{x}<br>PM2.5=%{y}\", \"legendgroup\": \"\", \"line\": {\"color\": \"#636efa\", \"dash\": \"solid\", \"width\": 1}, \"mode\": \"lines\", \"name\": \"\", \"showlegend\": false, \"type\": \"scattergl\", \"x\": [\"2013-03-01T00:00:00\", \"2013-03-02T00:00:00\", \"2013-03-03T00:00:00\", \"2013-03-04T00:00:00\", \"2013-03-05T00:00:00\", \"2013-03-06T00:00:00\", \"2013-03-07T00:00:00\", \"2013-03-08T00:00:00\", \"2013-03-09T00:00:00\", \"2013-03-10T00:00:00\", \"2013-03-11T00:00:00\", \"2013-03-12T00:00:00\", \"2013-03-13T00:00:00\", \"2013-03-14T00:00:00\", \"2013-03-15T00:00:00\", \"2013-03-16T00:00:00\", \"2013-03-17T00:00:00\", \"2013-03-18T00:00:00\", \"2013-03-19T00:00:00\", \"2013-03-20T00:00:00\", \"2013-03-21T00:00:00\", \"2013-03-22T00:00:00\", \"2013-03-23T00:00:00\", \"2013-03-24T00:00:00\", \"2013-03-25T00:00:00\", \"2013-03-26T00:00:00\", \"2013-03-27T00:00:00\", \"2013-03-28T00:00:00\", \"2013-03-29T00:00:00\", \"2013-03-30T00:00:00\", \"2013-03-31T00:00:00\", \"2013-04-01T00:00:00\", \"2013-04-02T00:00:00\", \"2013-04-03T00:00:00\", \"2013-04-04T00:00:00\", \"2013-04-05T00:00:00\", \"2013-04-06T00:00:00\", \"2013-04-07T00:00:00\", \"2013-04-08T00:00:00\", \"2013-04-09T00:00:00\", \"2013-04-10T00:00:00\", \"2013-04-11T00:00:00\", \"2013-04-12T00:00:00\", \"2013-04-13T00:00:00\", \"2013-04-14T00:00:00\", \"2013-04-15T00:00:00\", \"2013-04-16T00:00:00\", \"2013-04-17T00:00:00\", \"2013-04-18T00:00:00\", \"2013-04-19T00:00:00\", \"2013-04-20T00:00:00\", \"2013-04-21T00:00:00\", \"2013-04-22T00:00:00\", \"2013-04-23T00:00:00\", \"2013-04-24T00:00:00\", \"2013-04-25T00:00:00\", \"2013-04-26T00:00:00\", \"2013-04-27T00:00:00\", \"2013-04-28T00:00:00\", \"2013-04-29T00:00:00\", \"2013-04-30T00:00:00\", \"2013-05-01T00:00:00\", \"2013-05-02T00:00:00\", \"2013-05-03T00:00:00\", \"2013-05-04T00:00:00\", \"2013-05-05T00:00:00\", \"2013-05-06T00:00:00\", \"2013-05-07T00:00:00\", \"2013-05-08T00:00:00\", \"2013-05-09T00:00:00\", \"2013-05-10T00:00:00\", \"2013-05-11T00:00:00\", \"2013-05-12T00:00:00\", \"2013-05-13T00:00:00\", \"2013-05-14T00:00:00\", \"2013-05-15T00:00:00\", \"2013-05-16T00:00:00\", \"2013-05-17T00:00:00\", \"2013-05-18T00:00:00\", \"2013-05-19T00:00:00\", \"2013-05-20T00:00:00\", \"2013-05-21T00:00:00\", \"2013-05-22T00:00:00\", \"2013-05-23T00:00:00\", \"2013-05-24T00:00:00\", \"2013-05-25T00:00:00\", \"2013-05-26T00:00:00\", \"2013-05-27T00:00:00\", \"2013-05-28T00:00:00\", \"2013-05-29T00:00:00\", \"2013-05-30T00:00:00\", \"2013-05-31T00:00:00\", \"2013-06-01T00:00:00\", \"2013-06-02T00:00:00\", \"2013-06-03T00:00:00\", \"2013-06-04T00:00:00\", \"2013-06-05T00:00:00\", \"2013-06-06T00:00:00\", \"2013-06-07T00:00:00\", \"2013-06-08T00:00:00\", \"2013-06-09T00:00:00\", \"2013-06-10T00:00:00\", \"2013-06-11T00:00:00\", \"2013-06-12T00:00:00\", \"2013-06-13T00:00:00\", \"2013-06-14T00:00:00\", \"2013-06-15T00:00:00\", \"2013-06-16T00:00:00\", \"2013-06-17T00:00:00\", \"2013-06-18T00:00:00\", \"2013-06-19T00:00:00\", \"2013-06-20T00:00:00\", \"2013-06-21T00:00:00\", \"2013-06-22T00:00:00\", \"2013-06-23T00:00:00\", \"2013-06-24T00:00:00\", \"2013-06-25T00:00:00\", \"2013-06-26T00:00:00\", \"2013-06-27T00:00:00\", \"2013-06-28T00:00:00\", \"2013-06-29T00:00:00\", \"2013-06-30T00:00:00\", \"2013-07-01T00:00:00\", \"2013-07-02T00:00:00\", \"2013-07-03T00:00:00\", \"2013-07-04T00:00:00\", \"2013-07-05T00:00:00\", \"2013-07-06T00:00:00\", \"2013-07-07T00:00:00\", \"2013-07-08T00:00:00\", \"2013-07-09T00:00:00\", \"2013-07-10T00:00:00\", \"2013-07-11T00:00:00\", \"2013-07-12T00:00:00\", \"2013-07-13T00:00:00\", \"2013-07-14T00:00:00\", \"2013-07-15T00:00:00\", \"2013-07-16T00:00:00\", \"2013-07-17T00:00:00\", \"2013-07-18T00:00:00\", \"2013-07-19T00:00:00\", \"2013-07-20T00:00:00\", \"2013-07-21T00:00:00\", \"2013-07-22T00:00:00\", \"2013-07-23T00:00:00\", \"2013-07-24T00:00:00\", \"2013-07-25T00:00:00\", \"2013-07-26T00:00:00\", \"2013-07-27T00:00:00\", \"2013-07-28T00:00:00\", \"2013-07-29T00:00:00\", \"2013-07-30T00:00:00\", \"2013-07-31T00:00:00\", \"2013-08-01T00:00:00\", \"2013-08-02T00:00:00\", \"2013-08-03T00:00:00\", \"2013-08-04T00:00:00\", \"2013-08-05T00:00:00\", \"2013-08-06T00:00:00\", \"2013-08-07T00:00:00\", \"2013-08-08T00:00:00\", \"2013-08-09T00:00:00\", \"2013-08-10T00:00:00\", \"2013-08-11T00:00:00\", \"2013-08-12T00:00:00\", \"2013-08-13T00:00:00\", \"2013-08-14T00:00:00\", \"2013-08-15T00:00:00\", \"2013-08-16T00:00:00\", \"2013-08-17T00:00:00\", \"2013-08-18T00:00:00\", \"2013-08-19T00:00:00\", \"2013-08-20T00:00:00\", \"2013-08-21T00:00:00\", \"2013-08-22T00:00:00\", \"2013-08-23T00:00:00\", \"2013-08-24T00:00:00\", \"2013-08-25T00:00:00\", \"2013-08-26T00:00:00\", \"2013-08-27T00:00:00\", \"2013-08-28T00:00:00\", \"2013-08-29T00:00:00\", \"2013-08-30T00:00:00\", \"2013-08-31T00:00:00\", \"2013-09-01T00:00:00\", \"2013-09-02T00:00:00\", \"2013-09-03T00:00:00\", \"2013-09-04T00:00:00\", \"2013-09-05T00:00:00\", \"2013-09-06T00:00:00\", \"2013-09-07T00:00:00\", \"2013-09-08T00:00:00\", \"2013-09-09T00:00:00\", \"2013-09-10T00:00:00\", \"2013-09-11T00:00:00\", \"2013-09-12T00:00:00\", \"2013-09-13T00:00:00\", \"2013-09-14T00:00:00\", \"2013-09-15T00:00:00\", \"2013-09-16T00:00:00\", \"2013-09-17T00:00:00\", \"2013-09-18T00:00:00\", \"2013-09-19T00:00:00\", \"2013-09-20T00:00:00\", \"2013-09-21T00:00:00\", \"2013-09-22T00:00:00\", \"2013-09-23T00:00:00\", \"2013-09-24T00:00:00\", \"2013-09-25T00:00:00\", \"2013-09-26T00:00:00\", \"2013-09-27T00:00:00\", \"2013-09-28T00:00:00\", \"2013-09-29T00:00:00\", \"2013-09-30T00:00:00\", \"2013-10-01T00:00:00\", \"2013-10-02T00:00:00\", \"2013-10-03T00:00:00\", \"2013-10-04T00:00:00\", \"2013-10-05T00:00:00\", \"2013-10-06T00:00:00\", \"2013-10-07T00:00:00\", \"2013-10-08T00:00:00\", \"2013-10-09T00:00:00\", \"2013-10-10T00:00:00\", \"2013-10-11T00:00:00\", \"2013-10-12T00:00:00\", \"2013-10-13T00:00:00\", \"2013-10-14T00:00:00\", \"2013-10-15T00:00:00\", \"2013-10-16T00:00:00\", \"2013-10-17T00:00:00\", \"2013-10-18T00:00:00\", \"2013-10-19T00:00:00\", \"2013-10-20T00:00:00\", \"2013-10-21T00:00:00\", \"2013-10-22T00:00:00\", \"2013-10-23T00:00:00\", \"2013-10-24T00:00:00\", \"2013-10-25T00:00:00\", \"2013-10-26T00:00:00\", \"2013-10-27T00:00:00\", \"2013-10-28T00:00:00\", \"2013-10-29T00:00:00\", \"2013-10-30T00:00:00\", \"2013-10-31T00:00:00\", \"2013-11-01T00:00:00\", \"2013-11-02T00:00:00\", \"2013-11-03T00:00:00\", \"2013-11-04T00:00:00\", \"2013-11-05T00:00:00\", \"2013-11-06T00:00:00\", \"2013-11-07T00:00:00\", \"2013-11-08T00:00:00\", \"2013-11-09T00:00:00\", \"2013-11-10T00:00:00\", \"2013-11-11T00:00:00\", \"2013-11-12T00:00:00\", \"2013-11-13T00:00:00\", \"2013-11-14T00:00:00\", \"2013-11-15T00:00:00\", \"2013-11-16T00:00:00\", \"2013-11-17T00:00:00\", \"2013-11-18T00:00:00\", \"2013-11-19T00:00:00\", \"2013-11-20T00:00:00\", \"2013-11-21T00:00:00\", \"2013-11-22T00:00:00\", \"2013-11-23T00:00:00\", \"2013-11-24T00:00:00\", \"2013-11-25T00:00:00\", \"2013-11-26T00:00:00\", \"2013-11-27T00:00:00\", \"2013-11-28T00:00:00\", \"2013-11-29T00:00:00\", \"2013-11-30T00:00:00\", \"2013-12-01T00:00:00\", \"2013-12-02T00:00:00\", \"2013-12-03T00:00:00\", \"2013-12-04T00:00:00\", \"2013-12-05T00:00:00\", \"2013-12-06T00:00:00\", \"2013-12-07T00:00:00\", \"2013-12-08T00:00:00\", \"2013-12-09T00:00:00\", \"2013-12-10T00:00:00\", \"2013-12-11T00:00:00\", \"2013-12-12T00:00:00\", \"2013-12-13T00:00:00\", \"2013-12-14T00:00:00\", \"2013-12-15T00:00:00\", \"2013-12-16T00:00:00\", \"2013-12-17T00:00:00\", \"2013-12-18T00:00:00\", \"2013-12-19T00:00:00\", \"2013-12-20T00:00:00\", \"2013-12-21T00:00:00\", \"2013-12-22T00:00:00\", \"2013-12-23T00:00:00\", \"2013-12-24T00:00:00\", \"2013-12-25T00:00:00\", \"2013-12-26T00:00:00\", \"2013-12-27T00:00:00\", \"2013-12-28T00:00:00\", \"2013-12-29T00:00:00\", \"2013-12-30T00:00:00\", \"2013-12-31T00:00:00\", \"2014-01-01T00:00:00\", \"2014-01-02T00:00:00\", \"2014-01-03T00:00:00\", \"2014-01-04T00:00:00\", \"2014-01-05T00:00:00\", \"2014-01-06T00:00:00\", \"2014-01-07T00:00:00\", \"2014-01-08T00:00:00\", \"2014-01-09T00:00:00\", \"2014-01-10T00:00:00\", \"2014-01-11T00:00:00\", \"2014-01-12T00:00:00\", \"2014-01-13T00:00:00\", \"2014-01-14T00:00:00\", \"2014-01-15T00:00:00\", \"2014-01-16T00:00:00\", \"2014-01-17T00:00:00\", \"2014-01-18T00:00:00\", \"2014-01-19T00:00:00\", \"2014-01-20T00:00:00\", \"2014-01-21T00:00:00\", \"2014-01-22T00:00:00\", \"2014-01-23T00:00:00\", \"2014-01-24T00:00:00\", \"2014-01-25T00:00:00\", \"2014-01-26T00:00:00\", \"2014-01-27T00:00:00\", \"2014-01-28T00:00:00\", \"2014-01-29T00:00:00\", \"2014-01-30T00:00:00\", \"2014-01-31T00:00:00\", \"2014-02-01T00:00:00\", \"2014-02-02T00:00:00\", \"2014-02-03T00:00:00\", \"2014-02-04T00:00:00\", \"2014-02-05T00:00:00\", \"2014-02-06T00:00:00\", \"2014-02-07T00:00:00\", \"2014-02-08T00:00:00\", \"2014-02-09T00:00:00\", \"2014-02-10T00:00:00\", \"2014-02-11T00:00:00\", \"2014-02-12T00:00:00\", \"2014-02-13T00:00:00\", \"2014-02-14T00:00:00\", \"2014-02-15T00:00:00\", \"2014-02-16T00:00:00\", \"2014-02-17T00:00:00\", \"2014-02-18T00:00:00\", \"2014-02-19T00:00:00\", \"2014-02-20T00:00:00\", \"2014-02-21T00:00:00\", \"2014-02-22T00:00:00\", \"2014-02-23T00:00:00\", \"2014-02-24T00:00:00\", \"2014-02-25T00:00:00\", \"2014-02-26T00:00:00\", \"2014-02-27T00:00:00\", \"2014-02-28T00:00:00\", \"2014-03-01T00:00:00\", \"2014-03-02T00:00:00\", \"2014-03-03T00:00:00\", \"2014-03-04T00:00:00\", \"2014-03-05T00:00:00\", \"2014-03-06T00:00:00\", \"2014-03-07T00:00:00\", \"2014-03-08T00:00:00\", \"2014-03-09T00:00:00\", \"2014-03-10T00:00:00\", \"2014-03-11T00:00:00\", \"2014-03-12T00:00:00\", \"2014-03-13T00:00:00\", \"2014-03-14T00:00:00\", \"2014-03-15T00:00:00\", \"2014-03-16T00:00:00\", \"2014-03-17T00:00:00\", \"2014-03-18T00:00:00\", \"2014-03-19T00:00:00\", \"2014-03-20T00:00:00\", \"2014-03-21T00:00:00\", \"2014-03-22T00:00:00\", \"2014-03-23T00:00:00\", \"2014-03-24T00:00:00\", \"2014-03-25T00:00:00\", \"2014-03-26T00:00:00\", \"2014-03-27T00:00:00\", \"2014-03-28T00:00:00\", \"2014-03-29T00:00:00\", \"2014-03-30T00:00:00\", \"2014-03-31T00:00:00\", \"2014-04-01T00:00:00\", \"2014-04-02T00:00:00\", \"2014-04-03T00:00:00\", \"2014-04-04T00:00:00\", \"2014-04-05T00:00:00\", \"2014-04-06T00:00:00\", \"2014-04-07T00:00:00\", \"2014-04-08T00:00:00\", \"2014-04-09T00:00:00\", \"2014-04-10T00:00:00\", \"2014-04-11T00:00:00\", \"2014-04-12T00:00:00\", \"2014-04-13T00:00:00\", \"2014-04-14T00:00:00\", \"2014-04-15T00:00:00\", \"2014-04-16T00:00:00\", \"2014-04-17T00:00:00\", \"2014-04-18T00:00:00\", \"2014-04-19T00:00:00\", \"2014-04-20T00:00:00\", \"2014-04-21T00:00:00\", \"2014-04-22T00:00:00\", \"2014-04-23T00:00:00\", \"2014-04-24T00:00:00\", \"2014-04-25T00:00:00\", \"2014-04-26T00:00:00\", \"2014-04-27T00:00:00\", \"2014-04-28T00:00:00\", \"2014-04-29T00:00:00\", \"2014-04-30T00:00:00\", \"2014-05-01T00:00:00\", \"2014-05-02T00:00:00\", \"2014-05-03T00:00:00\", \"2014-05-04T00:00:00\", \"2014-05-05T00:00:00\", \"2014-05-06T00:00:00\", \"2014-05-07T00:00:00\", \"2014-05-08T00:00:00\", \"2014-05-09T00:00:00\", \"2014-05-10T00:00:00\", \"2014-05-11T00:00:00\", \"2014-05-12T00:00:00\", \"2014-05-13T00:00:00\", \"2014-05-14T00:00:00\", \"2014-05-15T00:00:00\", \"2014-05-16T00:00:00\", \"2014-05-17T00:00:00\", \"2014-05-18T00:00:00\", \"2014-05-19T00:00:00\", \"2014-05-20T00:00:00\", \"2014-05-21T00:00:00\", \"2014-05-22T00:00:00\", \"2014-05-23T00:00:00\", \"2014-05-24T00:00:00\", \"2014-05-25T00:00:00\", \"2014-05-26T00:00:00\", \"2014-05-27T00:00:00\", \"2014-05-28T00:00:00\", \"2014-05-29T00:00:00\", \"2014-05-30T00:00:00\", \"2014-05-31T00:00:00\", \"2014-06-01T00:00:00\", \"2014-06-02T00:00:00\", \"2014-06-03T00:00:00\", \"2014-06-04T00:00:00\", \"2014-06-05T00:00:00\", \"2014-06-06T00:00:00\", \"2014-06-07T00:00:00\", \"2014-06-08T00:00:00\", \"2014-06-09T00:00:00\", \"2014-06-10T00:00:00\", \"2014-06-11T00:00:00\", \"2014-06-12T00:00:00\", \"2014-06-13T00:00:00\", \"2014-06-14T00:00:00\", \"2014-06-15T00:00:00\", \"2014-06-16T00:00:00\", \"2014-06-17T00:00:00\", \"2014-06-18T00:00:00\", \"2014-06-19T00:00:00\", \"2014-06-20T00:00:00\", \"2014-06-21T00:00:00\", \"2014-06-22T00:00:00\", \"2014-06-23T00:00:00\", \"2014-06-24T00:00:00\", \"2014-06-25T00:00:00\", \"2014-06-26T00:00:00\", \"2014-06-27T00:00:00\", \"2014-06-28T00:00:00\", \"2014-06-29T00:00:00\", \"2014-06-30T00:00:00\", \"2014-07-01T00:00:00\", \"2014-07-02T00:00:00\", \"2014-07-03T00:00:00\", \"2014-07-04T00:00:00\", \"2014-07-05T00:00:00\", \"2014-07-06T00:00:00\", \"2014-07-07T00:00:00\", \"2014-07-08T00:00:00\", \"2014-07-09T00:00:00\", \"2014-07-10T00:00:00\", \"2014-07-11T00:00:00\", \"2014-07-12T00:00:00\", \"2014-07-13T00:00:00\", \"2014-07-14T00:00:00\", \"2014-07-15T00:00:00\", \"2014-07-16T00:00:00\", \"2014-07-17T00:00:00\", \"2014-07-18T00:00:00\", \"2014-07-19T00:00:00\", \"2014-07-20T00:00:00\", \"2014-07-21T00:00:00\", \"2014-07-22T00:00:00\", \"2014-07-23T00:00:00\", \"2014-07-24T00:00:00\", \"2014-07-25T00:00:00\", \"2014-07-26T00:00:00\", \"2014-07-27T00:00:00\", \"2014-07-28T00:00:00\", \"2014-07-29T00:00:00\", \"2014-07-30T00:00:00\", \"2014-07-31T00:00:00\", \"2014-08-01T00:00:00\", \"2014-08-02T00:00:00\", \"2014-08-03T00:00:00\", \"2014-08-04T00:00:00\", \"2014-08-05T00:00:00\", \"2014-08-06T00:00:00\", \"2014-08-07T00:00:00\", \"2014-08-08T00:00:00\", \"2014-08-09T00:00:00\", \"2014-08-10T00:00:00\", \"2014-08-11T00:00:00\", \"2014-08-12T00:00:00\", \"2014-08-13T00:00:00\", \"2014-08-14T00:00:00\", \"2014-08-15T00:00:00\", \"2014-08-16T00:00:00\", \"2014-08-17T00:00:00\", \"2014-08-18T00:00:00\", \"2014-08-19T00:00:00\", \"2014-08-20T00:00:00\", \"2014-08-21T00:00:00\", \"2014-08-22T00:00:00\", \"2014-08-23T00:00:00\", \"2014-08-24T00:00:00\", \"2014-08-25T00:00:00\", \"2014-08-26T00:00:00\", \"2014-08-27T00:00:00\", \"2014-08-28T00:00:00\", \"2014-08-29T00:00:00\", \"2014-08-30T00:00:00\", \"2014-08-31T00:00:00\", \"2014-09-01T00:00:00\", \"2014-09-02T00:00:00\", \"2014-09-03T00:00:00\", \"2014-09-04T00:00:00\", \"2014-09-05T00:00:00\", \"2014-09-06T00:00:00\", \"2014-09-07T00:00:00\", \"2014-09-08T00:00:00\", \"2014-09-09T00:00:00\", \"2014-09-10T00:00:00\", \"2014-09-11T00:00:00\", \"2014-09-12T00:00:00\", \"2014-09-13T00:00:00\", \"2014-09-14T00:00:00\", \"2014-09-15T00:00:00\", \"2014-09-16T00:00:00\", \"2014-09-17T00:00:00\", \"2014-09-18T00:00:00\", \"2014-09-19T00:00:00\", \"2014-09-20T00:00:00\", \"2014-09-21T00:00:00\", \"2014-09-22T00:00:00\", \"2014-09-23T00:00:00\", \"2014-09-24T00:00:00\", \"2014-09-25T00:00:00\", \"2014-09-26T00:00:00\", \"2014-09-27T00:00:00\", \"2014-09-28T00:00:00\", \"2014-09-29T00:00:00\", \"2014-09-30T00:00:00\", \"2014-10-01T00:00:00\", \"2014-10-02T00:00:00\", \"2014-10-03T00:00:00\", \"2014-10-04T00:00:00\", \"2014-10-05T00:00:00\", \"2014-10-06T00:00:00\", \"2014-10-07T00:00:00\", \"2014-10-08T00:00:00\", \"2014-10-09T00:00:00\", \"2014-10-10T00:00:00\", \"2014-10-11T00:00:00\", \"2014-10-12T00:00:00\", \"2014-10-13T00:00:00\", \"2014-10-14T00:00:00\", \"2014-10-15T00:00:00\", \"2014-10-16T00:00:00\", \"2014-10-17T00:00:00\", \"2014-10-18T00:00:00\", \"2014-10-19T00:00:00\", \"2014-10-20T00:00:00\", \"2014-10-21T00:00:00\", \"2014-10-22T00:00:00\", \"2014-10-23T00:00:00\", \"2014-10-24T00:00:00\", \"2014-10-25T00:00:00\", \"2014-10-26T00:00:00\", \"2014-10-27T00:00:00\", \"2014-10-28T00:00:00\", \"2014-10-29T00:00:00\", \"2014-10-30T00:00:00\", \"2014-10-31T00:00:00\", \"2014-11-01T00:00:00\", \"2014-11-02T00:00:00\", \"2014-11-03T00:00:00\", \"2014-11-04T00:00:00\", \"2014-11-05T00:00:00\", \"2014-11-06T00:00:00\", \"2014-11-07T00:00:00\", \"2014-11-08T00:00:00\", \"2014-11-09T00:00:00\", \"2014-11-10T00:00:00\", \"2014-11-11T00:00:00\", \"2014-11-12T00:00:00\", \"2014-11-13T00:00:00\", \"2014-11-14T00:00:00\", \"2014-11-15T00:00:00\", \"2014-11-16T00:00:00\", \"2014-11-17T00:00:00\", \"2014-11-18T00:00:00\", \"2014-11-19T00:00:00\", \"2014-11-20T00:00:00\", \"2014-11-21T00:00:00\", \"2014-11-22T00:00:00\", \"2014-11-23T00:00:00\", \"2014-11-24T00:00:00\", \"2014-11-25T00:00:00\", \"2014-11-26T00:00:00\", \"2014-11-27T00:00:00\", \"2014-11-28T00:00:00\", \"2014-11-29T00:00:00\", \"2014-11-30T00:00:00\", \"2014-12-01T00:00:00\", \"2014-12-02T00:00:00\", \"2014-12-03T00:00:00\", \"2014-12-04T00:00:00\", \"2014-12-05T00:00:00\", \"2014-12-06T00:00:00\", \"2014-12-07T00:00:00\", \"2014-12-08T00:00:00\", \"2014-12-09T00:00:00\", \"2014-12-10T00:00:00\", \"2014-12-11T00:00:00\", \"2014-12-12T00:00:00\", \"2014-12-13T00:00:00\", \"2014-12-14T00:00:00\", \"2014-12-15T00:00:00\", \"2014-12-16T00:00:00\", \"2014-12-17T00:00:00\", \"2014-12-18T00:00:00\", \"2014-12-19T00:00:00\", \"2014-12-20T00:00:00\", \"2014-12-21T00:00:00\", \"2014-12-22T00:00:00\", \"2014-12-23T00:00:00\", \"2014-12-24T00:00:00\", \"2014-12-25T00:00:00\", \"2014-12-26T00:00:00\", \"2014-12-27T00:00:00\", \"2014-12-28T00:00:00\", \"2014-12-29T00:00:00\", \"2014-12-30T00:00:00\", \"2014-12-31T00:00:00\", \"2015-01-01T00:00:00\", \"2015-01-02T00:00:00\", \"2015-01-03T00:00:00\", \"2015-01-04T00:00:00\", \"2015-01-05T00:00:00\", \"2015-01-06T00:00:00\", \"2015-01-07T00:00:00\", \"2015-01-08T00:00:00\", \"2015-01-09T00:00:00\", \"2015-01-10T00:00:00\", \"2015-01-11T00:00:00\", \"2015-01-12T00:00:00\", \"2015-01-13T00:00:00\", \"2015-01-14T00:00:00\", \"2015-01-15T00:00:00\", \"2015-01-16T00:00:00\", \"2015-01-17T00:00:00\", \"2015-01-18T00:00:00\", \"2015-01-19T00:00:00\", \"2015-01-20T00:00:00\", \"2015-01-21T00:00:00\", \"2015-01-22T00:00:00\", \"2015-01-23T00:00:00\", \"2015-01-24T00:00:00\", \"2015-01-25T00:00:00\", \"2015-01-26T00:00:00\", \"2015-01-27T00:00:00\", \"2015-01-28T00:00:00\", \"2015-01-29T00:00:00\", \"2015-01-30T00:00:00\", \"2015-01-31T00:00:00\", \"2015-02-01T00:00:00\", \"2015-02-02T00:00:00\", \"2015-02-03T00:00:00\", \"2015-02-04T00:00:00\", \"2015-02-05T00:00:00\", \"2015-02-06T00:00:00\", \"2015-02-07T00:00:00\", \"2015-02-08T00:00:00\", \"2015-02-09T00:00:00\", \"2015-02-10T00:00:00\", \"2015-02-11T00:00:00\", \"2015-02-12T00:00:00\", \"2015-02-13T00:00:00\", \"2015-02-14T00:00:00\", \"2015-02-15T00:00:00\", \"2015-02-16T00:00:00\", \"2015-02-17T00:00:00\", \"2015-02-18T00:00:00\", \"2015-02-19T00:00:00\", \"2015-02-20T00:00:00\", \"2015-02-21T00:00:00\", \"2015-02-22T00:00:00\", \"2015-02-23T00:00:00\", \"2015-02-24T00:00:00\", \"2015-02-25T00:00:00\", \"2015-02-26T00:00:00\", \"2015-02-27T00:00:00\", \"2015-02-28T00:00:00\", \"2015-03-01T00:00:00\", \"2015-03-02T00:00:00\", \"2015-03-03T00:00:00\", \"2015-03-04T00:00:00\", \"2015-03-05T00:00:00\", \"2015-03-06T00:00:00\", \"2015-03-07T00:00:00\", \"2015-03-08T00:00:00\", \"2015-03-09T00:00:00\", \"2015-03-10T00:00:00\", \"2015-03-11T00:00:00\", \"2015-03-12T00:00:00\", \"2015-03-13T00:00:00\", \"2015-03-14T00:00:00\", \"2015-03-15T00:00:00\", \"2015-03-16T00:00:00\", \"2015-03-17T00:00:00\", \"2015-03-18T00:00:00\", \"2015-03-19T00:00:00\", \"2015-03-20T00:00:00\", \"2015-03-21T00:00:00\", \"2015-03-22T00:00:00\", \"2015-03-23T00:00:00\", \"2015-03-24T00:00:00\", \"2015-03-25T00:00:00\", \"2015-03-26T00:00:00\", \"2015-03-27T00:00:00\", \"2015-03-28T00:00:00\", \"2015-03-29T00:00:00\", \"2015-03-30T00:00:00\", \"2015-03-31T00:00:00\", \"2015-04-01T00:00:00\", \"2015-04-02T00:00:00\", \"2015-04-03T00:00:00\", \"2015-04-04T00:00:00\", \"2015-04-05T00:00:00\", \"2015-04-06T00:00:00\", \"2015-04-07T00:00:00\", \"2015-04-08T00:00:00\", \"2015-04-09T00:00:00\", \"2015-04-10T00:00:00\", \"2015-04-11T00:00:00\", \"2015-04-12T00:00:00\", \"2015-04-13T00:00:00\", \"2015-04-14T00:00:00\", \"2015-04-15T00:00:00\", \"2015-04-16T00:00:00\", \"2015-04-17T00:00:00\", \"2015-04-18T00:00:00\", \"2015-04-19T00:00:00\", \"2015-04-20T00:00:00\", \"2015-04-21T00:00:00\", \"2015-04-22T00:00:00\", \"2015-04-23T00:00:00\", \"2015-04-24T00:00:00\", \"2015-04-25T00:00:00\", \"2015-04-26T00:00:00\", \"2015-04-27T00:00:00\", \"2015-04-28T00:00:00\", \"2015-04-29T00:00:00\", \"2015-04-30T00:00:00\", \"2015-05-01T00:00:00\", \"2015-05-02T00:00:00\", \"2015-05-03T00:00:00\", \"2015-05-04T00:00:00\", \"2015-05-05T00:00:00\", \"2015-05-06T00:00:00\", \"2015-05-07T00:00:00\", \"2015-05-08T00:00:00\", \"2015-05-09T00:00:00\", \"2015-05-10T00:00:00\", \"2015-05-11T00:00:00\", \"2015-05-12T00:00:00\", \"2015-05-13T00:00:00\", \"2015-05-14T00:00:00\", \"2015-05-15T00:00:00\", \"2015-05-16T00:00:00\", \"2015-05-17T00:00:00\", \"2015-05-18T00:00:00\", \"2015-05-19T00:00:00\", \"2015-05-20T00:00:00\", \"2015-05-21T00:00:00\", \"2015-05-22T00:00:00\", \"2015-05-23T00:00:00\", \"2015-05-24T00:00:00\", \"2015-05-25T00:00:00\", \"2015-05-26T00:00:00\", \"2015-05-27T00:00:00\", \"2015-05-28T00:00:00\", \"2015-05-29T00:00:00\", \"2015-05-30T00:00:00\", \"2015-05-31T00:00:00\", \"2015-06-01T00:00:00\", \"2015-06-02T00:00:00\", \"2015-06-03T00:00:00\", \"2015-06-04T00:00:00\", \"2015-06-05T00:00:00\", \"2015-06-06T00:00:00\", \"2015-06-07T00:00:00\", \"2015-06-08T00:00:00\", \"2015-06-09T00:00:00\", \"2015-06-10T00:00:00\", \"2015-06-11T00:00:00\", \"2015-06-12T00:00:00\", \"2015-06-13T00:00:00\", \"2015-06-14T00:00:00\", \"2015-06-15T00:00:00\", \"2015-06-16T00:00:00\", \"2015-06-17T00:00:00\", \"2015-06-18T00:00:00\", \"2015-06-19T00:00:00\", \"2015-06-20T00:00:00\", \"2015-06-21T00:00:00\", \"2015-06-22T00:00:00\", \"2015-06-23T00:00:00\", \"2015-06-24T00:00:00\", \"2015-06-25T00:00:00\", \"2015-06-26T00:00:00\", \"2015-06-27T00:00:00\", \"2015-06-28T00:00:00\", \"2015-06-29T00:00:00\", \"2015-06-30T00:00:00\", \"2015-07-01T00:00:00\", \"2015-07-02T00:00:00\", \"2015-07-03T00:00:00\", \"2015-07-04T00:00:00\", \"2015-07-05T00:00:00\", \"2015-07-06T00:00:00\", \"2015-07-07T00:00:00\", \"2015-07-08T00:00:00\", \"2015-07-09T00:00:00\", \"2015-07-10T00:00:00\", \"2015-07-11T00:00:00\", \"2015-07-12T00:00:00\", \"2015-07-13T00:00:00\", \"2015-07-14T00:00:00\", \"2015-07-15T00:00:00\", \"2015-07-16T00:00:00\", \"2015-07-17T00:00:00\", \"2015-07-18T00:00:00\", \"2015-07-19T00:00:00\", \"2015-07-20T00:00:00\", \"2015-07-21T00:00:00\", \"2015-07-22T00:00:00\", \"2015-07-23T00:00:00\", \"2015-07-24T00:00:00\", \"2015-07-25T00:00:00\", \"2015-07-26T00:00:00\", \"2015-07-27T00:00:00\", \"2015-07-28T00:00:00\", \"2015-07-29T00:00:00\", \"2015-07-30T00:00:00\", \"2015-07-31T00:00:00\", \"2015-08-01T00:00:00\", \"2015-08-02T00:00:00\", \"2015-08-03T00:00:00\", \"2015-08-04T00:00:00\", \"2015-08-05T00:00:00\", \"2015-08-06T00:00:00\", \"2015-08-07T00:00:00\", \"2015-08-08T00:00:00\", \"2015-08-09T00:00:00\", \"2015-08-10T00:00:00\", \"2015-08-11T00:00:00\", \"2015-08-12T00:00:00\", \"2015-08-13T00:00:00\", \"2015-08-14T00:00:00\", \"2015-08-15T00:00:00\", \"2015-08-16T00:00:00\", \"2015-08-17T00:00:00\", \"2015-08-18T00:00:00\", \"2015-08-19T00:00:00\", \"2015-08-20T00:00:00\", \"2015-08-21T00:00:00\", \"2015-08-22T00:00:00\", \"2015-08-23T00:00:00\", \"2015-08-24T00:00:00\", \"2015-08-25T00:00:00\", \"2015-08-26T00:00:00\", \"2015-08-27T00:00:00\", \"2015-08-28T00:00:00\", \"2015-08-29T00:00:00\", \"2015-08-30T00:00:00\", \"2015-08-31T00:00:00\", \"2015-09-01T00:00:00\", \"2015-09-02T00:00:00\", \"2015-09-03T00:00:00\", \"2015-09-04T00:00:00\", \"2015-09-05T00:00:00\", \"2015-09-06T00:00:00\", \"2015-09-07T00:00:00\", \"2015-09-08T00:00:00\", \"2015-09-09T00:00:00\", \"2015-09-10T00:00:00\", \"2015-09-11T00:00:00\", \"2015-09-12T00:00:00\", \"2015-09-13T00:00:00\", \"2015-09-14T00:00:00\", \"2015-09-15T00:00:00\", \"2015-09-16T00:00:00\", \"2015-09-17T00:00:00\", \"2015-09-18T00:00:00\", \"2015-09-19T00:00:00\", \"2015-09-20T00:00:00\", \"2015-09-21T00:00:00\", \"2015-09-22T00:00:00\", \"2015-09-23T00:00:00\", \"2015-09-24T00:00:00\", \"2015-09-25T00:00:00\", \"2015-09-26T00:00:00\", \"2015-09-27T00:00:00\", \"2015-09-28T00:00:00\", \"2015-09-29T00:00:00\", \"2015-09-30T00:00:00\", \"2015-10-01T00:00:00\", \"2015-10-02T00:00:00\", \"2015-10-03T00:00:00\", \"2015-10-04T00:00:00\", \"2015-10-05T00:00:00\", \"2015-10-06T00:00:00\", \"2015-10-07T00:00:00\", \"2015-10-08T00:00:00\", \"2015-10-09T00:00:00\", \"2015-10-10T00:00:00\", \"2015-10-11T00:00:00\", \"2015-10-12T00:00:00\", \"2015-10-13T00:00:00\", \"2015-10-14T00:00:00\", \"2015-10-15T00:00:00\", \"2015-10-16T00:00:00\", \"2015-10-17T00:00:00\", \"2015-10-18T00:00:00\", \"2015-10-19T00:00:00\", \"2015-10-20T00:00:00\", \"2015-10-21T00:00:00\", \"2015-10-22T00:00:00\", \"2015-10-23T00:00:00\", \"2015-10-24T00:00:00\", \"2015-10-25T00:00:00\", \"2015-10-26T00:00:00\", \"2015-10-27T00:00:00\", \"2015-10-28T00:00:00\", \"2015-10-29T00:00:00\", \"2015-10-30T00:00:00\", \"2015-10-31T00:00:00\", \"2015-11-01T00:00:00\", \"2015-11-02T00:00:00\", \"2015-11-03T00:00:00\", \"2015-11-04T00:00:00\", \"2015-11-05T00:00:00\", \"2015-11-06T00:00:00\", \"2015-11-07T00:00:00\", \"2015-11-08T00:00:00\", \"2015-11-09T00:00:00\", \"2015-11-10T00:00:00\", \"2015-11-11T00:00:00\", \"2015-11-12T00:00:00\", \"2015-11-13T00:00:00\", \"2015-11-14T00:00:00\", \"2015-11-15T00:00:00\", \"2015-11-16T00:00:00\", \"2015-11-17T00:00:00\", \"2015-11-18T00:00:00\", \"2015-11-19T00:00:00\", \"2015-11-20T00:00:00\", \"2015-11-21T00:00:00\", \"2015-11-22T00:00:00\", \"2015-11-23T00:00:00\", \"2015-11-24T00:00:00\", \"2015-11-25T00:00:00\", \"2015-11-26T00:00:00\", \"2015-11-27T00:00:00\", \"2015-11-28T00:00:00\", \"2015-11-29T00:00:00\", \"2015-11-30T00:00:00\", \"2015-12-01T00:00:00\", \"2015-12-02T00:00:00\", \"2015-12-03T00:00:00\", \"2015-12-04T00:00:00\", \"2015-12-05T00:00:00\", \"2015-12-06T00:00:00\", \"2015-12-07T00:00:00\", \"2015-12-08T00:00:00\", \"2015-12-09T00:00:00\", \"2015-12-10T00:00:00\", \"2015-12-11T00:00:00\", \"2015-12-12T00:00:00\", \"2015-12-13T00:00:00\", \"2015-12-14T00:00:00\", \"2015-12-15T00:00:00\", \"2015-12-16T00:00:00\", \"2015-12-17T00:00:00\", \"2015-12-18T00:00:00\", \"2015-12-19T00:00:00\", \"2015-12-20T00:00:00\", \"2015-12-21T00:00:00\", \"2015-12-22T00:00:00\", \"2015-12-23T00:00:00\", \"2015-12-24T00:00:00\", \"2015-12-25T00:00:00\", \"2015-12-26T00:00:00\", \"2015-12-27T00:00:00\", \"2015-12-28T00:00:00\", \"2015-12-29T00:00:00\", \"2015-12-30T00:00:00\", \"2015-12-31T00:00:00\", \"2016-01-01T00:00:00\", \"2016-01-02T00:00:00\", \"2016-01-03T00:00:00\", \"2016-01-04T00:00:00\", \"2016-01-05T00:00:00\", \"2016-01-06T00:00:00\", \"2016-01-07T00:00:00\", \"2016-01-08T00:00:00\", \"2016-01-09T00:00:00\", \"2016-01-10T00:00:00\", \"2016-01-11T00:00:00\", \"2016-01-12T00:00:00\", \"2016-01-13T00:00:00\", \"2016-01-14T00:00:00\", \"2016-01-15T00:00:00\", \"2016-01-16T00:00:00\", \"2016-01-17T00:00:00\", \"2016-01-18T00:00:00\", \"2016-01-19T00:00:00\", \"2016-01-20T00:00:00\", \"2016-01-21T00:00:00\", \"2016-01-22T00:00:00\", \"2016-01-23T00:00:00\", \"2016-01-24T00:00:00\", \"2016-01-25T00:00:00\", \"2016-01-26T00:00:00\", \"2016-01-27T00:00:00\", \"2016-01-28T00:00:00\", \"2016-01-29T00:00:00\", \"2016-01-30T00:00:00\", \"2016-01-31T00:00:00\", \"2016-02-01T00:00:00\", \"2016-02-02T00:00:00\", \"2016-02-03T00:00:00\", \"2016-02-04T00:00:00\", \"2016-02-05T00:00:00\", \"2016-02-06T00:00:00\", \"2016-02-07T00:00:00\", \"2016-02-08T00:00:00\", \"2016-02-09T00:00:00\", \"2016-02-10T00:00:00\", \"2016-02-11T00:00:00\", \"2016-02-12T00:00:00\", \"2016-02-13T00:00:00\", \"2016-02-14T00:00:00\", \"2016-02-15T00:00:00\", \"2016-02-16T00:00:00\", \"2016-02-17T00:00:00\", \"2016-02-18T00:00:00\", \"2016-02-19T00:00:00\", \"2016-02-20T00:00:00\", \"2016-02-21T00:00:00\", \"2016-02-22T00:00:00\", \"2016-02-23T00:00:00\", \"2016-02-24T00:00:00\", \"2016-02-25T00:00:00\", \"2016-02-26T00:00:00\", \"2016-02-27T00:00:00\", \"2016-02-28T00:00:00\", \"2016-02-29T00:00:00\", \"2016-03-01T00:00:00\", \"2016-03-02T00:00:00\", \"2016-03-03T00:00:00\", \"2016-03-04T00:00:00\", \"2016-03-05T00:00:00\", \"2016-03-06T00:00:00\", \"2016-03-07T00:00:00\", \"2016-03-08T00:00:00\", \"2016-03-09T00:00:00\", \"2016-03-10T00:00:00\", \"2016-03-11T00:00:00\", \"2016-03-12T00:00:00\", \"2016-03-13T00:00:00\", \"2016-03-14T00:00:00\", \"2016-03-15T00:00:00\", \"2016-03-16T00:00:00\", \"2016-03-17T00:00:00\", \"2016-03-18T00:00:00\", \"2016-03-19T00:00:00\", \"2016-03-20T00:00:00\", \"2016-03-21T00:00:00\", \"2016-03-22T00:00:00\", \"2016-03-23T00:00:00\", \"2016-03-24T00:00:00\", \"2016-03-25T00:00:00\", \"2016-03-26T00:00:00\", \"2016-03-27T00:00:00\", \"2016-03-28T00:00:00\", \"2016-03-29T00:00:00\", \"2016-03-30T00:00:00\", \"2016-03-31T00:00:00\", \"2016-04-01T00:00:00\", \"2016-04-02T00:00:00\", \"2016-04-03T00:00:00\", \"2016-04-04T00:00:00\", \"2016-04-05T00:00:00\", \"2016-04-06T00:00:00\", \"2016-04-07T00:00:00\", \"2016-04-08T00:00:00\", \"2016-04-09T00:00:00\", \"2016-04-10T00:00:00\", \"2016-04-11T00:00:00\", \"2016-04-12T00:00:00\", \"2016-04-13T00:00:00\", \"2016-04-14T00:00:00\", \"2016-04-15T00:00:00\", \"2016-04-16T00:00:00\", \"2016-04-17T00:00:00\", \"2016-04-18T00:00:00\", \"2016-04-19T00:00:00\", \"2016-04-20T00:00:00\", \"2016-04-21T00:00:00\", \"2016-04-22T00:00:00\", \"2016-04-23T00:00:00\", \"2016-04-24T00:00:00\", \"2016-04-25T00:00:00\", \"2016-04-26T00:00:00\", \"2016-04-27T00:00:00\", \"2016-04-28T00:00:00\", \"2016-04-29T00:00:00\", \"2016-04-30T00:00:00\", \"2016-05-01T00:00:00\", \"2016-05-02T00:00:00\", \"2016-05-03T00:00:00\", \"2016-05-04T00:00:00\", \"2016-05-05T00:00:00\", \"2016-05-06T00:00:00\", \"2016-05-07T00:00:00\", \"2016-05-08T00:00:00\", \"2016-05-09T00:00:00\", \"2016-05-10T00:00:00\", \"2016-05-11T00:00:00\", \"2016-05-12T00:00:00\", \"2016-05-13T00:00:00\", \"2016-05-14T00:00:00\", \"2016-05-15T00:00:00\", \"2016-05-16T00:00:00\", \"2016-05-17T00:00:00\", \"2016-05-18T00:00:00\", \"2016-05-19T00:00:00\", \"2016-05-20T00:00:00\", \"2016-05-21T00:00:00\", \"2016-05-22T00:00:00\", \"2016-05-23T00:00:00\", \"2016-05-24T00:00:00\", \"2016-05-25T00:00:00\", \"2016-05-26T00:00:00\", \"2016-05-27T00:00:00\", \"2016-05-28T00:00:00\", \"2016-05-29T00:00:00\", \"2016-05-30T00:00:00\", \"2016-05-31T00:00:00\", \"2016-06-01T00:00:00\", \"2016-06-02T00:00:00\", \"2016-06-03T00:00:00\", \"2016-06-04T00:00:00\", \"2016-06-05T00:00:00\", \"2016-06-06T00:00:00\", \"2016-06-07T00:00:00\", \"2016-06-08T00:00:00\", \"2016-06-09T00:00:00\", \"2016-06-10T00:00:00\", \"2016-06-11T00:00:00\", \"2016-06-12T00:00:00\", \"2016-06-13T00:00:00\", \"2016-06-14T00:00:00\", \"2016-06-15T00:00:00\", \"2016-06-16T00:00:00\", \"2016-06-17T00:00:00\", \"2016-06-18T00:00:00\", \"2016-06-19T00:00:00\", \"2016-06-20T00:00:00\", \"2016-06-21T00:00:00\", \"2016-06-22T00:00:00\", \"2016-06-23T00:00:00\", \"2016-06-24T00:00:00\", \"2016-06-25T00:00:00\", \"2016-06-26T00:00:00\", \"2016-06-27T00:00:00\", \"2016-06-28T00:00:00\", \"2016-06-29T00:00:00\", \"2016-06-30T00:00:00\", \"2016-07-01T00:00:00\", \"2016-07-02T00:00:00\", \"2016-07-03T00:00:00\", \"2016-07-04T00:00:00\", \"2016-07-05T00:00:00\", \"2016-07-06T00:00:00\", \"2016-07-07T00:00:00\", \"2016-07-08T00:00:00\", \"2016-07-09T00:00:00\", \"2016-07-10T00:00:00\", \"2016-07-11T00:00:00\", \"2016-07-12T00:00:00\", \"2016-07-13T00:00:00\", \"2016-07-14T00:00:00\", \"2016-07-15T00:00:00\", \"2016-07-16T00:00:00\", \"2016-07-17T00:00:00\", \"2016-07-18T00:00:00\", \"2016-07-19T00:00:00\", \"2016-07-20T00:00:00\", \"2016-07-21T00:00:00\", \"2016-07-22T00:00:00\", \"2016-07-23T00:00:00\", \"2016-07-24T00:00:00\", \"2016-07-25T00:00:00\", \"2016-07-26T00:00:00\", \"2016-07-27T00:00:00\", \"2016-07-28T00:00:00\", \"2016-07-29T00:00:00\", \"2016-07-30T00:00:00\", \"2016-07-31T00:00:00\", \"2016-08-01T00:00:00\", \"2016-08-02T00:00:00\", \"2016-08-03T00:00:00\", \"2016-08-04T00:00:00\", \"2016-08-05T00:00:00\", \"2016-08-06T00:00:00\", \"2016-08-07T00:00:00\", \"2016-08-08T00:00:00\", \"2016-08-09T00:00:00\", \"2016-08-10T00:00:00\", \"2016-08-11T00:00:00\", \"2016-08-12T00:00:00\", \"2016-08-13T00:00:00\", \"2016-08-14T00:00:00\", \"2016-08-15T00:00:00\", \"2016-08-16T00:00:00\", \"2016-08-17T00:00:00\", \"2016-08-18T00:00:00\", \"2016-08-19T00:00:00\", \"2016-08-20T00:00:00\", \"2016-08-21T00:00:00\", \"2016-08-22T00:00:00\", \"2016-08-23T00:00:00\", \"2016-08-24T00:00:00\", \"2016-08-25T00:00:00\", \"2016-08-26T00:00:00\", \"2016-08-27T00:00:00\", \"2016-08-28T00:00:00\", \"2016-08-29T00:00:00\", \"2016-08-30T00:00:00\", \"2016-08-31T00:00:00\", \"2016-09-01T00:00:00\", \"2016-09-02T00:00:00\", \"2016-09-03T00:00:00\", \"2016-09-04T00:00:00\", \"2016-09-05T00:00:00\", \"2016-09-06T00:00:00\", \"2016-09-07T00:00:00\", \"2016-09-08T00:00:00\", \"2016-09-09T00:00:00\", \"2016-09-10T00:00:00\", \"2016-09-11T00:00:00\", \"2016-09-12T00:00:00\", \"2016-09-13T00:00:00\", \"2016-09-14T00:00:00\", \"2016-09-15T00:00:00\", \"2016-09-16T00:00:00\", \"2016-09-17T00:00:00\", \"2016-09-18T00:00:00\", \"2016-09-19T00:00:00\", \"2016-09-20T00:00:00\", \"2016-09-21T00:00:00\", \"2016-09-22T00:00:00\", \"2016-09-23T00:00:00\", \"2016-09-24T00:00:00\", \"2016-09-25T00:00:00\", \"2016-09-26T00:00:00\", \"2016-09-27T00:00:00\", \"2016-09-28T00:00:00\", \"2016-09-29T00:00:00\", \"2016-09-30T00:00:00\", \"2016-10-01T00:00:00\", \"2016-10-02T00:00:00\", \"2016-10-03T00:00:00\", \"2016-10-04T00:00:00\", \"2016-10-05T00:00:00\", \"2016-10-06T00:00:00\", \"2016-10-07T00:00:00\", \"2016-10-08T00:00:00\", \"2016-10-09T00:00:00\", \"2016-10-10T00:00:00\", \"2016-10-11T00:00:00\", \"2016-10-12T00:00:00\", \"2016-10-13T00:00:00\", \"2016-10-14T00:00:00\", \"2016-10-15T00:00:00\", \"2016-10-16T00:00:00\", \"2016-10-17T00:00:00\", \"2016-10-18T00:00:00\", \"2016-10-19T00:00:00\", \"2016-10-20T00:00:00\", \"2016-10-21T00:00:00\", \"2016-10-22T00:00:00\", \"2016-10-23T00:00:00\", \"2016-10-24T00:00:00\", \"2016-10-25T00:00:00\", \"2016-10-26T00:00:00\", \"2016-10-27T00:00:00\", \"2016-10-28T00:00:00\", \"2016-10-29T00:00:00\", \"2016-10-30T00:00:00\", \"2016-10-31T00:00:00\", \"2016-11-01T00:00:00\", \"2016-11-02T00:00:00\", \"2016-11-03T00:00:00\", \"2016-11-04T00:00:00\", \"2016-11-05T00:00:00\", \"2016-11-06T00:00:00\", \"2016-11-07T00:00:00\", \"2016-11-08T00:00:00\", \"2016-11-09T00:00:00\", \"2016-11-10T00:00:00\", \"2016-11-11T00:00:00\", \"2016-11-12T00:00:00\", \"2016-11-13T00:00:00\", \"2016-11-14T00:00:00\", \"2016-11-15T00:00:00\", \"2016-11-16T00:00:00\", \"2016-11-17T00:00:00\", \"2016-11-18T00:00:00\", \"2016-11-19T00:00:00\", \"2016-11-20T00:00:00\", \"2016-11-21T00:00:00\", \"2016-11-22T00:00:00\", \"2016-11-23T00:00:00\", \"2016-11-24T00:00:00\", \"2016-11-25T00:00:00\", \"2016-11-26T00:00:00\", \"2016-11-27T00:00:00\", \"2016-11-28T00:00:00\", \"2016-11-29T00:00:00\", \"2016-11-30T00:00:00\", \"2016-12-01T00:00:00\", \"2016-12-02T00:00:00\", \"2016-12-03T00:00:00\", \"2016-12-04T00:00:00\", \"2016-12-05T00:00:00\", \"2016-12-06T00:00:00\", \"2016-12-07T00:00:00\", \"2016-12-08T00:00:00\", \"2016-12-09T00:00:00\", \"2016-12-10T00:00:00\", \"2016-12-11T00:00:00\", \"2016-12-12T00:00:00\", \"2016-12-13T00:00:00\", \"2016-12-14T00:00:00\", \"2016-12-15T00:00:00\", \"2016-12-16T00:00:00\", \"2016-12-17T00:00:00\", \"2016-12-18T00:00:00\", \"2016-12-19T00:00:00\", \"2016-12-20T00:00:00\", \"2016-12-21T00:00:00\", \"2016-12-22T00:00:00\", \"2016-12-23T00:00:00\", \"2016-12-24T00:00:00\", \"2016-12-25T00:00:00\", \"2016-12-26T00:00:00\", \"2016-12-27T00:00:00\", \"2016-12-28T00:00:00\", \"2016-12-29T00:00:00\", \"2016-12-30T00:00:00\", \"2016-12-31T00:00:00\", \"2017-01-01T00:00:00\", \"2017-01-02T00:00:00\", \"2017-01-03T00:00:00\", \"2017-01-04T00:00:00\", \"2017-01-05T00:00:00\", \"2017-01-06T00:00:00\", \"2017-01-07T00:00:00\", \"2017-01-08T00:00:00\", \"2017-01-09T00:00:00\", \"2017-01-10T00:00:00\", \"2017-01-11T00:00:00\", \"2017-01-12T00:00:00\", \"2017-01-13T00:00:00\", \"2017-01-14T00:00:00\", \"2017-01-15T00:00:00\", \"2017-01-16T00:00:00\", \"2017-01-17T00:00:00\", \"2017-01-18T00:00:00\", \"2017-01-19T00:00:00\", \"2017-01-20T00:00:00\", \"2017-01-21T00:00:00\", \"2017-01-22T00:00:00\", \"2017-01-23T00:00:00\", \"2017-01-24T00:00:00\", \"2017-01-25T00:00:00\", \"2017-01-26T00:00:00\", \"2017-01-27T00:00:00\", \"2017-01-28T00:00:00\", \"2017-01-29T00:00:00\", \"2017-01-30T00:00:00\", \"2017-01-31T00:00:00\", \"2017-02-01T00:00:00\", \"2017-02-02T00:00:00\", \"2017-02-03T00:00:00\", \"2017-02-04T00:00:00\", \"2017-02-05T00:00:00\", \"2017-02-06T00:00:00\", \"2017-02-07T00:00:00\", \"2017-02-08T00:00:00\", \"2017-02-09T00:00:00\", \"2017-02-10T00:00:00\", \"2017-02-11T00:00:00\", \"2017-02-12T00:00:00\", \"2017-02-13T00:00:00\", \"2017-02-14T00:00:00\", \"2017-02-15T00:00:00\", \"2017-02-16T00:00:00\", \"2017-02-17T00:00:00\", \"2017-02-18T00:00:00\", \"2017-02-19T00:00:00\", \"2017-02-20T00:00:00\", \"2017-02-21T00:00:00\", \"2017-02-22T00:00:00\", \"2017-02-23T00:00:00\", \"2017-02-24T00:00:00\", \"2017-02-25T00:00:00\", \"2017-02-26T00:00:00\", \"2017-02-27T00:00:00\", \"2017-02-28T00:00:00\"], \"xaxis\": \"x\", \"y\": [8.0, 29.083333333333332, 80.125, 22.875, 134.04166666666666, 229.54166666666666, 238.0, 210.625, 66.0, 38.083333333333336, 139.95833333333334, 134.375, 21.708333333333332, 104.375, 225.08333333333334, 248.08333333333334, 284.9166666666667, 70.79166666666667, 35.458333333333336, 53.708333333333336, 133.375, 84.79166666666667, 55.166666666666664, 19.583333333333332, 104.625, 181.375, 89.375, 25.666666666666668, 75.33333333333333, 89.04166666666667, 185.29166666666666, 100.79166666666667, 110.54166666666667, 145.16666666666666, 70.625, 69.33333333333333, 13.125, 85.08333333333333, 25.208333333333332, 10.375, 12.25, 18.75, 49.708333333333336, 50.708333333333336, 34.333333333333336, 75.70833333333333, 51.291666666666664, 47.625, 7.083333333333333, 45.458333333333336, 71.66666666666667, 125.04166666666667, 177.375, 203.79166666666666, 112.5, 15.083333333333334, 79.33333333333333, 62.375, 72.70833333333333, 20.791666666666668, 32.416666666666664, 44.958333333333336, 80.375, 64.95833333333333, 107.5, 181.95833333333334, 232.95833333333334, 176.16666666666666, 158.375, 57.958333333333336, 49.625, 53.833333333333336, 39.625, 89.08333333333333, 55.208333333333336, 75.04166666666667, 60.875, 115.0, 133.95833333333334, 66.20833333333333, 53.833333333333336, 128.58333333333334, 94.91666666666667, 104.33333333333333, 106.29166666666667, 72.04166666666667, 109.25, 74.66666666666667, 91.5, 24.208333333333332, 65.83333333333333, 113.20833333333333, 88.16666666666667, 185.83333333333334, 158.20833333333334, 145.79166666666666, 142.625, 159.125, 154.125, 186.66666666666666, 51.166666666666664, 25.041666666666668, 60.791666666666664, 63.25, 124.95833333333333, 118.45833333333333, 141.20833333333334, 192.70833333333334, 66.04166666666667, 48.375, 62.958333333333336, 58.166666666666664, 49.708333333333336, 56.666666666666664, 51.375, 119.54166666666667, 123.91666666666667, 169.45833333333334, 105.5, 315.125, 119.0, 255.45833333333334, 225.54166666666666, 19.125, 40.458333333333336, 30.083333333333332, 27.333333333333332, 53.958333333333336, 86.375, 100.875, 92.04166666666667, 34.583333333333336, 44.166666666666664, 81.375, 147.125, 128.91666666666666, 45.083333333333336, 25.895833333333332, 43.5, 144.0, 134.875, 64.125, 81.08333333333333, 89.91666666666667, 48.125, 44.125, 48.125, 59.75, 115.83333333333333, 67.79166666666667, 64.5, 107.54166666666667, 50.916666666666664, 43.416666666666664, 73.25, 28.708333333333332, 77.54166666666667, 52.0, 131.875, 37.25, 33.583333333333336, 51.375, 97.0, 128.625, 49.958333333333336, 91.83333333333333, 76.27083333333333, 132.875, 133.5, 52.625, 18.458333333333332, 28.666666666666668, 95.5, 117.375, 123.125, 49.291666666666664, 40.416666666666664, 42.958333333333336, 57.5, 76.04166666666667, 76.875, 27.666666666666668, 10.041666666666666, 22.541666666666668, 50.5, 51.791666666666664, 104.5, 69.5, 25.333333333333332, 68.54166666666667, 83.70833333333333, 94.95833333333333, 80.41666666666667, 54.958333333333336, 64.33333333333333, 158.20833333333334, 82.83333333333333, 45.375, 31.291666666666668, 58.125, 96.66666666666667, 117.45833333333333, 123.20833333333333, 48.125, 38.958333333333336, 71.625, 34.041666666666664, 12.458333333333334, 17.166666666666668, 46.041666666666664, 153.54166666666666, 274.0833333333333, 250.125, 196.75, 101.04166666666667, 18.666666666666668, 70.125, 135.66666666666666, 313.625, 260.625, 102.04166666666667, 65.04166666666667, 145.66666666666666, 83.66666666666667, 52.208333333333336, 76.79166666666667, 55.625, 39.166666666666664, 26.958333333333332, 58.291666666666664, 128.04166666666666, 233.625, 76.91666666666667, 29.791666666666668, 81.625, 141.04166666666666, 38.208333333333336, 23.416666666666668, 45.208333333333336, 76.375, 173.04166666666666, 287.2916666666667, 42.625, 86.0, 150.95833333333334, 183.29166666666666, 259.2916666666667, 54.958333333333336, 48.666666666666664, 151.85416666666666, 108.91666666666667, 40.083333333333336, 122.25, 107.5, 22.875, 40.666666666666664, 67.79166666666667, 158.29166666666666, 76.66666666666667, 124.25, 48.0, 15.625, 17.208333333333332, 37.75, 84.5, 119.0, 180.04166666666666, 235.91666666666666, 99.66666666666667, 16.541666666666668, 20.541666666666668, 9.25, 27.25, 95.54166666666667, 46.208333333333336, 78.58333333333333, 141.83333333333334, 87.25, 120.875, 52.625, 138.29166666666666, 283.4166666666667, 207.54166666666666, 13.541666666666666, 34.25, 29.875, 23.541666666666668, 64.79166666666667, 80.75, 69.66666666666667, 135.41666666666666, 82.16666666666667, 61.666666666666664, 70.54166666666667, 78.08333333333333, 105.625, 187.625, 189.58333333333334, 268.625, 273.875, 28.083333333333332, 37.416666666666664, 33.958333333333336, 109.91666666666667, 69.95833333333333, 69.25, 69.125, 152.04166666666666, 54.458333333333336, 127.04166666666667, 98.08333333333333, 136.375, 111.25, 15.041666666666666, 28.583333333333332, 83.29166666666667, 136.29166666666666, 25.833333333333332, 98.70833333333333, 107.54166666666667, 186.0, 360.1666666666667, 207.33333333333334, 113.91666666666667, 120.79166666666667, 9.208333333333334, 45.333333333333336, 126.875, 219.41666666666666, 185.375, 30.041666666666668, 60.458333333333336, 95.54166666666667, 43.375, 127.75, 81.125, 155.29166666666666, 145.83333333333334, 77.29166666666667, 5.666666666666667, 28.166666666666668, 98.04166666666667, 131.33333333333334, 98.83333333333333, 61.083333333333336, 8.875, 30.541666666666668, 113.85416666666667, 121.95833333333333, 211.16666666666666, 287.125, 417.875, 322.375, 78.5, 65.35416666666667, 68.625, 218.79166666666666, 305.4166666666667, 284.8333333333333, 208.16666666666666, 274.3541666666667, 400.2083333333333, 356.2083333333333, 16.5, 106.91666666666667, 76.08333333333333, 143.33333333333334, 235.04166666666666, 67.20833333333333, 24.666666666666668, 17.958333333333332, 51.75, 136.45833333333334, 100.625, 85.875, 161.0, 8.791666666666666, 19.166666666666668, 21.166666666666668, 92.58333333333333, 112.33333333333333, 90.125, 35.583333333333336, 44.416666666666664, 11.541666666666666, 28.958333333333332, 51.208333333333336, 127.875, 224.70833333333334, 213.70833333333334, 287.4166666666667, 270.4166666666667, 122.95833333333333, 35.479166666666664, 35.041666666666664, 127.41666666666667, 125.20833333333333, 108.79166666666667, 21.75, 32.291666666666664, 22.791666666666668, 58.208333333333336, 97.54166666666667, 180.95833333333334, 125.0, 82.29166666666667, 60.833333333333336, 93.875, 164.54166666666666, 241.66666666666666, 94.10416666666667, 44.791666666666664, 88.58333333333333, 161.29166666666666, 64.125, 76.125, 62.833333333333336, 64.83333333333333, 124.0, 114.95833333333333, 118.58333333333333, 34.875, 52.458333333333336, 62.916666666666664, 90.5, 102.95833333333333, 118.125, 17.291666666666668, 34.041666666666664, 27.958333333333332, 20.625, 81.41666666666667, 96.08333333333333, 71.27083333333333, 61.708333333333336, 50.416666666666664, 27.416666666666668, 36.125, 51.791666666666664, 17.958333333333332, 64.75, 60.958333333333336, 61.791666666666664, 83.79166666666667, 104.70833333333333, 83.16666666666667, 112.19166666666666, 142.88333333333333, 78.45833333333333, 81.0, 65.625, 20.208333333333332, 32.291666666666664, 34.645833333333336, 44.125, 86.91666666666667, 105.08333333333333, 41.416666666666664, 31.541666666666668, 37.5, 63.395833333333336, 59.25, 55.416666666666664, 11.875, 24.75, 30.708333333333332, 70.79166666666667, 51.25, 25.125, 38.895833333333336, 42.041666666666664, 109.29166666666667, 124.04166666666667, 85.58333333333333, 65.83333333333333, 114.375, 41.875, 65.41666666666667, 28.25, 27.916666666666668, 49.208333333333336, 100.79166666666667, 127.0, 27.979166666666668, 26.208333333333332, 44.75, 71.95833333333333, 107.95833333333333, 61.375, 176.125, 199.375, 107.875, 194.0, 170.625, 95.79166666666667, 26.166666666666668, 35.208333333333336, 30.125, 14.625, 19.875, 32.791666666666664, 49.708333333333336, 105.25, 132.33333333333334, 151.375, 78.79166666666667, 67.125, 28.25, 12.625, 31.041666666666668, 69.5, 63.916666666666664, 96.33333333333333, 109.08333333333333, 122.0, 112.70833333333333, 125.91666666666667, 199.29166666666666, 161.83333333333334, 151.58333333333334, 128.75, 31.416666666666668, 27.541666666666668, 34.291666666666664, 64.66666666666667, 63.770833333333336, 85.66666666666667, 33.708333333333336, 22.583333333333332, 27.291666666666668, 27.8875, 30.291666666666668, 34.916666666666664, 53.583333333333336, 46.25, 61.875, 89.375, 115.79583333333333, 132.36666666666667, 53.291666666666664, 105.70833333333333, 15.416666666666666, 21.333333333333332, 30.208333333333332, 53.0, 79.29166666666667, 66.79166666666667, 134.66666666666666, 62.25, 97.09166666666665, 19.708333333333332, 16.583333333333332, 43.416666666666664, 88.29166666666667, 142.79166666666666, 149.625, 13.291666666666666, 30.1875, 62.0625, 86.79166666666667, 63.25, 64.91666666666667, 42.208333333333336, 20.791666666666668, 36.166666666666664, 52.125, 64.58333333333333, 75.75, 122.79166666666667, 113.0, 98.33333333333333, 42.958333333333336, 29.458333333333332, 117.375, 124.79166666666667, 28.958333333333332, 55.541666666666664, 56.208333333333336, 24.791666666666668, 66.75, 55.833333333333336, 86.83333333333333, 79.66666666666667, 34.583333333333336, 32.5, 123.875, 252.83333333333334, 356.6041666666667, 348.125, 238.41666666666666, 6.333333333333333, 17.291666666666668, 52.083333333333336, 37.625, 36.104166666666664, 94.125, 159.625, 279.74404761904765, 248.94345238095238, 39.041666666666664, 75.16666666666667, 126.0, 223.66666666666666, 310.4583333333333, 74.72916666666667, 22.666666666666668, 59.25, 105.79166666666667, 156.375, 153.16666666666666, 55.916666666666664, 6.654166666666666, 26.020833333333332, 95.02083333333333, 61.625, 9.416666666666666, 42.791666666666664, 72.54166666666667, 70.20833333333333, 83.70833333333333, 28.0, 4.291666666666667, 20.416666666666668, 39.0, 102.54166666666667, 59.75, 25.041666666666668, 86.125, 222.79166666666666, 313.9583333333333, 223.875, 34.0, 124.83333333333333, 86.95833333333333, 156.33333333333334, 226.66666666666666, 100.70833333333333, 85.20833333333333, 215.95833333333334, 96.16666666666667, 12.875, 48.666666666666664, 20.0, 6.375, 32.75, 59.958333333333336, 64.5, 68.45833333333333, 208.41666666666666, 124.33333333333333, 21.083333333333332, 6.958333333333333, 44.583333333333336, 103.625, 54.5, 5.5, 71.16666666666667, 149.51190476190476, 49.98809523809524, 7.875, 13.625, 82.70833333333333, 86.08333333333333, 10.541666666666666, 30.6875, 108.45833333333333, 208.8125, 123.10416666666667, 87.0, 20.083333333333332, 4.666666666666667, 34.458333333333336, 56.875, 121.22916666666667, 191.125, 136.5, 33.041666666666664, 68.83333333333333, 134.0, 82.5, 154.58333333333334, 41.958333333333336, 155.41666666666666, 166.75, 192.83333333333334, 326.7083333333333, 93.95833333333333, 69.41666666666667, 67.89999999999999, 36.166666666666664, 91.16666666666667, 14.958333333333334, 97.5, 197.58333333333334, 101.625, 121.125, 96.125, 15.458333333333334, 32.75, 61.75, 11.958333333333334, 34.583333333333336, 90.16666666666667, 126.29166666666667, 104.95833333333333, 10.458333333333334, 29.625, 70.5, 14.208333333333334, 26.458333333333332, 110.25, 131.66666666666666, 39.0, 32.916666666666664, 123.16666666666667, 215.125, 264.1666666666667, 128.33333333333334, 23.041666666666668, 49.666666666666664, 234.875, 139.58333333333334, 149.5, 39.166666666666664, 61.541666666666664, 167.75, 82.41666666666667, 12.208333333333334, 22.5, 122.75, 31.541666666666668, 51.541666666666664, 7.458333333333333, 23.270833333333332, 101.04166666666667, 200.66666666666666, 217.58333333333334, 126.04166666666667, 9.0, 33.75, 42.75, 71.625, 72.58333333333333, 101.79166666666667, 99.0, 207.58333333333334, 184.04166666666666, 38.75, 85.20833333333333, 43.291666666666664, 16.458333333333332, 20.916666666666668, 36.75, 75.25, 122.54166666666667, 100.29166666666667, 99.75, 58.625, 63.583333333333336, 147.41666666666666, 124.22291666666666, 53.25, 31.75, 28.791666666666668, 59.875, 51.770833333333336, 20.875, 25.958333333333332, 97.625, 168.70833333333334, 147.75, 132.20833333333334, 13.041666666666666, 27.125, 58.333333333333336, 122.04166666666667, 31.458333333333332, 112.39583333333333, 130.45833333333334, 69.04166666666667, 75.28993055555556, 62.98090277777777, 46.875, 55.5, 61.416666666666664, 83.125, 104.45833333333333, 86.04166666666667, 47.625, 112.45833333333333, 111.45833333333333, 117.5, 45.625, 47.083333333333336, 26.416666666666668, 52.0, 22.791666666666668, 53.875, 54.916666666666664, 42.625, 38.708333333333336, 25.875, 22.208333333333332, 66.95833333333333, 18.708333333333332, 21.791666666666668, 46.833333333333336, 137.41666666666666, 51.375, 9.083333333333334, 15.375, 35.541666666666664, 50.854166666666664, 105.08333333333333, 125.41666666666667, 111.41666666666667, 88.16666666666667, 93.5, 109.83333333333333, 68.04166666666667, 55.125, 54.416666666666664, 86.54166666666667, 35.083333333333336, 39.958333333333336, 52.208333333333336, 47.041666666666664, 31.375, 14.916666666666666, 21.666666666666668, 53.916666666666664, 78.20833333333333, 19.3125, 6.416666666666667, 11.25, 19.0, 86.16666666666667, 96.52083333333333, 49.708333333333336, 16.479166666666668, 11.541666666666666, 20.125, 41.458333333333336, 88.41666666666667, 180.04166666666666, 120.625, 127.5, 109.08333333333333, 89.375, 149.41666666666666, 124.79166666666667, 15.375, 18.166666666666668, 11.0, 27.541666666666668, 34.75, 70.25, 72.33333333333333, 65.875, 118.75, 80.625, 55.791666666666664, 108.41666666666667, 138.3101851851852, 73.08564814814815, 38.0, 36.458333333333336, 41.166666666666664, 34.708333333333336, 46.333333333333336, 70.04166666666667, 93.91666666666667, 141.41666666666666, 72.16666666666667, 42.75, 47.416666666666664, 84.66666666666667, 103.16666666666667, 85.875, 54.25, 73.66666666666667, 47.333333333333336, 27.291666666666668, 60.083333333333336, 84.04166666666667, 74.625, 19.625, 75.52083333333333, 50.291666666666664, 98.29166666666667, 37.291666666666664, 55.166666666666664, 46.541666666666664, 94.875, 77.41666666666667, 121.33333333333333, 65.04166666666667, 26.125, 38.729166666666664, 82.33333333333333, 48.458333333333336, 50.75, 35.75, 14.479166666666666, 17.104166666666668, 27.541666666666668, 13.916666666666666, 13.041666666666666, 13.125, 12.083333333333334, 17.458333333333332, 30.083333333333332, 30.833333333333332, 26.416666666666668, 10.25, 9.5, 13.958333333333334, 47.583333333333336, 18.125, 16.833333333333332, 23.708333333333332, 47.291666666666664, 37.916666666666664, 7.145833333333333, 8.291666666666666, 8.75, 19.291666666666668, 59.583333333333336, 106.29166666666667, 123.625, 143.45833333333334, 81.08333333333333, 25.708333333333332, 77.0, 106.5, 136.66666666666666, 28.708333333333332, 100.20833333333333, 18.645833333333332, 37.958333333333336, 49.333333333333336, 46.75, 46.5, 26.083333333333332, 11.25, 23.208333333333332, 26.833333333333332, 98.29166666666667, 196.29166666666666, 272.625, 281.75, 8.125, 12.375, 5.083333333333333, 6.166666666666667, 15.541666666666666, 33.833333333333336, 86.70833333333333, 103.33333333333333, 180.75, 292.8333333333333, 40.458333333333336, 24.916666666666668, 72.91666666666667, 48.083333333333336, 27.458333333333332, 49.25, 54.666666666666664, 29.25, 32.625, 11.0, 6.791666666666667, 8.041666666666666, 21.875, 44.083333333333336, 66.4375, 81.20833333333333, 138.29166666666666, 213.375, 117.625, 19.541666666666668, 18.0, 53.458333333333336, 114.75, 122.5, 94.79166666666667, 141.54166666666666, 215.70833333333334, 273.0, 192.41666666666666, 50.333333333333336, 60.666666666666664, 65.04166666666667, 71.58333333333333, 57.979166666666664, 35.229166666666664, 48.333333333333336, 27.979166666666668, 32.75, 56.25, 36.166666666666664, 157.20833333333334, 237.5, 276.9166666666667, 318.5, 481.125, 5.729166666666667, 7.75, 27.458333333333332, 62.666666666666664, 114.95833333333333, 188.41666666666666, 257.125, 225.04166666666666, 106.375, 51.958333333333336, 101.70833333333333, 181.83333333333334, 137.79166666666666, 4.625, 6.541666666666667, 65.625, 67.4375, 123.08333333333333, 171.70833333333334, 246.375, 302.875, 297.7083333333333, 98.125, 466.375, 317.375, 41.083333333333336, 125.91666666666667, 230.16666666666666, 55.666666666666664, 69.29166666666667, 158.45833333333334, 226.08333333333334, 286.0416666666667, 44.916666666666664, 35.666666666666664, 35.166666666666664, 10.541666666666666, 34.666666666666664, 73.54166666666667, 53.833333333333336, 9.041666666666666, 12.416666666666666, 21.666666666666668, 76.25, 86.58333333333333, 122.66666666666667, 42.75, 7.541666666666667, 61.416666666666664, 107.79166666666667, 142.58333333333334, 14.958333333333334, 7.791666666666667, 11.458333333333334, 24.25, 32.375, 100.375, 113.58333333333333, 56.083333333333336, 58.208333333333336, 10.083333333333334, 14.666666666666666, 32.416666666666664, 38.354166666666664, 10.291666666666666, 9.875, 27.958333333333332, 35.166666666666664, 241.33333333333334, 35.125, 93.04166666666667, 139.70833333333334, 146.70833333333334, 8.666666666666666, 5.916666666666667, 6.291666666666667, 5.375, 42.541666666666664, 13.333333333333334, 15.75, 13.083333333333334, 71.66666666666667, 72.125, 7.75, 24.625, 22.375, 34.916666666666664, 19.833333333333332, 31.833333333333332, 32.416666666666664, 118.33333333333333, 159.91666666666666, 277.0, 347.2916666666667, 69.95833333333333, 74.91666666666667, 34.125, 9.458333333333334, 9.541666666666666, 8.916666666666666, 21.041666666666668, 108.95833333333333, 28.041666666666668, 72.16666666666667, 141.5625, 245.35416666666666, 309.3125, 215.125, 61.458333333333336, 63.416666666666664, 117.66666666666667, 106.79166666666667, 21.3125, 13.416666666666666, 17.833333333333332, 12.583333333333334, 16.041666666666668, 70.70833333333333, 20.916666666666668, 28.291666666666668, 141.125, 31.333333333333332, 6.5, 18.041666666666668, 64.875, 110.79166666666667, 129.45833333333334, 85.33333333333333, 21.708333333333332, 65.375, 44.666666666666664, 34.333333333333336, 69.83333333333333, 100.125, 23.833333333333332, 54.75, 33.75, 15.6875, 29.458333333333332, 67.45833333333333, 61.354166666666664, 88.27083333333333, 25.083333333333332, 17.666666666666668, 73.95833333333333, 85.58333333333333, 70.70833333333333, 82.39583333333333, 80.125, 113.66666666666667, 153.33333333333334, 188.29166666666666, 43.708333333333336, 18.875, 27.916666666666668, 50.25, 63.5, 19.625, 52.0, 31.916666666666668, 37.666666666666664, 157.08333333333334, 38.020833333333336, 35.0, 37.333333333333336, 36.541666666666664, 22.25, 54.041666666666664, 58.583333333333336, 81.66666666666667, 92.33333333333333, 72.95833333333333, 49.541666666666664, 62.958333333333336, 23.979166666666668, 11.166666666666666, 26.104166666666668, 45.5625, 40.583333333333336, 28.916666666666668, 77.5, 44.416666666666664, 30.416666666666668, 45.083333333333336, 79.54166666666667, 84.125, 72.70833333333333, 85.16666666666667, 55.0, 123.875, 111.0, 49.354166666666664, 8.916666666666666, 64.625, 45.25, 37.416666666666664, 21.333333333333332, 29.75, 26.208333333333332, 39.291666666666664, 61.375, 89.54166666666667, 84.45833333333333, 51.458333333333336, 84.16666666666667, 12.75, 15.625, 37.125, 56.5, 69.95833333333333, 115.41666666666667, 62.125, 13.708333333333334, 46.0, 81.25, 122.33333333333333, 96.875, 76.75, 110.0, 93.45833333333333, 78.0, 87.125, 83.33333333333333, 31.291666666666668, 21.458333333333332, 37.583333333333336, 37.25, 38.458333333333336, 74.29166666666667, 119.41666666666667, 91.875, 40.125, 27.791666666666668, 78.625, 150.58333333333334, 98.91666666666667, 73.16666666666667, 16.708333333333332, 44.958333333333336, 46.375, 109.66666666666667, 115.66666666666667, 53.708333333333336, 72.79166666666667, 53.625, 52.541666666666664, 99.58333333333333, 60.083333333333336, 94.79166666666667, 15.458333333333334, 29.666666666666668, 42.958333333333336, 73.125, 87.33333333333333, 64.20833333333333, 23.291666666666668, 20.708333333333332, 15.833333333333334, 22.333333333333332, 57.041666666666664, 76.25, 18.083333333333332, 54.9375, 48.958333333333336, 45.916666666666664, 73.625, 86.625, 15.083333333333334, 7.333333333333333, 13.583333333333334, 9.5, 18.375, 29.833333333333332, 17.833333333333332, 7.25, 12.875, 18.666666666666668, 79.70833333333333, 25.875, 20.354166666666668, 43.625, 19.916666666666668, 17.041666666666668, 16.416666666666668, 29.583333333333332, 35.833333333333336, 79.66666666666667, 92.45833333333333, 61.875, 129.91666666666666, 43.0, 20.541666666666668, 10.583333333333334, 20.083333333333332, 64.625, 104.25, 110.25, 117.20833333333333, 165.0, 53.958333333333336, 23.791666666666668, 15.0, 50.5, 103.29166666666667, 166.625, 193.33333333333334, 138.25, 34.291666666666664, 48.541666666666664, 74.41666666666667, 36.916666666666664, 9.125, 26.875, 82.0, 106.16666666666667, 71.75, 139.875, 237.95833333333334, 196.91666666666666, 109.04166666666667, 59.458333333333336, 126.375, 227.875, 90.29166666666667, 43.208333333333336, 14.208333333333334, 24.458333333333332, 50.916666666666664, 89.75, 43.083333333333336, 30.0, 9.666666666666666, 23.5, 42.895833333333336, 5.5, 39.916666666666664, 104.54166666666667, 180.04166666666666, 256.1666666666667, 182.29166666666666, 68.25, 37.416666666666664, 36.625, 148.875, 156.91666666666666, 75.08333333333333, 77.25, 88.0, 39.416666666666664, 37.166666666666664, 91.70833333333333, 90.125, 187.0, 140.75, 55.708333333333336, 9.625, 7.0, 15.25, 67.95833333333333, 171.75, 274.7916666666667, 53.541666666666664, 60.083333333333336, 115.25, 95.33333333333333, 33.125, 99.66666666666667, 149.66666666666666, 250.16666666666666, 43.75, 75.0, 120.91666666666667, 89.45833333333333, 22.791666666666668, 52.083333333333336, 142.91666666666666, 221.0, 68.79166666666667, 27.208333333333332, 26.25, 100.54166666666667, 179.54166666666666, 205.375, 224.79166666666666, 355.625, 383.0, 59.041666666666664, 32.75, 118.29166666666667, 148.66666666666666, 43.916666666666664, 39.270833333333336, 66.33333333333333, 56.479166666666664, 194.5, 291.4583333333333, 481.2916666666667, 193.0, 284.1666666666667, 396.4583333333333, 225.20833333333334, 190.04166666666666, 154.375, 33.458333333333336, 34.041666666666664, 26.541666666666668, 62.041666666666664, 49.875, 12.0, 23.625, 51.291666666666664, 101.45833333333333, 137.5, 41.5, 46.458333333333336, 22.666666666666668, 24.5, 27.958333333333332, 28.25, 86.20833333333333, 166.60416666666666, 148.66666666666666, 61.333333333333336, 343.375, 35.083333333333336, 24.916666666666668, 73.625, 39.416666666666664, 93.5, 162.54166666666666, 236.66666666666666, 13.25, 14.291666666666666, 83.54166666666667, 33.125, 5.4375, 5.375, 45.583333333333336, 99.75, 78.70833333333333, 187.20833333333334, 241.25, 117.35416666666667, 21.333333333333332, 87.33333333333333, 97.41666666666667, 10.479166666666666, 58.020833333333336, 72.33333333333333, 15.916666666666666, 21.458333333333332, 8.25, 27.125, 64.0, 9.958333333333334], \"yaxis\": \"y\"}],\n",
              "                        {\"legend\": {\"tracegroupgap\": 0}, \"template\": {\"data\": {\"bar\": [{\"error_x\": {\"color\": \"#2a3f5f\"}, \"error_y\": {\"color\": \"#2a3f5f\"}, \"marker\": {\"line\": {\"color\": \"#E5ECF6\", \"width\": 0.5}}, \"type\": \"bar\"}], \"barpolar\": [{\"marker\": {\"line\": {\"color\": \"#E5ECF6\", \"width\": 0.5}}, \"type\": \"barpolar\"}], \"carpet\": [{\"aaxis\": {\"endlinecolor\": \"#2a3f5f\", \"gridcolor\": \"white\", \"linecolor\": \"white\", \"minorgridcolor\": \"white\", \"startlinecolor\": \"#2a3f5f\"}, \"baxis\": {\"endlinecolor\": \"#2a3f5f\", \"gridcolor\": \"white\", \"linecolor\": \"white\", \"minorgridcolor\": \"white\", \"startlinecolor\": \"#2a3f5f\"}, \"type\": \"carpet\"}], \"choropleth\": [{\"colorbar\": {\"outlinewidth\": 0, \"ticks\": \"\"}, \"type\": \"choropleth\"}], \"contour\": [{\"colorbar\": {\"outlinewidth\": 0, \"ticks\": \"\"}, \"colorscale\": [[0.0, \"#0d0887\"], [0.1111111111111111, \"#46039f\"], [0.2222222222222222, \"#7201a8\"], [0.3333333333333333, \"#9c179e\"], [0.4444444444444444, \"#bd3786\"], [0.5555555555555556, \"#d8576b\"], [0.6666666666666666, \"#ed7953\"], [0.7777777777777778, \"#fb9f3a\"], [0.8888888888888888, \"#fdca26\"], [1.0, \"#f0f921\"]], \"type\": \"contour\"}], \"contourcarpet\": [{\"colorbar\": {\"outlinewidth\": 0, \"ticks\": \"\"}, \"type\": \"contourcarpet\"}], \"heatmap\": [{\"colorbar\": {\"outlinewidth\": 0, \"ticks\": \"\"}, \"colorscale\": [[0.0, \"#0d0887\"], [0.1111111111111111, \"#46039f\"], [0.2222222222222222, \"#7201a8\"], [0.3333333333333333, \"#9c179e\"], [0.4444444444444444, \"#bd3786\"], [0.5555555555555556, \"#d8576b\"], [0.6666666666666666, \"#ed7953\"], [0.7777777777777778, \"#fb9f3a\"], [0.8888888888888888, \"#fdca26\"], [1.0, \"#f0f921\"]], \"type\": \"heatmap\"}], \"heatmapgl\": [{\"colorbar\": {\"outlinewidth\": 0, \"ticks\": \"\"}, \"colorscale\": [[0.0, \"#0d0887\"], [0.1111111111111111, \"#46039f\"], [0.2222222222222222, \"#7201a8\"], [0.3333333333333333, \"#9c179e\"], [0.4444444444444444, \"#bd3786\"], [0.5555555555555556, \"#d8576b\"], [0.6666666666666666, \"#ed7953\"], [0.7777777777777778, \"#fb9f3a\"], [0.8888888888888888, \"#fdca26\"], [1.0, \"#f0f921\"]], \"type\": \"heatmapgl\"}], \"histogram\": [{\"marker\": {\"colorbar\": {\"outlinewidth\": 0, \"ticks\": \"\"}}, \"type\": \"histogram\"}], \"histogram2d\": [{\"colorbar\": {\"outlinewidth\": 0, \"ticks\": \"\"}, \"colorscale\": [[0.0, \"#0d0887\"], [0.1111111111111111, \"#46039f\"], [0.2222222222222222, \"#7201a8\"], [0.3333333333333333, \"#9c179e\"], [0.4444444444444444, \"#bd3786\"], [0.5555555555555556, \"#d8576b\"], [0.6666666666666666, \"#ed7953\"], [0.7777777777777778, \"#fb9f3a\"], [0.8888888888888888, \"#fdca26\"], [1.0, \"#f0f921\"]], \"type\": \"histogram2d\"}], \"histogram2dcontour\": [{\"colorbar\": {\"outlinewidth\": 0, \"ticks\": \"\"}, \"colorscale\": [[0.0, \"#0d0887\"], [0.1111111111111111, \"#46039f\"], [0.2222222222222222, \"#7201a8\"], [0.3333333333333333, \"#9c179e\"], [0.4444444444444444, \"#bd3786\"], [0.5555555555555556, \"#d8576b\"], [0.6666666666666666, \"#ed7953\"], [0.7777777777777778, \"#fb9f3a\"], [0.8888888888888888, \"#fdca26\"], [1.0, \"#f0f921\"]], \"type\": \"histogram2dcontour\"}], \"mesh3d\": [{\"colorbar\": {\"outlinewidth\": 0, \"ticks\": \"\"}, \"type\": \"mesh3d\"}], \"parcoords\": [{\"line\": {\"colorbar\": {\"outlinewidth\": 0, \"ticks\": \"\"}}, \"type\": \"parcoords\"}], \"pie\": [{\"automargin\": true, \"type\": \"pie\"}], \"scatter\": [{\"marker\": {\"colorbar\": {\"outlinewidth\": 0, \"ticks\": \"\"}}, \"type\": \"scatter\"}], \"scatter3d\": [{\"line\": {\"colorbar\": {\"outlinewidth\": 0, \"ticks\": \"\"}}, \"marker\": {\"colorbar\": {\"outlinewidth\": 0, \"ticks\": \"\"}}, \"type\": \"scatter3d\"}], \"scattercarpet\": [{\"marker\": {\"colorbar\": {\"outlinewidth\": 0, \"ticks\": \"\"}}, \"type\": \"scattercarpet\"}], \"scattergeo\": [{\"marker\": {\"colorbar\": {\"outlinewidth\": 0, \"ticks\": \"\"}}, \"type\": \"scattergeo\"}], \"scattergl\": [{\"marker\": {\"colorbar\": {\"outlinewidth\": 0, \"ticks\": \"\"}}, \"type\": \"scattergl\"}], \"scattermapbox\": [{\"marker\": {\"colorbar\": {\"outlinewidth\": 0, \"ticks\": \"\"}}, \"type\": \"scattermapbox\"}], \"scatterpolar\": [{\"marker\": {\"colorbar\": {\"outlinewidth\": 0, \"ticks\": \"\"}}, \"type\": \"scatterpolar\"}], \"scatterpolargl\": [{\"marker\": {\"colorbar\": {\"outlinewidth\": 0, \"ticks\": \"\"}}, \"type\": \"scatterpolargl\"}], \"scatterternary\": [{\"marker\": {\"colorbar\": {\"outlinewidth\": 0, \"ticks\": \"\"}}, \"type\": \"scatterternary\"}], \"surface\": [{\"colorbar\": {\"outlinewidth\": 0, \"ticks\": \"\"}, \"colorscale\": [[0.0, \"#0d0887\"], [0.1111111111111111, \"#46039f\"], [0.2222222222222222, \"#7201a8\"], [0.3333333333333333, \"#9c179e\"], [0.4444444444444444, \"#bd3786\"], [0.5555555555555556, \"#d8576b\"], [0.6666666666666666, \"#ed7953\"], [0.7777777777777778, \"#fb9f3a\"], [0.8888888888888888, \"#fdca26\"], [1.0, \"#f0f921\"]], \"type\": \"surface\"}], \"table\": [{\"cells\": {\"fill\": {\"color\": \"#EBF0F8\"}, \"line\": {\"color\": \"white\"}}, \"header\": {\"fill\": {\"color\": \"#C8D4E3\"}, \"line\": {\"color\": \"white\"}}, \"type\": \"table\"}]}, \"layout\": {\"annotationdefaults\": {\"arrowcolor\": \"#2a3f5f\", \"arrowhead\": 0, \"arrowwidth\": 1}, \"coloraxis\": {\"colorbar\": {\"outlinewidth\": 0, \"ticks\": \"\"}}, \"colorscale\": {\"diverging\": [[0, \"#8e0152\"], [0.1, \"#c51b7d\"], [0.2, \"#de77ae\"], [0.3, \"#f1b6da\"], [0.4, \"#fde0ef\"], [0.5, \"#f7f7f7\"], [0.6, \"#e6f5d0\"], [0.7, \"#b8e186\"], [0.8, \"#7fbc41\"], [0.9, \"#4d9221\"], [1, \"#276419\"]], \"sequential\": [[0.0, \"#0d0887\"], [0.1111111111111111, \"#46039f\"], [0.2222222222222222, \"#7201a8\"], [0.3333333333333333, \"#9c179e\"], [0.4444444444444444, \"#bd3786\"], [0.5555555555555556, \"#d8576b\"], [0.6666666666666666, \"#ed7953\"], [0.7777777777777778, \"#fb9f3a\"], [0.8888888888888888, \"#fdca26\"], [1.0, \"#f0f921\"]], \"sequentialminus\": [[0.0, \"#0d0887\"], [0.1111111111111111, \"#46039f\"], [0.2222222222222222, \"#7201a8\"], [0.3333333333333333, \"#9c179e\"], [0.4444444444444444, \"#bd3786\"], [0.5555555555555556, \"#d8576b\"], [0.6666666666666666, \"#ed7953\"], [0.7777777777777778, \"#fb9f3a\"], [0.8888888888888888, \"#fdca26\"], [1.0, \"#f0f921\"]]}, \"colorway\": [\"#636efa\", \"#EF553B\", \"#00cc96\", \"#ab63fa\", \"#FFA15A\", \"#19d3f3\", \"#FF6692\", \"#B6E880\", \"#FF97FF\", \"#FECB52\"], \"font\": {\"color\": \"#2a3f5f\"}, \"geo\": {\"bgcolor\": \"white\", \"lakecolor\": \"white\", \"landcolor\": \"#E5ECF6\", \"showlakes\": true, \"showland\": true, \"subunitcolor\": \"white\"}, \"hoverlabel\": {\"align\": \"left\"}, \"hovermode\": \"closest\", \"mapbox\": {\"style\": \"light\"}, \"paper_bgcolor\": \"white\", \"plot_bgcolor\": \"#E5ECF6\", \"polar\": {\"angularaxis\": {\"gridcolor\": \"white\", \"linecolor\": \"white\", \"ticks\": \"\"}, \"bgcolor\": \"#E5ECF6\", \"radialaxis\": {\"gridcolor\": \"white\", \"linecolor\": \"white\", \"ticks\": \"\"}}, \"scene\": {\"xaxis\": {\"backgroundcolor\": \"#E5ECF6\", \"gridcolor\": \"white\", \"gridwidth\": 2, \"linecolor\": \"white\", \"showbackground\": true, \"ticks\": \"\", \"zerolinecolor\": \"white\"}, \"yaxis\": {\"backgroundcolor\": \"#E5ECF6\", \"gridcolor\": \"white\", \"gridwidth\": 2, \"linecolor\": \"white\", \"showbackground\": true, \"ticks\": \"\", \"zerolinecolor\": \"white\"}, \"zaxis\": {\"backgroundcolor\": \"#E5ECF6\", \"gridcolor\": \"white\", \"gridwidth\": 2, \"linecolor\": \"white\", \"showbackground\": true, \"ticks\": \"\", \"zerolinecolor\": \"white\"}}, \"shapedefaults\": {\"line\": {\"color\": \"#2a3f5f\"}}, \"ternary\": {\"aaxis\": {\"gridcolor\": \"white\", \"linecolor\": \"white\", \"ticks\": \"\"}, \"baxis\": {\"gridcolor\": \"white\", \"linecolor\": \"white\", \"ticks\": \"\"}, \"bgcolor\": \"#E5ECF6\", \"caxis\": {\"gridcolor\": \"white\", \"linecolor\": \"white\", \"ticks\": \"\"}}, \"title\": {\"x\": 0.05}, \"xaxis\": {\"automargin\": true, \"gridcolor\": \"white\", \"linecolor\": \"white\", \"ticks\": \"\", \"title\": {\"standoff\": 15}, \"zerolinecolor\": \"white\", \"zerolinewidth\": 2}, \"yaxis\": {\"automargin\": true, \"gridcolor\": \"white\", \"linecolor\": \"white\", \"ticks\": \"\", \"title\": {\"standoff\": 15}, \"zerolinecolor\": \"white\", \"zerolinewidth\": 2}}}, \"title\": {\"text\": \"Levels of 24-Hour PM2.5 Average [2013 - 2017]\"}, \"xaxis\": {\"anchor\": \"y\", \"domain\": [0.0, 1.0], \"title\": {\"text\": \"Date & Time (yyyy/mm/dd)\"}}, \"yaxis\": {\"anchor\": \"x\", \"domain\": [0.0, 1.0], \"title\": {\"text\": \"PM2.5 (ug/m3)\"}}},\n",
              "                        {\"responsive\": true}\n",
              "                    ).then(function(){\n",
              "                            \n",
              "var gd = document.getElementById('9053b6b6-591e-458a-95de-e6c361a62d17');\n",
              "var x = new MutationObserver(function (mutations, observer) {{\n",
              "        var display = window.getComputedStyle(gd).display;\n",
              "        if (!display || display === 'none') {{\n",
              "            console.log([gd, 'removed!']);\n",
              "            Plotly.purge(gd);\n",
              "            observer.disconnect();\n",
              "        }}\n",
              "}});\n",
              "\n",
              "// Listen for the removal of the full notebook cells\n",
              "var notebookContainer = gd.closest('#notebook-container');\n",
              "if (notebookContainer) {{\n",
              "    x.observe(notebookContainer, {childList: true});\n",
              "}}\n",
              "\n",
              "// Listen for the clearing of the current output cell\n",
              "var outputEl = gd.closest('.output');\n",
              "if (outputEl) {{\n",
              "    x.observe(outputEl, {childList: true});\n",
              "}}\n",
              "\n",
              "                        })\n",
              "                };\n",
              "                \n",
              "            </script>\n",
              "        </div>\n",
              "</body>\n",
              "</html>"
            ]
          },
          "metadata": {
            "tags": []
          }
        }
      ]
    },
    {
      "cell_type": "markdown",
      "metadata": {
        "id": "cloudy-amazon"
      },
      "source": [
        "# Decomposing Time-Series\n",
        "\n",
        "Trend - Consistent upwards or downwards slope of a time series\n",
        "\n",
        "Seasonal - Clear periodic pattern of a time series(like sine funtion)\n",
        "\n",
        "Noise - Outliers or missing values"
      ],
      "id": "cloudy-amazon"
    },
    {
      "cell_type": "code",
      "metadata": {
        "id": "better-standard"
      },
      "source": [
        "from statsmodels.tsa.seasonal import seasonal_decompose\n",
        "\n",
        "# seasonal_decompose needs a dataframe with a datetime index\n",
        "series = daily_avg['PM2.5']\n",
        "frequency = 365\n",
        "\n",
        "# decomposing the time-series, with the frequency being 24 hours per 365 days\n",
        "decomposed = seasonal_decompose(series, model='additive', freq=frequency)"
      ],
      "id": "better-standard",
      "execution_count": null,
      "outputs": []
    },
    {
      "cell_type": "code",
      "metadata": {
        "id": "capital-sending",
        "colab": {
          "base_uri": "https://localhost:8080/",
          "height": 692
        },
        "outputId": "d43dfe20-8f8c-4832-a1d6-42f7ad95f579"
      },
      "source": [
        "# plotting the different elements constituting our time-series\n",
        "def plot_decompositions(decompositions, titles, line_widths):\n",
        "    for d, t, lw in zip(decompositions, titles, line_widths):\n",
        "        \n",
        "        # draw a line plot of the data\n",
        "        fig = px.line(d,\n",
        "              y='PM2.5',\n",
        "              title=t,\n",
        "              height=300)\n",
        "        \n",
        "        # adjust line width\n",
        "        fig.update_traces(line=dict(width=lw))\n",
        "        \n",
        "        # change layout of axes and the figure's margins \n",
        "        # to emulate tight_layout\n",
        "        fig.update_layout(\n",
        "            xaxis=dict(\n",
        "                showticklabels=False,\n",
        "                linewidth=1\n",
        "            ),\n",
        "            yaxis=dict(title=''),\n",
        "            margin=go.layout.Margin(\n",
        "                l=40, r=40, b=0, t=40, pad=0\n",
        "            ),\n",
        "        )\n",
        "        \n",
        "        # display\n",
        "        fig.show()\n",
        "\n",
        "# calling the function \n",
        "plot_decompositions(decompositions=[decomposed.observed,\n",
        "                                    decomposed.trend, \n",
        "                                    decomposed.seasonal, \n",
        "                                    decomposed.resid],\n",
        "                    titles=['Observed',\n",
        "                            'Trend', \n",
        "                            'Seasonality',\n",
        "                            'Residuals'],\n",
        "                    line_widths=[1, 2, 1, 1])"
      ],
      "id": "capital-sending",
      "execution_count": null,
      "outputs": [
        {
          "output_type": "display_data",
          "data": {
            "text/html": [
              "<html>\n",
              "<head><meta charset=\"utf-8\" /></head>\n",
              "<body>\n",
              "    <div>\n",
              "            <script src=\"https://cdnjs.cloudflare.com/ajax/libs/mathjax/2.7.5/MathJax.js?config=TeX-AMS-MML_SVG\"></script><script type=\"text/javascript\">if (window.MathJax) {MathJax.Hub.Config({SVG: {font: \"STIX-Web\"}});}</script>\n",
              "                <script type=\"text/javascript\">window.PlotlyConfig = {MathJaxConfig: 'local'};</script>\n",
              "        <script src=\"https://cdn.plot.ly/plotly-latest.min.js\"></script>    \n",
              "            <div id=\"e658b3f1-fa0f-4a41-a508-2c3dcd4c3063\" class=\"plotly-graph-div\" style=\"height:300px; width:100%;\"></div>\n",
              "            <script type=\"text/javascript\">\n",
              "                \n",
              "                    window.PLOTLYENV=window.PLOTLYENV || {};\n",
              "                    \n",
              "                if (document.getElementById(\"e658b3f1-fa0f-4a41-a508-2c3dcd4c3063\")) {\n",
              "                    Plotly.newPlot(\n",
              "                        'e658b3f1-fa0f-4a41-a508-2c3dcd4c3063',\n",
              "                        [{\"hoverlabel\": {\"namelength\": 0}, \"hovertemplate\": \"PM2.5=%{y}\", \"legendgroup\": \"\", \"line\": {\"color\": \"#636efa\", \"dash\": \"solid\", \"width\": 1}, \"mode\": \"lines\", \"name\": \"\", \"showlegend\": false, \"type\": \"scattergl\", \"xaxis\": \"x\", \"y\": [8.0, 29.083333333333332, 80.125, 22.875, 134.04166666666666, 229.54166666666666, 238.0, 210.625, 66.0, 38.083333333333336, 139.95833333333334, 134.375, 21.708333333333332, 104.375, 225.08333333333334, 248.08333333333334, 284.9166666666667, 70.79166666666667, 35.458333333333336, 53.708333333333336, 133.375, 84.79166666666667, 55.166666666666664, 19.583333333333332, 104.625, 181.375, 89.375, 25.666666666666668, 75.33333333333333, 89.04166666666667, 185.29166666666666, 100.79166666666667, 110.54166666666667, 145.16666666666666, 70.625, 69.33333333333333, 13.125, 85.08333333333333, 25.208333333333332, 10.375, 12.25, 18.75, 49.708333333333336, 50.708333333333336, 34.333333333333336, 75.70833333333333, 51.291666666666664, 47.625, 7.083333333333333, 45.458333333333336, 71.66666666666667, 125.04166666666667, 177.375, 203.79166666666666, 112.5, 15.083333333333334, 79.33333333333333, 62.375, 72.70833333333333, 20.791666666666668, 32.416666666666664, 44.958333333333336, 80.375, 64.95833333333333, 107.5, 181.95833333333334, 232.95833333333334, 176.16666666666666, 158.375, 57.958333333333336, 49.625, 53.833333333333336, 39.625, 89.08333333333333, 55.208333333333336, 75.04166666666667, 60.875, 115.0, 133.95833333333334, 66.20833333333333, 53.833333333333336, 128.58333333333334, 94.91666666666667, 104.33333333333333, 106.29166666666667, 72.04166666666667, 109.25, 74.66666666666667, 91.5, 24.208333333333332, 65.83333333333333, 113.20833333333333, 88.16666666666667, 185.83333333333334, 158.20833333333334, 145.79166666666666, 142.625, 159.125, 154.125, 186.66666666666666, 51.166666666666664, 25.041666666666668, 60.791666666666664, 63.25, 124.95833333333333, 118.45833333333333, 141.20833333333334, 192.70833333333334, 66.04166666666667, 48.375, 62.958333333333336, 58.166666666666664, 49.708333333333336, 56.666666666666664, 51.375, 119.54166666666667, 123.91666666666667, 169.45833333333334, 105.5, 315.125, 119.0, 255.45833333333334, 225.54166666666666, 19.125, 40.458333333333336, 30.083333333333332, 27.333333333333332, 53.958333333333336, 86.375, 100.875, 92.04166666666667, 34.583333333333336, 44.166666666666664, 81.375, 147.125, 128.91666666666666, 45.083333333333336, 25.895833333333332, 43.5, 144.0, 134.875, 64.125, 81.08333333333333, 89.91666666666667, 48.125, 44.125, 48.125, 59.75, 115.83333333333333, 67.79166666666667, 64.5, 107.54166666666667, 50.916666666666664, 43.416666666666664, 73.25, 28.708333333333332, 77.54166666666667, 52.0, 131.875, 37.25, 33.583333333333336, 51.375, 97.0, 128.625, 49.958333333333336, 91.83333333333333, 76.27083333333333, 132.875, 133.5, 52.625, 18.458333333333332, 28.666666666666668, 95.5, 117.375, 123.125, 49.291666666666664, 40.416666666666664, 42.958333333333336, 57.5, 76.04166666666667, 76.875, 27.666666666666668, 10.041666666666666, 22.541666666666668, 50.5, 51.791666666666664, 104.5, 69.5, 25.333333333333332, 68.54166666666667, 83.70833333333333, 94.95833333333333, 80.41666666666667, 54.958333333333336, 64.33333333333333, 158.20833333333334, 82.83333333333333, 45.375, 31.291666666666668, 58.125, 96.66666666666667, 117.45833333333333, 123.20833333333333, 48.125, 38.958333333333336, 71.625, 34.041666666666664, 12.458333333333334, 17.166666666666668, 46.041666666666664, 153.54166666666666, 274.0833333333333, 250.125, 196.75, 101.04166666666667, 18.666666666666668, 70.125, 135.66666666666666, 313.625, 260.625, 102.04166666666667, 65.04166666666667, 145.66666666666666, 83.66666666666667, 52.208333333333336, 76.79166666666667, 55.625, 39.166666666666664, 26.958333333333332, 58.291666666666664, 128.04166666666666, 233.625, 76.91666666666667, 29.791666666666668, 81.625, 141.04166666666666, 38.208333333333336, 23.416666666666668, 45.208333333333336, 76.375, 173.04166666666666, 287.2916666666667, 42.625, 86.0, 150.95833333333334, 183.29166666666666, 259.2916666666667, 54.958333333333336, 48.666666666666664, 151.85416666666666, 108.91666666666667, 40.083333333333336, 122.25, 107.5, 22.875, 40.666666666666664, 67.79166666666667, 158.29166666666666, 76.66666666666667, 124.25, 48.0, 15.625, 17.208333333333332, 37.75, 84.5, 119.0, 180.04166666666666, 235.91666666666666, 99.66666666666667, 16.541666666666668, 20.541666666666668, 9.25, 27.25, 95.54166666666667, 46.208333333333336, 78.58333333333333, 141.83333333333334, 87.25, 120.875, 52.625, 138.29166666666666, 283.4166666666667, 207.54166666666666, 13.541666666666666, 34.25, 29.875, 23.541666666666668, 64.79166666666667, 80.75, 69.66666666666667, 135.41666666666666, 82.16666666666667, 61.666666666666664, 70.54166666666667, 78.08333333333333, 105.625, 187.625, 189.58333333333334, 268.625, 273.875, 28.083333333333332, 37.416666666666664, 33.958333333333336, 109.91666666666667, 69.95833333333333, 69.25, 69.125, 152.04166666666666, 54.458333333333336, 127.04166666666667, 98.08333333333333, 136.375, 111.25, 15.041666666666666, 28.583333333333332, 83.29166666666667, 136.29166666666666, 25.833333333333332, 98.70833333333333, 107.54166666666667, 186.0, 360.1666666666667, 207.33333333333334, 113.91666666666667, 120.79166666666667, 9.208333333333334, 45.333333333333336, 126.875, 219.41666666666666, 185.375, 30.041666666666668, 60.458333333333336, 95.54166666666667, 43.375, 127.75, 81.125, 155.29166666666666, 145.83333333333334, 77.29166666666667, 5.666666666666667, 28.166666666666668, 98.04166666666667, 131.33333333333334, 98.83333333333333, 61.083333333333336, 8.875, 30.541666666666668, 113.85416666666667, 121.95833333333333, 211.16666666666666, 287.125, 417.875, 322.375, 78.5, 65.35416666666667, 68.625, 218.79166666666666, 305.4166666666667, 284.8333333333333, 208.16666666666666, 274.3541666666667, 400.2083333333333, 356.2083333333333, 16.5, 106.91666666666667, 76.08333333333333, 143.33333333333334, 235.04166666666666, 67.20833333333333, 24.666666666666668, 17.958333333333332, 51.75, 136.45833333333334, 100.625, 85.875, 161.0, 8.791666666666666, 19.166666666666668, 21.166666666666668, 92.58333333333333, 112.33333333333333, 90.125, 35.583333333333336, 44.416666666666664, 11.541666666666666, 28.958333333333332, 51.208333333333336, 127.875, 224.70833333333334, 213.70833333333334, 287.4166666666667, 270.4166666666667, 122.95833333333333, 35.479166666666664, 35.041666666666664, 127.41666666666667, 125.20833333333333, 108.79166666666667, 21.75, 32.291666666666664, 22.791666666666668, 58.208333333333336, 97.54166666666667, 180.95833333333334, 125.0, 82.29166666666667, 60.833333333333336, 93.875, 164.54166666666666, 241.66666666666666, 94.10416666666667, 44.791666666666664, 88.58333333333333, 161.29166666666666, 64.125, 76.125, 62.833333333333336, 64.83333333333333, 124.0, 114.95833333333333, 118.58333333333333, 34.875, 52.458333333333336, 62.916666666666664, 90.5, 102.95833333333333, 118.125, 17.291666666666668, 34.041666666666664, 27.958333333333332, 20.625, 81.41666666666667, 96.08333333333333, 71.27083333333333, 61.708333333333336, 50.416666666666664, 27.416666666666668, 36.125, 51.791666666666664, 17.958333333333332, 64.75, 60.958333333333336, 61.791666666666664, 83.79166666666667, 104.70833333333333, 83.16666666666667, 112.19166666666666, 142.88333333333333, 78.45833333333333, 81.0, 65.625, 20.208333333333332, 32.291666666666664, 34.645833333333336, 44.125, 86.91666666666667, 105.08333333333333, 41.416666666666664, 31.541666666666668, 37.5, 63.395833333333336, 59.25, 55.416666666666664, 11.875, 24.75, 30.708333333333332, 70.79166666666667, 51.25, 25.125, 38.895833333333336, 42.041666666666664, 109.29166666666667, 124.04166666666667, 85.58333333333333, 65.83333333333333, 114.375, 41.875, 65.41666666666667, 28.25, 27.916666666666668, 49.208333333333336, 100.79166666666667, 127.0, 27.979166666666668, 26.208333333333332, 44.75, 71.95833333333333, 107.95833333333333, 61.375, 176.125, 199.375, 107.875, 194.0, 170.625, 95.79166666666667, 26.166666666666668, 35.208333333333336, 30.125, 14.625, 19.875, 32.791666666666664, 49.708333333333336, 105.25, 132.33333333333334, 151.375, 78.79166666666667, 67.125, 28.25, 12.625, 31.041666666666668, 69.5, 63.916666666666664, 96.33333333333333, 109.08333333333333, 122.0, 112.70833333333333, 125.91666666666667, 199.29166666666666, 161.83333333333334, 151.58333333333334, 128.75, 31.416666666666668, 27.541666666666668, 34.291666666666664, 64.66666666666667, 63.770833333333336, 85.66666666666667, 33.708333333333336, 22.583333333333332, 27.291666666666668, 27.8875, 30.291666666666668, 34.916666666666664, 53.583333333333336, 46.25, 61.875, 89.375, 115.79583333333333, 132.36666666666667, 53.291666666666664, 105.70833333333333, 15.416666666666666, 21.333333333333332, 30.208333333333332, 53.0, 79.29166666666667, 66.79166666666667, 134.66666666666666, 62.25, 97.09166666666665, 19.708333333333332, 16.583333333333332, 43.416666666666664, 88.29166666666667, 142.79166666666666, 149.625, 13.291666666666666, 30.1875, 62.0625, 86.79166666666667, 63.25, 64.91666666666667, 42.208333333333336, 20.791666666666668, 36.166666666666664, 52.125, 64.58333333333333, 75.75, 122.79166666666667, 113.0, 98.33333333333333, 42.958333333333336, 29.458333333333332, 117.375, 124.79166666666667, 28.958333333333332, 55.541666666666664, 56.208333333333336, 24.791666666666668, 66.75, 55.833333333333336, 86.83333333333333, 79.66666666666667, 34.583333333333336, 32.5, 123.875, 252.83333333333334, 356.6041666666667, 348.125, 238.41666666666666, 6.333333333333333, 17.291666666666668, 52.083333333333336, 37.625, 36.104166666666664, 94.125, 159.625, 279.74404761904765, 248.94345238095238, 39.041666666666664, 75.16666666666667, 126.0, 223.66666666666666, 310.4583333333333, 74.72916666666667, 22.666666666666668, 59.25, 105.79166666666667, 156.375, 153.16666666666666, 55.916666666666664, 6.654166666666666, 26.020833333333332, 95.02083333333333, 61.625, 9.416666666666666, 42.791666666666664, 72.54166666666667, 70.20833333333333, 83.70833333333333, 28.0, 4.291666666666667, 20.416666666666668, 39.0, 102.54166666666667, 59.75, 25.041666666666668, 86.125, 222.79166666666666, 313.9583333333333, 223.875, 34.0, 124.83333333333333, 86.95833333333333, 156.33333333333334, 226.66666666666666, 100.70833333333333, 85.20833333333333, 215.95833333333334, 96.16666666666667, 12.875, 48.666666666666664, 20.0, 6.375, 32.75, 59.958333333333336, 64.5, 68.45833333333333, 208.41666666666666, 124.33333333333333, 21.083333333333332, 6.958333333333333, 44.583333333333336, 103.625, 54.5, 5.5, 71.16666666666667, 149.51190476190476, 49.98809523809524, 7.875, 13.625, 82.70833333333333, 86.08333333333333, 10.541666666666666, 30.6875, 108.45833333333333, 208.8125, 123.10416666666667, 87.0, 20.083333333333332, 4.666666666666667, 34.458333333333336, 56.875, 121.22916666666667, 191.125, 136.5, 33.041666666666664, 68.83333333333333, 134.0, 82.5, 154.58333333333334, 41.958333333333336, 155.41666666666666, 166.75, 192.83333333333334, 326.7083333333333, 93.95833333333333, 69.41666666666667, 67.89999999999999, 36.166666666666664, 91.16666666666667, 14.958333333333334, 97.5, 197.58333333333334, 101.625, 121.125, 96.125, 15.458333333333334, 32.75, 61.75, 11.958333333333334, 34.583333333333336, 90.16666666666667, 126.29166666666667, 104.95833333333333, 10.458333333333334, 29.625, 70.5, 14.208333333333334, 26.458333333333332, 110.25, 131.66666666666666, 39.0, 32.916666666666664, 123.16666666666667, 215.125, 264.1666666666667, 128.33333333333334, 23.041666666666668, 49.666666666666664, 234.875, 139.58333333333334, 149.5, 39.166666666666664, 61.541666666666664, 167.75, 82.41666666666667, 12.208333333333334, 22.5, 122.75, 31.541666666666668, 51.541666666666664, 7.458333333333333, 23.270833333333332, 101.04166666666667, 200.66666666666666, 217.58333333333334, 126.04166666666667, 9.0, 33.75, 42.75, 71.625, 72.58333333333333, 101.79166666666667, 99.0, 207.58333333333334, 184.04166666666666, 38.75, 85.20833333333333, 43.291666666666664, 16.458333333333332, 20.916666666666668, 36.75, 75.25, 122.54166666666667, 100.29166666666667, 99.75, 58.625, 63.583333333333336, 147.41666666666666, 124.22291666666666, 53.25, 31.75, 28.791666666666668, 59.875, 51.770833333333336, 20.875, 25.958333333333332, 97.625, 168.70833333333334, 147.75, 132.20833333333334, 13.041666666666666, 27.125, 58.333333333333336, 122.04166666666667, 31.458333333333332, 112.39583333333333, 130.45833333333334, 69.04166666666667, 75.28993055555556, 62.98090277777777, 46.875, 55.5, 61.416666666666664, 83.125, 104.45833333333333, 86.04166666666667, 47.625, 112.45833333333333, 111.45833333333333, 117.5, 45.625, 47.083333333333336, 26.416666666666668, 52.0, 22.791666666666668, 53.875, 54.916666666666664, 42.625, 38.708333333333336, 25.875, 22.208333333333332, 66.95833333333333, 18.708333333333332, 21.791666666666668, 46.833333333333336, 137.41666666666666, 51.375, 9.083333333333334, 15.375, 35.541666666666664, 50.854166666666664, 105.08333333333333, 125.41666666666667, 111.41666666666667, 88.16666666666667, 93.5, 109.83333333333333, 68.04166666666667, 55.125, 54.416666666666664, 86.54166666666667, 35.083333333333336, 39.958333333333336, 52.208333333333336, 47.041666666666664, 31.375, 14.916666666666666, 21.666666666666668, 53.916666666666664, 78.20833333333333, 19.3125, 6.416666666666667, 11.25, 19.0, 86.16666666666667, 96.52083333333333, 49.708333333333336, 16.479166666666668, 11.541666666666666, 20.125, 41.458333333333336, 88.41666666666667, 180.04166666666666, 120.625, 127.5, 109.08333333333333, 89.375, 149.41666666666666, 124.79166666666667, 15.375, 18.166666666666668, 11.0, 27.541666666666668, 34.75, 70.25, 72.33333333333333, 65.875, 118.75, 80.625, 55.791666666666664, 108.41666666666667, 138.3101851851852, 73.08564814814815, 38.0, 36.458333333333336, 41.166666666666664, 34.708333333333336, 46.333333333333336, 70.04166666666667, 93.91666666666667, 141.41666666666666, 72.16666666666667, 42.75, 47.416666666666664, 84.66666666666667, 103.16666666666667, 85.875, 54.25, 73.66666666666667, 47.333333333333336, 27.291666666666668, 60.083333333333336, 84.04166666666667, 74.625, 19.625, 75.52083333333333, 50.291666666666664, 98.29166666666667, 37.291666666666664, 55.166666666666664, 46.541666666666664, 94.875, 77.41666666666667, 121.33333333333333, 65.04166666666667, 26.125, 38.729166666666664, 82.33333333333333, 48.458333333333336, 50.75, 35.75, 14.479166666666666, 17.104166666666668, 27.541666666666668, 13.916666666666666, 13.041666666666666, 13.125, 12.083333333333334, 17.458333333333332, 30.083333333333332, 30.833333333333332, 26.416666666666668, 10.25, 9.5, 13.958333333333334, 47.583333333333336, 18.125, 16.833333333333332, 23.708333333333332, 47.291666666666664, 37.916666666666664, 7.145833333333333, 8.291666666666666, 8.75, 19.291666666666668, 59.583333333333336, 106.29166666666667, 123.625, 143.45833333333334, 81.08333333333333, 25.708333333333332, 77.0, 106.5, 136.66666666666666, 28.708333333333332, 100.20833333333333, 18.645833333333332, 37.958333333333336, 49.333333333333336, 46.75, 46.5, 26.083333333333332, 11.25, 23.208333333333332, 26.833333333333332, 98.29166666666667, 196.29166666666666, 272.625, 281.75, 8.125, 12.375, 5.083333333333333, 6.166666666666667, 15.541666666666666, 33.833333333333336, 86.70833333333333, 103.33333333333333, 180.75, 292.8333333333333, 40.458333333333336, 24.916666666666668, 72.91666666666667, 48.083333333333336, 27.458333333333332, 49.25, 54.666666666666664, 29.25, 32.625, 11.0, 6.791666666666667, 8.041666666666666, 21.875, 44.083333333333336, 66.4375, 81.20833333333333, 138.29166666666666, 213.375, 117.625, 19.541666666666668, 18.0, 53.458333333333336, 114.75, 122.5, 94.79166666666667, 141.54166666666666, 215.70833333333334, 273.0, 192.41666666666666, 50.333333333333336, 60.666666666666664, 65.04166666666667, 71.58333333333333, 57.979166666666664, 35.229166666666664, 48.333333333333336, 27.979166666666668, 32.75, 56.25, 36.166666666666664, 157.20833333333334, 237.5, 276.9166666666667, 318.5, 481.125, 5.729166666666667, 7.75, 27.458333333333332, 62.666666666666664, 114.95833333333333, 188.41666666666666, 257.125, 225.04166666666666, 106.375, 51.958333333333336, 101.70833333333333, 181.83333333333334, 137.79166666666666, 4.625, 6.541666666666667, 65.625, 67.4375, 123.08333333333333, 171.70833333333334, 246.375, 302.875, 297.7083333333333, 98.125, 466.375, 317.375, 41.083333333333336, 125.91666666666667, 230.16666666666666, 55.666666666666664, 69.29166666666667, 158.45833333333334, 226.08333333333334, 286.0416666666667, 44.916666666666664, 35.666666666666664, 35.166666666666664, 10.541666666666666, 34.666666666666664, 73.54166666666667, 53.833333333333336, 9.041666666666666, 12.416666666666666, 21.666666666666668, 76.25, 86.58333333333333, 122.66666666666667, 42.75, 7.541666666666667, 61.416666666666664, 107.79166666666667, 142.58333333333334, 14.958333333333334, 7.791666666666667, 11.458333333333334, 24.25, 32.375, 100.375, 113.58333333333333, 56.083333333333336, 58.208333333333336, 10.083333333333334, 14.666666666666666, 32.416666666666664, 38.354166666666664, 10.291666666666666, 9.875, 27.958333333333332, 35.166666666666664, 241.33333333333334, 35.125, 93.04166666666667, 139.70833333333334, 146.70833333333334, 8.666666666666666, 5.916666666666667, 6.291666666666667, 5.375, 42.541666666666664, 13.333333333333334, 15.75, 13.083333333333334, 71.66666666666667, 72.125, 7.75, 24.625, 22.375, 34.916666666666664, 19.833333333333332, 31.833333333333332, 32.416666666666664, 118.33333333333333, 159.91666666666666, 277.0, 347.2916666666667, 69.95833333333333, 74.91666666666667, 34.125, 9.458333333333334, 9.541666666666666, 8.916666666666666, 21.041666666666668, 108.95833333333333, 28.041666666666668, 72.16666666666667, 141.5625, 245.35416666666666, 309.3125, 215.125, 61.458333333333336, 63.416666666666664, 117.66666666666667, 106.79166666666667, 21.3125, 13.416666666666666, 17.833333333333332, 12.583333333333334, 16.041666666666668, 70.70833333333333, 20.916666666666668, 28.291666666666668, 141.125, 31.333333333333332, 6.5, 18.041666666666668, 64.875, 110.79166666666667, 129.45833333333334, 85.33333333333333, 21.708333333333332, 65.375, 44.666666666666664, 34.333333333333336, 69.83333333333333, 100.125, 23.833333333333332, 54.75, 33.75, 15.6875, 29.458333333333332, 67.45833333333333, 61.354166666666664, 88.27083333333333, 25.083333333333332, 17.666666666666668, 73.95833333333333, 85.58333333333333, 70.70833333333333, 82.39583333333333, 80.125, 113.66666666666667, 153.33333333333334, 188.29166666666666, 43.708333333333336, 18.875, 27.916666666666668, 50.25, 63.5, 19.625, 52.0, 31.916666666666668, 37.666666666666664, 157.08333333333334, 38.020833333333336, 35.0, 37.333333333333336, 36.541666666666664, 22.25, 54.041666666666664, 58.583333333333336, 81.66666666666667, 92.33333333333333, 72.95833333333333, 49.541666666666664, 62.958333333333336, 23.979166666666668, 11.166666666666666, 26.104166666666668, 45.5625, 40.583333333333336, 28.916666666666668, 77.5, 44.416666666666664, 30.416666666666668, 45.083333333333336, 79.54166666666667, 84.125, 72.70833333333333, 85.16666666666667, 55.0, 123.875, 111.0, 49.354166666666664, 8.916666666666666, 64.625, 45.25, 37.416666666666664, 21.333333333333332, 29.75, 26.208333333333332, 39.291666666666664, 61.375, 89.54166666666667, 84.45833333333333, 51.458333333333336, 84.16666666666667, 12.75, 15.625, 37.125, 56.5, 69.95833333333333, 115.41666666666667, 62.125, 13.708333333333334, 46.0, 81.25, 122.33333333333333, 96.875, 76.75, 110.0, 93.45833333333333, 78.0, 87.125, 83.33333333333333, 31.291666666666668, 21.458333333333332, 37.583333333333336, 37.25, 38.458333333333336, 74.29166666666667, 119.41666666666667, 91.875, 40.125, 27.791666666666668, 78.625, 150.58333333333334, 98.91666666666667, 73.16666666666667, 16.708333333333332, 44.958333333333336, 46.375, 109.66666666666667, 115.66666666666667, 53.708333333333336, 72.79166666666667, 53.625, 52.541666666666664, 99.58333333333333, 60.083333333333336, 94.79166666666667, 15.458333333333334, 29.666666666666668, 42.958333333333336, 73.125, 87.33333333333333, 64.20833333333333, 23.291666666666668, 20.708333333333332, 15.833333333333334, 22.333333333333332, 57.041666666666664, 76.25, 18.083333333333332, 54.9375, 48.958333333333336, 45.916666666666664, 73.625, 86.625, 15.083333333333334, 7.333333333333333, 13.583333333333334, 9.5, 18.375, 29.833333333333332, 17.833333333333332, 7.25, 12.875, 18.666666666666668, 79.70833333333333, 25.875, 20.354166666666668, 43.625, 19.916666666666668, 17.041666666666668, 16.416666666666668, 29.583333333333332, 35.833333333333336, 79.66666666666667, 92.45833333333333, 61.875, 129.91666666666666, 43.0, 20.541666666666668, 10.583333333333334, 20.083333333333332, 64.625, 104.25, 110.25, 117.20833333333333, 165.0, 53.958333333333336, 23.791666666666668, 15.0, 50.5, 103.29166666666667, 166.625, 193.33333333333334, 138.25, 34.291666666666664, 48.541666666666664, 74.41666666666667, 36.916666666666664, 9.125, 26.875, 82.0, 106.16666666666667, 71.75, 139.875, 237.95833333333334, 196.91666666666666, 109.04166666666667, 59.458333333333336, 126.375, 227.875, 90.29166666666667, 43.208333333333336, 14.208333333333334, 24.458333333333332, 50.916666666666664, 89.75, 43.083333333333336, 30.0, 9.666666666666666, 23.5, 42.895833333333336, 5.5, 39.916666666666664, 104.54166666666667, 180.04166666666666, 256.1666666666667, 182.29166666666666, 68.25, 37.416666666666664, 36.625, 148.875, 156.91666666666666, 75.08333333333333, 77.25, 88.0, 39.416666666666664, 37.166666666666664, 91.70833333333333, 90.125, 187.0, 140.75, 55.708333333333336, 9.625, 7.0, 15.25, 67.95833333333333, 171.75, 274.7916666666667, 53.541666666666664, 60.083333333333336, 115.25, 95.33333333333333, 33.125, 99.66666666666667, 149.66666666666666, 250.16666666666666, 43.75, 75.0, 120.91666666666667, 89.45833333333333, 22.791666666666668, 52.083333333333336, 142.91666666666666, 221.0, 68.79166666666667, 27.208333333333332, 26.25, 100.54166666666667, 179.54166666666666, 205.375, 224.79166666666666, 355.625, 383.0, 59.041666666666664, 32.75, 118.29166666666667, 148.66666666666666, 43.916666666666664, 39.270833333333336, 66.33333333333333, 56.479166666666664, 194.5, 291.4583333333333, 481.2916666666667, 193.0, 284.1666666666667, 396.4583333333333, 225.20833333333334, 190.04166666666666, 154.375, 33.458333333333336, 34.041666666666664, 26.541666666666668, 62.041666666666664, 49.875, 12.0, 23.625, 51.291666666666664, 101.45833333333333, 137.5, 41.5, 46.458333333333336, 22.666666666666668, 24.5, 27.958333333333332, 28.25, 86.20833333333333, 166.60416666666666, 148.66666666666666, 61.333333333333336, 343.375, 35.083333333333336, 24.916666666666668, 73.625, 39.416666666666664, 93.5, 162.54166666666666, 236.66666666666666, 13.25, 14.291666666666666, 83.54166666666667, 33.125, 5.4375, 5.375, 45.583333333333336, 99.75, 78.70833333333333, 187.20833333333334, 241.25, 117.35416666666667, 21.333333333333332, 87.33333333333333, 97.41666666666667, 10.479166666666666, 58.020833333333336, 72.33333333333333, 15.916666666666666, 21.458333333333332, 8.25, 27.125, 64.0, 9.958333333333334], \"yaxis\": \"y\"}],\n",
              "                        {\"height\": 300, \"legend\": {\"tracegroupgap\": 0}, \"margin\": {\"b\": 0, \"l\": 40, \"pad\": 0, \"r\": 40, \"t\": 40}, \"template\": {\"data\": {\"bar\": [{\"error_x\": {\"color\": \"#2a3f5f\"}, \"error_y\": {\"color\": \"#2a3f5f\"}, \"marker\": {\"line\": {\"color\": \"#E5ECF6\", \"width\": 0.5}}, \"type\": \"bar\"}], \"barpolar\": [{\"marker\": {\"line\": {\"color\": \"#E5ECF6\", \"width\": 0.5}}, \"type\": \"barpolar\"}], \"carpet\": [{\"aaxis\": {\"endlinecolor\": \"#2a3f5f\", \"gridcolor\": \"white\", \"linecolor\": \"white\", \"minorgridcolor\": \"white\", \"startlinecolor\": \"#2a3f5f\"}, \"baxis\": {\"endlinecolor\": \"#2a3f5f\", \"gridcolor\": \"white\", \"linecolor\": \"white\", \"minorgridcolor\": \"white\", \"startlinecolor\": \"#2a3f5f\"}, \"type\": \"carpet\"}], \"choropleth\": [{\"colorbar\": {\"outlinewidth\": 0, \"ticks\": \"\"}, \"type\": \"choropleth\"}], \"contour\": [{\"colorbar\": {\"outlinewidth\": 0, \"ticks\": \"\"}, \"colorscale\": [[0.0, \"#0d0887\"], [0.1111111111111111, \"#46039f\"], [0.2222222222222222, \"#7201a8\"], [0.3333333333333333, \"#9c179e\"], [0.4444444444444444, \"#bd3786\"], [0.5555555555555556, \"#d8576b\"], [0.6666666666666666, \"#ed7953\"], [0.7777777777777778, \"#fb9f3a\"], [0.8888888888888888, \"#fdca26\"], [1.0, \"#f0f921\"]], \"type\": \"contour\"}], \"contourcarpet\": [{\"colorbar\": {\"outlinewidth\": 0, \"ticks\": \"\"}, \"type\": \"contourcarpet\"}], \"heatmap\": [{\"colorbar\": {\"outlinewidth\": 0, \"ticks\": \"\"}, \"colorscale\": [[0.0, \"#0d0887\"], [0.1111111111111111, \"#46039f\"], [0.2222222222222222, \"#7201a8\"], [0.3333333333333333, \"#9c179e\"], [0.4444444444444444, \"#bd3786\"], [0.5555555555555556, \"#d8576b\"], [0.6666666666666666, \"#ed7953\"], [0.7777777777777778, \"#fb9f3a\"], [0.8888888888888888, \"#fdca26\"], [1.0, \"#f0f921\"]], \"type\": \"heatmap\"}], \"heatmapgl\": [{\"colorbar\": {\"outlinewidth\": 0, \"ticks\": \"\"}, \"colorscale\": [[0.0, \"#0d0887\"], [0.1111111111111111, \"#46039f\"], [0.2222222222222222, \"#7201a8\"], [0.3333333333333333, \"#9c179e\"], [0.4444444444444444, \"#bd3786\"], [0.5555555555555556, \"#d8576b\"], [0.6666666666666666, \"#ed7953\"], [0.7777777777777778, \"#fb9f3a\"], [0.8888888888888888, \"#fdca26\"], [1.0, \"#f0f921\"]], \"type\": \"heatmapgl\"}], \"histogram\": [{\"marker\": {\"colorbar\": {\"outlinewidth\": 0, \"ticks\": \"\"}}, \"type\": \"histogram\"}], \"histogram2d\": [{\"colorbar\": {\"outlinewidth\": 0, \"ticks\": \"\"}, \"colorscale\": [[0.0, \"#0d0887\"], [0.1111111111111111, \"#46039f\"], [0.2222222222222222, \"#7201a8\"], [0.3333333333333333, \"#9c179e\"], [0.4444444444444444, \"#bd3786\"], [0.5555555555555556, \"#d8576b\"], [0.6666666666666666, \"#ed7953\"], [0.7777777777777778, \"#fb9f3a\"], [0.8888888888888888, \"#fdca26\"], [1.0, \"#f0f921\"]], \"type\": \"histogram2d\"}], \"histogram2dcontour\": [{\"colorbar\": {\"outlinewidth\": 0, \"ticks\": \"\"}, \"colorscale\": [[0.0, \"#0d0887\"], [0.1111111111111111, \"#46039f\"], [0.2222222222222222, \"#7201a8\"], [0.3333333333333333, \"#9c179e\"], [0.4444444444444444, \"#bd3786\"], [0.5555555555555556, \"#d8576b\"], [0.6666666666666666, \"#ed7953\"], [0.7777777777777778, \"#fb9f3a\"], [0.8888888888888888, \"#fdca26\"], [1.0, \"#f0f921\"]], \"type\": \"histogram2dcontour\"}], \"mesh3d\": [{\"colorbar\": {\"outlinewidth\": 0, \"ticks\": \"\"}, \"type\": \"mesh3d\"}], \"parcoords\": [{\"line\": {\"colorbar\": {\"outlinewidth\": 0, \"ticks\": \"\"}}, \"type\": \"parcoords\"}], \"pie\": [{\"automargin\": true, \"type\": \"pie\"}], \"scatter\": [{\"marker\": {\"colorbar\": {\"outlinewidth\": 0, \"ticks\": \"\"}}, \"type\": \"scatter\"}], \"scatter3d\": [{\"line\": {\"colorbar\": {\"outlinewidth\": 0, \"ticks\": \"\"}}, \"marker\": {\"colorbar\": {\"outlinewidth\": 0, \"ticks\": \"\"}}, \"type\": \"scatter3d\"}], \"scattercarpet\": [{\"marker\": {\"colorbar\": {\"outlinewidth\": 0, \"ticks\": \"\"}}, \"type\": \"scattercarpet\"}], \"scattergeo\": [{\"marker\": {\"colorbar\": {\"outlinewidth\": 0, \"ticks\": \"\"}}, \"type\": \"scattergeo\"}], \"scattergl\": [{\"marker\": {\"colorbar\": {\"outlinewidth\": 0, \"ticks\": \"\"}}, \"type\": \"scattergl\"}], \"scattermapbox\": [{\"marker\": {\"colorbar\": {\"outlinewidth\": 0, \"ticks\": \"\"}}, \"type\": \"scattermapbox\"}], \"scatterpolar\": [{\"marker\": {\"colorbar\": {\"outlinewidth\": 0, \"ticks\": \"\"}}, \"type\": \"scatterpolar\"}], \"scatterpolargl\": [{\"marker\": {\"colorbar\": {\"outlinewidth\": 0, \"ticks\": \"\"}}, \"type\": \"scatterpolargl\"}], \"scatterternary\": [{\"marker\": {\"colorbar\": {\"outlinewidth\": 0, \"ticks\": \"\"}}, \"type\": \"scatterternary\"}], \"surface\": [{\"colorbar\": {\"outlinewidth\": 0, \"ticks\": \"\"}, \"colorscale\": [[0.0, \"#0d0887\"], [0.1111111111111111, \"#46039f\"], [0.2222222222222222, \"#7201a8\"], [0.3333333333333333, \"#9c179e\"], [0.4444444444444444, \"#bd3786\"], [0.5555555555555556, \"#d8576b\"], [0.6666666666666666, \"#ed7953\"], [0.7777777777777778, \"#fb9f3a\"], [0.8888888888888888, \"#fdca26\"], [1.0, \"#f0f921\"]], \"type\": \"surface\"}], \"table\": [{\"cells\": {\"fill\": {\"color\": \"#EBF0F8\"}, \"line\": {\"color\": \"white\"}}, \"header\": {\"fill\": {\"color\": \"#C8D4E3\"}, \"line\": {\"color\": \"white\"}}, \"type\": \"table\"}]}, \"layout\": {\"annotationdefaults\": {\"arrowcolor\": \"#2a3f5f\", \"arrowhead\": 0, \"arrowwidth\": 1}, \"coloraxis\": {\"colorbar\": {\"outlinewidth\": 0, \"ticks\": \"\"}}, \"colorscale\": {\"diverging\": [[0, \"#8e0152\"], [0.1, \"#c51b7d\"], [0.2, \"#de77ae\"], [0.3, \"#f1b6da\"], [0.4, \"#fde0ef\"], [0.5, \"#f7f7f7\"], [0.6, \"#e6f5d0\"], [0.7, \"#b8e186\"], [0.8, \"#7fbc41\"], [0.9, \"#4d9221\"], [1, \"#276419\"]], \"sequential\": [[0.0, \"#0d0887\"], [0.1111111111111111, \"#46039f\"], [0.2222222222222222, \"#7201a8\"], [0.3333333333333333, \"#9c179e\"], [0.4444444444444444, \"#bd3786\"], [0.5555555555555556, \"#d8576b\"], [0.6666666666666666, \"#ed7953\"], [0.7777777777777778, \"#fb9f3a\"], [0.8888888888888888, \"#fdca26\"], [1.0, \"#f0f921\"]], \"sequentialminus\": [[0.0, \"#0d0887\"], [0.1111111111111111, \"#46039f\"], [0.2222222222222222, \"#7201a8\"], [0.3333333333333333, \"#9c179e\"], [0.4444444444444444, \"#bd3786\"], [0.5555555555555556, \"#d8576b\"], [0.6666666666666666, \"#ed7953\"], [0.7777777777777778, \"#fb9f3a\"], [0.8888888888888888, \"#fdca26\"], [1.0, \"#f0f921\"]]}, \"colorway\": [\"#636efa\", \"#EF553B\", \"#00cc96\", \"#ab63fa\", \"#FFA15A\", \"#19d3f3\", \"#FF6692\", \"#B6E880\", \"#FF97FF\", \"#FECB52\"], \"font\": {\"color\": \"#2a3f5f\"}, \"geo\": {\"bgcolor\": \"white\", \"lakecolor\": \"white\", \"landcolor\": \"#E5ECF6\", \"showlakes\": true, \"showland\": true, \"subunitcolor\": \"white\"}, \"hoverlabel\": {\"align\": \"left\"}, \"hovermode\": \"closest\", \"mapbox\": {\"style\": \"light\"}, \"paper_bgcolor\": \"white\", \"plot_bgcolor\": \"#E5ECF6\", \"polar\": {\"angularaxis\": {\"gridcolor\": \"white\", \"linecolor\": \"white\", \"ticks\": \"\"}, \"bgcolor\": \"#E5ECF6\", \"radialaxis\": {\"gridcolor\": \"white\", \"linecolor\": \"white\", \"ticks\": \"\"}}, \"scene\": {\"xaxis\": {\"backgroundcolor\": \"#E5ECF6\", \"gridcolor\": \"white\", \"gridwidth\": 2, \"linecolor\": \"white\", \"showbackground\": true, \"ticks\": \"\", \"zerolinecolor\": \"white\"}, \"yaxis\": {\"backgroundcolor\": \"#E5ECF6\", \"gridcolor\": \"white\", \"gridwidth\": 2, \"linecolor\": \"white\", \"showbackground\": true, \"ticks\": \"\", \"zerolinecolor\": \"white\"}, \"zaxis\": {\"backgroundcolor\": \"#E5ECF6\", \"gridcolor\": \"white\", \"gridwidth\": 2, \"linecolor\": \"white\", \"showbackground\": true, \"ticks\": \"\", \"zerolinecolor\": \"white\"}}, \"shapedefaults\": {\"line\": {\"color\": \"#2a3f5f\"}}, \"ternary\": {\"aaxis\": {\"gridcolor\": \"white\", \"linecolor\": \"white\", \"ticks\": \"\"}, \"baxis\": {\"gridcolor\": \"white\", \"linecolor\": \"white\", \"ticks\": \"\"}, \"bgcolor\": \"#E5ECF6\", \"caxis\": {\"gridcolor\": \"white\", \"linecolor\": \"white\", \"ticks\": \"\"}}, \"title\": {\"x\": 0.05}, \"xaxis\": {\"automargin\": true, \"gridcolor\": \"white\", \"linecolor\": \"white\", \"ticks\": \"\", \"title\": {\"standoff\": 15}, \"zerolinecolor\": \"white\", \"zerolinewidth\": 2}, \"yaxis\": {\"automargin\": true, \"gridcolor\": \"white\", \"linecolor\": \"white\", \"ticks\": \"\", \"title\": {\"standoff\": 15}, \"zerolinecolor\": \"white\", \"zerolinewidth\": 2}}}, \"title\": {\"text\": \"Observed\"}, \"xaxis\": {\"anchor\": \"y\", \"domain\": [0.0, 1.0], \"linewidth\": 1, \"showticklabels\": false}, \"yaxis\": {\"anchor\": \"x\", \"domain\": [0.0, 1.0], \"title\": {\"text\": \"\"}}},\n",
              "                        {\"responsive\": true}\n",
              "                    ).then(function(){\n",
              "                            \n",
              "var gd = document.getElementById('e658b3f1-fa0f-4a41-a508-2c3dcd4c3063');\n",
              "var x = new MutationObserver(function (mutations, observer) {{\n",
              "        var display = window.getComputedStyle(gd).display;\n",
              "        if (!display || display === 'none') {{\n",
              "            console.log([gd, 'removed!']);\n",
              "            Plotly.purge(gd);\n",
              "            observer.disconnect();\n",
              "        }}\n",
              "}});\n",
              "\n",
              "// Listen for the removal of the full notebook cells\n",
              "var notebookContainer = gd.closest('#notebook-container');\n",
              "if (notebookContainer) {{\n",
              "    x.observe(notebookContainer, {childList: true});\n",
              "}}\n",
              "\n",
              "// Listen for the clearing of the current output cell\n",
              "var outputEl = gd.closest('.output');\n",
              "if (outputEl) {{\n",
              "    x.observe(outputEl, {childList: true});\n",
              "}}\n",
              "\n",
              "                        })\n",
              "                };\n",
              "                \n",
              "            </script>\n",
              "        </div>\n",
              "</body>\n",
              "</html>"
            ]
          },
          "metadata": {
            "tags": []
          }
        },
        {
          "output_type": "error",
          "ename": "ValueError",
          "evalue": "ignored",
          "traceback": [
            "\u001b[0;31m---------------------------------------------------------------------------\u001b[0m",
            "\u001b[0;31mValueError\u001b[0m                                Traceback (most recent call last)",
            "\u001b[0;32m<ipython-input-21-378beb541c40>\u001b[0m in \u001b[0;36m<module>\u001b[0;34m()\u001b[0m\n\u001b[1;32m     37\u001b[0m                             \u001b[0;34m'Seasonality'\u001b[0m\u001b[0;34m,\u001b[0m\u001b[0;34m\u001b[0m\u001b[0;34m\u001b[0m\u001b[0m\n\u001b[1;32m     38\u001b[0m                             'Residuals'],\n\u001b[0;32m---> 39\u001b[0;31m                     line_widths=[1, 2, 1, 1])\n\u001b[0m",
            "\u001b[0;32m<ipython-input-21-378beb541c40>\u001b[0m in \u001b[0;36mplot_decompositions\u001b[0;34m(decompositions, titles, line_widths)\u001b[0m\n\u001b[1;32m      7\u001b[0m               \u001b[0my\u001b[0m\u001b[0;34m=\u001b[0m\u001b[0;34m'PM2.5'\u001b[0m\u001b[0;34m,\u001b[0m\u001b[0;34m\u001b[0m\u001b[0;34m\u001b[0m\u001b[0m\n\u001b[1;32m      8\u001b[0m               \u001b[0mtitle\u001b[0m\u001b[0;34m=\u001b[0m\u001b[0mt\u001b[0m\u001b[0;34m,\u001b[0m\u001b[0;34m\u001b[0m\u001b[0;34m\u001b[0m\u001b[0m\n\u001b[0;32m----> 9\u001b[0;31m               height=300)\n\u001b[0m\u001b[1;32m     10\u001b[0m \u001b[0;34m\u001b[0m\u001b[0m\n\u001b[1;32m     11\u001b[0m         \u001b[0;31m# adjust line width\u001b[0m\u001b[0;34m\u001b[0m\u001b[0;34m\u001b[0m\u001b[0;34m\u001b[0m\u001b[0m\n",
            "\u001b[0;32m/usr/local/lib/python3.7/dist-packages/plotly/express/_chart_types.py\u001b[0m in \u001b[0;36mline\u001b[0;34m(data_frame, x, y, line_group, color, line_dash, hover_name, hover_data, custom_data, text, facet_row, facet_col, facet_col_wrap, error_x, error_x_minus, error_y, error_y_minus, animation_frame, animation_group, category_orders, labels, color_discrete_sequence, color_discrete_map, line_dash_sequence, line_dash_map, log_x, log_y, range_x, range_y, line_shape, render_mode, title, template, width, height)\u001b[0m\n\u001b[1;32m    212\u001b[0m     \u001b[0ma\u001b[0m \u001b[0mpolyline\u001b[0m \u001b[0mmark\u001b[0m \u001b[0;32min\u001b[0m \u001b[0;36m2\u001b[0m\u001b[0mD\u001b[0m \u001b[0mspace\u001b[0m\u001b[0;34m.\u001b[0m\u001b[0;34m\u001b[0m\u001b[0;34m\u001b[0m\u001b[0m\n\u001b[1;32m    213\u001b[0m     \"\"\"\n\u001b[0;32m--> 214\u001b[0;31m     \u001b[0;32mreturn\u001b[0m \u001b[0mmake_figure\u001b[0m\u001b[0;34m(\u001b[0m\u001b[0margs\u001b[0m\u001b[0;34m=\u001b[0m\u001b[0mlocals\u001b[0m\u001b[0;34m(\u001b[0m\u001b[0;34m)\u001b[0m\u001b[0;34m,\u001b[0m \u001b[0mconstructor\u001b[0m\u001b[0;34m=\u001b[0m\u001b[0mgo\u001b[0m\u001b[0;34m.\u001b[0m\u001b[0mScatter\u001b[0m\u001b[0;34m)\u001b[0m\u001b[0;34m\u001b[0m\u001b[0;34m\u001b[0m\u001b[0m\n\u001b[0m\u001b[1;32m    215\u001b[0m \u001b[0;34m\u001b[0m\u001b[0m\n\u001b[1;32m    216\u001b[0m \u001b[0;34m\u001b[0m\u001b[0m\n",
            "\u001b[0;32m/usr/local/lib/python3.7/dist-packages/plotly/express/_core.py\u001b[0m in \u001b[0;36mmake_figure\u001b[0;34m(args, constructor, trace_patch, layout_patch)\u001b[0m\n\u001b[1;32m   1170\u001b[0m \u001b[0;34m\u001b[0m\u001b[0m\n\u001b[1;32m   1171\u001b[0m     args, trace_specs, grouped_mappings, sizeref, show_colorbar = infer_config(\n\u001b[0;32m-> 1172\u001b[0;31m         \u001b[0margs\u001b[0m\u001b[0;34m,\u001b[0m \u001b[0mconstructor\u001b[0m\u001b[0;34m,\u001b[0m \u001b[0mtrace_patch\u001b[0m\u001b[0;34m\u001b[0m\u001b[0;34m\u001b[0m\u001b[0m\n\u001b[0m\u001b[1;32m   1173\u001b[0m     )\n\u001b[1;32m   1174\u001b[0m     \u001b[0mgrouper\u001b[0m \u001b[0;34m=\u001b[0m \u001b[0;34m[\u001b[0m\u001b[0mx\u001b[0m\u001b[0;34m.\u001b[0m\u001b[0mgrouper\u001b[0m \u001b[0;32mor\u001b[0m \u001b[0mone_group\u001b[0m \u001b[0;32mfor\u001b[0m \u001b[0mx\u001b[0m \u001b[0;32min\u001b[0m \u001b[0mgrouped_mappings\u001b[0m\u001b[0;34m]\u001b[0m \u001b[0;32mor\u001b[0m \u001b[0;34m[\u001b[0m\u001b[0mone_group\u001b[0m\u001b[0;34m]\u001b[0m\u001b[0;34m\u001b[0m\u001b[0;34m\u001b[0m\u001b[0m\n",
            "\u001b[0;32m/usr/local/lib/python3.7/dist-packages/plotly/express/_core.py\u001b[0m in \u001b[0;36minfer_config\u001b[0;34m(args, constructor, trace_patch)\u001b[0m\n\u001b[1;32m   1026\u001b[0m             \u001b[0mall_attrables\u001b[0m \u001b[0;34m+=\u001b[0m \u001b[0;34m[\u001b[0m\u001b[0mgroup_attr\u001b[0m\u001b[0;34m]\u001b[0m\u001b[0;34m\u001b[0m\u001b[0;34m\u001b[0m\u001b[0m\n\u001b[1;32m   1027\u001b[0m \u001b[0;34m\u001b[0m\u001b[0m\n\u001b[0;32m-> 1028\u001b[0;31m     \u001b[0margs\u001b[0m \u001b[0;34m=\u001b[0m \u001b[0mbuild_dataframe\u001b[0m\u001b[0;34m(\u001b[0m\u001b[0margs\u001b[0m\u001b[0;34m,\u001b[0m \u001b[0mall_attrables\u001b[0m\u001b[0;34m,\u001b[0m \u001b[0marray_attrables\u001b[0m\u001b[0;34m)\u001b[0m\u001b[0;34m\u001b[0m\u001b[0;34m\u001b[0m\u001b[0m\n\u001b[0m\u001b[1;32m   1029\u001b[0m \u001b[0;34m\u001b[0m\u001b[0m\n\u001b[1;32m   1030\u001b[0m     \u001b[0mattrs\u001b[0m \u001b[0;34m=\u001b[0m \u001b[0;34m[\u001b[0m\u001b[0mk\u001b[0m \u001b[0;32mfor\u001b[0m \u001b[0mk\u001b[0m \u001b[0;32min\u001b[0m \u001b[0mattrables\u001b[0m \u001b[0;32mif\u001b[0m \u001b[0mk\u001b[0m \u001b[0;32min\u001b[0m \u001b[0margs\u001b[0m\u001b[0;34m]\u001b[0m\u001b[0;34m\u001b[0m\u001b[0;34m\u001b[0m\u001b[0m\n",
            "\u001b[0;32m/usr/local/lib/python3.7/dist-packages/plotly/express/_core.py\u001b[0m in \u001b[0;36mbuild_dataframe\u001b[0;34m(args, attrables, array_attrables)\u001b[0m\n\u001b[1;32m    944\u001b[0m                             \u001b[0;34m\"\\n To use the index, pass it in directly as `df.index`.\"\u001b[0m\u001b[0;34m\u001b[0m\u001b[0;34m\u001b[0m\u001b[0m\n\u001b[1;32m    945\u001b[0m                         )\n\u001b[0;32m--> 946\u001b[0;31m                     \u001b[0;32mraise\u001b[0m \u001b[0mValueError\u001b[0m\u001b[0;34m(\u001b[0m\u001b[0merr_msg\u001b[0m\u001b[0;34m)\u001b[0m\u001b[0;34m\u001b[0m\u001b[0;34m\u001b[0m\u001b[0m\n\u001b[0m\u001b[1;32m    947\u001b[0m                 \u001b[0;32mif\u001b[0m \u001b[0mlength\u001b[0m \u001b[0;32mand\u001b[0m \u001b[0mlen\u001b[0m\u001b[0;34m(\u001b[0m\u001b[0mdf_input\u001b[0m\u001b[0;34m[\u001b[0m\u001b[0margument\u001b[0m\u001b[0;34m]\u001b[0m\u001b[0;34m)\u001b[0m \u001b[0;34m!=\u001b[0m \u001b[0mlength\u001b[0m\u001b[0;34m:\u001b[0m\u001b[0;34m\u001b[0m\u001b[0;34m\u001b[0m\u001b[0m\n\u001b[1;32m    948\u001b[0m                     raise ValueError(\n",
            "\u001b[0;31mValueError\u001b[0m: Value of 'y' is not the name of a column in 'data_frame'. Expected one of ['trend'] but received: PM2.5"
          ]
        }
      ]
    },
    {
      "cell_type": "markdown",
      "metadata": {
        "id": "impressed-rugby"
      },
      "source": [
        "- There is clearly an downward trend in the above plot.\n",
        "- You can also see the uniform seasonal change.\n",
        "- Non-uniform noise that represent outliers and missing values"
      ],
      "id": "impressed-rugby"
    },
    {
      "cell_type": "markdown",
      "metadata": {
        "id": "coastal-hudson"
      },
      "source": [
        "# Date & Time Patterns"
      ],
      "id": "coastal-hudson"
    },
    {
      "cell_type": "markdown",
      "metadata": {
        "id": "affecting-veteran"
      },
      "source": [
        "### Yearly Seasonal Patterns\n",
        "\n",
        "Season 1 = Winter\n",
        "\n",
        "Season 2 = Spring\n",
        "\n",
        "Season 3 = Summer\n",
        "\n",
        "Season 4 = Fall"
      ],
      "id": "affecting-veteran"
    },
    {
      "cell_type": "code",
      "metadata": {
        "id": "auburn-trash",
        "colab": {
          "base_uri": "https://localhost:8080/",
          "height": 542
        },
        "outputId": "1b1f52e4-1775-4552-f92d-c4d581f2fe65"
      },
      "source": [
        "# aggregated data\n",
        "_ = daily_avg\\\n",
        "    .groupby(['year', 'season'], as_index=False)\\\n",
        "    .agg({'PM2.5':'max'})\n",
        "\n",
        "# plotting\n",
        "fig = px.line(_, \n",
        "              x='year', \n",
        "              y='PM2.5', \n",
        "              color='season', \n",
        "              title='Max Yearly 24-Hour PM2.5 Average per Season')\n",
        "fig.update_layout(xaxis_title='Year',\n",
        "                  yaxis_title='PM2.5')\n",
        "fig.show()"
      ],
      "id": "auburn-trash",
      "execution_count": null,
      "outputs": [
        {
          "output_type": "display_data",
          "data": {
            "text/html": [
              "<html>\n",
              "<head><meta charset=\"utf-8\" /></head>\n",
              "<body>\n",
              "    <div>\n",
              "            <script src=\"https://cdnjs.cloudflare.com/ajax/libs/mathjax/2.7.5/MathJax.js?config=TeX-AMS-MML_SVG\"></script><script type=\"text/javascript\">if (window.MathJax) {MathJax.Hub.Config({SVG: {font: \"STIX-Web\"}});}</script>\n",
              "                <script type=\"text/javascript\">window.PlotlyConfig = {MathJaxConfig: 'local'};</script>\n",
              "        <script src=\"https://cdn.plot.ly/plotly-latest.min.js\"></script>    \n",
              "            <div id=\"e8cf0a64-0aa0-498e-b42f-86965220ef4a\" class=\"plotly-graph-div\" style=\"height:525px; width:100%;\"></div>\n",
              "            <script type=\"text/javascript\">\n",
              "                \n",
              "                    window.PLOTLYENV=window.PLOTLYENV || {};\n",
              "                    \n",
              "                if (document.getElementById(\"e8cf0a64-0aa0-498e-b42f-86965220ef4a\")) {\n",
              "                    Plotly.newPlot(\n",
              "                        'e8cf0a64-0aa0-498e-b42f-86965220ef4a',\n",
              "                        [{\"hoverlabel\": {\"namelength\": 0}, \"hovertemplate\": \"season=1<br>year=%{x}<br>PM2.5=%{y}\", \"legendgroup\": \"season=1\", \"line\": {\"color\": \"#636efa\", \"dash\": \"solid\"}, \"mode\": \"lines\", \"name\": \"season=1\", \"showlegend\": true, \"type\": \"scatter\", \"x\": [2013, 2014, 2015, 2016, 2017], \"xaxis\": \"x\", \"y\": [283.4166666666667, 417.875, 481.125, 383.0, 481.2916666666667], \"yaxis\": \"y\"}, {\"hoverlabel\": {\"namelength\": 0}, \"hovertemplate\": \"season=2<br>year=%{x}<br>PM2.5=%{y}\", \"legendgroup\": \"season=2\", \"line\": {\"color\": \"#EF553B\", \"dash\": \"solid\"}, \"mode\": \"lines\", \"name\": \"season=2\", \"showlegend\": true, \"type\": \"scatter\", \"x\": [2013, 2014, 2015, 2016], \"xaxis\": \"x\", \"y\": [284.9166666666667, 287.4166666666667, 217.58333333333334, 347.2916666666667], \"yaxis\": \"y\"}, {\"hoverlabel\": {\"namelength\": 0}, \"hovertemplate\": \"season=3<br>year=%{x}<br>PM2.5=%{y}\", \"legendgroup\": \"season=3\", \"line\": {\"color\": \"#00cc96\", \"dash\": \"solid\"}, \"mode\": \"lines\", \"name\": \"season=3\", \"showlegend\": true, \"type\": \"scatter\", \"x\": [2013, 2014, 2015, 2016], \"xaxis\": \"x\", \"y\": [315.125, 199.375, 180.04166666666666, 150.58333333333334], \"yaxis\": \"y\"}, {\"hoverlabel\": {\"namelength\": 0}, \"hovertemplate\": \"season=4<br>year=%{x}<br>PM2.5=%{y}\", \"legendgroup\": \"season=4\", \"line\": {\"color\": \"#ab63fa\", \"dash\": \"solid\"}, \"mode\": \"lines\", \"name\": \"season=4\", \"showlegend\": true, \"type\": \"scatter\", \"x\": [2013, 2014, 2015, 2016], \"xaxis\": \"x\", \"y\": [313.625, 356.6041666666667, 318.5, 274.7916666666667], \"yaxis\": \"y\"}],\n",
              "                        {\"legend\": {\"tracegroupgap\": 0}, \"template\": {\"data\": {\"bar\": [{\"error_x\": {\"color\": \"#2a3f5f\"}, \"error_y\": {\"color\": \"#2a3f5f\"}, \"marker\": {\"line\": {\"color\": \"#E5ECF6\", \"width\": 0.5}}, \"type\": \"bar\"}], \"barpolar\": [{\"marker\": {\"line\": {\"color\": \"#E5ECF6\", \"width\": 0.5}}, \"type\": \"barpolar\"}], \"carpet\": [{\"aaxis\": {\"endlinecolor\": \"#2a3f5f\", \"gridcolor\": \"white\", \"linecolor\": \"white\", \"minorgridcolor\": \"white\", \"startlinecolor\": \"#2a3f5f\"}, \"baxis\": {\"endlinecolor\": \"#2a3f5f\", \"gridcolor\": \"white\", \"linecolor\": \"white\", \"minorgridcolor\": \"white\", \"startlinecolor\": \"#2a3f5f\"}, \"type\": \"carpet\"}], \"choropleth\": [{\"colorbar\": {\"outlinewidth\": 0, \"ticks\": \"\"}, \"type\": \"choropleth\"}], \"contour\": [{\"colorbar\": {\"outlinewidth\": 0, \"ticks\": \"\"}, \"colorscale\": [[0.0, \"#0d0887\"], [0.1111111111111111, \"#46039f\"], [0.2222222222222222, \"#7201a8\"], [0.3333333333333333, \"#9c179e\"], [0.4444444444444444, \"#bd3786\"], [0.5555555555555556, \"#d8576b\"], [0.6666666666666666, \"#ed7953\"], [0.7777777777777778, \"#fb9f3a\"], [0.8888888888888888, \"#fdca26\"], [1.0, \"#f0f921\"]], \"type\": \"contour\"}], \"contourcarpet\": [{\"colorbar\": {\"outlinewidth\": 0, \"ticks\": \"\"}, \"type\": \"contourcarpet\"}], \"heatmap\": [{\"colorbar\": {\"outlinewidth\": 0, \"ticks\": \"\"}, \"colorscale\": [[0.0, \"#0d0887\"], [0.1111111111111111, \"#46039f\"], [0.2222222222222222, \"#7201a8\"], [0.3333333333333333, \"#9c179e\"], [0.4444444444444444, \"#bd3786\"], [0.5555555555555556, \"#d8576b\"], [0.6666666666666666, \"#ed7953\"], [0.7777777777777778, \"#fb9f3a\"], [0.8888888888888888, \"#fdca26\"], [1.0, \"#f0f921\"]], \"type\": \"heatmap\"}], \"heatmapgl\": [{\"colorbar\": {\"outlinewidth\": 0, \"ticks\": \"\"}, \"colorscale\": [[0.0, \"#0d0887\"], [0.1111111111111111, \"#46039f\"], [0.2222222222222222, \"#7201a8\"], [0.3333333333333333, \"#9c179e\"], [0.4444444444444444, \"#bd3786\"], [0.5555555555555556, \"#d8576b\"], [0.6666666666666666, \"#ed7953\"], [0.7777777777777778, \"#fb9f3a\"], [0.8888888888888888, \"#fdca26\"], [1.0, \"#f0f921\"]], \"type\": \"heatmapgl\"}], \"histogram\": [{\"marker\": {\"colorbar\": {\"outlinewidth\": 0, \"ticks\": \"\"}}, \"type\": \"histogram\"}], \"histogram2d\": [{\"colorbar\": {\"outlinewidth\": 0, \"ticks\": \"\"}, \"colorscale\": [[0.0, \"#0d0887\"], [0.1111111111111111, \"#46039f\"], [0.2222222222222222, \"#7201a8\"], [0.3333333333333333, \"#9c179e\"], [0.4444444444444444, \"#bd3786\"], [0.5555555555555556, \"#d8576b\"], [0.6666666666666666, \"#ed7953\"], [0.7777777777777778, \"#fb9f3a\"], [0.8888888888888888, \"#fdca26\"], [1.0, \"#f0f921\"]], \"type\": \"histogram2d\"}], \"histogram2dcontour\": [{\"colorbar\": {\"outlinewidth\": 0, \"ticks\": \"\"}, \"colorscale\": [[0.0, \"#0d0887\"], [0.1111111111111111, \"#46039f\"], [0.2222222222222222, \"#7201a8\"], [0.3333333333333333, \"#9c179e\"], [0.4444444444444444, \"#bd3786\"], [0.5555555555555556, \"#d8576b\"], [0.6666666666666666, \"#ed7953\"], [0.7777777777777778, \"#fb9f3a\"], [0.8888888888888888, \"#fdca26\"], [1.0, \"#f0f921\"]], \"type\": \"histogram2dcontour\"}], \"mesh3d\": [{\"colorbar\": {\"outlinewidth\": 0, \"ticks\": \"\"}, \"type\": \"mesh3d\"}], \"parcoords\": [{\"line\": {\"colorbar\": {\"outlinewidth\": 0, \"ticks\": \"\"}}, \"type\": \"parcoords\"}], \"pie\": [{\"automargin\": true, \"type\": \"pie\"}], \"scatter\": [{\"marker\": {\"colorbar\": {\"outlinewidth\": 0, \"ticks\": \"\"}}, \"type\": \"scatter\"}], \"scatter3d\": [{\"line\": {\"colorbar\": {\"outlinewidth\": 0, \"ticks\": \"\"}}, \"marker\": {\"colorbar\": {\"outlinewidth\": 0, \"ticks\": \"\"}}, \"type\": \"scatter3d\"}], \"scattercarpet\": [{\"marker\": {\"colorbar\": {\"outlinewidth\": 0, \"ticks\": \"\"}}, \"type\": \"scattercarpet\"}], \"scattergeo\": [{\"marker\": {\"colorbar\": {\"outlinewidth\": 0, \"ticks\": \"\"}}, \"type\": \"scattergeo\"}], \"scattergl\": [{\"marker\": {\"colorbar\": {\"outlinewidth\": 0, \"ticks\": \"\"}}, \"type\": \"scattergl\"}], \"scattermapbox\": [{\"marker\": {\"colorbar\": {\"outlinewidth\": 0, \"ticks\": \"\"}}, \"type\": \"scattermapbox\"}], \"scatterpolar\": [{\"marker\": {\"colorbar\": {\"outlinewidth\": 0, \"ticks\": \"\"}}, \"type\": \"scatterpolar\"}], \"scatterpolargl\": [{\"marker\": {\"colorbar\": {\"outlinewidth\": 0, \"ticks\": \"\"}}, \"type\": \"scatterpolargl\"}], \"scatterternary\": [{\"marker\": {\"colorbar\": {\"outlinewidth\": 0, \"ticks\": \"\"}}, \"type\": \"scatterternary\"}], \"surface\": [{\"colorbar\": {\"outlinewidth\": 0, \"ticks\": \"\"}, \"colorscale\": [[0.0, \"#0d0887\"], [0.1111111111111111, \"#46039f\"], [0.2222222222222222, \"#7201a8\"], [0.3333333333333333, \"#9c179e\"], [0.4444444444444444, \"#bd3786\"], [0.5555555555555556, \"#d8576b\"], [0.6666666666666666, \"#ed7953\"], [0.7777777777777778, \"#fb9f3a\"], [0.8888888888888888, \"#fdca26\"], [1.0, \"#f0f921\"]], \"type\": \"surface\"}], \"table\": [{\"cells\": {\"fill\": {\"color\": \"#EBF0F8\"}, \"line\": {\"color\": \"white\"}}, \"header\": {\"fill\": {\"color\": \"#C8D4E3\"}, \"line\": {\"color\": \"white\"}}, \"type\": \"table\"}]}, \"layout\": {\"annotationdefaults\": {\"arrowcolor\": \"#2a3f5f\", \"arrowhead\": 0, \"arrowwidth\": 1}, \"coloraxis\": {\"colorbar\": {\"outlinewidth\": 0, \"ticks\": \"\"}}, \"colorscale\": {\"diverging\": [[0, \"#8e0152\"], [0.1, \"#c51b7d\"], [0.2, \"#de77ae\"], [0.3, \"#f1b6da\"], [0.4, \"#fde0ef\"], [0.5, \"#f7f7f7\"], [0.6, \"#e6f5d0\"], [0.7, \"#b8e186\"], [0.8, \"#7fbc41\"], [0.9, \"#4d9221\"], [1, \"#276419\"]], \"sequential\": [[0.0, \"#0d0887\"], [0.1111111111111111, \"#46039f\"], [0.2222222222222222, \"#7201a8\"], [0.3333333333333333, \"#9c179e\"], [0.4444444444444444, \"#bd3786\"], [0.5555555555555556, \"#d8576b\"], [0.6666666666666666, \"#ed7953\"], [0.7777777777777778, \"#fb9f3a\"], [0.8888888888888888, \"#fdca26\"], [1.0, \"#f0f921\"]], \"sequentialminus\": [[0.0, \"#0d0887\"], [0.1111111111111111, \"#46039f\"], [0.2222222222222222, \"#7201a8\"], [0.3333333333333333, \"#9c179e\"], [0.4444444444444444, \"#bd3786\"], [0.5555555555555556, \"#d8576b\"], [0.6666666666666666, \"#ed7953\"], [0.7777777777777778, \"#fb9f3a\"], [0.8888888888888888, \"#fdca26\"], [1.0, \"#f0f921\"]]}, \"colorway\": [\"#636efa\", \"#EF553B\", \"#00cc96\", \"#ab63fa\", \"#FFA15A\", \"#19d3f3\", \"#FF6692\", \"#B6E880\", \"#FF97FF\", \"#FECB52\"], \"font\": {\"color\": \"#2a3f5f\"}, \"geo\": {\"bgcolor\": \"white\", \"lakecolor\": \"white\", \"landcolor\": \"#E5ECF6\", \"showlakes\": true, \"showland\": true, \"subunitcolor\": \"white\"}, \"hoverlabel\": {\"align\": \"left\"}, \"hovermode\": \"closest\", \"mapbox\": {\"style\": \"light\"}, \"paper_bgcolor\": \"white\", \"plot_bgcolor\": \"#E5ECF6\", \"polar\": {\"angularaxis\": {\"gridcolor\": \"white\", \"linecolor\": \"white\", \"ticks\": \"\"}, \"bgcolor\": \"#E5ECF6\", \"radialaxis\": {\"gridcolor\": \"white\", \"linecolor\": \"white\", \"ticks\": \"\"}}, \"scene\": {\"xaxis\": {\"backgroundcolor\": \"#E5ECF6\", \"gridcolor\": \"white\", \"gridwidth\": 2, \"linecolor\": \"white\", \"showbackground\": true, \"ticks\": \"\", \"zerolinecolor\": \"white\"}, \"yaxis\": {\"backgroundcolor\": \"#E5ECF6\", \"gridcolor\": \"white\", \"gridwidth\": 2, \"linecolor\": \"white\", \"showbackground\": true, \"ticks\": \"\", \"zerolinecolor\": \"white\"}, \"zaxis\": {\"backgroundcolor\": \"#E5ECF6\", \"gridcolor\": \"white\", \"gridwidth\": 2, \"linecolor\": \"white\", \"showbackground\": true, \"ticks\": \"\", \"zerolinecolor\": \"white\"}}, \"shapedefaults\": {\"line\": {\"color\": \"#2a3f5f\"}}, \"ternary\": {\"aaxis\": {\"gridcolor\": \"white\", \"linecolor\": \"white\", \"ticks\": \"\"}, \"baxis\": {\"gridcolor\": \"white\", \"linecolor\": \"white\", \"ticks\": \"\"}, \"bgcolor\": \"#E5ECF6\", \"caxis\": {\"gridcolor\": \"white\", \"linecolor\": \"white\", \"ticks\": \"\"}}, \"title\": {\"x\": 0.05}, \"xaxis\": {\"automargin\": true, \"gridcolor\": \"white\", \"linecolor\": \"white\", \"ticks\": \"\", \"title\": {\"standoff\": 15}, \"zerolinecolor\": \"white\", \"zerolinewidth\": 2}, \"yaxis\": {\"automargin\": true, \"gridcolor\": \"white\", \"linecolor\": \"white\", \"ticks\": \"\", \"title\": {\"standoff\": 15}, \"zerolinecolor\": \"white\", \"zerolinewidth\": 2}}}, \"title\": {\"text\": \"Max Yearly 24-Hour PM2.5 Average per Season\"}, \"xaxis\": {\"anchor\": \"y\", \"domain\": [0.0, 1.0], \"title\": {\"text\": \"Year\"}}, \"yaxis\": {\"anchor\": \"x\", \"domain\": [0.0, 1.0], \"title\": {\"text\": \"PM2.5\"}}},\n",
              "                        {\"responsive\": true}\n",
              "                    ).then(function(){\n",
              "                            \n",
              "var gd = document.getElementById('e8cf0a64-0aa0-498e-b42f-86965220ef4a');\n",
              "var x = new MutationObserver(function (mutations, observer) {{\n",
              "        var display = window.getComputedStyle(gd).display;\n",
              "        if (!display || display === 'none') {{\n",
              "            console.log([gd, 'removed!']);\n",
              "            Plotly.purge(gd);\n",
              "            observer.disconnect();\n",
              "        }}\n",
              "}});\n",
              "\n",
              "// Listen for the removal of the full notebook cells\n",
              "var notebookContainer = gd.closest('#notebook-container');\n",
              "if (notebookContainer) {{\n",
              "    x.observe(notebookContainer, {childList: true});\n",
              "}}\n",
              "\n",
              "// Listen for the clearing of the current output cell\n",
              "var outputEl = gd.closest('.output');\n",
              "if (outputEl) {{\n",
              "    x.observe(outputEl, {childList: true});\n",
              "}}\n",
              "\n",
              "                        })\n",
              "                };\n",
              "                \n",
              "            </script>\n",
              "        </div>\n",
              "</body>\n",
              "</html>"
            ]
          },
          "metadata": {
            "tags": []
          }
        }
      ]
    },
    {
      "cell_type": "code",
      "metadata": {
        "id": "statutory-recall",
        "colab": {
          "base_uri": "https://localhost:8080/",
          "height": 542
        },
        "outputId": "5136a9f5-b3fe-4391-a9ab-28e893d0dfcc"
      },
      "source": [
        "# aggregated data\n",
        "_ = daily_avg\\\n",
        "    .groupby(['year', 'season'], as_index=False)\\\n",
        "    .agg({'PM2.5':'median'})\n",
        "\n",
        "# plotting\n",
        "fig = px.line(_, \n",
        "              x='year', \n",
        "              y='PM2.5', \n",
        "              color='season', \n",
        "              title='Median Yearly 24-Hour PM2.5 Average per Season')\n",
        "fig.update_layout(xaxis_title='Year',\n",
        "                  yaxis_title='PM2.5')\n",
        "fig.show()"
      ],
      "id": "statutory-recall",
      "execution_count": null,
      "outputs": [
        {
          "output_type": "display_data",
          "data": {
            "text/html": [
              "<html>\n",
              "<head><meta charset=\"utf-8\" /></head>\n",
              "<body>\n",
              "    <div>\n",
              "            <script src=\"https://cdnjs.cloudflare.com/ajax/libs/mathjax/2.7.5/MathJax.js?config=TeX-AMS-MML_SVG\"></script><script type=\"text/javascript\">if (window.MathJax) {MathJax.Hub.Config({SVG: {font: \"STIX-Web\"}});}</script>\n",
              "                <script type=\"text/javascript\">window.PlotlyConfig = {MathJaxConfig: 'local'};</script>\n",
              "        <script src=\"https://cdn.plot.ly/plotly-latest.min.js\"></script>    \n",
              "            <div id=\"51a0f19f-90c5-4490-a0bd-5d5ebd562114\" class=\"plotly-graph-div\" style=\"height:525px; width:100%;\"></div>\n",
              "            <script type=\"text/javascript\">\n",
              "                \n",
              "                    window.PLOTLYENV=window.PLOTLYENV || {};\n",
              "                    \n",
              "                if (document.getElementById(\"51a0f19f-90c5-4490-a0bd-5d5ebd562114\")) {\n",
              "                    Plotly.newPlot(\n",
              "                        '51a0f19f-90c5-4490-a0bd-5d5ebd562114',\n",
              "                        [{\"hoverlabel\": {\"namelength\": 0}, \"hovertemplate\": \"season=1<br>year=%{x}<br>PM2.5=%{y}\", \"legendgroup\": \"season=1\", \"line\": {\"color\": \"#636efa\", \"dash\": \"solid\"}, \"mode\": \"lines\", \"name\": \"season=1\", \"showlegend\": true, \"type\": \"scatter\", \"x\": [2013, 2014, 2015, 2016, 2017], \"xaxis\": \"x\", \"y\": [78.58333333333333, 86.54166666666666, 96.8125, 43.916666666666664, 58.020833333333336], \"yaxis\": \"y\"}, {\"hoverlabel\": {\"namelength\": 0}, \"hovertemplate\": \"season=2<br>year=%{x}<br>PM2.5=%{y}\", \"legendgroup\": \"season=2\", \"line\": {\"color\": \"#EF553B\", \"dash\": \"solid\"}, \"mode\": \"lines\", \"name\": \"season=2\", \"showlegend\": true, \"type\": \"scatter\", \"x\": [2013, 2014, 2015, 2016], \"xaxis\": \"x\", \"y\": [74.85416666666667, 76.10416666666666, 58.47916666666667, 53.02083333333333], \"yaxis\": \"y\"}, {\"hoverlabel\": {\"namelength\": 0}, \"hovertemplate\": \"season=3<br>year=%{x}<br>PM2.5=%{y}\", \"legendgroup\": \"season=3\", \"line\": {\"color\": \"#00cc96\", \"dash\": \"solid\"}, \"mode\": \"lines\", \"name\": \"season=3\", \"showlegend\": true, \"type\": \"scatter\", \"x\": [2013, 2014, 2015, 2016], \"xaxis\": \"x\", \"y\": [70.52083333333334, 61.625, 49.083333333333336, 54.32291666666667], \"yaxis\": \"y\"}, {\"hoverlabel\": {\"namelength\": 0}, \"hovertemplate\": \"season=4<br>year=%{x}<br>PM2.5=%{y}\", \"legendgroup\": \"season=4\", \"line\": {\"color\": \"#ab63fa\", \"dash\": \"solid\"}, \"mode\": \"lines\", \"name\": \"season=4\", \"showlegend\": true, \"type\": \"scatter\", \"x\": [2013, 2014, 2015, 2016], \"xaxis\": \"x\", \"y\": [76.375, 72.54166666666667, 48.083333333333336, 60.083333333333336], \"yaxis\": \"y\"}],\n",
              "                        {\"legend\": {\"tracegroupgap\": 0}, \"template\": {\"data\": {\"bar\": [{\"error_x\": {\"color\": \"#2a3f5f\"}, \"error_y\": {\"color\": \"#2a3f5f\"}, \"marker\": {\"line\": {\"color\": \"#E5ECF6\", \"width\": 0.5}}, \"type\": \"bar\"}], \"barpolar\": [{\"marker\": {\"line\": {\"color\": \"#E5ECF6\", \"width\": 0.5}}, \"type\": \"barpolar\"}], \"carpet\": [{\"aaxis\": {\"endlinecolor\": \"#2a3f5f\", \"gridcolor\": \"white\", \"linecolor\": \"white\", \"minorgridcolor\": \"white\", \"startlinecolor\": \"#2a3f5f\"}, \"baxis\": {\"endlinecolor\": \"#2a3f5f\", \"gridcolor\": \"white\", \"linecolor\": \"white\", \"minorgridcolor\": \"white\", \"startlinecolor\": \"#2a3f5f\"}, \"type\": \"carpet\"}], \"choropleth\": [{\"colorbar\": {\"outlinewidth\": 0, \"ticks\": \"\"}, \"type\": \"choropleth\"}], \"contour\": [{\"colorbar\": {\"outlinewidth\": 0, \"ticks\": \"\"}, \"colorscale\": [[0.0, \"#0d0887\"], [0.1111111111111111, \"#46039f\"], [0.2222222222222222, \"#7201a8\"], [0.3333333333333333, \"#9c179e\"], [0.4444444444444444, \"#bd3786\"], [0.5555555555555556, \"#d8576b\"], [0.6666666666666666, \"#ed7953\"], [0.7777777777777778, \"#fb9f3a\"], [0.8888888888888888, \"#fdca26\"], [1.0, \"#f0f921\"]], \"type\": \"contour\"}], \"contourcarpet\": [{\"colorbar\": {\"outlinewidth\": 0, \"ticks\": \"\"}, \"type\": \"contourcarpet\"}], \"heatmap\": [{\"colorbar\": {\"outlinewidth\": 0, \"ticks\": \"\"}, \"colorscale\": [[0.0, \"#0d0887\"], [0.1111111111111111, \"#46039f\"], [0.2222222222222222, \"#7201a8\"], [0.3333333333333333, \"#9c179e\"], [0.4444444444444444, \"#bd3786\"], [0.5555555555555556, \"#d8576b\"], [0.6666666666666666, \"#ed7953\"], [0.7777777777777778, \"#fb9f3a\"], [0.8888888888888888, \"#fdca26\"], [1.0, \"#f0f921\"]], \"type\": \"heatmap\"}], \"heatmapgl\": [{\"colorbar\": {\"outlinewidth\": 0, \"ticks\": \"\"}, \"colorscale\": [[0.0, \"#0d0887\"], [0.1111111111111111, \"#46039f\"], [0.2222222222222222, \"#7201a8\"], [0.3333333333333333, \"#9c179e\"], [0.4444444444444444, \"#bd3786\"], [0.5555555555555556, \"#d8576b\"], [0.6666666666666666, \"#ed7953\"], [0.7777777777777778, \"#fb9f3a\"], [0.8888888888888888, \"#fdca26\"], [1.0, \"#f0f921\"]], \"type\": \"heatmapgl\"}], \"histogram\": [{\"marker\": {\"colorbar\": {\"outlinewidth\": 0, \"ticks\": \"\"}}, \"type\": \"histogram\"}], \"histogram2d\": [{\"colorbar\": {\"outlinewidth\": 0, \"ticks\": \"\"}, \"colorscale\": [[0.0, \"#0d0887\"], [0.1111111111111111, \"#46039f\"], [0.2222222222222222, \"#7201a8\"], [0.3333333333333333, \"#9c179e\"], [0.4444444444444444, \"#bd3786\"], [0.5555555555555556, \"#d8576b\"], [0.6666666666666666, \"#ed7953\"], [0.7777777777777778, \"#fb9f3a\"], [0.8888888888888888, \"#fdca26\"], [1.0, \"#f0f921\"]], \"type\": \"histogram2d\"}], \"histogram2dcontour\": [{\"colorbar\": {\"outlinewidth\": 0, \"ticks\": \"\"}, \"colorscale\": [[0.0, \"#0d0887\"], [0.1111111111111111, \"#46039f\"], [0.2222222222222222, \"#7201a8\"], [0.3333333333333333, \"#9c179e\"], [0.4444444444444444, \"#bd3786\"], [0.5555555555555556, \"#d8576b\"], [0.6666666666666666, \"#ed7953\"], [0.7777777777777778, \"#fb9f3a\"], [0.8888888888888888, \"#fdca26\"], [1.0, \"#f0f921\"]], \"type\": \"histogram2dcontour\"}], \"mesh3d\": [{\"colorbar\": {\"outlinewidth\": 0, \"ticks\": \"\"}, \"type\": \"mesh3d\"}], \"parcoords\": [{\"line\": {\"colorbar\": {\"outlinewidth\": 0, \"ticks\": \"\"}}, \"type\": \"parcoords\"}], \"pie\": [{\"automargin\": true, \"type\": \"pie\"}], \"scatter\": [{\"marker\": {\"colorbar\": {\"outlinewidth\": 0, \"ticks\": \"\"}}, \"type\": \"scatter\"}], \"scatter3d\": [{\"line\": {\"colorbar\": {\"outlinewidth\": 0, \"ticks\": \"\"}}, \"marker\": {\"colorbar\": {\"outlinewidth\": 0, \"ticks\": \"\"}}, \"type\": \"scatter3d\"}], \"scattercarpet\": [{\"marker\": {\"colorbar\": {\"outlinewidth\": 0, \"ticks\": \"\"}}, \"type\": \"scattercarpet\"}], \"scattergeo\": [{\"marker\": {\"colorbar\": {\"outlinewidth\": 0, \"ticks\": \"\"}}, \"type\": \"scattergeo\"}], \"scattergl\": [{\"marker\": {\"colorbar\": {\"outlinewidth\": 0, \"ticks\": \"\"}}, \"type\": \"scattergl\"}], \"scattermapbox\": [{\"marker\": {\"colorbar\": {\"outlinewidth\": 0, \"ticks\": \"\"}}, \"type\": \"scattermapbox\"}], \"scatterpolar\": [{\"marker\": {\"colorbar\": {\"outlinewidth\": 0, \"ticks\": \"\"}}, \"type\": \"scatterpolar\"}], \"scatterpolargl\": [{\"marker\": {\"colorbar\": {\"outlinewidth\": 0, \"ticks\": \"\"}}, \"type\": \"scatterpolargl\"}], \"scatterternary\": [{\"marker\": {\"colorbar\": {\"outlinewidth\": 0, \"ticks\": \"\"}}, \"type\": \"scatterternary\"}], \"surface\": [{\"colorbar\": {\"outlinewidth\": 0, \"ticks\": \"\"}, \"colorscale\": [[0.0, \"#0d0887\"], [0.1111111111111111, \"#46039f\"], [0.2222222222222222, \"#7201a8\"], [0.3333333333333333, \"#9c179e\"], [0.4444444444444444, \"#bd3786\"], [0.5555555555555556, \"#d8576b\"], [0.6666666666666666, \"#ed7953\"], [0.7777777777777778, \"#fb9f3a\"], [0.8888888888888888, \"#fdca26\"], [1.0, \"#f0f921\"]], \"type\": \"surface\"}], \"table\": [{\"cells\": {\"fill\": {\"color\": \"#EBF0F8\"}, \"line\": {\"color\": \"white\"}}, \"header\": {\"fill\": {\"color\": \"#C8D4E3\"}, \"line\": {\"color\": \"white\"}}, \"type\": \"table\"}]}, \"layout\": {\"annotationdefaults\": {\"arrowcolor\": \"#2a3f5f\", \"arrowhead\": 0, \"arrowwidth\": 1}, \"coloraxis\": {\"colorbar\": {\"outlinewidth\": 0, \"ticks\": \"\"}}, \"colorscale\": {\"diverging\": [[0, \"#8e0152\"], [0.1, \"#c51b7d\"], [0.2, \"#de77ae\"], [0.3, \"#f1b6da\"], [0.4, \"#fde0ef\"], [0.5, \"#f7f7f7\"], [0.6, \"#e6f5d0\"], [0.7, \"#b8e186\"], [0.8, \"#7fbc41\"], [0.9, \"#4d9221\"], [1, \"#276419\"]], \"sequential\": [[0.0, \"#0d0887\"], [0.1111111111111111, \"#46039f\"], [0.2222222222222222, \"#7201a8\"], [0.3333333333333333, \"#9c179e\"], [0.4444444444444444, \"#bd3786\"], [0.5555555555555556, \"#d8576b\"], [0.6666666666666666, \"#ed7953\"], [0.7777777777777778, \"#fb9f3a\"], [0.8888888888888888, \"#fdca26\"], [1.0, \"#f0f921\"]], \"sequentialminus\": [[0.0, \"#0d0887\"], [0.1111111111111111, \"#46039f\"], [0.2222222222222222, \"#7201a8\"], [0.3333333333333333, \"#9c179e\"], [0.4444444444444444, \"#bd3786\"], [0.5555555555555556, \"#d8576b\"], [0.6666666666666666, \"#ed7953\"], [0.7777777777777778, \"#fb9f3a\"], [0.8888888888888888, \"#fdca26\"], [1.0, \"#f0f921\"]]}, \"colorway\": [\"#636efa\", \"#EF553B\", \"#00cc96\", \"#ab63fa\", \"#FFA15A\", \"#19d3f3\", \"#FF6692\", \"#B6E880\", \"#FF97FF\", \"#FECB52\"], \"font\": {\"color\": \"#2a3f5f\"}, \"geo\": {\"bgcolor\": \"white\", \"lakecolor\": \"white\", \"landcolor\": \"#E5ECF6\", \"showlakes\": true, \"showland\": true, \"subunitcolor\": \"white\"}, \"hoverlabel\": {\"align\": \"left\"}, \"hovermode\": \"closest\", \"mapbox\": {\"style\": \"light\"}, \"paper_bgcolor\": \"white\", \"plot_bgcolor\": \"#E5ECF6\", \"polar\": {\"angularaxis\": {\"gridcolor\": \"white\", \"linecolor\": \"white\", \"ticks\": \"\"}, \"bgcolor\": \"#E5ECF6\", \"radialaxis\": {\"gridcolor\": \"white\", \"linecolor\": \"white\", \"ticks\": \"\"}}, \"scene\": {\"xaxis\": {\"backgroundcolor\": \"#E5ECF6\", \"gridcolor\": \"white\", \"gridwidth\": 2, \"linecolor\": \"white\", \"showbackground\": true, \"ticks\": \"\", \"zerolinecolor\": \"white\"}, \"yaxis\": {\"backgroundcolor\": \"#E5ECF6\", \"gridcolor\": \"white\", \"gridwidth\": 2, \"linecolor\": \"white\", \"showbackground\": true, \"ticks\": \"\", \"zerolinecolor\": \"white\"}, \"zaxis\": {\"backgroundcolor\": \"#E5ECF6\", \"gridcolor\": \"white\", \"gridwidth\": 2, \"linecolor\": \"white\", \"showbackground\": true, \"ticks\": \"\", \"zerolinecolor\": \"white\"}}, \"shapedefaults\": {\"line\": {\"color\": \"#2a3f5f\"}}, \"ternary\": {\"aaxis\": {\"gridcolor\": \"white\", \"linecolor\": \"white\", \"ticks\": \"\"}, \"baxis\": {\"gridcolor\": \"white\", \"linecolor\": \"white\", \"ticks\": \"\"}, \"bgcolor\": \"#E5ECF6\", \"caxis\": {\"gridcolor\": \"white\", \"linecolor\": \"white\", \"ticks\": \"\"}}, \"title\": {\"x\": 0.05}, \"xaxis\": {\"automargin\": true, \"gridcolor\": \"white\", \"linecolor\": \"white\", \"ticks\": \"\", \"title\": {\"standoff\": 15}, \"zerolinecolor\": \"white\", \"zerolinewidth\": 2}, \"yaxis\": {\"automargin\": true, \"gridcolor\": \"white\", \"linecolor\": \"white\", \"ticks\": \"\", \"title\": {\"standoff\": 15}, \"zerolinecolor\": \"white\", \"zerolinewidth\": 2}}}, \"title\": {\"text\": \"Median Yearly 24-Hour PM2.5 Average per Season\"}, \"xaxis\": {\"anchor\": \"y\", \"domain\": [0.0, 1.0], \"title\": {\"text\": \"Year\"}}, \"yaxis\": {\"anchor\": \"x\", \"domain\": [0.0, 1.0], \"title\": {\"text\": \"PM2.5\"}}},\n",
              "                        {\"responsive\": true}\n",
              "                    ).then(function(){\n",
              "                            \n",
              "var gd = document.getElementById('51a0f19f-90c5-4490-a0bd-5d5ebd562114');\n",
              "var x = new MutationObserver(function (mutations, observer) {{\n",
              "        var display = window.getComputedStyle(gd).display;\n",
              "        if (!display || display === 'none') {{\n",
              "            console.log([gd, 'removed!']);\n",
              "            Plotly.purge(gd);\n",
              "            observer.disconnect();\n",
              "        }}\n",
              "}});\n",
              "\n",
              "// Listen for the removal of the full notebook cells\n",
              "var notebookContainer = gd.closest('#notebook-container');\n",
              "if (notebookContainer) {{\n",
              "    x.observe(notebookContainer, {childList: true});\n",
              "}}\n",
              "\n",
              "// Listen for the clearing of the current output cell\n",
              "var outputEl = gd.closest('.output');\n",
              "if (outputEl) {{\n",
              "    x.observe(outputEl, {childList: true});\n",
              "}}\n",
              "\n",
              "                        })\n",
              "                };\n",
              "                \n",
              "            </script>\n",
              "        </div>\n",
              "</body>\n",
              "</html>"
            ]
          },
          "metadata": {
            "tags": []
          }
        }
      ]
    },
    {
      "cell_type": "code",
      "metadata": {
        "colab": {
          "base_uri": "https://localhost:8080/",
          "height": 542
        },
        "id": "s4rjoFJUeFB1",
        "outputId": "1fc3e5c5-d223-45d4-dfb5-3b9d2d46c02f"
      },
      "source": [
        "# aggregated data\n",
        "_ = daily_avg\\\n",
        "    .groupby(['year', 'season'], as_index=False)\\\n",
        "    .agg({'PM2.5':'mean'})\n",
        "\n",
        "# plotting\n",
        "fig = px.line(_, \n",
        "              x='year', \n",
        "              y='PM2.5', \n",
        "              color='season', \n",
        "              title='Mean Yearly 24-Hour PM2.5 Average per Season')\n",
        "fig.update_layout(xaxis_title='Year',\n",
        "                  yaxis_title='PM2.5')\n",
        "fig.show()"
      ],
      "id": "s4rjoFJUeFB1",
      "execution_count": null,
      "outputs": [
        {
          "output_type": "display_data",
          "data": {
            "text/html": [
              "<html>\n",
              "<head><meta charset=\"utf-8\" /></head>\n",
              "<body>\n",
              "    <div>\n",
              "            <script src=\"https://cdnjs.cloudflare.com/ajax/libs/mathjax/2.7.5/MathJax.js?config=TeX-AMS-MML_SVG\"></script><script type=\"text/javascript\">if (window.MathJax) {MathJax.Hub.Config({SVG: {font: \"STIX-Web\"}});}</script>\n",
              "                <script type=\"text/javascript\">window.PlotlyConfig = {MathJaxConfig: 'local'};</script>\n",
              "        <script src=\"https://cdn.plot.ly/plotly-latest.min.js\"></script>    \n",
              "            <div id=\"3b809683-74a1-4b09-869c-ec355202c177\" class=\"plotly-graph-div\" style=\"height:525px; width:100%;\"></div>\n",
              "            <script type=\"text/javascript\">\n",
              "                \n",
              "                    window.PLOTLYENV=window.PLOTLYENV || {};\n",
              "                    \n",
              "                if (document.getElementById(\"3b809683-74a1-4b09-869c-ec355202c177\")) {\n",
              "                    Plotly.newPlot(\n",
              "                        '3b809683-74a1-4b09-869c-ec355202c177',\n",
              "                        [{\"hoverlabel\": {\"namelength\": 0}, \"hovertemplate\": \"season=1<br>year=%{x}<br>PM2.5=%{y}\", \"legendgroup\": \"season=1\", \"line\": {\"color\": \"#636efa\", \"dash\": \"solid\"}, \"mode\": \"lines\", \"name\": \"season=1\", \"showlegend\": true, \"type\": \"scatter\", \"x\": [2013, 2014, 2015, 2016, 2017], \"xaxis\": \"x\", \"y\": [104.14919354838713, 109.91620370370373, 114.47828703703703, 79.71771978021978, 93.86687853107343], \"yaxis\": \"y\"}, {\"hoverlabel\": {\"namelength\": 0}, \"hovertemplate\": \"season=2<br>year=%{x}<br>PM2.5=%{y}\", \"legendgroup\": \"season=2\", \"line\": {\"color\": \"#EF553B\", \"dash\": \"solid\"}, \"mode\": \"lines\", \"name\": \"season=2\", \"showlegend\": true, \"type\": \"scatter\", \"x\": [2013, 2014, 2015, 2016], \"xaxis\": \"x\", \"y\": [90.18523550724633, 84.88487318840578, 72.37583786231885, 69.91666666666667], \"yaxis\": \"y\"}, {\"hoverlabel\": {\"namelength\": 0}, \"hovertemplate\": \"season=3<br>year=%{x}<br>PM2.5=%{y}\", \"legendgroup\": \"season=3\", \"line\": {\"color\": \"#00cc96\", \"dash\": \"solid\"}, \"mode\": \"lines\", \"name\": \"season=3\", \"showlegend\": true, \"type\": \"scatter\", \"x\": [2013, 2014, 2015, 2016], \"xaxis\": \"x\", \"y\": [87.22509057971016, 71.40226449275364, 57.79800724637683, 58.12635869565214], \"yaxis\": \"y\"}, {\"hoverlabel\": {\"namelength\": 0}, \"hovertemplate\": \"season=4<br>year=%{x}<br>PM2.5=%{y}\", \"legendgroup\": \"season=4\", \"line\": {\"color\": \"#ab63fa\", \"dash\": \"solid\"}, \"mode\": \"lines\", \"name\": \"season=4\", \"showlegend\": true, \"type\": \"scatter\", \"x\": [2013, 2014, 2015, 2016], \"xaxis\": \"x\", \"y\": [92.79555860805864, 95.76460622710624, 76.96978021978023, 78.13461538461539], \"yaxis\": \"y\"}],\n",
              "                        {\"legend\": {\"tracegroupgap\": 0}, \"template\": {\"data\": {\"bar\": [{\"error_x\": {\"color\": \"#2a3f5f\"}, \"error_y\": {\"color\": \"#2a3f5f\"}, \"marker\": {\"line\": {\"color\": \"#E5ECF6\", \"width\": 0.5}}, \"type\": \"bar\"}], \"barpolar\": [{\"marker\": {\"line\": {\"color\": \"#E5ECF6\", \"width\": 0.5}}, \"type\": \"barpolar\"}], \"carpet\": [{\"aaxis\": {\"endlinecolor\": \"#2a3f5f\", \"gridcolor\": \"white\", \"linecolor\": \"white\", \"minorgridcolor\": \"white\", \"startlinecolor\": \"#2a3f5f\"}, \"baxis\": {\"endlinecolor\": \"#2a3f5f\", \"gridcolor\": \"white\", \"linecolor\": \"white\", \"minorgridcolor\": \"white\", \"startlinecolor\": \"#2a3f5f\"}, \"type\": \"carpet\"}], \"choropleth\": [{\"colorbar\": {\"outlinewidth\": 0, \"ticks\": \"\"}, \"type\": \"choropleth\"}], \"contour\": [{\"colorbar\": {\"outlinewidth\": 0, \"ticks\": \"\"}, \"colorscale\": [[0.0, \"#0d0887\"], [0.1111111111111111, \"#46039f\"], [0.2222222222222222, \"#7201a8\"], [0.3333333333333333, \"#9c179e\"], [0.4444444444444444, \"#bd3786\"], [0.5555555555555556, \"#d8576b\"], [0.6666666666666666, \"#ed7953\"], [0.7777777777777778, \"#fb9f3a\"], [0.8888888888888888, \"#fdca26\"], [1.0, \"#f0f921\"]], \"type\": \"contour\"}], \"contourcarpet\": [{\"colorbar\": {\"outlinewidth\": 0, \"ticks\": \"\"}, \"type\": \"contourcarpet\"}], \"heatmap\": [{\"colorbar\": {\"outlinewidth\": 0, \"ticks\": \"\"}, \"colorscale\": [[0.0, \"#0d0887\"], [0.1111111111111111, \"#46039f\"], [0.2222222222222222, \"#7201a8\"], [0.3333333333333333, \"#9c179e\"], [0.4444444444444444, \"#bd3786\"], [0.5555555555555556, \"#d8576b\"], [0.6666666666666666, \"#ed7953\"], [0.7777777777777778, \"#fb9f3a\"], [0.8888888888888888, \"#fdca26\"], [1.0, \"#f0f921\"]], \"type\": \"heatmap\"}], \"heatmapgl\": [{\"colorbar\": {\"outlinewidth\": 0, \"ticks\": \"\"}, \"colorscale\": [[0.0, \"#0d0887\"], [0.1111111111111111, \"#46039f\"], [0.2222222222222222, \"#7201a8\"], [0.3333333333333333, \"#9c179e\"], [0.4444444444444444, \"#bd3786\"], [0.5555555555555556, \"#d8576b\"], [0.6666666666666666, \"#ed7953\"], [0.7777777777777778, \"#fb9f3a\"], [0.8888888888888888, \"#fdca26\"], [1.0, \"#f0f921\"]], \"type\": \"heatmapgl\"}], \"histogram\": [{\"marker\": {\"colorbar\": {\"outlinewidth\": 0, \"ticks\": \"\"}}, \"type\": \"histogram\"}], \"histogram2d\": [{\"colorbar\": {\"outlinewidth\": 0, \"ticks\": \"\"}, \"colorscale\": [[0.0, \"#0d0887\"], [0.1111111111111111, \"#46039f\"], [0.2222222222222222, \"#7201a8\"], [0.3333333333333333, \"#9c179e\"], [0.4444444444444444, \"#bd3786\"], [0.5555555555555556, \"#d8576b\"], [0.6666666666666666, \"#ed7953\"], [0.7777777777777778, \"#fb9f3a\"], [0.8888888888888888, \"#fdca26\"], [1.0, \"#f0f921\"]], \"type\": \"histogram2d\"}], \"histogram2dcontour\": [{\"colorbar\": {\"outlinewidth\": 0, \"ticks\": \"\"}, \"colorscale\": [[0.0, \"#0d0887\"], [0.1111111111111111, \"#46039f\"], [0.2222222222222222, \"#7201a8\"], [0.3333333333333333, \"#9c179e\"], [0.4444444444444444, \"#bd3786\"], [0.5555555555555556, \"#d8576b\"], [0.6666666666666666, \"#ed7953\"], [0.7777777777777778, \"#fb9f3a\"], [0.8888888888888888, \"#fdca26\"], [1.0, \"#f0f921\"]], \"type\": \"histogram2dcontour\"}], \"mesh3d\": [{\"colorbar\": {\"outlinewidth\": 0, \"ticks\": \"\"}, \"type\": \"mesh3d\"}], \"parcoords\": [{\"line\": {\"colorbar\": {\"outlinewidth\": 0, \"ticks\": \"\"}}, \"type\": \"parcoords\"}], \"pie\": [{\"automargin\": true, \"type\": \"pie\"}], \"scatter\": [{\"marker\": {\"colorbar\": {\"outlinewidth\": 0, \"ticks\": \"\"}}, \"type\": \"scatter\"}], \"scatter3d\": [{\"line\": {\"colorbar\": {\"outlinewidth\": 0, \"ticks\": \"\"}}, \"marker\": {\"colorbar\": {\"outlinewidth\": 0, \"ticks\": \"\"}}, \"type\": \"scatter3d\"}], \"scattercarpet\": [{\"marker\": {\"colorbar\": {\"outlinewidth\": 0, \"ticks\": \"\"}}, \"type\": \"scattercarpet\"}], \"scattergeo\": [{\"marker\": {\"colorbar\": {\"outlinewidth\": 0, \"ticks\": \"\"}}, \"type\": \"scattergeo\"}], \"scattergl\": [{\"marker\": {\"colorbar\": {\"outlinewidth\": 0, \"ticks\": \"\"}}, \"type\": \"scattergl\"}], \"scattermapbox\": [{\"marker\": {\"colorbar\": {\"outlinewidth\": 0, \"ticks\": \"\"}}, \"type\": \"scattermapbox\"}], \"scatterpolar\": [{\"marker\": {\"colorbar\": {\"outlinewidth\": 0, \"ticks\": \"\"}}, \"type\": \"scatterpolar\"}], \"scatterpolargl\": [{\"marker\": {\"colorbar\": {\"outlinewidth\": 0, \"ticks\": \"\"}}, \"type\": \"scatterpolargl\"}], \"scatterternary\": [{\"marker\": {\"colorbar\": {\"outlinewidth\": 0, \"ticks\": \"\"}}, \"type\": \"scatterternary\"}], \"surface\": [{\"colorbar\": {\"outlinewidth\": 0, \"ticks\": \"\"}, \"colorscale\": [[0.0, \"#0d0887\"], [0.1111111111111111, \"#46039f\"], [0.2222222222222222, \"#7201a8\"], [0.3333333333333333, \"#9c179e\"], [0.4444444444444444, \"#bd3786\"], [0.5555555555555556, \"#d8576b\"], [0.6666666666666666, \"#ed7953\"], [0.7777777777777778, \"#fb9f3a\"], [0.8888888888888888, \"#fdca26\"], [1.0, \"#f0f921\"]], \"type\": \"surface\"}], \"table\": [{\"cells\": {\"fill\": {\"color\": \"#EBF0F8\"}, \"line\": {\"color\": \"white\"}}, \"header\": {\"fill\": {\"color\": \"#C8D4E3\"}, \"line\": {\"color\": \"white\"}}, \"type\": \"table\"}]}, \"layout\": {\"annotationdefaults\": {\"arrowcolor\": \"#2a3f5f\", \"arrowhead\": 0, \"arrowwidth\": 1}, \"coloraxis\": {\"colorbar\": {\"outlinewidth\": 0, \"ticks\": \"\"}}, \"colorscale\": {\"diverging\": [[0, \"#8e0152\"], [0.1, \"#c51b7d\"], [0.2, \"#de77ae\"], [0.3, \"#f1b6da\"], [0.4, \"#fde0ef\"], [0.5, \"#f7f7f7\"], [0.6, \"#e6f5d0\"], [0.7, \"#b8e186\"], [0.8, \"#7fbc41\"], [0.9, \"#4d9221\"], [1, \"#276419\"]], \"sequential\": [[0.0, \"#0d0887\"], [0.1111111111111111, \"#46039f\"], [0.2222222222222222, \"#7201a8\"], [0.3333333333333333, \"#9c179e\"], [0.4444444444444444, \"#bd3786\"], [0.5555555555555556, \"#d8576b\"], [0.6666666666666666, \"#ed7953\"], [0.7777777777777778, \"#fb9f3a\"], [0.8888888888888888, \"#fdca26\"], [1.0, \"#f0f921\"]], \"sequentialminus\": [[0.0, \"#0d0887\"], [0.1111111111111111, \"#46039f\"], [0.2222222222222222, \"#7201a8\"], [0.3333333333333333, \"#9c179e\"], [0.4444444444444444, \"#bd3786\"], [0.5555555555555556, \"#d8576b\"], [0.6666666666666666, \"#ed7953\"], [0.7777777777777778, \"#fb9f3a\"], [0.8888888888888888, \"#fdca26\"], [1.0, \"#f0f921\"]]}, \"colorway\": [\"#636efa\", \"#EF553B\", \"#00cc96\", \"#ab63fa\", \"#FFA15A\", \"#19d3f3\", \"#FF6692\", \"#B6E880\", \"#FF97FF\", \"#FECB52\"], \"font\": {\"color\": \"#2a3f5f\"}, \"geo\": {\"bgcolor\": \"white\", \"lakecolor\": \"white\", \"landcolor\": \"#E5ECF6\", \"showlakes\": true, \"showland\": true, \"subunitcolor\": \"white\"}, \"hoverlabel\": {\"align\": \"left\"}, \"hovermode\": \"closest\", \"mapbox\": {\"style\": \"light\"}, \"paper_bgcolor\": \"white\", \"plot_bgcolor\": \"#E5ECF6\", \"polar\": {\"angularaxis\": {\"gridcolor\": \"white\", \"linecolor\": \"white\", \"ticks\": \"\"}, \"bgcolor\": \"#E5ECF6\", \"radialaxis\": {\"gridcolor\": \"white\", \"linecolor\": \"white\", \"ticks\": \"\"}}, \"scene\": {\"xaxis\": {\"backgroundcolor\": \"#E5ECF6\", \"gridcolor\": \"white\", \"gridwidth\": 2, \"linecolor\": \"white\", \"showbackground\": true, \"ticks\": \"\", \"zerolinecolor\": \"white\"}, \"yaxis\": {\"backgroundcolor\": \"#E5ECF6\", \"gridcolor\": \"white\", \"gridwidth\": 2, \"linecolor\": \"white\", \"showbackground\": true, \"ticks\": \"\", \"zerolinecolor\": \"white\"}, \"zaxis\": {\"backgroundcolor\": \"#E5ECF6\", \"gridcolor\": \"white\", \"gridwidth\": 2, \"linecolor\": \"white\", \"showbackground\": true, \"ticks\": \"\", \"zerolinecolor\": \"white\"}}, \"shapedefaults\": {\"line\": {\"color\": \"#2a3f5f\"}}, \"ternary\": {\"aaxis\": {\"gridcolor\": \"white\", \"linecolor\": \"white\", \"ticks\": \"\"}, \"baxis\": {\"gridcolor\": \"white\", \"linecolor\": \"white\", \"ticks\": \"\"}, \"bgcolor\": \"#E5ECF6\", \"caxis\": {\"gridcolor\": \"white\", \"linecolor\": \"white\", \"ticks\": \"\"}}, \"title\": {\"x\": 0.05}, \"xaxis\": {\"automargin\": true, \"gridcolor\": \"white\", \"linecolor\": \"white\", \"ticks\": \"\", \"title\": {\"standoff\": 15}, \"zerolinecolor\": \"white\", \"zerolinewidth\": 2}, \"yaxis\": {\"automargin\": true, \"gridcolor\": \"white\", \"linecolor\": \"white\", \"ticks\": \"\", \"title\": {\"standoff\": 15}, \"zerolinecolor\": \"white\", \"zerolinewidth\": 2}}}, \"title\": {\"text\": \"Mean Yearly 24-Hour PM2.5 Average per Season\"}, \"xaxis\": {\"anchor\": \"y\", \"domain\": [0.0, 1.0], \"title\": {\"text\": \"Year\"}}, \"yaxis\": {\"anchor\": \"x\", \"domain\": [0.0, 1.0], \"title\": {\"text\": \"PM2.5\"}}},\n",
              "                        {\"responsive\": true}\n",
              "                    ).then(function(){\n",
              "                            \n",
              "var gd = document.getElementById('3b809683-74a1-4b09-869c-ec355202c177');\n",
              "var x = new MutationObserver(function (mutations, observer) {{\n",
              "        var display = window.getComputedStyle(gd).display;\n",
              "        if (!display || display === 'none') {{\n",
              "            console.log([gd, 'removed!']);\n",
              "            Plotly.purge(gd);\n",
              "            observer.disconnect();\n",
              "        }}\n",
              "}});\n",
              "\n",
              "// Listen for the removal of the full notebook cells\n",
              "var notebookContainer = gd.closest('#notebook-container');\n",
              "if (notebookContainer) {{\n",
              "    x.observe(notebookContainer, {childList: true});\n",
              "}}\n",
              "\n",
              "// Listen for the clearing of the current output cell\n",
              "var outputEl = gd.closest('.output');\n",
              "if (outputEl) {{\n",
              "    x.observe(outputEl, {childList: true});\n",
              "}}\n",
              "\n",
              "                        })\n",
              "                };\n",
              "                \n",
              "            </script>\n",
              "        </div>\n",
              "</body>\n",
              "</html>"
            ]
          },
          "metadata": {
            "tags": []
          }
        }
      ]
    },
    {
      "cell_type": "markdown",
      "metadata": {
        "id": "combined-cricket"
      },
      "source": [
        "PM2.5 is highest during the winters"
      ],
      "id": "combined-cricket"
    },
    {
      "cell_type": "markdown",
      "metadata": {
        "id": "Bi2O8MUfpc_i"
      },
      "source": [
        "### Yearly Quarterly Patterns\n",
        "\n",
        "First quarter, Q1: 1 January – 31 March\n",
        "Second quarter, Q2: 1 April – 30 June\n",
        "Third quarter, Q3: 1 July – 30 September\n",
        "Fourth quarter, Q4: 1 October – 31 December"
      ],
      "id": "Bi2O8MUfpc_i"
    },
    {
      "cell_type": "code",
      "metadata": {
        "colab": {
          "base_uri": "https://localhost:8080/",
          "height": 542
        },
        "id": "1uWX5RABpgJT",
        "outputId": "d49a3c51-fafe-4026-8c11-2b83aba9a697"
      },
      "source": [
        "# aggregated data\n",
        "_ = daily_avg\\\n",
        "    .groupby(['year', 'quarter'], as_index=False)\\\n",
        "    .agg({'PM2.5':'max'})\n",
        "\n",
        "# plotting\n",
        "fig = px.line(_, \n",
        "              x='year', \n",
        "              y='PM2.5', \n",
        "              color='quarter', \n",
        "              title='Max Yearly 24-Hour PM2.5 Average per Quarter')\n",
        "fig.update_layout(xaxis_title='Year',\n",
        "                  yaxis_title='PM2.5')\n",
        "fig.show()"
      ],
      "id": "1uWX5RABpgJT",
      "execution_count": null,
      "outputs": [
        {
          "output_type": "display_data",
          "data": {
            "text/html": [
              "<html>\n",
              "<head><meta charset=\"utf-8\" /></head>\n",
              "<body>\n",
              "    <div>\n",
              "            <script src=\"https://cdnjs.cloudflare.com/ajax/libs/mathjax/2.7.5/MathJax.js?config=TeX-AMS-MML_SVG\"></script><script type=\"text/javascript\">if (window.MathJax) {MathJax.Hub.Config({SVG: {font: \"STIX-Web\"}});}</script>\n",
              "                <script type=\"text/javascript\">window.PlotlyConfig = {MathJaxConfig: 'local'};</script>\n",
              "        <script src=\"https://cdn.plot.ly/plotly-latest.min.js\"></script>    \n",
              "            <div id=\"e739f1a4-7550-41e6-8c34-424dea8f1ee8\" class=\"plotly-graph-div\" style=\"height:525px; width:100%;\"></div>\n",
              "            <script type=\"text/javascript\">\n",
              "                \n",
              "                    window.PLOTLYENV=window.PLOTLYENV || {};\n",
              "                    \n",
              "                if (document.getElementById(\"e739f1a4-7550-41e6-8c34-424dea8f1ee8\")) {\n",
              "                    Plotly.newPlot(\n",
              "                        'e739f1a4-7550-41e6-8c34-424dea8f1ee8',\n",
              "                        [{\"hoverlabel\": {\"namelength\": 0}, \"hovertemplate\": \"quarter=1<br>year=%{x}<br>PM2.5=%{y}\", \"legendgroup\": \"quarter=1\", \"line\": {\"color\": \"#636efa\", \"dash\": \"solid\"}, \"mode\": \"lines\", \"name\": \"quarter=1\", \"showlegend\": true, \"type\": \"scatter\", \"x\": [2013, 2014, 2015, 2016, 2017], \"xaxis\": \"x\", \"y\": [284.9166666666667, 417.875, 326.7083333333333, 347.2916666666667, 481.2916666666667], \"yaxis\": \"y\"}, {\"hoverlabel\": {\"namelength\": 0}, \"hovertemplate\": \"quarter=2<br>year=%{x}<br>PM2.5=%{y}\", \"legendgroup\": \"quarter=2\", \"line\": {\"color\": \"#EF553B\", \"dash\": \"solid\"}, \"mode\": \"lines\", \"name\": \"quarter=2\", \"showlegend\": true, \"type\": \"scatter\", \"x\": [2013, 2014, 2015, 2016], \"xaxis\": \"x\", \"y\": [315.125, 241.66666666666666, 180.04166666666666, 188.29166666666666], \"yaxis\": \"y\"}, {\"hoverlabel\": {\"namelength\": 0}, \"hovertemplate\": \"quarter=3<br>year=%{x}<br>PM2.5=%{y}\", \"legendgroup\": \"quarter=3\", \"line\": {\"color\": \"#00cc96\", \"dash\": \"solid\"}, \"mode\": \"lines\", \"name\": \"quarter=3\", \"showlegend\": true, \"type\": \"scatter\", \"x\": [2013, 2014, 2015, 2016], \"xaxis\": \"x\", \"y\": [274.0833333333333, 199.375, 143.45833333333334, 165.0], \"yaxis\": \"y\"}, {\"hoverlabel\": {\"namelength\": 0}, \"hovertemplate\": \"quarter=4<br>year=%{x}<br>PM2.5=%{y}\", \"legendgroup\": \"quarter=4\", \"line\": {\"color\": \"#ab63fa\", \"dash\": \"solid\"}, \"mode\": \"lines\", \"name\": \"quarter=4\", \"showlegend\": true, \"type\": \"scatter\", \"x\": [2013, 2014, 2015, 2016], \"xaxis\": \"x\", \"y\": [313.625, 356.6041666666667, 481.125, 383.0], \"yaxis\": \"y\"}],\n",
              "                        {\"legend\": {\"tracegroupgap\": 0}, \"template\": {\"data\": {\"bar\": [{\"error_x\": {\"color\": \"#2a3f5f\"}, \"error_y\": {\"color\": \"#2a3f5f\"}, \"marker\": {\"line\": {\"color\": \"#E5ECF6\", \"width\": 0.5}}, \"type\": \"bar\"}], \"barpolar\": [{\"marker\": {\"line\": {\"color\": \"#E5ECF6\", \"width\": 0.5}}, \"type\": \"barpolar\"}], \"carpet\": [{\"aaxis\": {\"endlinecolor\": \"#2a3f5f\", \"gridcolor\": \"white\", \"linecolor\": \"white\", \"minorgridcolor\": \"white\", \"startlinecolor\": \"#2a3f5f\"}, \"baxis\": {\"endlinecolor\": \"#2a3f5f\", \"gridcolor\": \"white\", \"linecolor\": \"white\", \"minorgridcolor\": \"white\", \"startlinecolor\": \"#2a3f5f\"}, \"type\": \"carpet\"}], \"choropleth\": [{\"colorbar\": {\"outlinewidth\": 0, \"ticks\": \"\"}, \"type\": \"choropleth\"}], \"contour\": [{\"colorbar\": {\"outlinewidth\": 0, \"ticks\": \"\"}, \"colorscale\": [[0.0, \"#0d0887\"], [0.1111111111111111, \"#46039f\"], [0.2222222222222222, \"#7201a8\"], [0.3333333333333333, \"#9c179e\"], [0.4444444444444444, \"#bd3786\"], [0.5555555555555556, \"#d8576b\"], [0.6666666666666666, \"#ed7953\"], [0.7777777777777778, \"#fb9f3a\"], [0.8888888888888888, \"#fdca26\"], [1.0, \"#f0f921\"]], \"type\": \"contour\"}], \"contourcarpet\": [{\"colorbar\": {\"outlinewidth\": 0, \"ticks\": \"\"}, \"type\": \"contourcarpet\"}], \"heatmap\": [{\"colorbar\": {\"outlinewidth\": 0, \"ticks\": \"\"}, \"colorscale\": [[0.0, \"#0d0887\"], [0.1111111111111111, \"#46039f\"], [0.2222222222222222, \"#7201a8\"], [0.3333333333333333, \"#9c179e\"], [0.4444444444444444, \"#bd3786\"], [0.5555555555555556, \"#d8576b\"], [0.6666666666666666, \"#ed7953\"], [0.7777777777777778, \"#fb9f3a\"], [0.8888888888888888, \"#fdca26\"], [1.0, \"#f0f921\"]], \"type\": \"heatmap\"}], \"heatmapgl\": [{\"colorbar\": {\"outlinewidth\": 0, \"ticks\": \"\"}, \"colorscale\": [[0.0, \"#0d0887\"], [0.1111111111111111, \"#46039f\"], [0.2222222222222222, \"#7201a8\"], [0.3333333333333333, \"#9c179e\"], [0.4444444444444444, \"#bd3786\"], [0.5555555555555556, \"#d8576b\"], [0.6666666666666666, \"#ed7953\"], [0.7777777777777778, \"#fb9f3a\"], [0.8888888888888888, \"#fdca26\"], [1.0, \"#f0f921\"]], \"type\": \"heatmapgl\"}], \"histogram\": [{\"marker\": {\"colorbar\": {\"outlinewidth\": 0, \"ticks\": \"\"}}, \"type\": \"histogram\"}], \"histogram2d\": [{\"colorbar\": {\"outlinewidth\": 0, \"ticks\": \"\"}, \"colorscale\": [[0.0, \"#0d0887\"], [0.1111111111111111, \"#46039f\"], [0.2222222222222222, \"#7201a8\"], [0.3333333333333333, \"#9c179e\"], [0.4444444444444444, \"#bd3786\"], [0.5555555555555556, \"#d8576b\"], [0.6666666666666666, \"#ed7953\"], [0.7777777777777778, \"#fb9f3a\"], [0.8888888888888888, \"#fdca26\"], [1.0, \"#f0f921\"]], \"type\": \"histogram2d\"}], \"histogram2dcontour\": [{\"colorbar\": {\"outlinewidth\": 0, \"ticks\": \"\"}, \"colorscale\": [[0.0, \"#0d0887\"], [0.1111111111111111, \"#46039f\"], [0.2222222222222222, \"#7201a8\"], [0.3333333333333333, \"#9c179e\"], [0.4444444444444444, \"#bd3786\"], [0.5555555555555556, \"#d8576b\"], [0.6666666666666666, \"#ed7953\"], [0.7777777777777778, \"#fb9f3a\"], [0.8888888888888888, \"#fdca26\"], [1.0, \"#f0f921\"]], \"type\": \"histogram2dcontour\"}], \"mesh3d\": [{\"colorbar\": {\"outlinewidth\": 0, \"ticks\": \"\"}, \"type\": \"mesh3d\"}], \"parcoords\": [{\"line\": {\"colorbar\": {\"outlinewidth\": 0, \"ticks\": \"\"}}, \"type\": \"parcoords\"}], \"pie\": [{\"automargin\": true, \"type\": \"pie\"}], \"scatter\": [{\"marker\": {\"colorbar\": {\"outlinewidth\": 0, \"ticks\": \"\"}}, \"type\": \"scatter\"}], \"scatter3d\": [{\"line\": {\"colorbar\": {\"outlinewidth\": 0, \"ticks\": \"\"}}, \"marker\": {\"colorbar\": {\"outlinewidth\": 0, \"ticks\": \"\"}}, \"type\": \"scatter3d\"}], \"scattercarpet\": [{\"marker\": {\"colorbar\": {\"outlinewidth\": 0, \"ticks\": \"\"}}, \"type\": \"scattercarpet\"}], \"scattergeo\": [{\"marker\": {\"colorbar\": {\"outlinewidth\": 0, \"ticks\": \"\"}}, \"type\": \"scattergeo\"}], \"scattergl\": [{\"marker\": {\"colorbar\": {\"outlinewidth\": 0, \"ticks\": \"\"}}, \"type\": \"scattergl\"}], \"scattermapbox\": [{\"marker\": {\"colorbar\": {\"outlinewidth\": 0, \"ticks\": \"\"}}, \"type\": \"scattermapbox\"}], \"scatterpolar\": [{\"marker\": {\"colorbar\": {\"outlinewidth\": 0, \"ticks\": \"\"}}, \"type\": \"scatterpolar\"}], \"scatterpolargl\": [{\"marker\": {\"colorbar\": {\"outlinewidth\": 0, \"ticks\": \"\"}}, \"type\": \"scatterpolargl\"}], \"scatterternary\": [{\"marker\": {\"colorbar\": {\"outlinewidth\": 0, \"ticks\": \"\"}}, \"type\": \"scatterternary\"}], \"surface\": [{\"colorbar\": {\"outlinewidth\": 0, \"ticks\": \"\"}, \"colorscale\": [[0.0, \"#0d0887\"], [0.1111111111111111, \"#46039f\"], [0.2222222222222222, \"#7201a8\"], [0.3333333333333333, \"#9c179e\"], [0.4444444444444444, \"#bd3786\"], [0.5555555555555556, \"#d8576b\"], [0.6666666666666666, \"#ed7953\"], [0.7777777777777778, \"#fb9f3a\"], [0.8888888888888888, \"#fdca26\"], [1.0, \"#f0f921\"]], \"type\": \"surface\"}], \"table\": [{\"cells\": {\"fill\": {\"color\": \"#EBF0F8\"}, \"line\": {\"color\": \"white\"}}, \"header\": {\"fill\": {\"color\": \"#C8D4E3\"}, \"line\": {\"color\": \"white\"}}, \"type\": \"table\"}]}, \"layout\": {\"annotationdefaults\": {\"arrowcolor\": \"#2a3f5f\", \"arrowhead\": 0, \"arrowwidth\": 1}, \"coloraxis\": {\"colorbar\": {\"outlinewidth\": 0, \"ticks\": \"\"}}, \"colorscale\": {\"diverging\": [[0, \"#8e0152\"], [0.1, \"#c51b7d\"], [0.2, \"#de77ae\"], [0.3, \"#f1b6da\"], [0.4, \"#fde0ef\"], [0.5, \"#f7f7f7\"], [0.6, \"#e6f5d0\"], [0.7, \"#b8e186\"], [0.8, \"#7fbc41\"], [0.9, \"#4d9221\"], [1, \"#276419\"]], \"sequential\": [[0.0, \"#0d0887\"], [0.1111111111111111, \"#46039f\"], [0.2222222222222222, \"#7201a8\"], [0.3333333333333333, \"#9c179e\"], [0.4444444444444444, \"#bd3786\"], [0.5555555555555556, \"#d8576b\"], [0.6666666666666666, \"#ed7953\"], [0.7777777777777778, \"#fb9f3a\"], [0.8888888888888888, \"#fdca26\"], [1.0, \"#f0f921\"]], \"sequentialminus\": [[0.0, \"#0d0887\"], [0.1111111111111111, \"#46039f\"], [0.2222222222222222, \"#7201a8\"], [0.3333333333333333, \"#9c179e\"], [0.4444444444444444, \"#bd3786\"], [0.5555555555555556, \"#d8576b\"], [0.6666666666666666, \"#ed7953\"], [0.7777777777777778, \"#fb9f3a\"], [0.8888888888888888, \"#fdca26\"], [1.0, \"#f0f921\"]]}, \"colorway\": [\"#636efa\", \"#EF553B\", \"#00cc96\", \"#ab63fa\", \"#FFA15A\", \"#19d3f3\", \"#FF6692\", \"#B6E880\", \"#FF97FF\", \"#FECB52\"], \"font\": {\"color\": \"#2a3f5f\"}, \"geo\": {\"bgcolor\": \"white\", \"lakecolor\": \"white\", \"landcolor\": \"#E5ECF6\", \"showlakes\": true, \"showland\": true, \"subunitcolor\": \"white\"}, \"hoverlabel\": {\"align\": \"left\"}, \"hovermode\": \"closest\", \"mapbox\": {\"style\": \"light\"}, \"paper_bgcolor\": \"white\", \"plot_bgcolor\": \"#E5ECF6\", \"polar\": {\"angularaxis\": {\"gridcolor\": \"white\", \"linecolor\": \"white\", \"ticks\": \"\"}, \"bgcolor\": \"#E5ECF6\", \"radialaxis\": {\"gridcolor\": \"white\", \"linecolor\": \"white\", \"ticks\": \"\"}}, \"scene\": {\"xaxis\": {\"backgroundcolor\": \"#E5ECF6\", \"gridcolor\": \"white\", \"gridwidth\": 2, \"linecolor\": \"white\", \"showbackground\": true, \"ticks\": \"\", \"zerolinecolor\": \"white\"}, \"yaxis\": {\"backgroundcolor\": \"#E5ECF6\", \"gridcolor\": \"white\", \"gridwidth\": 2, \"linecolor\": \"white\", \"showbackground\": true, \"ticks\": \"\", \"zerolinecolor\": \"white\"}, \"zaxis\": {\"backgroundcolor\": \"#E5ECF6\", \"gridcolor\": \"white\", \"gridwidth\": 2, \"linecolor\": \"white\", \"showbackground\": true, \"ticks\": \"\", \"zerolinecolor\": \"white\"}}, \"shapedefaults\": {\"line\": {\"color\": \"#2a3f5f\"}}, \"ternary\": {\"aaxis\": {\"gridcolor\": \"white\", \"linecolor\": \"white\", \"ticks\": \"\"}, \"baxis\": {\"gridcolor\": \"white\", \"linecolor\": \"white\", \"ticks\": \"\"}, \"bgcolor\": \"#E5ECF6\", \"caxis\": {\"gridcolor\": \"white\", \"linecolor\": \"white\", \"ticks\": \"\"}}, \"title\": {\"x\": 0.05}, \"xaxis\": {\"automargin\": true, \"gridcolor\": \"white\", \"linecolor\": \"white\", \"ticks\": \"\", \"title\": {\"standoff\": 15}, \"zerolinecolor\": \"white\", \"zerolinewidth\": 2}, \"yaxis\": {\"automargin\": true, \"gridcolor\": \"white\", \"linecolor\": \"white\", \"ticks\": \"\", \"title\": {\"standoff\": 15}, \"zerolinecolor\": \"white\", \"zerolinewidth\": 2}}}, \"title\": {\"text\": \"Max Yearly 24-Hour PM2.5 Average per Quarter\"}, \"xaxis\": {\"anchor\": \"y\", \"domain\": [0.0, 1.0], \"title\": {\"text\": \"Year\"}}, \"yaxis\": {\"anchor\": \"x\", \"domain\": [0.0, 1.0], \"title\": {\"text\": \"PM2.5\"}}},\n",
              "                        {\"responsive\": true}\n",
              "                    ).then(function(){\n",
              "                            \n",
              "var gd = document.getElementById('e739f1a4-7550-41e6-8c34-424dea8f1ee8');\n",
              "var x = new MutationObserver(function (mutations, observer) {{\n",
              "        var display = window.getComputedStyle(gd).display;\n",
              "        if (!display || display === 'none') {{\n",
              "            console.log([gd, 'removed!']);\n",
              "            Plotly.purge(gd);\n",
              "            observer.disconnect();\n",
              "        }}\n",
              "}});\n",
              "\n",
              "// Listen for the removal of the full notebook cells\n",
              "var notebookContainer = gd.closest('#notebook-container');\n",
              "if (notebookContainer) {{\n",
              "    x.observe(notebookContainer, {childList: true});\n",
              "}}\n",
              "\n",
              "// Listen for the clearing of the current output cell\n",
              "var outputEl = gd.closest('.output');\n",
              "if (outputEl) {{\n",
              "    x.observe(outputEl, {childList: true});\n",
              "}}\n",
              "\n",
              "                        })\n",
              "                };\n",
              "                \n",
              "            </script>\n",
              "        </div>\n",
              "</body>\n",
              "</html>"
            ]
          },
          "metadata": {
            "tags": []
          }
        }
      ]
    },
    {
      "cell_type": "code",
      "metadata": {
        "colab": {
          "base_uri": "https://localhost:8080/",
          "height": 542
        },
        "id": "tG6uMb5CpoUa",
        "outputId": "2ab81d46-bd5e-4866-c78a-10c82e3931ca"
      },
      "source": [
        "# aggregated data\n",
        "_ = daily_avg\\\n",
        "    .groupby(['year', 'quarter'], as_index=False)\\\n",
        "    .agg({'PM2.5':'median'})\n",
        "\n",
        "# plotting\n",
        "fig = px.line(_, \n",
        "              x='year', \n",
        "              y='PM2.5', \n",
        "              color='quarter', \n",
        "              title='Median Yearly 24-Hour PM2.5 Average per Quarter')\n",
        "fig.update_layout(xaxis_title='Year',\n",
        "                  yaxis_title='PM2.5')\n",
        "fig.show()"
      ],
      "id": "tG6uMb5CpoUa",
      "execution_count": null,
      "outputs": [
        {
          "output_type": "display_data",
          "data": {
            "text/html": [
              "<html>\n",
              "<head><meta charset=\"utf-8\" /></head>\n",
              "<body>\n",
              "    <div>\n",
              "            <script src=\"https://cdnjs.cloudflare.com/ajax/libs/mathjax/2.7.5/MathJax.js?config=TeX-AMS-MML_SVG\"></script><script type=\"text/javascript\">if (window.MathJax) {MathJax.Hub.Config({SVG: {font: \"STIX-Web\"}});}</script>\n",
              "                <script type=\"text/javascript\">window.PlotlyConfig = {MathJaxConfig: 'local'};</script>\n",
              "        <script src=\"https://cdn.plot.ly/plotly-latest.min.js\"></script>    \n",
              "            <div id=\"1f6699c3-1f0b-4ac3-99d6-7cdea67f1bd0\" class=\"plotly-graph-div\" style=\"height:525px; width:100%;\"></div>\n",
              "            <script type=\"text/javascript\">\n",
              "                \n",
              "                    window.PLOTLYENV=window.PLOTLYENV || {};\n",
              "                    \n",
              "                if (document.getElementById(\"1f6699c3-1f0b-4ac3-99d6-7cdea67f1bd0\")) {\n",
              "                    Plotly.newPlot(\n",
              "                        '1f6699c3-1f0b-4ac3-99d6-7cdea67f1bd0',\n",
              "                        [{\"hoverlabel\": {\"namelength\": 0}, \"hovertemplate\": \"quarter=1<br>year=%{x}<br>PM2.5=%{y}\", \"legendgroup\": \"quarter=1\", \"line\": {\"color\": \"#636efa\", \"dash\": \"solid\"}, \"mode\": \"lines\", \"name\": \"quarter=1\", \"showlegend\": true, \"type\": \"scatter\", \"x\": [2013, 2014, 2015, 2016, 2017], \"xaxis\": \"x\", \"y\": [89.04166666666667, 99.72916666666666, 82.45833333333334, 35.166666666666664, 58.020833333333336], \"yaxis\": \"y\"}, {\"hoverlabel\": {\"namelength\": 0}, \"hovertemplate\": \"quarter=2<br>year=%{x}<br>PM2.5=%{y}\", \"legendgroup\": \"quarter=2\", \"line\": {\"color\": \"#EF553B\", \"dash\": \"solid\"}, \"mode\": \"lines\", \"name\": \"quarter=2\", \"showlegend\": true, \"type\": \"scatter\", \"x\": [2013, 2014, 2015, 2016], \"xaxis\": \"x\", \"y\": [75.04166666666667, 63.395833333333336, 53.875, 51.458333333333336], \"yaxis\": \"y\"}, {\"hoverlabel\": {\"namelength\": 0}, \"hovertemplate\": \"quarter=3<br>year=%{x}<br>PM2.5=%{y}\", \"legendgroup\": \"quarter=3\", \"line\": {\"color\": \"#00cc96\", \"dash\": \"solid\"}, \"mode\": \"lines\", \"name\": \"quarter=3\", \"showlegend\": true, \"type\": \"scatter\", \"x\": [2013, 2014, 2015, 2016], \"xaxis\": \"x\", \"y\": [64.22916666666666, 63.51041666666667, 47.02083333333333, 49.72916666666667], \"yaxis\": \"y\"}, {\"hoverlabel\": {\"namelength\": 0}, \"hovertemplate\": \"quarter=4<br>year=%{x}<br>PM2.5=%{y}\", \"legendgroup\": \"quarter=4\", \"line\": {\"color\": \"#ab63fa\", \"dash\": \"solid\"}, \"mode\": \"lines\", \"name\": \"quarter=4\", \"showlegend\": true, \"type\": \"scatter\", \"x\": [2013, 2014, 2015, 2016], \"xaxis\": \"x\", \"y\": [77.5, 70.6875, 66.9375, 76.16666666666666], \"yaxis\": \"y\"}],\n",
              "                        {\"legend\": {\"tracegroupgap\": 0}, \"template\": {\"data\": {\"bar\": [{\"error_x\": {\"color\": \"#2a3f5f\"}, \"error_y\": {\"color\": \"#2a3f5f\"}, \"marker\": {\"line\": {\"color\": \"#E5ECF6\", \"width\": 0.5}}, \"type\": \"bar\"}], \"barpolar\": [{\"marker\": {\"line\": {\"color\": \"#E5ECF6\", \"width\": 0.5}}, \"type\": \"barpolar\"}], \"carpet\": [{\"aaxis\": {\"endlinecolor\": \"#2a3f5f\", \"gridcolor\": \"white\", \"linecolor\": \"white\", \"minorgridcolor\": \"white\", \"startlinecolor\": \"#2a3f5f\"}, \"baxis\": {\"endlinecolor\": \"#2a3f5f\", \"gridcolor\": \"white\", \"linecolor\": \"white\", \"minorgridcolor\": \"white\", \"startlinecolor\": \"#2a3f5f\"}, \"type\": \"carpet\"}], \"choropleth\": [{\"colorbar\": {\"outlinewidth\": 0, \"ticks\": \"\"}, \"type\": \"choropleth\"}], \"contour\": [{\"colorbar\": {\"outlinewidth\": 0, \"ticks\": \"\"}, \"colorscale\": [[0.0, \"#0d0887\"], [0.1111111111111111, \"#46039f\"], [0.2222222222222222, \"#7201a8\"], [0.3333333333333333, \"#9c179e\"], [0.4444444444444444, \"#bd3786\"], [0.5555555555555556, \"#d8576b\"], [0.6666666666666666, \"#ed7953\"], [0.7777777777777778, \"#fb9f3a\"], [0.8888888888888888, \"#fdca26\"], [1.0, \"#f0f921\"]], \"type\": \"contour\"}], \"contourcarpet\": [{\"colorbar\": {\"outlinewidth\": 0, \"ticks\": \"\"}, \"type\": \"contourcarpet\"}], \"heatmap\": [{\"colorbar\": {\"outlinewidth\": 0, \"ticks\": \"\"}, \"colorscale\": [[0.0, \"#0d0887\"], [0.1111111111111111, \"#46039f\"], [0.2222222222222222, \"#7201a8\"], [0.3333333333333333, \"#9c179e\"], [0.4444444444444444, \"#bd3786\"], [0.5555555555555556, \"#d8576b\"], [0.6666666666666666, \"#ed7953\"], [0.7777777777777778, \"#fb9f3a\"], [0.8888888888888888, \"#fdca26\"], [1.0, \"#f0f921\"]], \"type\": \"heatmap\"}], \"heatmapgl\": [{\"colorbar\": {\"outlinewidth\": 0, \"ticks\": \"\"}, \"colorscale\": [[0.0, \"#0d0887\"], [0.1111111111111111, \"#46039f\"], [0.2222222222222222, \"#7201a8\"], [0.3333333333333333, \"#9c179e\"], [0.4444444444444444, \"#bd3786\"], [0.5555555555555556, \"#d8576b\"], [0.6666666666666666, \"#ed7953\"], [0.7777777777777778, \"#fb9f3a\"], [0.8888888888888888, \"#fdca26\"], [1.0, \"#f0f921\"]], \"type\": \"heatmapgl\"}], \"histogram\": [{\"marker\": {\"colorbar\": {\"outlinewidth\": 0, \"ticks\": \"\"}}, \"type\": \"histogram\"}], \"histogram2d\": [{\"colorbar\": {\"outlinewidth\": 0, \"ticks\": \"\"}, \"colorscale\": [[0.0, \"#0d0887\"], [0.1111111111111111, \"#46039f\"], [0.2222222222222222, \"#7201a8\"], [0.3333333333333333, \"#9c179e\"], [0.4444444444444444, \"#bd3786\"], [0.5555555555555556, \"#d8576b\"], [0.6666666666666666, \"#ed7953\"], [0.7777777777777778, \"#fb9f3a\"], [0.8888888888888888, \"#fdca26\"], [1.0, \"#f0f921\"]], \"type\": \"histogram2d\"}], \"histogram2dcontour\": [{\"colorbar\": {\"outlinewidth\": 0, \"ticks\": \"\"}, \"colorscale\": [[0.0, \"#0d0887\"], [0.1111111111111111, \"#46039f\"], [0.2222222222222222, \"#7201a8\"], [0.3333333333333333, \"#9c179e\"], [0.4444444444444444, \"#bd3786\"], [0.5555555555555556, \"#d8576b\"], [0.6666666666666666, \"#ed7953\"], [0.7777777777777778, \"#fb9f3a\"], [0.8888888888888888, \"#fdca26\"], [1.0, \"#f0f921\"]], \"type\": \"histogram2dcontour\"}], \"mesh3d\": [{\"colorbar\": {\"outlinewidth\": 0, \"ticks\": \"\"}, \"type\": \"mesh3d\"}], \"parcoords\": [{\"line\": {\"colorbar\": {\"outlinewidth\": 0, \"ticks\": \"\"}}, \"type\": \"parcoords\"}], \"pie\": [{\"automargin\": true, \"type\": \"pie\"}], \"scatter\": [{\"marker\": {\"colorbar\": {\"outlinewidth\": 0, \"ticks\": \"\"}}, \"type\": \"scatter\"}], \"scatter3d\": [{\"line\": {\"colorbar\": {\"outlinewidth\": 0, \"ticks\": \"\"}}, \"marker\": {\"colorbar\": {\"outlinewidth\": 0, \"ticks\": \"\"}}, \"type\": \"scatter3d\"}], \"scattercarpet\": [{\"marker\": {\"colorbar\": {\"outlinewidth\": 0, \"ticks\": \"\"}}, \"type\": \"scattercarpet\"}], \"scattergeo\": [{\"marker\": {\"colorbar\": {\"outlinewidth\": 0, \"ticks\": \"\"}}, \"type\": \"scattergeo\"}], \"scattergl\": [{\"marker\": {\"colorbar\": {\"outlinewidth\": 0, \"ticks\": \"\"}}, \"type\": \"scattergl\"}], \"scattermapbox\": [{\"marker\": {\"colorbar\": {\"outlinewidth\": 0, \"ticks\": \"\"}}, \"type\": \"scattermapbox\"}], \"scatterpolar\": [{\"marker\": {\"colorbar\": {\"outlinewidth\": 0, \"ticks\": \"\"}}, \"type\": \"scatterpolar\"}], \"scatterpolargl\": [{\"marker\": {\"colorbar\": {\"outlinewidth\": 0, \"ticks\": \"\"}}, \"type\": \"scatterpolargl\"}], \"scatterternary\": [{\"marker\": {\"colorbar\": {\"outlinewidth\": 0, \"ticks\": \"\"}}, \"type\": \"scatterternary\"}], \"surface\": [{\"colorbar\": {\"outlinewidth\": 0, \"ticks\": \"\"}, \"colorscale\": [[0.0, \"#0d0887\"], [0.1111111111111111, \"#46039f\"], [0.2222222222222222, \"#7201a8\"], [0.3333333333333333, \"#9c179e\"], [0.4444444444444444, \"#bd3786\"], [0.5555555555555556, \"#d8576b\"], [0.6666666666666666, \"#ed7953\"], [0.7777777777777778, \"#fb9f3a\"], [0.8888888888888888, \"#fdca26\"], [1.0, \"#f0f921\"]], \"type\": \"surface\"}], \"table\": [{\"cells\": {\"fill\": {\"color\": \"#EBF0F8\"}, \"line\": {\"color\": \"white\"}}, \"header\": {\"fill\": {\"color\": \"#C8D4E3\"}, \"line\": {\"color\": \"white\"}}, \"type\": \"table\"}]}, \"layout\": {\"annotationdefaults\": {\"arrowcolor\": \"#2a3f5f\", \"arrowhead\": 0, \"arrowwidth\": 1}, \"coloraxis\": {\"colorbar\": {\"outlinewidth\": 0, \"ticks\": \"\"}}, \"colorscale\": {\"diverging\": [[0, \"#8e0152\"], [0.1, \"#c51b7d\"], [0.2, \"#de77ae\"], [0.3, \"#f1b6da\"], [0.4, \"#fde0ef\"], [0.5, \"#f7f7f7\"], [0.6, \"#e6f5d0\"], [0.7, \"#b8e186\"], [0.8, \"#7fbc41\"], [0.9, \"#4d9221\"], [1, \"#276419\"]], \"sequential\": [[0.0, \"#0d0887\"], [0.1111111111111111, \"#46039f\"], [0.2222222222222222, \"#7201a8\"], [0.3333333333333333, \"#9c179e\"], [0.4444444444444444, \"#bd3786\"], [0.5555555555555556, \"#d8576b\"], [0.6666666666666666, \"#ed7953\"], [0.7777777777777778, \"#fb9f3a\"], [0.8888888888888888, \"#fdca26\"], [1.0, \"#f0f921\"]], \"sequentialminus\": [[0.0, \"#0d0887\"], [0.1111111111111111, \"#46039f\"], [0.2222222222222222, \"#7201a8\"], [0.3333333333333333, \"#9c179e\"], [0.4444444444444444, \"#bd3786\"], [0.5555555555555556, \"#d8576b\"], [0.6666666666666666, \"#ed7953\"], [0.7777777777777778, \"#fb9f3a\"], [0.8888888888888888, \"#fdca26\"], [1.0, \"#f0f921\"]]}, \"colorway\": [\"#636efa\", \"#EF553B\", \"#00cc96\", \"#ab63fa\", \"#FFA15A\", \"#19d3f3\", \"#FF6692\", \"#B6E880\", \"#FF97FF\", \"#FECB52\"], \"font\": {\"color\": \"#2a3f5f\"}, \"geo\": {\"bgcolor\": \"white\", \"lakecolor\": \"white\", \"landcolor\": \"#E5ECF6\", \"showlakes\": true, \"showland\": true, \"subunitcolor\": \"white\"}, \"hoverlabel\": {\"align\": \"left\"}, \"hovermode\": \"closest\", \"mapbox\": {\"style\": \"light\"}, \"paper_bgcolor\": \"white\", \"plot_bgcolor\": \"#E5ECF6\", \"polar\": {\"angularaxis\": {\"gridcolor\": \"white\", \"linecolor\": \"white\", \"ticks\": \"\"}, \"bgcolor\": \"#E5ECF6\", \"radialaxis\": {\"gridcolor\": \"white\", \"linecolor\": \"white\", \"ticks\": \"\"}}, \"scene\": {\"xaxis\": {\"backgroundcolor\": \"#E5ECF6\", \"gridcolor\": \"white\", \"gridwidth\": 2, \"linecolor\": \"white\", \"showbackground\": true, \"ticks\": \"\", \"zerolinecolor\": \"white\"}, \"yaxis\": {\"backgroundcolor\": \"#E5ECF6\", \"gridcolor\": \"white\", \"gridwidth\": 2, \"linecolor\": \"white\", \"showbackground\": true, \"ticks\": \"\", \"zerolinecolor\": \"white\"}, \"zaxis\": {\"backgroundcolor\": \"#E5ECF6\", \"gridcolor\": \"white\", \"gridwidth\": 2, \"linecolor\": \"white\", \"showbackground\": true, \"ticks\": \"\", \"zerolinecolor\": \"white\"}}, \"shapedefaults\": {\"line\": {\"color\": \"#2a3f5f\"}}, \"ternary\": {\"aaxis\": {\"gridcolor\": \"white\", \"linecolor\": \"white\", \"ticks\": \"\"}, \"baxis\": {\"gridcolor\": \"white\", \"linecolor\": \"white\", \"ticks\": \"\"}, \"bgcolor\": \"#E5ECF6\", \"caxis\": {\"gridcolor\": \"white\", \"linecolor\": \"white\", \"ticks\": \"\"}}, \"title\": {\"x\": 0.05}, \"xaxis\": {\"automargin\": true, \"gridcolor\": \"white\", \"linecolor\": \"white\", \"ticks\": \"\", \"title\": {\"standoff\": 15}, \"zerolinecolor\": \"white\", \"zerolinewidth\": 2}, \"yaxis\": {\"automargin\": true, \"gridcolor\": \"white\", \"linecolor\": \"white\", \"ticks\": \"\", \"title\": {\"standoff\": 15}, \"zerolinecolor\": \"white\", \"zerolinewidth\": 2}}}, \"title\": {\"text\": \"Median Yearly 24-Hour PM2.5 Average per Quarter\"}, \"xaxis\": {\"anchor\": \"y\", \"domain\": [0.0, 1.0], \"title\": {\"text\": \"Year\"}}, \"yaxis\": {\"anchor\": \"x\", \"domain\": [0.0, 1.0], \"title\": {\"text\": \"PM2.5\"}}},\n",
              "                        {\"responsive\": true}\n",
              "                    ).then(function(){\n",
              "                            \n",
              "var gd = document.getElementById('1f6699c3-1f0b-4ac3-99d6-7cdea67f1bd0');\n",
              "var x = new MutationObserver(function (mutations, observer) {{\n",
              "        var display = window.getComputedStyle(gd).display;\n",
              "        if (!display || display === 'none') {{\n",
              "            console.log([gd, 'removed!']);\n",
              "            Plotly.purge(gd);\n",
              "            observer.disconnect();\n",
              "        }}\n",
              "}});\n",
              "\n",
              "// Listen for the removal of the full notebook cells\n",
              "var notebookContainer = gd.closest('#notebook-container');\n",
              "if (notebookContainer) {{\n",
              "    x.observe(notebookContainer, {childList: true});\n",
              "}}\n",
              "\n",
              "// Listen for the clearing of the current output cell\n",
              "var outputEl = gd.closest('.output');\n",
              "if (outputEl) {{\n",
              "    x.observe(outputEl, {childList: true});\n",
              "}}\n",
              "\n",
              "                        })\n",
              "                };\n",
              "                \n",
              "            </script>\n",
              "        </div>\n",
              "</body>\n",
              "</html>"
            ]
          },
          "metadata": {
            "tags": []
          }
        }
      ]
    },
    {
      "cell_type": "code",
      "metadata": {
        "colab": {
          "base_uri": "https://localhost:8080/",
          "height": 542
        },
        "id": "unkueB5rpswR",
        "outputId": "17a19d0f-6fb2-4e7f-9f77-282c691501ac"
      },
      "source": [
        "# aggregated data\n",
        "_ = daily_avg\\\n",
        "    .groupby(['year', 'quarter'], as_index=False)\\\n",
        "    .agg({'PM2.5':'mean'})\n",
        "\n",
        "# plotting\n",
        "fig = px.line(_, \n",
        "              x='year', \n",
        "              y='PM2.5', \n",
        "              color='quarter', \n",
        "              title='Mean Yearly 24-Hour PM2.5 Average per Quarter')\n",
        "fig.update_layout(xaxis_title='Year',\n",
        "                  yaxis_title='PM2.5')\n",
        "fig.show()"
      ],
      "id": "unkueB5rpswR",
      "execution_count": null,
      "outputs": [
        {
          "output_type": "display_data",
          "data": {
            "text/html": [
              "<html>\n",
              "<head><meta charset=\"utf-8\" /></head>\n",
              "<body>\n",
              "    <div>\n",
              "            <script src=\"https://cdnjs.cloudflare.com/ajax/libs/mathjax/2.7.5/MathJax.js?config=TeX-AMS-MML_SVG\"></script><script type=\"text/javascript\">if (window.MathJax) {MathJax.Hub.Config({SVG: {font: \"STIX-Web\"}});}</script>\n",
              "                <script type=\"text/javascript\">window.PlotlyConfig = {MathJaxConfig: 'local'};</script>\n",
              "        <script src=\"https://cdn.plot.ly/plotly-latest.min.js\"></script>    \n",
              "            <div id=\"c810cd0d-f7ff-4354-b0cc-b3d49f704444\" class=\"plotly-graph-div\" style=\"height:525px; width:100%;\"></div>\n",
              "            <script type=\"text/javascript\">\n",
              "                \n",
              "                    window.PLOTLYENV=window.PLOTLYENV || {};\n",
              "                    \n",
              "                if (document.getElementById(\"c810cd0d-f7ff-4354-b0cc-b3d49f704444\")) {\n",
              "                    Plotly.newPlot(\n",
              "                        'c810cd0d-f7ff-4354-b0cc-b3d49f704444',\n",
              "                        [{\"hoverlabel\": {\"namelength\": 0}, \"hovertemplate\": \"quarter=1<br>year=%{x}<br>PM2.5=%{y}\", \"legendgroup\": \"quarter=1\", \"line\": {\"color\": \"#636efa\", \"dash\": \"solid\"}, \"mode\": \"lines\", \"name\": \"quarter=1\", \"showlegend\": true, \"type\": \"scatter\", \"x\": [2013, 2014, 2015, 2016, 2017], \"xaxis\": \"x\", \"y\": [110.27284946236557, 122.4050925925926, 91.97173611111114, 68.95077838827841, 93.86687853107343], \"yaxis\": \"y\"}, {\"hoverlabel\": {\"namelength\": 0}, \"hovertemplate\": \"quarter=2<br>year=%{x}<br>PM2.5=%{y}\", \"legendgroup\": \"quarter=2\", \"line\": {\"color\": \"#EF553B\", \"dash\": \"solid\"}, \"mode\": \"lines\", \"name\": \"quarter=2\", \"showlegend\": true, \"type\": \"scatter\", \"x\": [2013, 2014, 2015, 2016], \"xaxis\": \"x\", \"y\": [93.16483516483518, 70.80164835164835, 64.70077838827841, 57.574862637362635], \"yaxis\": \"y\"}, {\"hoverlabel\": {\"namelength\": 0}, \"hovertemplate\": \"quarter=3<br>year=%{x}<br>PM2.5=%{y}\", \"legendgroup\": \"quarter=3\", \"line\": {\"color\": \"#00cc96\", \"dash\": \"solid\"}, \"mode\": \"lines\", \"name\": \"quarter=3\", \"showlegend\": true, \"type\": \"scatter\", \"x\": [2013, 2014, 2015, 2016], \"xaxis\": \"x\", \"y\": [76.41213768115941, 74.54796195652175, 53.87658514492751, 56.4261775362319], \"yaxis\": \"y\"}, {\"hoverlabel\": {\"namelength\": 0}, \"hovertemplate\": \"quarter=4<br>year=%{x}<br>PM2.5=%{y}\", \"legendgroup\": \"quarter=4\", \"line\": {\"color\": \"#ab63fa\", \"dash\": \"solid\"}, \"mode\": \"lines\", \"name\": \"quarter=4\", \"showlegend\": true, \"type\": \"scatter\", \"x\": [2013, 2014, 2015, 2016], \"xaxis\": \"x\", \"y\": [98.56951992753628, 94.21340579710143, 110.45018115942028, 102.60303442028984], \"yaxis\": \"y\"}],\n",
              "                        {\"legend\": {\"tracegroupgap\": 0}, \"template\": {\"data\": {\"bar\": [{\"error_x\": {\"color\": \"#2a3f5f\"}, \"error_y\": {\"color\": \"#2a3f5f\"}, \"marker\": {\"line\": {\"color\": \"#E5ECF6\", \"width\": 0.5}}, \"type\": \"bar\"}], \"barpolar\": [{\"marker\": {\"line\": {\"color\": \"#E5ECF6\", \"width\": 0.5}}, \"type\": \"barpolar\"}], \"carpet\": [{\"aaxis\": {\"endlinecolor\": \"#2a3f5f\", \"gridcolor\": \"white\", \"linecolor\": \"white\", \"minorgridcolor\": \"white\", \"startlinecolor\": \"#2a3f5f\"}, \"baxis\": {\"endlinecolor\": \"#2a3f5f\", \"gridcolor\": \"white\", \"linecolor\": \"white\", \"minorgridcolor\": \"white\", \"startlinecolor\": \"#2a3f5f\"}, \"type\": \"carpet\"}], \"choropleth\": [{\"colorbar\": {\"outlinewidth\": 0, \"ticks\": \"\"}, \"type\": \"choropleth\"}], \"contour\": [{\"colorbar\": {\"outlinewidth\": 0, \"ticks\": \"\"}, \"colorscale\": [[0.0, \"#0d0887\"], [0.1111111111111111, \"#46039f\"], [0.2222222222222222, \"#7201a8\"], [0.3333333333333333, \"#9c179e\"], [0.4444444444444444, \"#bd3786\"], [0.5555555555555556, \"#d8576b\"], [0.6666666666666666, \"#ed7953\"], [0.7777777777777778, \"#fb9f3a\"], [0.8888888888888888, \"#fdca26\"], [1.0, \"#f0f921\"]], \"type\": \"contour\"}], \"contourcarpet\": [{\"colorbar\": {\"outlinewidth\": 0, \"ticks\": \"\"}, \"type\": \"contourcarpet\"}], \"heatmap\": [{\"colorbar\": {\"outlinewidth\": 0, \"ticks\": \"\"}, \"colorscale\": [[0.0, \"#0d0887\"], [0.1111111111111111, \"#46039f\"], [0.2222222222222222, \"#7201a8\"], [0.3333333333333333, \"#9c179e\"], [0.4444444444444444, \"#bd3786\"], [0.5555555555555556, \"#d8576b\"], [0.6666666666666666, \"#ed7953\"], [0.7777777777777778, \"#fb9f3a\"], [0.8888888888888888, \"#fdca26\"], [1.0, \"#f0f921\"]], \"type\": \"heatmap\"}], \"heatmapgl\": [{\"colorbar\": {\"outlinewidth\": 0, \"ticks\": \"\"}, \"colorscale\": [[0.0, \"#0d0887\"], [0.1111111111111111, \"#46039f\"], [0.2222222222222222, \"#7201a8\"], [0.3333333333333333, \"#9c179e\"], [0.4444444444444444, \"#bd3786\"], [0.5555555555555556, \"#d8576b\"], [0.6666666666666666, \"#ed7953\"], [0.7777777777777778, \"#fb9f3a\"], [0.8888888888888888, \"#fdca26\"], [1.0, \"#f0f921\"]], \"type\": \"heatmapgl\"}], \"histogram\": [{\"marker\": {\"colorbar\": {\"outlinewidth\": 0, \"ticks\": \"\"}}, \"type\": \"histogram\"}], \"histogram2d\": [{\"colorbar\": {\"outlinewidth\": 0, \"ticks\": \"\"}, \"colorscale\": [[0.0, \"#0d0887\"], [0.1111111111111111, \"#46039f\"], [0.2222222222222222, \"#7201a8\"], [0.3333333333333333, \"#9c179e\"], [0.4444444444444444, \"#bd3786\"], [0.5555555555555556, \"#d8576b\"], [0.6666666666666666, \"#ed7953\"], [0.7777777777777778, \"#fb9f3a\"], [0.8888888888888888, \"#fdca26\"], [1.0, \"#f0f921\"]], \"type\": \"histogram2d\"}], \"histogram2dcontour\": [{\"colorbar\": {\"outlinewidth\": 0, \"ticks\": \"\"}, \"colorscale\": [[0.0, \"#0d0887\"], [0.1111111111111111, \"#46039f\"], [0.2222222222222222, \"#7201a8\"], [0.3333333333333333, \"#9c179e\"], [0.4444444444444444, \"#bd3786\"], [0.5555555555555556, \"#d8576b\"], [0.6666666666666666, \"#ed7953\"], [0.7777777777777778, \"#fb9f3a\"], [0.8888888888888888, \"#fdca26\"], [1.0, \"#f0f921\"]], \"type\": \"histogram2dcontour\"}], \"mesh3d\": [{\"colorbar\": {\"outlinewidth\": 0, \"ticks\": \"\"}, \"type\": \"mesh3d\"}], \"parcoords\": [{\"line\": {\"colorbar\": {\"outlinewidth\": 0, \"ticks\": \"\"}}, \"type\": \"parcoords\"}], \"pie\": [{\"automargin\": true, \"type\": \"pie\"}], \"scatter\": [{\"marker\": {\"colorbar\": {\"outlinewidth\": 0, \"ticks\": \"\"}}, \"type\": \"scatter\"}], \"scatter3d\": [{\"line\": {\"colorbar\": {\"outlinewidth\": 0, \"ticks\": \"\"}}, \"marker\": {\"colorbar\": {\"outlinewidth\": 0, \"ticks\": \"\"}}, \"type\": \"scatter3d\"}], \"scattercarpet\": [{\"marker\": {\"colorbar\": {\"outlinewidth\": 0, \"ticks\": \"\"}}, \"type\": \"scattercarpet\"}], \"scattergeo\": [{\"marker\": {\"colorbar\": {\"outlinewidth\": 0, \"ticks\": \"\"}}, \"type\": \"scattergeo\"}], \"scattergl\": [{\"marker\": {\"colorbar\": {\"outlinewidth\": 0, \"ticks\": \"\"}}, \"type\": \"scattergl\"}], \"scattermapbox\": [{\"marker\": {\"colorbar\": {\"outlinewidth\": 0, \"ticks\": \"\"}}, \"type\": \"scattermapbox\"}], \"scatterpolar\": [{\"marker\": {\"colorbar\": {\"outlinewidth\": 0, \"ticks\": \"\"}}, \"type\": \"scatterpolar\"}], \"scatterpolargl\": [{\"marker\": {\"colorbar\": {\"outlinewidth\": 0, \"ticks\": \"\"}}, \"type\": \"scatterpolargl\"}], \"scatterternary\": [{\"marker\": {\"colorbar\": {\"outlinewidth\": 0, \"ticks\": \"\"}}, \"type\": \"scatterternary\"}], \"surface\": [{\"colorbar\": {\"outlinewidth\": 0, \"ticks\": \"\"}, \"colorscale\": [[0.0, \"#0d0887\"], [0.1111111111111111, \"#46039f\"], [0.2222222222222222, \"#7201a8\"], [0.3333333333333333, \"#9c179e\"], [0.4444444444444444, \"#bd3786\"], [0.5555555555555556, \"#d8576b\"], [0.6666666666666666, \"#ed7953\"], [0.7777777777777778, \"#fb9f3a\"], [0.8888888888888888, \"#fdca26\"], [1.0, \"#f0f921\"]], \"type\": \"surface\"}], \"table\": [{\"cells\": {\"fill\": {\"color\": \"#EBF0F8\"}, \"line\": {\"color\": \"white\"}}, \"header\": {\"fill\": {\"color\": \"#C8D4E3\"}, \"line\": {\"color\": \"white\"}}, \"type\": \"table\"}]}, \"layout\": {\"annotationdefaults\": {\"arrowcolor\": \"#2a3f5f\", \"arrowhead\": 0, \"arrowwidth\": 1}, \"coloraxis\": {\"colorbar\": {\"outlinewidth\": 0, \"ticks\": \"\"}}, \"colorscale\": {\"diverging\": [[0, \"#8e0152\"], [0.1, \"#c51b7d\"], [0.2, \"#de77ae\"], [0.3, \"#f1b6da\"], [0.4, \"#fde0ef\"], [0.5, \"#f7f7f7\"], [0.6, \"#e6f5d0\"], [0.7, \"#b8e186\"], [0.8, \"#7fbc41\"], [0.9, \"#4d9221\"], [1, \"#276419\"]], \"sequential\": [[0.0, \"#0d0887\"], [0.1111111111111111, \"#46039f\"], [0.2222222222222222, \"#7201a8\"], [0.3333333333333333, \"#9c179e\"], [0.4444444444444444, \"#bd3786\"], [0.5555555555555556, \"#d8576b\"], [0.6666666666666666, \"#ed7953\"], [0.7777777777777778, \"#fb9f3a\"], [0.8888888888888888, \"#fdca26\"], [1.0, \"#f0f921\"]], \"sequentialminus\": [[0.0, \"#0d0887\"], [0.1111111111111111, \"#46039f\"], [0.2222222222222222, \"#7201a8\"], [0.3333333333333333, \"#9c179e\"], [0.4444444444444444, \"#bd3786\"], [0.5555555555555556, \"#d8576b\"], [0.6666666666666666, \"#ed7953\"], [0.7777777777777778, \"#fb9f3a\"], [0.8888888888888888, \"#fdca26\"], [1.0, \"#f0f921\"]]}, \"colorway\": [\"#636efa\", \"#EF553B\", \"#00cc96\", \"#ab63fa\", \"#FFA15A\", \"#19d3f3\", \"#FF6692\", \"#B6E880\", \"#FF97FF\", \"#FECB52\"], \"font\": {\"color\": \"#2a3f5f\"}, \"geo\": {\"bgcolor\": \"white\", \"lakecolor\": \"white\", \"landcolor\": \"#E5ECF6\", \"showlakes\": true, \"showland\": true, \"subunitcolor\": \"white\"}, \"hoverlabel\": {\"align\": \"left\"}, \"hovermode\": \"closest\", \"mapbox\": {\"style\": \"light\"}, \"paper_bgcolor\": \"white\", \"plot_bgcolor\": \"#E5ECF6\", \"polar\": {\"angularaxis\": {\"gridcolor\": \"white\", \"linecolor\": \"white\", \"ticks\": \"\"}, \"bgcolor\": \"#E5ECF6\", \"radialaxis\": {\"gridcolor\": \"white\", \"linecolor\": \"white\", \"ticks\": \"\"}}, \"scene\": {\"xaxis\": {\"backgroundcolor\": \"#E5ECF6\", \"gridcolor\": \"white\", \"gridwidth\": 2, \"linecolor\": \"white\", \"showbackground\": true, \"ticks\": \"\", \"zerolinecolor\": \"white\"}, \"yaxis\": {\"backgroundcolor\": \"#E5ECF6\", \"gridcolor\": \"white\", \"gridwidth\": 2, \"linecolor\": \"white\", \"showbackground\": true, \"ticks\": \"\", \"zerolinecolor\": \"white\"}, \"zaxis\": {\"backgroundcolor\": \"#E5ECF6\", \"gridcolor\": \"white\", \"gridwidth\": 2, \"linecolor\": \"white\", \"showbackground\": true, \"ticks\": \"\", \"zerolinecolor\": \"white\"}}, \"shapedefaults\": {\"line\": {\"color\": \"#2a3f5f\"}}, \"ternary\": {\"aaxis\": {\"gridcolor\": \"white\", \"linecolor\": \"white\", \"ticks\": \"\"}, \"baxis\": {\"gridcolor\": \"white\", \"linecolor\": \"white\", \"ticks\": \"\"}, \"bgcolor\": \"#E5ECF6\", \"caxis\": {\"gridcolor\": \"white\", \"linecolor\": \"white\", \"ticks\": \"\"}}, \"title\": {\"x\": 0.05}, \"xaxis\": {\"automargin\": true, \"gridcolor\": \"white\", \"linecolor\": \"white\", \"ticks\": \"\", \"title\": {\"standoff\": 15}, \"zerolinecolor\": \"white\", \"zerolinewidth\": 2}, \"yaxis\": {\"automargin\": true, \"gridcolor\": \"white\", \"linecolor\": \"white\", \"ticks\": \"\", \"title\": {\"standoff\": 15}, \"zerolinecolor\": \"white\", \"zerolinewidth\": 2}}}, \"title\": {\"text\": \"Mean Yearly 24-Hour PM2.5 Average per Quarter\"}, \"xaxis\": {\"anchor\": \"y\", \"domain\": [0.0, 1.0], \"title\": {\"text\": \"Year\"}}, \"yaxis\": {\"anchor\": \"x\", \"domain\": [0.0, 1.0], \"title\": {\"text\": \"PM2.5\"}}},\n",
              "                        {\"responsive\": true}\n",
              "                    ).then(function(){\n",
              "                            \n",
              "var gd = document.getElementById('c810cd0d-f7ff-4354-b0cc-b3d49f704444');\n",
              "var x = new MutationObserver(function (mutations, observer) {{\n",
              "        var display = window.getComputedStyle(gd).display;\n",
              "        if (!display || display === 'none') {{\n",
              "            console.log([gd, 'removed!']);\n",
              "            Plotly.purge(gd);\n",
              "            observer.disconnect();\n",
              "        }}\n",
              "}});\n",
              "\n",
              "// Listen for the removal of the full notebook cells\n",
              "var notebookContainer = gd.closest('#notebook-container');\n",
              "if (notebookContainer) {{\n",
              "    x.observe(notebookContainer, {childList: true});\n",
              "}}\n",
              "\n",
              "// Listen for the clearing of the current output cell\n",
              "var outputEl = gd.closest('.output');\n",
              "if (outputEl) {{\n",
              "    x.observe(outputEl, {childList: true});\n",
              "}}\n",
              "\n",
              "                        })\n",
              "                };\n",
              "                \n",
              "            </script>\n",
              "        </div>\n",
              "</body>\n",
              "</html>"
            ]
          },
          "metadata": {
            "tags": []
          }
        }
      ]
    },
    {
      "cell_type": "markdown",
      "metadata": {
        "id": "practical-lender"
      },
      "source": [
        "# Test Stationarity\n",
        "\n",
        "A Time Series is said to be stationary if its statistical properties such as mean, variance remain constant over time."
      ],
      "id": "practical-lender"
    },
    {
      "cell_type": "markdown",
      "metadata": {
        "id": "fatal-sheffield"
      },
      "source": [
        "## Rolling Statistics\n",
        "\n",
        "We can plot the moving average or moving variance and see if it varies with time. Moving average/variance is for any instant ‘t’, the average/variance of the last year, i.e. last 12 months."
      ],
      "id": "fatal-sheffield"
    },
    {
      "cell_type": "code",
      "metadata": {
        "id": "worth-inspiration"
      },
      "source": [
        "#Determing rolling statistics\n",
        "def TestStationaryStats(ts):\n",
        "    rol_mean = ts.rolling(window = 12, center = False).mean()\n",
        "    rol_std = ts.rolling(window = 12, center = False).std()\n",
        "    \n",
        "    plt.plot(ts, color = 'blue',label = 'Original Data')\n",
        "    plt.plot(rol_mean, color = 'red', label = 'Rolling Mean')\n",
        "    plt.plot(rol_std, color ='black', label = 'Rolling Std')\n",
        "    plt.xticks(fontsize = 10)\n",
        "    plt.yticks(fontsize = 10)\n",
        "    \n",
        "    plt.xlabel('Time in Years', fontsize = 10)\n",
        "    plt.ylabel('Total Emissions', fontsize = 10)\n",
        "    plt.legend(loc='best', fontsize = 10)\n",
        "    plt.title('Rolling Mean & Standard Deviation', fontsize = 10)\n",
        "    plt.show(block= True)"
      ],
      "id": "worth-inspiration",
      "execution_count": null,
      "outputs": []
    },
    {
      "cell_type": "code",
      "metadata": {
        "id": "heated-adjustment",
        "colab": {
          "base_uri": "https://localhost:8080/",
          "height": 344
        },
        "outputId": "e396a215-ce63-4a1c-befa-66ce799d6b2a"
      },
      "source": [
        "plt.figure(figsize = (10,5))\n",
        "TestStationaryStats(daily_avg['PM2.5'])"
      ],
      "id": "heated-adjustment",
      "execution_count": null,
      "outputs": [
        {
          "output_type": "display_data",
          "data": {
            "image/png": "[encoded data removed]",
            "text/plain": [
              "<Figure size 720x360 with 1 Axes>"
            ]
          },
          "metadata": {
            "tags": []
          }
        }
      ]
    },
    {
      "cell_type": "markdown",
      "metadata": {
        "id": "acting-knife"
      },
      "source": [
        "## ACF and PACF plots\n",
        "Let's review the Autocorrelation Function (ACF) and Partial Autocorrelation Function (PACF) plots: \n",
        "- If the time series is stationary, the ACF/PACF plots will show a quick drop-off in correlation after a small amount of lag between points.\n",
        "- This data is non-stationary as a high number of previous observations are correlated with future values.\n",
        "- Confidence intervals are drawn as a cone.\n",
        "- By default, this is set to a 95% confidence interval, suggesting that correlation values outside of this code are very likely a correlation and not a statistical fluke.\n",
        "- The partial autocorrelation at lag k is the correlation that results after removing the effect of any correlations due to the terms at shorter lags."
      ],
      "id": "acting-knife"
    },
    {
      "cell_type": "markdown",
      "metadata": {
        "id": "determined-domain"
      },
      "source": [
        "Autocorrelation - The autocorrelation function (ACF) measures how a series is correlated with itself at different lags.\n",
        "\n",
        "Partial Autocorrelation - The partial autocorrelation function can be interpreted as a regression of the series against its past lags. The terms can be interpreted the same way as a standard linear regression, that is the contribution of a change in that particular lag while holding others constant."
      ],
      "id": "determined-domain"
    },
    {
      "cell_type": "code",
      "metadata": {
        "id": "suspected-salem",
        "colab": {
          "base_uri": "https://localhost:8080/",
          "height": 459
        },
        "outputId": "40aa1c4e-00e9-44d2-bc0d-09f70ca2b982"
      },
      "source": [
        "fig = plt.figure(figsize=(12,8))\n",
        "ax1 = fig.add_subplot(211)\n",
        "fig = sm.graphics.tsa.plot_acf(daily_avg[\"PM2.5\"].iloc[13:], lags=40, ax=ax1)\n",
        "ax2 = fig.add_subplot(212)\n",
        "fig = sm.graphics.tsa.plot_pacf(daily_avg[\"PM2.5\"].iloc[13:], lags=40, ax=ax2)"
      ],
      "id": "suspected-salem",
      "execution_count": null,
      "outputs": [
        {
          "output_type": "display_data",
          "data": {
            "image/png": "[encoded data removed]",
            "text/plain": [
              "<Figure size 864x576 with 2 Axes>"
            ]
          },
          "metadata": {
            "tags": []
          }
        }
      ]
    },
    {
      "cell_type": "markdown",
      "metadata": {
        "id": "dutch-pitch"
      },
      "source": [
        "## Augmented Dickey-Fuller Test\n",
        "\n",
        "This is one of the statistical tests for checking stationarity. Here the null hypothesis is that the TS is non-stationary. The test results comprise of a Test Statistic and some Critical Values for difference confidence levels. If the ‘Test Statistic’ is less than the ‘Critical Value’, we can reject the null hypothesis and say that the series is stationary. Refer this article for details.\n",
        "\n",
        "For a Time series to be stationary, its ADCF test should have:\n",
        "\n",
        "1. p-value to be low (according to the null hypothesis)\n",
        "2. The critical values at 1%,5%,10% confidence intervals should be as close as possible to the Test Statistics"
      ],
      "id": "dutch-pitch"
    },
    {
      "cell_type": "code",
      "metadata": {
        "id": "polish-panel"
      },
      "source": [
        "#Perform Augmented Dickey–Fuller test:\n",
        "def TestStationaryAdfuller(ts):\n",
        "    print('Results of Dickey Fuller Test:')\n",
        "    \n",
        "    ts_test = adfuller(ts, autolag = 'AIC')\n",
        "    ts_test_output = pd.Series(ts_test[0:4], index=['Test Statistic','p-value','#Lags Used','Number of Observations Used'])\n",
        "    \n",
        "    for key,value in ts_test[4].items():\n",
        "        ts_test_output['Critical Value (%s)'%key] = value\n",
        "    print(ts_test_output)"
      ],
      "id": "polish-panel",
      "execution_count": null,
      "outputs": []
    },
    {
      "cell_type": "code",
      "metadata": {
        "id": "thick-sarah",
        "colab": {
          "base_uri": "https://localhost:8080/"
        },
        "outputId": "5a858e23-855c-4a39-95fa-34ef882122de"
      },
      "source": [
        "TestStationaryAdfuller(daily_avg[\"PM2.5\"])"
      ],
      "id": "thick-sarah",
      "execution_count": null,
      "outputs": [
        {
          "output_type": "stream",
          "text": [
            "Results of Dickey Fuller Test:\n",
            "Test Statistic                -1.110054e+01\n",
            "p-value                        3.875282e-20\n",
            "#Lags Used                     7.000000e+00\n",
            "Number of Observations Used    1.453000e+03\n",
            "Critical Value (1%)           -3.434859e+00\n",
            "Critical Value (5%)           -2.863531e+00\n",
            "Critical Value (10%)          -2.567830e+00\n",
            "dtype: float64\n"
          ],
          "name": "stdout"
        }
      ]
    },
    {
      "cell_type": "markdown",
      "metadata": {
        "id": "concerned-makeup"
      },
      "source": [
        "From the above ADCF test result, we see that p-value is very low. However critical values are no where close to the Test Statistics. Hence, we can safely say that our Time Series at the moment is not stationary"
      ],
      "id": "concerned-makeup"
    },
    {
      "cell_type": "markdown",
      "metadata": {
        "id": "environmental-lesson"
      },
      "source": [
        "## Kwiatkowski-Phillips-Schmidt-Shin (“KPSS”)\n",
        "\n",
        "KPSS is another test for checking the stationarity of a time series. The null and alternate hypothesis for the KPSS test are opposite that of the ADF test.\n",
        "\n",
        "Null Hypothesis: The process is trend stationary.\n",
        "\n",
        "Alternate Hypothesis: The series has a unit root (series is not stationary)."
      ],
      "id": "environmental-lesson"
    },
    {
      "cell_type": "code",
      "metadata": {
        "id": "preceding-annex"
      },
      "source": [
        "# KPSS test:\n",
        "def TestStationaryKPSS(series, **kw):    \n",
        "    statistic, p_value, n_lags, critical_values = kpss(series, **kw)\n",
        "    # Format Output\n",
        "    print(f'KPSS Statistic: {statistic}')\n",
        "    print(f'p-value: {p_value}')\n",
        "    print(f'num lags: {n_lags}')\n",
        "    print('Critial Values:')\n",
        "    for key, value in critical_values.items():\n",
        "        print(f'   {key} : {value}')\n",
        "    print(f'Result: The series is {\"not \" if p_value < 0.05 else \"\"}stationary')"
      ],
      "id": "preceding-annex",
      "execution_count": null,
      "outputs": []
    },
    {
      "cell_type": "code",
      "metadata": {
        "id": "employed-suggestion",
        "colab": {
          "base_uri": "https://localhost:8080/"
        },
        "outputId": "8e54997c-b798-46e4-d3d2-3a9762da56f9"
      },
      "source": [
        "TestStationaryKPSS(daily_avg[\"PM2.5\"])"
      ],
      "id": "employed-suggestion",
      "execution_count": null,
      "outputs": [
        {
          "output_type": "stream",
          "text": [
            "KPSS Statistic: 0.43905841490357955\n",
            "p-value: 0.0603196487484571\n",
            "num lags: 24\n",
            "Critial Values:\n",
            "   10% : 0.347\n",
            "   5% : 0.463\n",
            "   2.5% : 0.574\n",
            "   1% : 0.739\n",
            "Result: The series is stationary\n"
          ],
          "name": "stdout"
        }
      ]
    },
    {
      "cell_type": "markdown",
      "metadata": {
        "id": "criminal-shopper"
      },
      "source": [
        "# Remove Seasonality and Trend \n",
        "\n",
        "Making Series Stationary\n",
        "\n",
        "There are 2 major reasons behind non-stationaruty of a TS:\n",
        "\n",
        "- Trend – varying mean over time. In this case we saw that on average, PM2.5 emissions was decreasing over time. \n",
        "- Seasonality – variations at specific time-frames. In this case, PM2.5 emission greatly increase during the winter seasons"
      ],
      "id": "criminal-shopper"
    },
    {
      "cell_type": "markdown",
      "metadata": {
        "id": "hOQVI9t6elHX"
      },
      "source": [
        "## Regular Differencing\n",
        "\n",
        "- In this technique, we take the difference of the observation at a particular instant with that at the previous instant.\n",
        "- First order differencing in Pandas"
      ],
      "id": "hOQVI9t6elHX"
    },
    {
      "cell_type": "code",
      "metadata": {
        "id": "enclosed-vancouver"
      },
      "source": [
        "ts_first_diff = daily_avg[\"PM2.5\"] - daily_avg[\"PM2.5\"].shift(1)"
      ],
      "id": "enclosed-vancouver",
      "execution_count": null,
      "outputs": []
    },
    {
      "cell_type": "code",
      "metadata": {
        "id": "refined-appeal",
        "colab": {
          "base_uri": "https://localhost:8080/",
          "height": 459
        },
        "outputId": "1058c0af-a712-4899-c3f4-ea8b6f2e9a41"
      },
      "source": [
        "ts_first_diff.dropna(inplace=True)\n",
        "fig = plt.figure(figsize=(12,8))\n",
        "ax1 = fig.add_subplot(211)\n",
        "fig = sm.graphics.tsa.plot_acf(ts_first_diff.iloc[13:], lags=50, ax=ax1)\n",
        "ax2 = fig.add_subplot(212)\n",
        "fig = sm.graphics.tsa.plot_pacf(ts_first_diff.iloc[13:], lags=50, ax=ax2)"
      ],
      "id": "refined-appeal",
      "execution_count": null,
      "outputs": [
        {
          "output_type": "display_data",
          "data": {
            "image/png": "[encoded data removed]",
            "text/plain": [
              "<Figure size 864x576 with 2 Axes>"
            ]
          },
          "metadata": {
            "tags": []
          }
        }
      ]
    },
    {
      "cell_type": "code",
      "metadata": {
        "id": "republican-variation",
        "colab": {
          "base_uri": "https://localhost:8080/",
          "height": 497
        },
        "outputId": "5f3dee4d-a4f5-4dcb-9624-ee65fc506a3c"
      },
      "source": [
        "plt.figure(figsize = (10,5))\n",
        "TestStationaryStats(ts_first_diff)\n",
        "TestStationaryAdfuller(ts_first_diff)"
      ],
      "id": "republican-variation",
      "execution_count": null,
      "outputs": [
        {
          "output_type": "display_data",
          "data": {
            "image/png": "[encoded data removed]",
            "text/plain": [
              "<Figure size 720x360 with 1 Axes>"
            ]
          },
          "metadata": {
            "tags": []
          }
        },
        {
          "output_type": "stream",
          "text": [
            "Results of Dickey Fuller Test:\n",
            "Test Statistic                -1.342733e+01\n",
            "p-value                        4.077625e-25\n",
            "#Lags Used                     2.200000e+01\n",
            "Number of Observations Used    1.437000e+03\n",
            "Critical Value (1%)           -3.434909e+00\n",
            "Critical Value (5%)           -2.863553e+00\n",
            "Critical Value (10%)          -2.567842e+00\n",
            "dtype: float64\n"
          ],
          "name": "stdout"
        }
      ]
    },
    {
      "cell_type": "markdown",
      "metadata": {
        "id": "uE2MEGq-ReHd"
      },
      "source": [
        "## Seasonal Differencing\n"
      ],
      "id": "uE2MEGq-ReHd"
    },
    {
      "cell_type": "code",
      "metadata": {
        "id": "mqhPv2FmLuMt"
      },
      "source": [
        "# The seasonal difference\n",
        "ts_seasonal_diff_12 = daily_avg[\"PM2.5\"] - daily_avg[\"PM2.5\"].shift(12)\n",
        "ts_seasonal_diff_12.dropna(inplace=True)"
      ],
      "id": "mqhPv2FmLuMt",
      "execution_count": null,
      "outputs": []
    },
    {
      "cell_type": "code",
      "metadata": {
        "colab": {
          "base_uri": "https://localhost:8080/",
          "height": 455
        },
        "id": "oAHcwlsjND-Q",
        "outputId": "7a41549e-f67b-47cc-db09-ccf2456e8654"
      },
      "source": [
        "fig = plt.figure(figsize=(12,8))\n",
        "ax1 = fig.add_subplot(211)\n",
        "fig = sm.graphics.tsa.plot_acf(ts_seasonal_diff_12.iloc[13:], lags=50, ax=ax1)\n",
        "ax2 = fig.add_subplot(212)\n",
        "fig = sm.graphics.tsa.plot_pacf(ts_seasonal_diff_12.iloc[13:], lags=50, ax=ax2)"
      ],
      "id": "oAHcwlsjND-Q",
      "execution_count": null,
      "outputs": [
        {
          "output_type": "display_data",
          "data": {
            "image/png": "[encoded data removed]",
            "text/plain": [
              "<Figure size 864x576 with 2 Axes>"
            ]
          },
          "metadata": {
            "tags": []
          }
        }
      ]
    },
    {
      "cell_type": "code",
      "metadata": {
        "colab": {
          "base_uri": "https://localhost:8080/",
          "height": 497
        },
        "id": "QPUtanSBNI75",
        "outputId": "84cae247-547e-4945-8c1e-017a8e4fa736"
      },
      "source": [
        "plt.figure(figsize = (10,5))\n",
        "TestStationaryStats(ts_seasonal_diff_12)\n",
        "TestStationaryAdfuller(ts_seasonal_diff_12)"
      ],
      "id": "QPUtanSBNI75",
      "execution_count": null,
      "outputs": [
        {
          "output_type": "display_data",
          "data": {
            "image/png": "[encoded data removed]",
            "text/plain": [
              "<Figure size 720x360 with 1 Axes>"
            ]
          },
          "metadata": {
            "tags": []
          }
        },
        {
          "output_type": "stream",
          "text": [
            "Results of Dickey Fuller Test:\n",
            "Test Statistic                -1.001099e+01\n",
            "p-value                        1.778960e-17\n",
            "#Lags Used                     2.400000e+01\n",
            "Number of Observations Used    1.424000e+03\n",
            "Critical Value (1%)           -3.434951e+00\n",
            "Critical Value (5%)           -2.863572e+00\n",
            "Critical Value (10%)          -2.567852e+00\n",
            "dtype: float64\n"
          ],
          "name": "stdout"
        }
      ]
    },
    {
      "cell_type": "markdown",
      "metadata": {
        "id": "mobile-token"
      },
      "source": [
        "# Time Series forecasting"
      ],
      "id": "mobile-token"
    },
    {
      "cell_type": "markdown",
      "metadata": {
        "id": "tEaBwuwHEiV0"
      },
      "source": [
        "## Error Definitions"
      ],
      "id": "tEaBwuwHEiV0"
    },
    {
      "cell_type": "code",
      "metadata": {
        "id": "-rPguHQdAtds"
      },
      "source": [
        "# MAPE\n",
        "def mean_absolute_percentage_error(y_true, y_pred): \n",
        "    return np.mean(np.abs((y_true - y_pred) / y_true)) * 100\n",
        "    \n",
        "def tsplot(y, lags=None, figsize=(12, 7), style='bmh'):\n",
        "    \"\"\"\n",
        "        Plot time series, its ACF and PACF, calculate Dickey–Fuller test\n",
        "        \n",
        "        y - timeseries\n",
        "        lags - how many lags to include in ACF, PACF calculation\n",
        "    \"\"\"\n",
        "    \n",
        "    if not isinstance(y, pd.Series):\n",
        "        y = pd.Series(y)\n",
        "        \n",
        "    with plt.style.context(style):    \n",
        "        fig = plt.figure(figsize=figsize)\n",
        "        layout = (2, 2)\n",
        "        ts_ax = plt.subplot2grid(layout, (0, 0), colspan=2)\n",
        "        acf_ax = plt.subplot2grid(layout, (1, 0))\n",
        "        pacf_ax = plt.subplot2grid(layout, (1, 1))\n",
        "        \n",
        "        y.plot(ax=ts_ax)\n",
        "        p_value = sm.tsa.stattools.adfuller(y)[1]\n",
        "        ts_ax.set_title('Time Series Analysis Plots\\n Dickey-Fuller: p={0:.5f}'.format(p_value))\n",
        "        smt.graphics.plot_acf(y, lags=lags, ax=acf_ax)\n",
        "        smt.graphics.plot_pacf(y, lags=lags, ax=pacf_ax)\n",
        "        plt.tight_layout()"
      ],
      "id": "-rPguHQdAtds",
      "execution_count": null,
      "outputs": []
    },
    {
      "cell_type": "code",
      "metadata": {
        "id": "E1VUxuDcEhjp"
      },
      "source": [
        "def mape(y_true, y_pred):\n",
        "    \"\"\" Mean Absolute Percentage Error \"\"\"\n",
        "    \n",
        "    # convert to numpy arrays\n",
        "    y_true, y_pred = np.array(y_true), np.array(y_pred)\n",
        "    \n",
        "    # take the percentage error\n",
        "    pe = (y_true - y_pred) / y_true\n",
        "    \n",
        "    # take the absolute values\n",
        "    ape = np.abs(pe)\n",
        "    \n",
        "    # quantify the performance in a single number\n",
        "    mape = np.mean(ape)\n",
        "    \n",
        "    return f'{mape*100:.2f}%'"
      ],
      "id": "E1VUxuDcEhjp",
      "execution_count": null,
      "outputs": []
    },
    {
      "cell_type": "markdown",
      "metadata": {
        "id": "Vas4Him7drKt"
      },
      "source": [
        "# Autoregressive Integrated Moving Average (ARIMA)\n"
      ],
      "id": "Vas4Him7drKt"
    },
    {
      "cell_type": "markdown",
      "metadata": {
        "id": "Rzq5TDl8d2E7"
      },
      "source": [
        "Observations from EDA on the time series:\n",
        "\n",
        "- Non stationarity implies at least one level of differencing (d) is required in ARIMA\n",
        "\n",
        "ACF and PACF plots after differencing:\n",
        "\n",
        "- AR(1) process -- PACF cut off at lag=1\n",
        "- AR(2) process -- PACF cut off at lag=2\n",
        "- MA(1) process -- ACF cut off at lag=1\n",
        "- MA(2) process -- ACF cut off at lag=2"
      ],
      "id": "Rzq5TDl8d2E7"
    },
    {
      "cell_type": "code",
      "metadata": {
        "colab": {
          "base_uri": "https://localhost:8080/",
          "height": 459
        },
        "id": "q5oD7ZE8dxcU",
        "outputId": "d8b10994-aa0b-41f8-ff69-cfb3b7a7f6f9"
      },
      "source": [
        "# Recall First Differenced Series\n",
        "ts_first_diff.dropna(inplace=True)\n",
        "fig = plt.figure(figsize=(12,8))\n",
        "ax1 = fig.add_subplot(211)\n",
        "fig = sm.graphics.tsa.plot_acf(ts_first_diff.iloc[13:], lags=50, ax=ax1)\n",
        "ax2 = fig.add_subplot(212)\n",
        "fig = sm.graphics.tsa.plot_pacf(ts_first_diff.iloc[13:], lags=50, ax=ax2)"
      ],
      "id": "q5oD7ZE8dxcU",
      "execution_count": null,
      "outputs": [
        {
          "output_type": "display_data",
          "data": {
            "image/png": "[encoded data removed]",
            "text/plain": [
              "<Figure size 864x576 with 2 Axes>"
            ]
          },
          "metadata": {
            "tags": []
          }
        }
      ]
    },
    {
      "cell_type": "markdown",
      "metadata": {
        "id": "9b75JafTgHHQ"
      },
      "source": [
        "In this case,\n",
        "- AR(2) process -- has ACF tailing out and PACF cutting off at lag=2\n",
        "- MA(1) process -- has ACF cut off at lag=3\n",
        "\n",
        "So p=2, d=0, q=3"
      ],
      "id": "9b75JafTgHHQ"
    },
    {
      "cell_type": "code",
      "metadata": {
        "id": "bQVAmbw-WXu1"
      },
      "source": [
        "# AR+I+MA = ARIMA model\n",
        "model = sm.tsa.statespace.SARIMAX(daily_avg_copy[\"PM2.5\"], order=(5, 1, 4)).fit(disp=-1)\n",
        "# model = ARIMA(daily_avg_copy[\"PM2.5\"], order=(4,1,3))\n",
        "results_ARIMA = model.fit(disp=-1)\n",
        "\n",
        "plt.figure(figsize=(12,8))\n",
        "plt.plot(model)\n",
        "plt.plot(results_ARIMA.fittedvalues, color='red')\n",
        "plt.title('ARIMA model: %.4f'%sum((results_ARIMA.fittedvalues - daily_avg_copy[\"PM2.5\"])**2))\n",
        "print('Plotting ARIMA model')"
      ],
      "id": "bQVAmbw-WXu1",
      "execution_count": null,
      "outputs": []
    },
    {
      "cell_type": "markdown",
      "metadata": {
        "id": "-jvMGfLyNJpK"
      },
      "source": [
        "Best model:  ARIMA(4, 1, 3)\n",
        "\n",
        "AIC: 15976.804\n",
        "\n"
      ],
      "id": "-jvMGfLyNJpK"
    },
    {
      "cell_type": "code",
      "metadata": {
        "colab": {
          "base_uri": "https://localhost:8080/"
        },
        "id": "hRK9whvuMQjI",
        "outputId": "325ebf91-68e1-4c42-c177-adea13f1975f"
      },
      "source": [
        "print(model.summary())"
      ],
      "id": "hRK9whvuMQjI",
      "execution_count": null,
      "outputs": [
        {
          "output_type": "stream",
          "text": [
            "                               SARIMAX Results                                \n",
            "==============================================================================\n",
            "Dep. Variable:                  PM2.5   No. Observations:                 1461\n",
            "Model:               SARIMAX(5, 1, 4)   Log Likelihood               -7980.663\n",
            "Date:                Tue, 18 May 2021   AIC                          15981.326\n",
            "Time:                        03:13:33   BIC                          16034.188\n",
            "Sample:                    03-01-2013   HQIC                         16001.046\n",
            "                         - 02-28-2017                                         \n",
            "Covariance Type:                  opg                                         \n",
            "==============================================================================\n",
            "                 coef    std err          z      P>|z|      [0.025      0.975]\n",
            "------------------------------------------------------------------------------\n",
            "ar.L1          0.0911      0.328      0.278      0.781      -0.551       0.733\n",
            "ar.L2         -0.7372      0.188     -3.929      0.000      -1.105      -0.369\n",
            "ar.L3          0.1047      0.342      0.306      0.760      -0.566       0.776\n",
            "ar.L4          0.0830      0.194      0.428      0.669      -0.297       0.463\n",
            "ar.L5         -0.0158      0.065     -0.245      0.807      -0.142       0.111\n",
            "ma.L1         -0.4247      0.325     -1.308      0.191      -1.061       0.212\n",
            "ma.L2          0.3608      0.283      1.274      0.203      -0.194       0.916\n",
            "ma.L3         -0.4805      0.278     -1.730      0.084      -1.025       0.064\n",
            "ma.L4         -0.4143      0.306     -1.353      0.176      -1.014       0.186\n",
            "sigma2      3216.3685     74.571     43.132      0.000    3070.212    3362.524\n",
            "===================================================================================\n",
            "Ljung-Box (L1) (Q):                   0.00   Jarque-Bera (JB):              1129.11\n",
            "Prob(Q):                              1.00   Prob(JB):                         0.00\n",
            "Heteroskedasticity (H):               1.29   Skew:                             0.71\n",
            "Prob(H) (two-sided):                  0.00   Kurtosis:                         7.07\n",
            "===================================================================================\n",
            "\n",
            "Warnings:\n",
            "[1] Covariance matrix calculated using the outer product of gradients (complex-step).\n"
          ],
          "name": "stdout"
        }
      ]
    },
    {
      "cell_type": "markdown",
      "metadata": {
        "id": "Zk4CgIMXnG_f"
      },
      "source": [
        "Error: The computed initial AR coefficients are not stationary. You should induce stationarity, choose a different model order, or you can pass your own start_params."
      ],
      "id": "Zk4CgIMXnG_f"
    },
    {
      "cell_type": "markdown",
      "metadata": {
        "id": "5BN2Jrupg-K1"
      },
      "source": [
        "## Auto ARIMA"
      ],
      "id": "5BN2Jrupg-K1"
    },
    {
      "cell_type": "code",
      "metadata": {
        "colab": {
          "base_uri": "https://localhost:8080/"
        },
        "id": "EHouTRsHg_UU",
        "outputId": "1e5dc93f-a3dc-4ca0-f9ab-a270b0c02de6"
      },
      "source": [
        "#building the model\n",
        "model = auto_arima(daily_avg_copy['PM2.5'],start_p=0,d=1,start_q=0,max_p=5,max_d=5,max_q=5, seasonal=False, trace=True, \n",
        "                   error_action='ignore', suppress_warnings=True, stepwise=True)"
      ],
      "id": "EHouTRsHg_UU",
      "execution_count": null,
      "outputs": [
        {
          "output_type": "stream",
          "text": [
            "Performing stepwise search to minimize aic\n",
            " ARIMA(0,1,0)(0,0,0)[0] intercept   : AIC=16364.108, Time=0.04 sec\n",
            " ARIMA(1,1,0)(0,0,0)[0] intercept   : AIC=16353.968, Time=0.08 sec\n",
            " ARIMA(0,1,1)(0,0,0)[0] intercept   : AIC=16337.458, Time=0.44 sec\n",
            " ARIMA(0,1,0)(0,0,0)[0]             : AIC=16362.108, Time=0.06 sec\n",
            " ARIMA(1,1,1)(0,0,0)[0] intercept   : AIC=inf, Time=0.94 sec\n",
            " ARIMA(0,1,2)(0,0,0)[0] intercept   : AIC=16023.272, Time=0.77 sec\n",
            " ARIMA(1,1,2)(0,0,0)[0] intercept   : AIC=inf, Time=1.16 sec\n",
            " ARIMA(0,1,3)(0,0,0)[0] intercept   : AIC=15983.259, Time=1.13 sec\n",
            " ARIMA(1,1,3)(0,0,0)[0] intercept   : AIC=15979.570, Time=2.31 sec\n",
            " ARIMA(2,1,3)(0,0,0)[0] intercept   : AIC=15981.652, Time=2.82 sec\n",
            " ARIMA(1,1,4)(0,0,0)[0] intercept   : AIC=15979.039, Time=2.44 sec\n",
            " ARIMA(0,1,4)(0,0,0)[0] intercept   : AIC=15977.515, Time=1.76 sec\n",
            " ARIMA(0,1,5)(0,0,0)[0] intercept   : AIC=15978.716, Time=2.27 sec\n",
            " ARIMA(1,1,5)(0,0,0)[0] intercept   : AIC=15981.508, Time=2.86 sec\n",
            " ARIMA(0,1,4)(0,0,0)[0]             : AIC=15975.522, Time=1.02 sec\n",
            " ARIMA(0,1,3)(0,0,0)[0]             : AIC=15981.271, Time=0.54 sec\n",
            " ARIMA(1,1,4)(0,0,0)[0]             : AIC=15977.046, Time=1.48 sec\n",
            " ARIMA(0,1,5)(0,0,0)[0]             : AIC=15976.724, Time=1.22 sec\n",
            " ARIMA(1,1,3)(0,0,0)[0]             : AIC=15977.576, Time=1.27 sec\n",
            " ARIMA(1,1,5)(0,0,0)[0]             : AIC=15979.512, Time=1.20 sec\n",
            "\n",
            "Best model:  ARIMA(0,1,4)(0,0,0)[0]          \n",
            "Total fit time: 25.847 seconds\n"
          ],
          "name": "stdout"
        }
      ]
    },
    {
      "cell_type": "markdown",
      "metadata": {
        "id": "HCCdW-udLMTK"
      },
      "source": [
        "Best model:  ARIMA(0, 1, 4)\n",
        "\n",
        "AIC: 15975.522"
      ],
      "id": "HCCdW-udLMTK"
    },
    {
      "cell_type": "code",
      "metadata": {
        "colab": {
          "base_uri": "https://localhost:8080/"
        },
        "id": "rlVg7USenezr",
        "outputId": "712e2b07-83da-438d-a7f0-3a5cdc4467f3"
      },
      "source": [
        "best_model=sm.tsa.statespace.SARIMAX(daily_avg_copy[\"PM2.5\"], order=(0, 1, 4)).fit(disp=-1)\n",
        "print(best_model.summary())"
      ],
      "id": "rlVg7USenezr",
      "execution_count": null,
      "outputs": [
        {
          "output_type": "stream",
          "text": [
            "                               SARIMAX Results                                \n",
            "==============================================================================\n",
            "Dep. Variable:                  PM2.5   No. Observations:                 1461\n",
            "Model:               SARIMAX(0, 1, 4)   Log Likelihood               -7982.761\n",
            "Date:                Tue, 18 May 2021   AIC                          15975.522\n",
            "Time:                        01:35:15   BIC                          16001.953\n",
            "Sample:                    03-01-2013   HQIC                         15985.381\n",
            "                         - 02-28-2017                                         \n",
            "Covariance Type:                  opg                                         \n",
            "==============================================================================\n",
            "                 coef    std err          z      P>|z|      [0.025      0.975]\n",
            "------------------------------------------------------------------------------\n",
            "ma.L1         -0.3322      0.017    -19.379      0.000      -0.366      -0.299\n",
            "ma.L2         -0.4073      0.022    -18.754      0.000      -0.450      -0.365\n",
            "ma.L3         -0.1518      0.025     -6.095      0.000      -0.201      -0.103\n",
            "ma.L4         -0.0738      0.023     -3.148      0.002      -0.120      -0.028\n",
            "sigma2      3280.4306     74.237     44.189      0.000    3134.929    3425.932\n",
            "===================================================================================\n",
            "Ljung-Box (L1) (Q):                   0.00   Jarque-Bera (JB):              1109.20\n",
            "Prob(Q):                              0.96   Prob(JB):                         0.00\n",
            "Heteroskedasticity (H):               1.27   Skew:                             0.68\n",
            "Prob(H) (two-sided):                  0.01   Kurtosis:                         7.05\n",
            "===================================================================================\n",
            "\n",
            "Warnings:\n",
            "[1] Covariance matrix calculated using the outer product of gradients (complex-step).\n"
          ],
          "name": "stdout"
        }
      ]
    },
    {
      "cell_type": "code",
      "metadata": {
        "id": "LOMCZc1Tpdly"
      },
      "source": [
        "def plotARIMA(series, model, n_steps):\n",
        "    \"\"\"Plots model vs predicted values\n",
        "        \n",
        "        series - dataset with timeseries\n",
        "        model - fitted ARIMA model\n",
        "        n_steps - number of steps to predict in the future    \n",
        "    \"\"\"\n",
        "    s=0\n",
        "\n",
        "    # adding model values\n",
        "    data = series.copy()\n",
        "    data.columns = ['actual']\n",
        "    data['arima_model'] = model.fittedvalues\n",
        "    # making a shift on s+d steps, because these values were unobserved by the model\n",
        "    # due to the differentiating\n",
        "    data['arima_model'][:s+d] = np.NaN\n",
        "    \n",
        "    # forecasting on n_steps forward \n",
        "    forecast = model.predict(start = data.shape[0], end = data.shape[0]+n_steps)\n",
        "    forecast = data.arima_model.append(forecast)\n",
        "    # calculate error, again having shifted on s+d steps from the beginning\n",
        "    error = mean_absolute_percentage_error(data['actual'][s+d:], data['arima_model'][s+d:])\n",
        "\n",
        "    plt.figure(figsize=(15, 7))\n",
        "    plt.title(\"Mean Absolute Percentage Error: {0:.2f}%\".format(error))\n",
        "    plt.plot(forecast, color='r', label=\"model\")\n",
        "    plt.axvspan(data.index[-1], forecast.index[-1], alpha=0.5, color='lightgrey')\n",
        "    plt.plot(data.actual, label=\"actual\")\n",
        "    plt.legend()\n",
        "    plt.grid(True)"
      ],
      "id": "LOMCZc1Tpdly",
      "execution_count": null,
      "outputs": []
    },
    {
      "cell_type": "code",
      "metadata": {
        "id": "f6cxOKB6nV_N"
      },
      "source": [
        "plotARIMA(daily_avg_copy['PM2.5'], best_model, 365)"
      ],
      "id": "f6cxOKB6nV_N",
      "execution_count": null,
      "outputs": []
    },
    {
      "cell_type": "markdown",
      "metadata": {
        "id": "TGhwsTM3obOq"
      },
      "source": [
        "## Grid Search for Parameters"
      ],
      "id": "TGhwsTM3obOq"
    },
    {
      "cell_type": "code",
      "metadata": {
        "colab": {
          "base_uri": "https://localhost:8080/"
        },
        "id": "L2H9BAnQodd7",
        "outputId": "774b609f-8b6b-4b41-9eca-80338deef054"
      },
      "source": [
        "from itertools import product\n",
        "\n",
        "# setting initial values and some bounds for them\n",
        "ps = range(0, 5)\n",
        "d = range(0, 2)\n",
        "qs = range(0, 5)\n",
        "\n",
        "# creating list with all the possible combinations of parameters\n",
        "parameters = product(ps, d, qs)\n",
        "parameters_list = list(parameters)\n",
        "len(parameters_list)"
      ],
      "id": "L2H9BAnQodd7",
      "execution_count": null,
      "outputs": [
        {
          "output_type": "execute_result",
          "data": {
            "text/plain": [
              "50"
            ]
          },
          "metadata": {
            "tags": []
          },
          "execution_count": 57
        }
      ]
    },
    {
      "cell_type": "code",
      "metadata": {
        "id": "5l2UfA26okgN"
      },
      "source": [
        "from tqdm import tqdm_notebook\n",
        "def optimizeSARIMA(y, parameters_list):\n",
        "    \"\"\"Return dataframe with parameters and corresponding AIC\n",
        "        \n",
        "        y - time series\n",
        "        parameters_list - list with (p, q, P, Q) tuples\n",
        "        d - integration order in ARIMA model\n",
        "        D - seasonal integration order \n",
        "        s - length of season\n",
        "    \"\"\"\n",
        "    \n",
        "    results = []\n",
        "    best_aic = float(\"inf\")\n",
        "\n",
        "    for param in tqdm_notebook(parameters_list):\n",
        "        # we need try-except because on some combinations model fails to converge\n",
        "        try:\n",
        "            model=sm.tsa.statespace.SARIMAX(y, order=(param[0], param[1], param[2])).fit(disp=-1)\n",
        "        except:\n",
        "            continue\n",
        "        aic = model.aic\n",
        "        # saving best model, AIC and parameters\n",
        "        if aic < best_aic:\n",
        "            best_model = model\n",
        "            best_aic = aic\n",
        "            best_param = param\n",
        "        results.append([param, model.aic])\n",
        "\n",
        "    result_table = pd.DataFrame(results)\n",
        "    result_table.columns = ['parameters', 'aic']\n",
        "    # sorting in ascending order, the lower AIC is - the better\n",
        "    result_table = result_table.sort_values(by='aic', ascending=True).reset_index(drop=True)\n",
        "    \n",
        "    return result_table"
      ],
      "id": "5l2UfA26okgN",
      "execution_count": null,
      "outputs": []
    },
    {
      "cell_type": "code",
      "metadata": {
        "colab": {
          "base_uri": "https://localhost:8080/",
          "height": 100,
          "referenced_widgets": [
            "6b326ce99b96427e8f5018221e9002b8",
            "0256131bd2dc473d910c907be06dcba4",
            "4cba5d08b45e4aa897d6876e9c084ea6",
            "976b38e82ca146f1aafeac4562d89376",
            "763fe96aea2f4558a53f8136eb27f60f",
            "e64385c04e584a78b92fd2eb0e36d2a3",
            "abaa619d49134d089dbe77a68e83eeff",
            "76eb7935c3c64bd69153d2afd3fbd75c"
          ]
        },
        "id": "lQYx_SeaozEy",
        "outputId": "6e26bd92-d952-4f3d-cf4d-1ee8969a81ea"
      },
      "source": [
        "%%time\n",
        "warnings.filterwarnings(\"ignore\") \n",
        "result_table = optimizeSARIMA(daily_avg_copy[\"PM2.5\"], parameters_list)"
      ],
      "id": "lQYx_SeaozEy",
      "execution_count": null,
      "outputs": [
        {
          "output_type": "display_data",
          "data": {
            "application/vnd.jupyter.widget-view+json": {
              "model_id": "6b326ce99b96427e8f5018221e9002b8",
              "version_minor": 0,
              "version_major": 2
            },
            "text/plain": [
              "HBox(children=(FloatProgress(value=0.0, max=50.0), HTML(value='')))"
            ]
          },
          "metadata": {
            "tags": []
          }
        },
        {
          "output_type": "stream",
          "text": [
            "\n",
            "CPU times: user 1min 6s, sys: 49.8 s, total: 1min 56s\n",
            "Wall time: 1min\n"
          ],
          "name": "stdout"
        }
      ]
    },
    {
      "cell_type": "code",
      "metadata": {
        "colab": {
          "base_uri": "https://localhost:8080/",
          "height": 204
        },
        "id": "n26vQdnJpEat",
        "outputId": "fccbc534-a76c-48cb-8223-60f4f8635227"
      },
      "source": [
        "result_table.head()"
      ],
      "id": "n26vQdnJpEat",
      "execution_count": null,
      "outputs": [
        {
          "output_type": "execute_result",
          "data": {
            "text/html": [
              "<div>\n",
              "<style scoped>\n",
              "    .dataframe tbody tr th:only-of-type {\n",
              "        vertical-align: middle;\n",
              "    }\n",
              "\n",
              "    .dataframe tbody tr th {\n",
              "        vertical-align: top;\n",
              "    }\n",
              "\n",
              "    .dataframe thead th {\n",
              "        text-align: right;\n",
              "    }\n",
              "</style>\n",
              "<table border=\"1\" class=\"dataframe\">\n",
              "  <thead>\n",
              "    <tr style=\"text-align: right;\">\n",
              "      <th></th>\n",
              "      <th>parameters</th>\n",
              "      <th>aic</th>\n",
              "    </tr>\n",
              "  </thead>\n",
              "  <tbody>\n",
              "    <tr>\n",
              "      <th>0</th>\n",
              "      <td>(3, 1, 4)</td>\n",
              "      <td>15970.660671</td>\n",
              "    </tr>\n",
              "    <tr>\n",
              "      <th>1</th>\n",
              "      <td>(0, 1, 4)</td>\n",
              "      <td>15975.521615</td>\n",
              "    </tr>\n",
              "    <tr>\n",
              "      <th>2</th>\n",
              "      <td>(1, 1, 2)</td>\n",
              "      <td>15975.792323</td>\n",
              "    </tr>\n",
              "    <tr>\n",
              "      <th>3</th>\n",
              "      <td>(2, 1, 1)</td>\n",
              "      <td>15976.168890</td>\n",
              "    </tr>\n",
              "    <tr>\n",
              "      <th>4</th>\n",
              "      <td>(4, 1, 3)</td>\n",
              "      <td>15976.803921</td>\n",
              "    </tr>\n",
              "  </tbody>\n",
              "</table>\n",
              "</div>"
            ],
            "text/plain": [
              "  parameters           aic\n",
              "0  (3, 1, 4)  15970.660671\n",
              "1  (0, 1, 4)  15975.521615\n",
              "2  (1, 1, 2)  15975.792323\n",
              "3  (2, 1, 1)  15976.168890\n",
              "4  (4, 1, 3)  15976.803921"
            ]
          },
          "metadata": {
            "tags": []
          },
          "execution_count": 60
        }
      ]
    },
    {
      "cell_type": "markdown",
      "metadata": {
        "id": "gOybNugvK_Hb"
      },
      "source": [
        "Best model:  ARIMA(3, 1, 4)\n",
        "\n",
        "AIC: 15970.661"
      ],
      "id": "gOybNugvK_Hb"
    },
    {
      "cell_type": "code",
      "metadata": {
        "colab": {
          "base_uri": "https://localhost:8080/"
        },
        "id": "ibZOun3OpIMW",
        "outputId": "7851d442-7774-40b6-e7ff-2f3635b46e5a"
      },
      "source": [
        "# set the parameters that give the lowest AIC\n",
        "p, d, q = result_table.parameters[0]\n",
        "\n",
        "best_model=sm.tsa.statespace.SARIMAX(daily_avg_copy[\"PM2.5\"], order=(p, d, q)).fit(disp=-1)\n",
        "print(best_model.summary())"
      ],
      "id": "ibZOun3OpIMW",
      "execution_count": null,
      "outputs": [
        {
          "output_type": "stream",
          "text": [
            "                               SARIMAX Results                                \n",
            "==============================================================================\n",
            "Dep. Variable:                  PM2.5   No. Observations:                 1461\n",
            "Model:               SARIMAX(3, 1, 4)   Log Likelihood               -7977.330\n",
            "Date:                Tue, 18 May 2021   AIC                          15970.661\n",
            "Time:                        01:37:55   BIC                          16012.950\n",
            "Sample:                    03-01-2013   HQIC                         15986.436\n",
            "                         - 02-28-2017                                         \n",
            "Covariance Type:                  opg                                         \n",
            "==============================================================================\n",
            "                 coef    std err          z      P>|z|      [0.025      0.975]\n",
            "------------------------------------------------------------------------------\n",
            "ar.L1         -0.3682      0.041     -8.939      0.000      -0.449      -0.287\n",
            "ar.L2         -0.7383      0.031    -23.776      0.000      -0.799      -0.677\n",
            "ar.L3          0.2843      0.036      7.811      0.000       0.213       0.356\n",
            "ma.L1          0.0367      0.043      0.862      0.389      -0.047       0.120\n",
            "ma.L2          0.2056      0.027      7.603      0.000       0.153       0.259\n",
            "ma.L3         -0.8358      0.025    -33.224      0.000      -0.885      -0.786\n",
            "ma.L4         -0.3363      0.032    -10.354      0.000      -0.400      -0.273\n",
            "sigma2      3173.3409     71.243     44.543      0.000    3033.708    3312.974\n",
            "===================================================================================\n",
            "Ljung-Box (L1) (Q):                   0.00   Jarque-Bera (JB):              1059.43\n",
            "Prob(Q):                              0.98   Prob(JB):                         0.00\n",
            "Heteroskedasticity (H):               1.25   Skew:                             0.67\n",
            "Prob(H) (two-sided):                  0.01   Kurtosis:                         6.95\n",
            "===================================================================================\n",
            "\n",
            "Warnings:\n",
            "[1] Covariance matrix calculated using the outer product of gradients (complex-step).\n"
          ],
          "name": "stdout"
        }
      ]
    },
    {
      "cell_type": "code",
      "metadata": {
        "colab": {
          "base_uri": "https://localhost:8080/",
          "height": 630
        },
        "id": "faGPOt30pxwe",
        "outputId": "b329b5c1-e6af-496a-b353-45b174f63a1d"
      },
      "source": [
        "plotARIMA(daily_avg_copy[\"PM2.5\"], best_model, 365)"
      ],
      "id": "faGPOt30pxwe",
      "execution_count": null,
      "outputs": [
        {
          "output_type": "error",
          "ename": "KeyError",
          "evalue": "ignored",
          "traceback": [
            "\u001b[0;31m---------------------------------------------------------------------------\u001b[0m",
            "\u001b[0;31mKeyError\u001b[0m                                  Traceback (most recent call last)",
            "\u001b[0;32m/usr/local/lib/python3.7/dist-packages/pandas/core/indexes/base.py\u001b[0m in \u001b[0;36mget_loc\u001b[0;34m(self, key, method, tolerance)\u001b[0m\n\u001b[1;32m   2897\u001b[0m             \u001b[0;32mtry\u001b[0m\u001b[0;34m:\u001b[0m\u001b[0;34m\u001b[0m\u001b[0;34m\u001b[0m\u001b[0m\n\u001b[0;32m-> 2898\u001b[0;31m                 \u001b[0;32mreturn\u001b[0m \u001b[0mself\u001b[0m\u001b[0;34m.\u001b[0m\u001b[0m_engine\u001b[0m\u001b[0;34m.\u001b[0m\u001b[0mget_loc\u001b[0m\u001b[0;34m(\u001b[0m\u001b[0mcasted_key\u001b[0m\u001b[0;34m)\u001b[0m\u001b[0;34m\u001b[0m\u001b[0;34m\u001b[0m\u001b[0m\n\u001b[0m\u001b[1;32m   2899\u001b[0m             \u001b[0;32mexcept\u001b[0m \u001b[0mKeyError\u001b[0m \u001b[0;32mas\u001b[0m \u001b[0merr\u001b[0m\u001b[0;34m:\u001b[0m\u001b[0;34m\u001b[0m\u001b[0;34m\u001b[0m\u001b[0m\n",
            "\u001b[0;32mpandas/_libs/index.pyx\u001b[0m in \u001b[0;36mpandas._libs.index.IndexEngine.get_loc\u001b[0;34m()\u001b[0m\n",
            "\u001b[0;32mpandas/_libs/index.pyx\u001b[0m in \u001b[0;36mpandas._libs.index.IndexEngine.get_loc\u001b[0;34m()\u001b[0m\n",
            "\u001b[0;32mpandas/_libs/hashtable_class_helper.pxi\u001b[0m in \u001b[0;36mpandas._libs.hashtable.PyObjectHashTable.get_item\u001b[0;34m()\u001b[0m\n",
            "\u001b[0;32mpandas/_libs/hashtable_class_helper.pxi\u001b[0m in \u001b[0;36mpandas._libs.hashtable.PyObjectHashTable.get_item\u001b[0;34m()\u001b[0m\n",
            "\u001b[0;31mKeyError\u001b[0m: 'actual'",
            "\nThe above exception was the direct cause of the following exception:\n",
            "\u001b[0;31mKeyError\u001b[0m                                  Traceback (most recent call last)",
            "\u001b[0;32m<ipython-input-64-b3de42e42401>\u001b[0m in \u001b[0;36m<module>\u001b[0;34m()\u001b[0m\n\u001b[0;32m----> 1\u001b[0;31m \u001b[0mplotARIMA\u001b[0m\u001b[0;34m(\u001b[0m\u001b[0mdaily_avg_copy\u001b[0m\u001b[0;34m[\u001b[0m\u001b[0;34m\"PM2.5\"\u001b[0m\u001b[0;34m]\u001b[0m\u001b[0;34m,\u001b[0m \u001b[0mbest_model\u001b[0m\u001b[0;34m,\u001b[0m \u001b[0;36m365\u001b[0m\u001b[0;34m)\u001b[0m\u001b[0;34m\u001b[0m\u001b[0;34m\u001b[0m\u001b[0m\n\u001b[0m",
            "\u001b[0;32m<ipython-input-55-a438bdf87392>\u001b[0m in \u001b[0;36mplotARIMA\u001b[0;34m(series, model, n_steps)\u001b[0m\n\u001b[1;32m     20\u001b[0m     \u001b[0mforecast\u001b[0m \u001b[0;34m=\u001b[0m \u001b[0mdata\u001b[0m\u001b[0;34m.\u001b[0m\u001b[0marima_model\u001b[0m\u001b[0;34m.\u001b[0m\u001b[0mappend\u001b[0m\u001b[0;34m(\u001b[0m\u001b[0mforecast\u001b[0m\u001b[0;34m)\u001b[0m\u001b[0;34m\u001b[0m\u001b[0;34m\u001b[0m\u001b[0m\n\u001b[1;32m     21\u001b[0m     \u001b[0;31m# calculate error, again having shifted on s+d steps from the beginning\u001b[0m\u001b[0;34m\u001b[0m\u001b[0;34m\u001b[0m\u001b[0;34m\u001b[0m\u001b[0m\n\u001b[0;32m---> 22\u001b[0;31m     \u001b[0merror\u001b[0m \u001b[0;34m=\u001b[0m \u001b[0mmean_absolute_percentage_error\u001b[0m\u001b[0;34m(\u001b[0m\u001b[0mdata\u001b[0m\u001b[0;34m[\u001b[0m\u001b[0;34m'actual'\u001b[0m\u001b[0;34m]\u001b[0m\u001b[0;34m[\u001b[0m\u001b[0ms\u001b[0m\u001b[0;34m+\u001b[0m\u001b[0md\u001b[0m\u001b[0;34m:\u001b[0m\u001b[0;34m]\u001b[0m\u001b[0;34m,\u001b[0m \u001b[0mdata\u001b[0m\u001b[0;34m[\u001b[0m\u001b[0;34m'arima_model'\u001b[0m\u001b[0;34m]\u001b[0m\u001b[0;34m[\u001b[0m\u001b[0ms\u001b[0m\u001b[0;34m+\u001b[0m\u001b[0md\u001b[0m\u001b[0;34m:\u001b[0m\u001b[0;34m]\u001b[0m\u001b[0;34m)\u001b[0m\u001b[0;34m\u001b[0m\u001b[0;34m\u001b[0m\u001b[0m\n\u001b[0m\u001b[1;32m     23\u001b[0m \u001b[0;34m\u001b[0m\u001b[0m\n\u001b[1;32m     24\u001b[0m     \u001b[0mplt\u001b[0m\u001b[0;34m.\u001b[0m\u001b[0mfigure\u001b[0m\u001b[0;34m(\u001b[0m\u001b[0mfigsize\u001b[0m\u001b[0;34m=\u001b[0m\u001b[0;34m(\u001b[0m\u001b[0;36m15\u001b[0m\u001b[0;34m,\u001b[0m \u001b[0;36m7\u001b[0m\u001b[0;34m)\u001b[0m\u001b[0;34m)\u001b[0m\u001b[0;34m\u001b[0m\u001b[0;34m\u001b[0m\u001b[0m\n",
            "\u001b[0;32m/usr/local/lib/python3.7/dist-packages/pandas/core/series.py\u001b[0m in \u001b[0;36m__getitem__\u001b[0;34m(self, key)\u001b[0m\n\u001b[1;32m    880\u001b[0m \u001b[0;34m\u001b[0m\u001b[0m\n\u001b[1;32m    881\u001b[0m         \u001b[0;32melif\u001b[0m \u001b[0mkey_is_scalar\u001b[0m\u001b[0;34m:\u001b[0m\u001b[0;34m\u001b[0m\u001b[0;34m\u001b[0m\u001b[0m\n\u001b[0;32m--> 882\u001b[0;31m             \u001b[0;32mreturn\u001b[0m \u001b[0mself\u001b[0m\u001b[0;34m.\u001b[0m\u001b[0m_get_value\u001b[0m\u001b[0;34m(\u001b[0m\u001b[0mkey\u001b[0m\u001b[0;34m)\u001b[0m\u001b[0;34m\u001b[0m\u001b[0;34m\u001b[0m\u001b[0m\n\u001b[0m\u001b[1;32m    883\u001b[0m \u001b[0;34m\u001b[0m\u001b[0m\n\u001b[1;32m    884\u001b[0m         \u001b[0;32mif\u001b[0m \u001b[0mis_hashable\u001b[0m\u001b[0;34m(\u001b[0m\u001b[0mkey\u001b[0m\u001b[0;34m)\u001b[0m\u001b[0;34m:\u001b[0m\u001b[0;34m\u001b[0m\u001b[0;34m\u001b[0m\u001b[0m\n",
            "\u001b[0;32m/usr/local/lib/python3.7/dist-packages/pandas/core/series.py\u001b[0m in \u001b[0;36m_get_value\u001b[0;34m(self, label, takeable)\u001b[0m\n\u001b[1;32m    988\u001b[0m \u001b[0;34m\u001b[0m\u001b[0m\n\u001b[1;32m    989\u001b[0m         \u001b[0;31m# Similar to Index.get_value, but we do not fall back to positional\u001b[0m\u001b[0;34m\u001b[0m\u001b[0;34m\u001b[0m\u001b[0;34m\u001b[0m\u001b[0m\n\u001b[0;32m--> 990\u001b[0;31m         \u001b[0mloc\u001b[0m \u001b[0;34m=\u001b[0m \u001b[0mself\u001b[0m\u001b[0;34m.\u001b[0m\u001b[0mindex\u001b[0m\u001b[0;34m.\u001b[0m\u001b[0mget_loc\u001b[0m\u001b[0;34m(\u001b[0m\u001b[0mlabel\u001b[0m\u001b[0;34m)\u001b[0m\u001b[0;34m\u001b[0m\u001b[0;34m\u001b[0m\u001b[0m\n\u001b[0m\u001b[1;32m    991\u001b[0m         \u001b[0;32mreturn\u001b[0m \u001b[0mself\u001b[0m\u001b[0;34m.\u001b[0m\u001b[0mindex\u001b[0m\u001b[0;34m.\u001b[0m\u001b[0m_get_values_for_loc\u001b[0m\u001b[0;34m(\u001b[0m\u001b[0mself\u001b[0m\u001b[0;34m,\u001b[0m \u001b[0mloc\u001b[0m\u001b[0;34m,\u001b[0m \u001b[0mlabel\u001b[0m\u001b[0;34m)\u001b[0m\u001b[0;34m\u001b[0m\u001b[0;34m\u001b[0m\u001b[0m\n\u001b[1;32m    992\u001b[0m \u001b[0;34m\u001b[0m\u001b[0m\n",
            "\u001b[0;32m/usr/local/lib/python3.7/dist-packages/pandas/core/indexes/base.py\u001b[0m in \u001b[0;36mget_loc\u001b[0;34m(self, key, method, tolerance)\u001b[0m\n\u001b[1;32m   2898\u001b[0m                 \u001b[0;32mreturn\u001b[0m \u001b[0mself\u001b[0m\u001b[0;34m.\u001b[0m\u001b[0m_engine\u001b[0m\u001b[0;34m.\u001b[0m\u001b[0mget_loc\u001b[0m\u001b[0;34m(\u001b[0m\u001b[0mcasted_key\u001b[0m\u001b[0;34m)\u001b[0m\u001b[0;34m\u001b[0m\u001b[0;34m\u001b[0m\u001b[0m\n\u001b[1;32m   2899\u001b[0m             \u001b[0;32mexcept\u001b[0m \u001b[0mKeyError\u001b[0m \u001b[0;32mas\u001b[0m \u001b[0merr\u001b[0m\u001b[0;34m:\u001b[0m\u001b[0;34m\u001b[0m\u001b[0;34m\u001b[0m\u001b[0m\n\u001b[0;32m-> 2900\u001b[0;31m                 \u001b[0;32mraise\u001b[0m \u001b[0mKeyError\u001b[0m\u001b[0;34m(\u001b[0m\u001b[0mkey\u001b[0m\u001b[0;34m)\u001b[0m \u001b[0;32mfrom\u001b[0m \u001b[0merr\u001b[0m\u001b[0;34m\u001b[0m\u001b[0;34m\u001b[0m\u001b[0m\n\u001b[0m\u001b[1;32m   2901\u001b[0m \u001b[0;34m\u001b[0m\u001b[0m\n\u001b[1;32m   2902\u001b[0m         \u001b[0;32mif\u001b[0m \u001b[0mtolerance\u001b[0m \u001b[0;32mis\u001b[0m \u001b[0;32mnot\u001b[0m \u001b[0;32mNone\u001b[0m\u001b[0;34m:\u001b[0m\u001b[0;34m\u001b[0m\u001b[0;34m\u001b[0m\u001b[0m\n",
            "\u001b[0;31mKeyError\u001b[0m: 'actual'"
          ]
        }
      ]
    },
    {
      "cell_type": "markdown",
      "metadata": {
        "id": "qM98UAk7E5NY"
      },
      "source": [
        "# Seasonal ARIMA (SARIMA)\n",
        "\n",
        "Note: Auto arima does not work in python, it crashes"
      ],
      "id": "qM98UAk7E5NY"
    },
    {
      "cell_type": "markdown",
      "metadata": {
        "id": "Wq05-tGFvumh"
      },
      "source": [
        "## Grid Search for Parameters"
      ],
      "id": "Wq05-tGFvumh"
    },
    {
      "cell_type": "markdown",
      "metadata": {
        "id": "tP0blHRA6PzM"
      },
      "source": [
        "- p is most probably 2 since it is the last significant lag on the PACF, after which, most others are not significant.\n",
        "- d is most probably 1 because we had first differences\n",
        "- q is most probably 1 as well as seen on the ACF\n",
        "- P might be 2, since 24-th and 48-th lags are somewhat significant on the PACF\n",
        "- D again equals 1 because we performed seasonal differentiation\n",
        "- Q is probably 1. The 24-th lag on ACF is significant while the 48-th is not"
      ],
      "id": "tP0blHRA6PzM"
    },
    {
      "cell_type": "code",
      "metadata": {
        "colab": {
          "base_uri": "https://localhost:8080/"
        },
        "id": "ykKuXOoIyHSR",
        "outputId": "61e3298a-bf00-4726-f24f-f7959ade185d"
      },
      "source": [
        "from itertools import product\n",
        "\n",
        "# setting initial values and some bounds for them\n",
        "ps = range(0, 3)\n",
        "d = range(0, 3)\n",
        "qs = range(0, 3)\n",
        "Ps = range(0, 2)\n",
        "D = range(0, 2)\n",
        "Qs = range(0, 2)\n",
        "s = 12\n",
        "\n",
        "# creating list with all the possible combinations of parameters\n",
        "parameters = product(ps, d, qs, Ps, D, Qs)\n",
        "parameters_list = list(parameters)\n",
        "len(parameters_list)"
      ],
      "id": "ykKuXOoIyHSR",
      "execution_count": null,
      "outputs": [
        {
          "output_type": "execute_result",
          "data": {
            "text/plain": [
              "216"
            ]
          },
          "metadata": {
            "tags": []
          },
          "execution_count": 65
        }
      ]
    },
    {
      "cell_type": "code",
      "metadata": {
        "id": "9CTm47f5yjye"
      },
      "source": [
        "from tqdm import tqdm_notebook\n",
        "def optimizeSARIMA(y, parameters_list, s):\n",
        "    \"\"\"Return dataframe with parameters and corresponding AIC\n",
        "        \n",
        "        y - time series\n",
        "        parameters_list - list with (p, q, P, Q) tuples\n",
        "        d - integration order in ARIMA model\n",
        "        D - seasonal integration order \n",
        "        s - length of season\n",
        "    \"\"\"\n",
        "    \n",
        "    results = []\n",
        "    best_aic = float(\"inf\")\n",
        "\n",
        "    for param in tqdm_notebook(parameters_list):\n",
        "        # we need try-except because on some combinations model fails to converge\n",
        "        try:\n",
        "            model=sm.tsa.statespace.SARIMAX(y, order=(param[0], param[1], param[2]), \n",
        "                                            seasonal_order=(param[3], param[4], param[5], s)).fit(disp=-1)\n",
        "        except:\n",
        "            continue\n",
        "        aic = model.aic\n",
        "        # saving best model, AIC and parameters\n",
        "        if aic < best_aic:\n",
        "            best_model = model\n",
        "            best_aic = aic\n",
        "            best_param = param\n",
        "        results.append([param, model.aic])\n",
        "\n",
        "    result_table = pd.DataFrame(results)\n",
        "    result_table.columns = ['parameters', 'aic']\n",
        "    # sorting in ascending order, the lower AIC is - the better\n",
        "    result_table = result_table.sort_values(by='aic', ascending=True).reset_index(drop=True)\n",
        "    \n",
        "    return result_table"
      ],
      "id": "9CTm47f5yjye",
      "execution_count": null,
      "outputs": []
    },
    {
      "cell_type": "code",
      "metadata": {
        "colab": {
          "base_uri": "https://localhost:8080/",
          "height": 100,
          "referenced_widgets": [
            "df57d50633a7480d90961302a77100d6",
            "c25c6b3798b346389e3f8242600bf617",
            "0e04560f1ff74b1ebe68e8971cc68537",
            "0256ddc1069645d9846a54c89df1d964",
            "5356ad201c294f6fbb7b8c5d19e8a4d3",
            "e45625078b5d46b39caa1b44d98cea15",
            "9b8f24fffc024e5ca6faa6c07ef18c5d",
            "acbff7d541e747d4a4acc90d077e25e2"
          ]
        },
        "id": "-YqvHSrJyloc",
        "outputId": "db617ea9-9d45-421d-82e3-82d8f2fbe117"
      },
      "source": [
        "%%time\n",
        "warnings.filterwarnings(\"ignore\") \n",
        "result_table = optimizeSARIMA(daily_avg_copy[\"PM2.5\"], parameters_list, s)"
      ],
      "id": "-YqvHSrJyloc",
      "execution_count": null,
      "outputs": [
        {
          "output_type": "display_data",
          "data": {
            "application/vnd.jupyter.widget-view+json": {
              "model_id": "df57d50633a7480d90961302a77100d6",
              "version_minor": 0,
              "version_major": 2
            },
            "text/plain": [
              "HBox(children=(FloatProgress(value=0.0, max=216.0), HTML(value='')))"
            ]
          },
          "metadata": {
            "tags": []
          }
        },
        {
          "output_type": "stream",
          "text": [
            "\n",
            "CPU times: user 12min 31s, sys: 9min 19s, total: 21min 51s\n",
            "Wall time: 11min 16s\n"
          ],
          "name": "stdout"
        }
      ]
    },
    {
      "cell_type": "code",
      "metadata": {
        "id": "OJpfsIqwz6xM",
        "colab": {
          "base_uri": "https://localhost:8080/",
          "height": 204
        },
        "outputId": "0f85be16-4f93-4450-a0ad-2f1e7b61db37"
      },
      "source": [
        "result_table.head()"
      ],
      "id": "OJpfsIqwz6xM",
      "execution_count": null,
      "outputs": [
        {
          "output_type": "execute_result",
          "data": {
            "text/html": [
              "<div>\n",
              "<style scoped>\n",
              "    .dataframe tbody tr th:only-of-type {\n",
              "        vertical-align: middle;\n",
              "    }\n",
              "\n",
              "    .dataframe tbody tr th {\n",
              "        vertical-align: top;\n",
              "    }\n",
              "\n",
              "    .dataframe thead th {\n",
              "        text-align: right;\n",
              "    }\n",
              "</style>\n",
              "<table border=\"1\" class=\"dataframe\">\n",
              "  <thead>\n",
              "    <tr style=\"text-align: right;\">\n",
              "      <th></th>\n",
              "      <th>parameters</th>\n",
              "      <th>aic</th>\n",
              "    </tr>\n",
              "  </thead>\n",
              "  <tbody>\n",
              "    <tr>\n",
              "      <th>0</th>\n",
              "      <td>(2, 1, 2, 0, 1, 1)</td>\n",
              "      <td>15911.823399</td>\n",
              "    </tr>\n",
              "    <tr>\n",
              "      <th>1</th>\n",
              "      <td>(1, 0, 1, 0, 1, 1)</td>\n",
              "      <td>15914.427233</td>\n",
              "    </tr>\n",
              "    <tr>\n",
              "      <th>2</th>\n",
              "      <td>(1, 1, 2, 0, 1, 1)</td>\n",
              "      <td>15915.824423</td>\n",
              "    </tr>\n",
              "    <tr>\n",
              "      <th>3</th>\n",
              "      <td>(1, 0, 1, 1, 1, 1)</td>\n",
              "      <td>15916.335921</td>\n",
              "    </tr>\n",
              "    <tr>\n",
              "      <th>4</th>\n",
              "      <td>(2, 0, 1, 0, 1, 1)</td>\n",
              "      <td>15916.426449</td>\n",
              "    </tr>\n",
              "  </tbody>\n",
              "</table>\n",
              "</div>"
            ],
            "text/plain": [
              "           parameters           aic\n",
              "0  (2, 1, 2, 0, 1, 1)  15911.823399\n",
              "1  (1, 0, 1, 0, 1, 1)  15914.427233\n",
              "2  (1, 1, 2, 0, 1, 1)  15915.824423\n",
              "3  (1, 0, 1, 1, 1, 1)  15916.335921\n",
              "4  (2, 0, 1, 0, 1, 1)  15916.426449"
            ]
          },
          "metadata": {
            "tags": []
          },
          "execution_count": 68
        }
      ]
    },
    {
      "cell_type": "markdown",
      "metadata": {
        "id": "iBeATpOgoC2F"
      },
      "source": [
        "Best model:  SARIMAX(2, 1, 1)x(0, 1, 1, 12)\n",
        "\n",
        "AIC: 15911.823"
      ],
      "id": "iBeATpOgoC2F"
    },
    {
      "cell_type": "code",
      "metadata": {
        "id": "CtUbscvYz-up",
        "colab": {
          "base_uri": "https://localhost:8080/"
        },
        "outputId": "b63cdcb3-eecd-4fea-f8bf-f464bbf6b61c"
      },
      "source": [
        "# set the parameters that give the lowest AIC\n",
        "p, d, q, P, D, Q = result_table.parameters[0]\n",
        "\n",
        "best_model=sm.tsa.statespace.SARIMAX(daily_avg_copy[\"PM2.5\"], order=(p, d, q), \n",
        "                                        seasonal_order=(P, D, Q, s)).fit(disp=-1)\n",
        "print(best_model.summary())"
      ],
      "id": "CtUbscvYz-up",
      "execution_count": null,
      "outputs": [
        {
          "output_type": "stream",
          "text": [
            "                                      SARIMAX Results                                       \n",
            "============================================================================================\n",
            "Dep. Variable:                                PM2.5   No. Observations:                 1461\n",
            "Model:             SARIMAX(2, 1, 2)x(0, 1, [1], 12)   Log Likelihood               -7949.912\n",
            "Date:                              Tue, 18 May 2021   AIC                          15911.823\n",
            "Time:                                      01:50:15   BIC                          15943.491\n",
            "Sample:                                  03-01-2013   HQIC                         15923.642\n",
            "                                       - 02-28-2017                                         \n",
            "Covariance Type:                                opg                                         \n",
            "==============================================================================\n",
            "                 coef    std err          z      P>|z|      [0.025      0.975]\n",
            "------------------------------------------------------------------------------\n",
            "ar.L1          0.5170      0.134      3.866      0.000       0.255       0.779\n",
            "ar.L2         -0.1116      0.078     -1.424      0.154      -0.265       0.042\n",
            "ma.L1         -0.8497      0.134     -6.358      0.000      -1.112      -0.588\n",
            "ma.L2         -0.1246      0.132     -0.942      0.346      -0.384       0.135\n",
            "ma.S.L12      -0.9982      0.103     -9.681      0.000      -1.200      -0.796\n",
            "sigma2      3298.5107    312.729     10.547      0.000    2685.573    3911.449\n",
            "===================================================================================\n",
            "Ljung-Box (L1) (Q):                   0.00   Jarque-Bera (JB):               869.34\n",
            "Prob(Q):                              0.99   Prob(JB):                         0.00\n",
            "Heteroskedasticity (H):               1.24   Skew:                             0.58\n",
            "Prob(H) (two-sided):                  0.02   Kurtosis:                         6.62\n",
            "===================================================================================\n",
            "\n",
            "Warnings:\n",
            "[1] Covariance matrix calculated using the outer product of gradients (complex-step).\n"
          ],
          "name": "stdout"
        }
      ]
    },
    {
      "cell_type": "code",
      "metadata": {
        "id": "DmcRx-NwhRnV"
      },
      "source": [
        "def plotSARIMA(series, model, n_steps):\n",
        "    \"\"\"Plots model vs predicted values\n",
        "        \n",
        "        series - dataset with timeseries\n",
        "        model - fitted SARIMA model\n",
        "        n_steps - number of steps to predict in the future    \n",
        "    \"\"\"\n",
        "    \n",
        "    # adding model values\n",
        "    data = series.copy()\n",
        "    data.columns = ['actual']\n",
        "    data['sarima_model'] = model.fittedvalues\n",
        "    # making a shift on s+d steps, because these values were unobserved by the model\n",
        "    # due to the differentiating\n",
        "    data['sarima_model'][:s+d] = np.NaN\n",
        "    \n",
        "    # forecasting on n_steps forward \n",
        "    forecast = model.predict(start = data.shape[0], end = data.shape[0]+n_steps)\n",
        "    forecast = data.sarima_model.append(forecast)\n",
        "    # calculate error, again having shifted on s+d steps from the beginning\n",
        "    error = mean_absolute_percentage_error(data['actual'][s+d:], data['sarima_model'][s+d:])\n",
        "\n",
        "    plt.figure(figsize=(15, 7))\n",
        "    plt.title(\"Mean Absolute Percentage Error: {0:.2f}%\".format(error))\n",
        "    plt.plot(forecast, color='r', label=\"model\")\n",
        "    plt.axvspan(data.index[-1], forecast.index[-1], alpha=0.5, color='lightgrey')\n",
        "    plt.plot(data.actual, label=\"actual\")\n",
        "    plt.legend()\n",
        "    plt.grid(True)"
      ],
      "id": "DmcRx-NwhRnV",
      "execution_count": null,
      "outputs": []
    },
    {
      "cell_type": "code",
      "metadata": {
        "id": "tgMG--hwhVEf",
        "colab": {
          "base_uri": "https://localhost:8080/",
          "height": 630
        },
        "outputId": "fcbab81a-5724-4c35-f149-6b7431c7e811"
      },
      "source": [
        "plotSARIMA(daily_avg_copy, best_model, 365)"
      ],
      "id": "tgMG--hwhVEf",
      "execution_count": null,
      "outputs": [
        {
          "output_type": "error",
          "ename": "KeyError",
          "evalue": "ignored",
          "traceback": [
            "\u001b[0;31m---------------------------------------------------------------------------\u001b[0m",
            "\u001b[0;31mKeyError\u001b[0m                                  Traceback (most recent call last)",
            "\u001b[0;32m/usr/local/lib/python3.7/dist-packages/pandas/core/indexes/base.py\u001b[0m in \u001b[0;36mget_loc\u001b[0;34m(self, key, method, tolerance)\u001b[0m\n\u001b[1;32m   2897\u001b[0m             \u001b[0;32mtry\u001b[0m\u001b[0;34m:\u001b[0m\u001b[0;34m\u001b[0m\u001b[0;34m\u001b[0m\u001b[0m\n\u001b[0;32m-> 2898\u001b[0;31m                 \u001b[0;32mreturn\u001b[0m \u001b[0mself\u001b[0m\u001b[0;34m.\u001b[0m\u001b[0m_engine\u001b[0m\u001b[0;34m.\u001b[0m\u001b[0mget_loc\u001b[0m\u001b[0;34m(\u001b[0m\u001b[0mcasted_key\u001b[0m\u001b[0;34m)\u001b[0m\u001b[0;34m\u001b[0m\u001b[0;34m\u001b[0m\u001b[0m\n\u001b[0m\u001b[1;32m   2899\u001b[0m             \u001b[0;32mexcept\u001b[0m \u001b[0mKeyError\u001b[0m \u001b[0;32mas\u001b[0m \u001b[0merr\u001b[0m\u001b[0;34m:\u001b[0m\u001b[0;34m\u001b[0m\u001b[0;34m\u001b[0m\u001b[0m\n",
            "\u001b[0;32mpandas/_libs/index.pyx\u001b[0m in \u001b[0;36mpandas._libs.index.IndexEngine.get_loc\u001b[0;34m()\u001b[0m\n",
            "\u001b[0;32mpandas/_libs/index.pyx\u001b[0m in \u001b[0;36mpandas._libs.index.IndexEngine.get_loc\u001b[0;34m()\u001b[0m\n",
            "\u001b[0;32mpandas/_libs/hashtable_class_helper.pxi\u001b[0m in \u001b[0;36mpandas._libs.hashtable.PyObjectHashTable.get_item\u001b[0;34m()\u001b[0m\n",
            "\u001b[0;32mpandas/_libs/hashtable_class_helper.pxi\u001b[0m in \u001b[0;36mpandas._libs.hashtable.PyObjectHashTable.get_item\u001b[0;34m()\u001b[0m\n",
            "\u001b[0;31mKeyError\u001b[0m: 'actual'",
            "\nThe above exception was the direct cause of the following exception:\n",
            "\u001b[0;31mKeyError\u001b[0m                                  Traceback (most recent call last)",
            "\u001b[0;32m<ipython-input-72-8cf04f0c7b9b>\u001b[0m in \u001b[0;36m<module>\u001b[0;34m()\u001b[0m\n\u001b[0;32m----> 1\u001b[0;31m \u001b[0mplotSARIMA\u001b[0m\u001b[0;34m(\u001b[0m\u001b[0mdaily_avg_copy\u001b[0m\u001b[0;34m[\u001b[0m\u001b[0;34m\"PM2.5\"\u001b[0m\u001b[0;34m]\u001b[0m\u001b[0;34m,\u001b[0m \u001b[0mbest_model\u001b[0m\u001b[0;34m,\u001b[0m \u001b[0;36m365\u001b[0m\u001b[0;34m)\u001b[0m\u001b[0;34m\u001b[0m\u001b[0;34m\u001b[0m\u001b[0m\n\u001b[0m",
            "\u001b[0;32m<ipython-input-70-375970fe6860>\u001b[0m in \u001b[0;36mplotSARIMA\u001b[0;34m(series, model, n_steps)\u001b[0m\n\u001b[1;32m     19\u001b[0m     \u001b[0mforecast\u001b[0m \u001b[0;34m=\u001b[0m \u001b[0mdata\u001b[0m\u001b[0;34m.\u001b[0m\u001b[0msarima_model\u001b[0m\u001b[0;34m.\u001b[0m\u001b[0mappend\u001b[0m\u001b[0;34m(\u001b[0m\u001b[0mforecast\u001b[0m\u001b[0;34m)\u001b[0m\u001b[0;34m\u001b[0m\u001b[0;34m\u001b[0m\u001b[0m\n\u001b[1;32m     20\u001b[0m     \u001b[0;31m# calculate error, again having shifted on s+d steps from the beginning\u001b[0m\u001b[0;34m\u001b[0m\u001b[0;34m\u001b[0m\u001b[0;34m\u001b[0m\u001b[0m\n\u001b[0;32m---> 21\u001b[0;31m     \u001b[0merror\u001b[0m \u001b[0;34m=\u001b[0m \u001b[0mmean_absolute_percentage_error\u001b[0m\u001b[0;34m(\u001b[0m\u001b[0mdata\u001b[0m\u001b[0;34m[\u001b[0m\u001b[0;34m'actual'\u001b[0m\u001b[0;34m]\u001b[0m\u001b[0;34m[\u001b[0m\u001b[0ms\u001b[0m\u001b[0;34m+\u001b[0m\u001b[0md\u001b[0m\u001b[0;34m:\u001b[0m\u001b[0;34m]\u001b[0m\u001b[0;34m,\u001b[0m \u001b[0mdata\u001b[0m\u001b[0;34m[\u001b[0m\u001b[0;34m'sarima_model'\u001b[0m\u001b[0;34m]\u001b[0m\u001b[0;34m[\u001b[0m\u001b[0ms\u001b[0m\u001b[0;34m+\u001b[0m\u001b[0md\u001b[0m\u001b[0;34m:\u001b[0m\u001b[0;34m]\u001b[0m\u001b[0;34m)\u001b[0m\u001b[0;34m\u001b[0m\u001b[0;34m\u001b[0m\u001b[0m\n\u001b[0m\u001b[1;32m     22\u001b[0m \u001b[0;34m\u001b[0m\u001b[0m\n\u001b[1;32m     23\u001b[0m     \u001b[0mplt\u001b[0m\u001b[0;34m.\u001b[0m\u001b[0mfigure\u001b[0m\u001b[0;34m(\u001b[0m\u001b[0mfigsize\u001b[0m\u001b[0;34m=\u001b[0m\u001b[0;34m(\u001b[0m\u001b[0;36m15\u001b[0m\u001b[0;34m,\u001b[0m \u001b[0;36m7\u001b[0m\u001b[0;34m)\u001b[0m\u001b[0;34m)\u001b[0m\u001b[0;34m\u001b[0m\u001b[0;34m\u001b[0m\u001b[0m\n",
            "\u001b[0;32m/usr/local/lib/python3.7/dist-packages/pandas/core/series.py\u001b[0m in \u001b[0;36m__getitem__\u001b[0;34m(self, key)\u001b[0m\n\u001b[1;32m    880\u001b[0m \u001b[0;34m\u001b[0m\u001b[0m\n\u001b[1;32m    881\u001b[0m         \u001b[0;32melif\u001b[0m \u001b[0mkey_is_scalar\u001b[0m\u001b[0;34m:\u001b[0m\u001b[0;34m\u001b[0m\u001b[0;34m\u001b[0m\u001b[0m\n\u001b[0;32m--> 882\u001b[0;31m             \u001b[0;32mreturn\u001b[0m \u001b[0mself\u001b[0m\u001b[0;34m.\u001b[0m\u001b[0m_get_value\u001b[0m\u001b[0;34m(\u001b[0m\u001b[0mkey\u001b[0m\u001b[0;34m)\u001b[0m\u001b[0;34m\u001b[0m\u001b[0;34m\u001b[0m\u001b[0m\n\u001b[0m\u001b[1;32m    883\u001b[0m \u001b[0;34m\u001b[0m\u001b[0m\n\u001b[1;32m    884\u001b[0m         \u001b[0;32mif\u001b[0m \u001b[0mis_hashable\u001b[0m\u001b[0;34m(\u001b[0m\u001b[0mkey\u001b[0m\u001b[0;34m)\u001b[0m\u001b[0;34m:\u001b[0m\u001b[0;34m\u001b[0m\u001b[0;34m\u001b[0m\u001b[0m\n",
            "\u001b[0;32m/usr/local/lib/python3.7/dist-packages/pandas/core/series.py\u001b[0m in \u001b[0;36m_get_value\u001b[0;34m(self, label, takeable)\u001b[0m\n\u001b[1;32m    988\u001b[0m \u001b[0;34m\u001b[0m\u001b[0m\n\u001b[1;32m    989\u001b[0m         \u001b[0;31m# Similar to Index.get_value, but we do not fall back to positional\u001b[0m\u001b[0;34m\u001b[0m\u001b[0;34m\u001b[0m\u001b[0;34m\u001b[0m\u001b[0m\n\u001b[0;32m--> 990\u001b[0;31m         \u001b[0mloc\u001b[0m \u001b[0;34m=\u001b[0m \u001b[0mself\u001b[0m\u001b[0;34m.\u001b[0m\u001b[0mindex\u001b[0m\u001b[0;34m.\u001b[0m\u001b[0mget_loc\u001b[0m\u001b[0;34m(\u001b[0m\u001b[0mlabel\u001b[0m\u001b[0;34m)\u001b[0m\u001b[0;34m\u001b[0m\u001b[0;34m\u001b[0m\u001b[0m\n\u001b[0m\u001b[1;32m    991\u001b[0m         \u001b[0;32mreturn\u001b[0m \u001b[0mself\u001b[0m\u001b[0;34m.\u001b[0m\u001b[0mindex\u001b[0m\u001b[0;34m.\u001b[0m\u001b[0m_get_values_for_loc\u001b[0m\u001b[0;34m(\u001b[0m\u001b[0mself\u001b[0m\u001b[0;34m,\u001b[0m \u001b[0mloc\u001b[0m\u001b[0;34m,\u001b[0m \u001b[0mlabel\u001b[0m\u001b[0;34m)\u001b[0m\u001b[0;34m\u001b[0m\u001b[0;34m\u001b[0m\u001b[0m\n\u001b[1;32m    992\u001b[0m \u001b[0;34m\u001b[0m\u001b[0m\n",
            "\u001b[0;32m/usr/local/lib/python3.7/dist-packages/pandas/core/indexes/base.py\u001b[0m in \u001b[0;36mget_loc\u001b[0;34m(self, key, method, tolerance)\u001b[0m\n\u001b[1;32m   2898\u001b[0m                 \u001b[0;32mreturn\u001b[0m \u001b[0mself\u001b[0m\u001b[0;34m.\u001b[0m\u001b[0m_engine\u001b[0m\u001b[0;34m.\u001b[0m\u001b[0mget_loc\u001b[0m\u001b[0;34m(\u001b[0m\u001b[0mcasted_key\u001b[0m\u001b[0;34m)\u001b[0m\u001b[0;34m\u001b[0m\u001b[0;34m\u001b[0m\u001b[0m\n\u001b[1;32m   2899\u001b[0m             \u001b[0;32mexcept\u001b[0m \u001b[0mKeyError\u001b[0m \u001b[0;32mas\u001b[0m \u001b[0merr\u001b[0m\u001b[0;34m:\u001b[0m\u001b[0;34m\u001b[0m\u001b[0;34m\u001b[0m\u001b[0m\n\u001b[0;32m-> 2900\u001b[0;31m                 \u001b[0;32mraise\u001b[0m \u001b[0mKeyError\u001b[0m\u001b[0;34m(\u001b[0m\u001b[0mkey\u001b[0m\u001b[0;34m)\u001b[0m \u001b[0;32mfrom\u001b[0m \u001b[0merr\u001b[0m\u001b[0;34m\u001b[0m\u001b[0;34m\u001b[0m\u001b[0m\n\u001b[0m\u001b[1;32m   2901\u001b[0m \u001b[0;34m\u001b[0m\u001b[0m\n\u001b[1;32m   2902\u001b[0m         \u001b[0;32mif\u001b[0m \u001b[0mtolerance\u001b[0m \u001b[0;32mis\u001b[0m \u001b[0;32mnot\u001b[0m \u001b[0;32mNone\u001b[0m\u001b[0;34m:\u001b[0m\u001b[0;34m\u001b[0m\u001b[0;34m\u001b[0m\u001b[0m\n",
            "\u001b[0;31mKeyError\u001b[0m: 'actual'"
          ]
        }
      ]
    },
    {
      "cell_type": "markdown",
      "metadata": {
        "id": "GgQ3HH0jFkez"
      },
      "source": [
        "# Prophet"
      ],
      "id": "GgQ3HH0jFkez"
    },
    {
      "cell_type": "markdown",
      "metadata": {
        "id": "rNK_nlcDGwps"
      },
      "source": [
        "- Prophet is open source software released by Facebook's Core Data Science team.\n",
        "- Prophet is a procedure for forecasting time series data based on an additive/multiplicative model where non-linear trends are fit with yearly, weekly, and daily seasonality, plus holiday effects.\n",
        "- It works best with time series that have strong seasonal effects and several seasons of historical data.\n",
        "- Prophet is robust to missing data and shifts in the trend, and typically handles outliers well.\n",
        "- The Prophet package provides intuitive parameters which are easy to tune."
      ],
      "id": "rNK_nlcDGwps"
    },
    {
      "cell_type": "markdown",
      "metadata": {
        "id": "-TimbDuIs-tF"
      },
      "source": [
        "## Train/Test Split\n",
        "\n",
        "Train = 70% of data (from 2013-2015, 1036 observations)\n",
        "\n",
        "Test = 30% of data (from 2016-2017, 425 observations)"
      ],
      "id": "-TimbDuIs-tF"
    },
    {
      "cell_type": "code",
      "metadata": {
        "id": "lPeedFVRtC8b"
      },
      "source": [
        "daily_avg_copy.count()"
      ],
      "id": "lPeedFVRtC8b",
      "execution_count": null,
      "outputs": []
    },
    {
      "cell_type": "code",
      "metadata": {
        "id": "lUOLPZoUtDT8"
      },
      "source": [
        "train_start,train_end = '2013-03-01','2015-12-31'\n",
        "test_start,test_end = '2016-01-01','2017-02-28'\n",
        "\n",
        "train_set = daily_avg_copy.dropna()\n",
        "test_set = daily_avg_copy[test_start:test_end].dropna()"
      ],
      "id": "lUOLPZoUtDT8",
      "execution_count": null,
      "outputs": []
    },
    {
      "cell_type": "code",
      "metadata": {
        "id": "1JXtOxMQwRqS"
      },
      "source": [
        "train_set = daily_avg_copy.dropna()"
      ],
      "id": "1JXtOxMQwRqS",
      "execution_count": null,
      "outputs": []
    },
    {
      "cell_type": "code",
      "metadata": {
        "id": "rrla5b0WtJXD"
      },
      "source": [
        "print(train_set.count())\n",
        "print(test_set.count())"
      ],
      "id": "rrla5b0WtJXD",
      "execution_count": null,
      "outputs": []
    },
    {
      "cell_type": "code",
      "metadata": {
        "id": "e3TtJ1vYtLkb"
      },
      "source": [
        "# create figure\n",
        "fig = go.Figure()\n",
        "fig.add_trace(go.Scatter(x=train_set.index, y=train_set[\"PM2.5\"],\n",
        "                         mode='lines',\n",
        "                         name='Training Data'))\n",
        "fig.add_trace(go.Scatter(x=test_set.index, y=test_set[\"PM2.5\"],\n",
        "                         mode='lines', \n",
        "                         name='Testing Data'))\n",
        "\n",
        "# adjust layout\n",
        "fig.update_traces(line=dict(width=1))\n",
        "fig.update_layout(title='Train/Test Split',\n",
        "                  xaxis_title='Date & Time (yyyy/mm/dd)',\n",
        "                  yaxis_title='PM2.5 (ug/m3)')"
      ],
      "id": "e3TtJ1vYtLkb",
      "execution_count": null,
      "outputs": []
    },
    {
      "cell_type": "markdown",
      "metadata": {
        "id": "kAvAOEBqGWmi"
      },
      "source": [
        "## Built-in Seasonality"
      ],
      "id": "kAvAOEBqGWmi"
    },
    {
      "cell_type": "code",
      "metadata": {
        "id": "UA3pYDuKIp--"
      },
      "source": [
        "# https://facebook.github.io/prophet/docs/quick_start.html#python-api\n",
        "from fbprophet import Prophet\n",
        "from fbprophet.diagnostics import cross_validation"
      ],
      "id": "UA3pYDuKIp--",
      "execution_count": null,
      "outputs": []
    },
    {
      "cell_type": "code",
      "metadata": {
        "id": "QpDPyQIIIq5R"
      },
      "source": [
        "# format data for prophet model using 'ds' and 'y'\n",
        "train_prophet = train_set\\\n",
        "                    .reset_index()\\\n",
        "                    .rename(columns={\n",
        "                        'index':'ds', \n",
        "                        'PM2.5':'y'\n",
        "                    })\n",
        "\n",
        "test_prophet = test_set\\\n",
        "                    .reset_index()\\\n",
        "                    .rename(columns={\n",
        "                        'index':'ds',\n",
        "                        'PM2.5':'y'\n",
        "                    })"
      ],
      "id": "QpDPyQIIIq5R",
      "execution_count": null,
      "outputs": []
    },
    {
      "cell_type": "code",
      "metadata": {
        "id": "q4ZJKIe-HXlr"
      },
      "source": [
        "model = Prophet(yearly_seasonality=True)\n",
        "model.fit(train_prophet)\n",
        "\n",
        "# Predict on training set with model\n",
        "forecast = model.predict(test_prophet)"
      ],
      "id": "q4ZJKIe-HXlr",
      "execution_count": null,
      "outputs": []
    },
    {
      "cell_type": "code",
      "metadata": {
        "id": "rMLdLataumTF"
      },
      "source": [
        "future= model.make_future_dataframe(periods=1000)\n",
        "future.tail(2)"
      ],
      "id": "rMLdLataumTF",
      "execution_count": null,
      "outputs": []
    },
    {
      "cell_type": "code",
      "metadata": {
        "id": "Rabj22pBu2gZ"
      },
      "source": [
        "forecast=model.predict(future)"
      ],
      "id": "Rabj22pBu2gZ",
      "execution_count": null,
      "outputs": []
    },
    {
      "cell_type": "code",
      "metadata": {
        "id": "kKn1CYRku5Av"
      },
      "source": [
        "fig1 =model.plot(forecast)"
      ],
      "id": "kKn1CYRku5Av",
      "execution_count": null,
      "outputs": []
    },
    {
      "cell_type": "code",
      "metadata": {
        "id": "6Pn0rU5PxaH4"
      },
      "source": [
        "fig1 = model.plot_components(forecast)"
      ],
      "id": "6Pn0rU5PxaH4",
      "execution_count": null,
      "outputs": []
    },
    {
      "cell_type": "code",
      "metadata": {
        "id": "Pe3Czd7YyKQR"
      },
      "source": [
        "from fbprophet.plot import add_changepoints_to_plot\n",
        "pro_change= Prophet(n_changepoints=20, yearly_seasonality=True, changepoint_prior_scale=0.08)\n",
        "forecast = pro_change.fit(train_prophet).predict(future)\n",
        "fig= pro_change.plot(forecast);\n",
        "a = add_changepoints_to_plot(fig.gca(), pro_change, forecast)"
      ],
      "id": "Pe3Czd7YyKQR",
      "execution_count": null,
      "outputs": []
    },
    {
      "cell_type": "markdown",
      "metadata": {
        "id": "PGukXnGVxh4_"
      },
      "source": [
        ""
      ],
      "id": "PGukXnGVxh4_"
    },
    {
      "cell_type": "code",
      "metadata": {
        "id": "lpI-c4IMy7k1"
      },
      "source": [
        "model.plot(forecast);"
      ],
      "id": "lpI-c4IMy7k1",
      "execution_count": null,
      "outputs": []
    },
    {
      "cell_type": "code",
      "metadata": {
        "id": "Sy_OVm721Ich"
      },
      "source": [
        "prophet = Prophet(yearly_seasonality=False,\n",
        "                  daily_seasonality=True,\n",
        "                  seasonality_mode='additive',\n",
        "                  changepoint_prior_scale=.05\n",
        "                 ).add_seasonality(name='yearly',\n",
        "                                   period=365.25,\n",
        "                                   fourier_order=3,\n",
        "                                   prior_scale=10,\n",
        "                                   mode='additive')\n",
        "\n",
        "prophet.add_country_holidays(country_name='China')\n",
        "prophet.fit(train_prophet[train_prophet['ds'] < pd.to_datetime('2017')])\n",
        "future = prophet.make_future_dataframe(periods=365, freq='D')\n",
        "forecast = prophet.predict(future)\n",
        "fig = prophet.plot(forecast)\n",
        "a = add_changepoints_to_plot(fig.gca(), prophet, forecast)\n",
        "plt.show()\n",
        "fig2 = prophet.plot_components(forecast)\n",
        "plt.show()"
      ],
      "id": "Sy_OVm721Ich",
      "execution_count": null,
      "outputs": []
    },
    {
      "cell_type": "code",
      "metadata": {
        "id": "rWGzEYFE3aIU"
      },
      "source": [
        "# Python\n",
        "print(model.train_holiday_names)"
      ],
      "id": "rWGzEYFE3aIU",
      "execution_count": null,
      "outputs": []
    }
  ]
}